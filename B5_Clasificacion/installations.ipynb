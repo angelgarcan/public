{
 "cells": [
  {
   "cell_type": "code",
   "execution_count": 1,
   "metadata": {},
   "outputs": [
    {
     "name": "stdout",
     "output_type": "stream",
     "text": [
      "WARNING: pip is being invoked by an old script wrapper. This will fail in a future version of pip.\n",
      "Please see https://github.com/pypa/pip/issues/5599 for advice on fixing the underlying issue.\n",
      "To avoid this problem you can invoke Python with '-m pip' instead of running pip directly.\n",
      "Collecting mkl\n",
      "  Downloading mkl-2019.0-py2.py3-none-manylinux1_x86_64.whl (261.0 MB)\n",
      "\u001b[K     |████████████████████████████████| 261.0 MB 27 kB/s s eta 0:00:01   |█▊                              | 13.7 MB 4.5 MB/s eta 0:00:56     |█████████████▌                  | 110.4 MB 391 kB/s eta 0:06:25     |████████████████████▉           | 169.7 MB 35.7 MB/s eta 0:00:03     |██████████████████████          | 179.3 MB 35.7 MB/s eta 0:00:03\n",
      "\u001b[?25hCollecting intel-openmp\n",
      "  Downloading intel_openmp-2020.0.133-py2.py3-none-manylinux1_x86_64.whl (919 kB)\n",
      "\u001b[K     |████████████████████████████████| 919 kB 25.7 MB/s eta 0:00:01\n",
      "\u001b[?25hInstalling collected packages: intel-openmp, mkl\n",
      "Successfully installed intel-openmp-2020.0.133 mkl-2019.0\n",
      "WARNING: pip is being invoked by an old script wrapper. This will fail in a future version of pip.\n",
      "Please see https://github.com/pypa/pip/issues/5599 for advice on fixing the underlying issue.\n",
      "To avoid this problem you can invoke Python with '-m pip' instead of running pip directly.\n",
      "Collecting faiss-cpu\n",
      "  Downloading faiss_cpu-1.6.3-cp37-cp37m-manylinux2010_x86_64.whl (7.2 MB)\n",
      "\u001b[K     |████████████████████████████████| 7.2 MB 5.7 MB/s eta 0:00:01\n",
      "\u001b[?25hCollecting numpy\n",
      "  Downloading numpy-1.18.4-cp37-cp37m-manylinux1_x86_64.whl (20.2 MB)\n",
      "\u001b[K     |████████████████████████████████| 20.2 MB 44.1 MB/s eta 0:00:01\n",
      "\u001b[?25hInstalling collected packages: numpy, faiss-cpu\n",
      "Successfully installed faiss-cpu-1.6.3 numpy-1.18.4\n"
     ]
    }
   ],
   "source": [
    "!pip install mkl\n",
    "!pip install faiss-cpu"
   ]
  },
  {
   "cell_type": "code",
   "execution_count": null,
   "metadata": {},
   "outputs": [
    {
     "name": "stdout",
     "output_type": "stream",
     "text": [
      "Collecting package metadata (current_repodata.json): \\ "
     ]
    }
   ],
   "source": [
    "!conda install --yes matplotlib pandas numpy scikit-learn"
   ]
  },
  {
   "cell_type": "code",
   "execution_count": null,
   "metadata": {},
   "outputs": [],
   "source": []
  }
 ],
 "metadata": {
  "kernelspec": {
   "display_name": "Python 3",
   "language": "python",
   "name": "python3"
  },
  "language_info": {
   "codemirror_mode": {
    "name": "ipython",
    "version": 3
   },
   "file_extension": ".py",
   "mimetype": "text/x-python",
   "name": "python",
   "nbconvert_exporter": "python",
   "pygments_lexer": "ipython3",
   "version": "3.7.6"
  }
 },
 "nbformat": 4,
 "nbformat_minor": 4
}
