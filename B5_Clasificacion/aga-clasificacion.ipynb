{
 "cells": [
  {
   "cell_type": "markdown",
   "metadata": {},
   "source": [
    "# Actividad 5.1. Clasificación de textos. Identificación de humor.\n",
    "\n",
    "|||\n",
    "|-|-|\n",
    "|**Alumno**|Ángel García Alcántara<br><angelgarcan@gmail.com>|\n",
    "|**Materia**|Recuperación de información<br>en Bases de datos no estructuradas<br>Cuarto Semestre|\n",
    "|**Fecha**|20 de abril de 2020|\n",
    "\n",
    "<br>\n",
    "Implementar las diferentes estrategias de generación de centroides para los clasificadores Nearest Centroid así como las formas de pesado para el clasificador de vecinos cercanos. \n",
    "\n",
    "- Una vez implementados aplicar todas las versiones de los mismos al dataset HAHA 2019. Se deben reportar el desempeño. En la siguiente tabla se incluyen las métricas de desempeño a reportar para el clasificador incluido con FastText, así como para el Nerarest Centroid Average y $k$NN con pesado uniforme proporcionado en las palantillas.\n",
    "\n",
    "------\n",
    "\n",
    "*Tabla de desempeño para distintos clasificadores utilizando los vectores FastText\n",
    "pre-entrenados para el idioma español*\n",
    "\n",
    "------\n",
    "|Clasificador|Accuracy|Macro F1|Macro Recall|F1 is_humor=1|\n",
    "|:----------:|:------:|:------:|:----------:|:-----------:|\n",
    "|FastText| 0.80905 | 0.79327|0.78690|0.73614|\n",
    "|Nearest Centroid (Average)|0.76475 |0.76006|0.77290|0.72650|\n",
    "|$k$NN (Pesado Uniforme)|0.79252|0.77397|0.76704|0.70922|\n",
    "|Nearest Centroid (Rocchio)|\n",
    "|Nearest Centroid (Suma)|\n",
    "|Nearest Centroid (Suma normalizada)| \n",
    "|$k$NN (distancia mínima media)|  \n",
    "|$k$NN (distancia pesada)| \n",
    "\n",
    "------\n",
    "<br />\n",
    "\n",
    "En su reporte deberá completar la tabla con los resultados para cada una de las variaciones de los alagoritmos propuestos. \n",
    "\n",
    "- Generar los una representación con pesado tfidf para el dataset HAHA 2019, posteriormente aplicar los clasificadores implementados a la representación generada. Incluir los resultados en forma de tabla. Justificar los resultados obtenidos en función de como son con los obtenidos sobre los vectores pre-entrenado"
   ]
  },
  {
   "cell_type": "markdown",
   "metadata": {},
   "source": [
    "## Introducción\n",
    "\n",
    "### Clasificación\n",
    "La tarea de clasificación es un tarea de aprendizaje supervisado, \n",
    "la cual consiste en predecir una variable categórica, esto a partir \n",
    "de un conjunto de elementos ya categorizados. Por ejemplo:\n",
    "\n",
    "- Definir si un correo electrónico es o no spam\n",
    "- Si un paciente padece o no cierta enfermedad\n",
    "- Análisis de polaridad en mensajes de twitter\n",
    "- Detección de humor, determinar si un texto es o no un chiste \n",
    "- Si un objeto aparece o no en una imagen \n",
    "\n",
    "Todos los ejemplos mencionados pueden plantearse como: generar \n",
    "un mapeo o etiquetado de un conjunto de datos $X$ (tweets, \n",
    "documentos, imágenes, registros medicos) con respecto a un conjunto \n",
    "de categorías ( positivo/negativo/neutro, enfermo/sano, \n",
    "aparece una persona/no aparece una persona). El caso particular en \n",
    "que solo existen dos categorías se denomina clasificación binaria.\n",
    "\n",
    "Dado que la clasificación es una técnica supervisada es necesario \n",
    "contar con el conjunto de datos $X$ así como con su conjunto de etiquetas \n",
    "$y$.  Donde  $X=\\{x_1,...,x_n\\}$  y cada elemento $x_i$ está definido en  $\\mathbb{R}^m$ y $y=\\{\\theta_1 ,...,\\theta_n\\}$ donde  $\\theta_i$ es la etiqueta correspondiente a cada $x_i$  y se define en $\\{1,...,k\\}$ para $k$  diferentes \n",
    "categorías."
   ]
  },
  {
   "cell_type": "markdown",
   "metadata": {},
   "source": [
    "### Nearest Centroid Classifier\n",
    "\n",
    "Nearest Centroid (NC)  es un clasificador (también llamado Mean Difference Classifier) simple y poderoso. NC  es un claro ejemplo del  principio de suficiencia estadística, el cual nos dice que se pueden construir algoritmos a partir de resúmenes simples y significativos de los datos de entrenamiento. La forma más simple de resumir un conjunto de datos es mediate su media geométrica o centroide.  NC  como clasificador asigna a cada ejemplo desconocido la misma clase de su centroide más cercano.\n",
    "\n",
    "Nearest Centroid en combinación con representaciones vectoriales ha sido ampliamente utilizado para la clasificación de documentos, cada centroide es visto como una sumarización de todos los documentos conocidos para una determinada clase. Dado el conjunto de vectores $X$ (generados mediante alguna técnica de vectorización) y etiquetas $y$ con valores  $C= \\{1,...,𝑘\\}$ para $k$ diferentes categorias (para el caso binario $C=\\{0,1\\}$). Para obterne un clasificador NC se deben generar un centroide por cada clase. \n",
    "\n",
    "Para continuar con la notación de clustering que utilizamos en la sección anterior tenemos que:  $G_i$ es el conjunto de documentos que perteneces a la iésima clase y $c_i$ el centroide del grupo $G_i$. Como ya vimos cada $c_i$ puede no ser siempre la media geométrica (recuerde podía ser la mediana o incluso un elemento del conjunto). En el caso de representaciones de texto existen muchas propuestas para el cálculo del *\"centroide\"* reportadas en la literatura. Algunas de las más básicas son:\n",
    "\n",
    "\n",
    "- **Rocchio**, para este caso cada centroide $c_j$ es representado por la suma de todos los vectores de la clase $i$ menos la suma de aquellos vectores que no pertenecen a la clase $i$, se puede realizar un pesado mediante parámetros de control $\\beta$ y $\\gamma$ (usualmente $\\beta=16$ y $\\gamma=4$).\n",
    "\n",
    "$$c_j= \\beta \\frac{1}{|G_j|} \\sum_{x_i \\in G_j} x_i- \\gamma \\frac{1}{|X|-|G_j|} \\sum_{x_i \\notin G_j} x_i$$\n",
    "\n",
    "- El **promedio**, donde cada centroide es calculado cómo la media geométrica de cada grupo.\n",
    "\n",
    "$$c_j=\\frac{1}{|G_j|}\\sum_{x_i \\in G_j} x_i$$\n",
    "\n",
    "- La **suma**, es similar al promedio solo sin dividir por la cardinalidad del grupo\n",
    "\n",
    "$$c_j=\\sum_{x_i \\in G_j} x_i$$\n",
    "\n",
    "- La **suma normalizada**, cada centroide $c_j$ es calculado como la suma de todos los vectores de la clase $j$ pero normalizados. \n",
    "\n",
    "$$c_j= \\frac{1}{||\\sum_{x_i \\in G_j} x_i||}\\sum_{x_i \\in G_j} x_i$$\n",
    "\n",
    "Como ya podrá haberse inferido las etapa de entrenamiento y el proceso de predicción de un clasificador NC es muy eficiente, ya que para aprender solo se debe calcular el centroide para cada clase y para la predicción sólo encontrar el centroide más similar para el ejemplo a predecir. Mientras que el entrenamiento es lineal(multiplicado por un factor del costo de la función de similitud), el proceso de predicción es constante ya que solo depende del número de clases y no del tamaño del conjunto de entrenamiento. "
   ]
  },
  {
   "cell_type": "markdown",
   "metadata": {},
   "source": [
    "### Clasificador $k$ Nearest Neighbor\n",
    "\n",
    "El clasificador $k$ nearest neighbor ($k$NN), es un método no paramétrico que utiliza todos ejemplos en el conjunto de entrenamiento para predecir la clase de los ejemplos no etiquetados. Por lo que no hay fase de entrenamiento, la predicción se realiza mediante el uso de una función de similitud/distancia.\n",
    "\n",
    "El clasificador $k$NN es simple e intuitivo, para $k=1$ funciona como sigue: dado un vector $x_q$, se le asocia la clase $\\theta_q$ que será la misma que tenga el elemento más similar a $x_{nn} \\in X$ más similar a $x_q$. El objeto $x_{nn}$ se determina como  $\\arg\\!\\max_{1 \\leq i \\leq |X|} \\cos (x_q, x_i)$ cuando se utiliza la similitud coseno o bien como $\\arg\\!\\min_{1 \\leq i \\leq |X|} d(u, x_i)$  cuando se utiliza una función de distancia. Lo anterior da el origen al nombre desde que para determinar la clase de un objeto no etiquetado, primero debe encontrarse su vecino más cercano.  Una mejora directa es utilizar más de un vecino para calcular la clase de $x_q$, es decir utilizar $k>1$. Para $k>1$ se puede asignar a $x_q$ la clase que más se repita entre los $k$ vecinos más cercanos de $x_q$ (**pesado uniforme**)."
   ]
  },
  {
   "attachments": {
    "knn.png": {
     "image/png": "[encoded data removed]"
    }
   },
   "cell_type": "markdown",
   "metadata": {},
   "source": [
    "|![knn.png](attachment:knn.png)|\n",
    "|:--:|\n",
    "|**Consulta $k$NN para diferentes valores de $k$**|"
   ]
  },
  {
   "cell_type": "markdown",
   "metadata": {},
   "source": [
    "### Pesado de vecinos por distancia\n",
    "\n",
    "También es común realizar un pesado de la contribución de cada vecino basados en el valor de la función de distancia o similitud. Para nuestro caso solo utilizaremos dos variantes simples. \n",
    "\n",
    "-  **$k$NN distancia/similitud media**: En este caso se asigna a  $x_q$ la clase en la que la distancia media de los $k$ vecinos seleccionados sea menor. Mientras que se utiliza el valor mayor cuando se utiliza una función de similitud.\n",
    "- **$k$NN pesado por distancia**: Una forma básica de pesar cuando se utiliza una función de distancia es asignar a cada etiqueta un peso equivalente al inverso de la distancia. En el caso de la similitud puede ser el valor normalizado de la misma(cuando se usa coseno el valor ya está entre 0 y 1). Se asigna la clase que tenga el mayor peso."
   ]
  },
  {
   "cell_type": "markdown",
   "metadata": {},
   "source": [
    "Por ejemplo suponga que la información de cinco vecinos más cercanos para un $x_q$ dado en problema de 3 clases se resumen en la siguiente tabla. "
   ]
  },
  {
   "cell_type": "markdown",
   "metadata": {},
   "source": [
    "|&nbsp;|$x_1$|$x_2$|$x_3$|$x_4$|$x_5$|\n",
    "|:------------:|:---:|:---:|:---:|:---:|:---:|\n",
    "|Clase de $x_i$|  2  |  1  |  2  |  1  |  0  |\n",
    "|$$d(x_i,x_q)$$| 0.5 | 0.2 |0.25 | 0.4 |0.125|\n",
    "|$$w_{x_i}$$       |  2  |  5  |  4  | 2.5 |  8  |"
   ]
  },
  {
   "cell_type": "markdown",
   "metadata": {},
   "source": [
    "en las siguiente tabla se muestra como se calculan los scores para cada clase"
   ]
  },
  {
   "cell_type": "markdown",
   "metadata": {},
   "source": [
    "| <br /> | distancia media                    | pesado por distancia |uniforme|\n",
    "|:------:|:---------------------------------: |:--------------:       |:----:|\n",
    "|Clase 0 |  $d(x_5,x_q)/1$=**0.125**          |$w_{x_0}$=**8**            |   1  |\n",
    "|Clase 1 |  $$(d(x_2,x_q)+d(x_4,x_q))/2=0.3$$   |$$w_{x_2}+w_{x_4}=7.5$$|   **2**  |\n",
    "|Clase 2 |  $$(d(x_1,x_q)+d(x_3,x_q))/2=0.225$$ |$$w_{x_1}+w_{x_3}=6$$  |   **2**  |"
   ]
  },
  {
   "cell_type": "markdown",
   "metadata": {},
   "source": [
    "usando la información en la tabla anterior podemos ver que para $k=5$, si se utiliza el criterio de la distancia mínimo promedio la clase para $x_q$ sería 0, al igual que para el pesado por distancia; mientras que para la decisión por mayoría de votos podría ser la clase 1 o 2. \n",
    "\n",
    "**Nota**: Si se utiliza una función de similitud no es necesario calcular el inverso, pero es buena idea normalizar."
   ]
  },
  {
   "cell_type": "code",
   "execution_count": 1,
   "metadata": {},
   "outputs": [],
   "source": [
    "# Multiple outputs per cell in Jupyter \n",
    "from IPython.core.interactiveshell import InteractiveShell\n",
    "InteractiveShell.ast_node_interactivity = \"all\""
   ]
  },
  {
   "cell_type": "code",
   "execution_count": 2,
   "metadata": {},
   "outputs": [
    {
     "data": {
      "application/javascript": [
       "// Evitar autoscroll.\n",
       "IPython.OutputArea.prototype._should_scroll = function(lines) {\n",
       "    return false;\n",
       "}\n"
      ],
      "text/plain": [
       "<IPython.core.display.Javascript object>"
      ]
     },
     "metadata": {},
     "output_type": "display_data"
    }
   ],
   "source": [
    "%%javascript\n",
    "// Evitar autoscroll.\n",
    "IPython.OutputArea.prototype._should_scroll = function(lines) {\n",
    "    return false;\n",
    "}"
   ]
  },
  {
   "cell_type": "code",
   "execution_count": 3,
   "metadata": {},
   "outputs": [],
   "source": [
    "%matplotlib inline\n",
    "import matplotlib.pyplot as plt\n",
    "import numpy as np\n",
    "import pandas as pd\n",
    "%load_ext autoreload\n",
    "%autoreload 2\n",
    "from skeleton import *\n",
    "from sklearn.metrics import (recall_score, f1_score,\n",
    "                             precision_score, accuracy_score)\n",
    "import gc\n",
    "import warnings\n",
    "warnings.filterwarnings('ignore')"
   ]
  },
  {
   "cell_type": "code",
   "execution_count": 4,
   "metadata": {},
   "outputs": [],
   "source": [
    "def testClassifier(clf,train,y_train,test,y_test):\n",
    "    print(\"=== \",clf.__class__.__name__,end='')\n",
    "    print(\":\",vars(clf))\n",
    "    clf=clf.fit(train,y_train)\n",
    "    #Predecimos las etiqueta del conjunto de prueba\n",
    "    yp=clf.predict(test)\n",
    "    # Medidas de bondad\n",
    "    scores={}\n",
    "\n",
    "    scores['Accuracy']=accuracy_score(y_test,yp)\n",
    "    scores['Macro F1']=f1_score(y_test,yp,average='macro')\n",
    "    scores['Macro Recall']=recall_score(y_test,yp,average='macro')\n",
    "    scores['F1 is_humor=1']=f1_score(y_test,yp)\n",
    "    \n",
    "    print(\"Accuracy\",\"Macro F1\",\"Macro Recall\",\"F1 is_humor=1\",sep='\\t')\n",
    "    print(\"{:.6f}\\t{:.6f}\\t{:.6f}\\t{:.6f}\".format(\n",
    "        scores['Accuracy'],scores['Macro F1'],scores['Macro Recall'],scores['F1 is_humor=1']))\n",
    "                            \n",
    "#     print(\"Recall: \", scores['recall'])\n",
    "#     print(\"F1: \", scores['f1'])\n",
    "#     print(\"Accuracy: \", scores['accuracy'])\n",
    "#     print(\"F1 Humor: \", scores['f1_humor'])\n",
    "    #Vemos la frontera de decisión\n",
    "    plotDecisionBoundary(clf,train, y_train)\n",
    "    \n",
    "    del(clf)\n",
    "    del(yp)\n",
    "    gc.collect()\n",
    "    return scores"
   ]
  },
  {
   "cell_type": "markdown",
   "metadata": {},
   "source": [
    "## Un problema de texto  (Identificación de humor HAHA -2019)"
   ]
  },
  {
   "cell_type": "markdown",
   "metadata": {},
   "source": [
    "Para este ejemplo utilizaremos los datos proporcionados para la tarea 1 del HAHA - Humor Analysis based on Human Annotation, la cual consiste determinar si tweets en español son humorísticos o no (un problema de clasificación binaria). Esta tarea forma parte del Iberian Languages Evaluation Forum (IberLEF 2019)."
   ]
  },
  {
   "cell_type": "markdown",
   "metadata": {},
   "source": [
    "### Corpus \n",
    "\n",
    "El conjunto de datos fue etiquetado como se indica [5]. Todos los tweets están etiquetados como humorístico **is_humor=1**  o no humorístico **is_humor=0**. Los datos relevantes para el problema se clasificación ser muestran en el siguiente ejemplo:\n",
    "\n",
    "|Desscripción|Clave|Valor|\n",
    "|:------:|:------:|:-----:|\n",
    "|Tweet |text|Después de la tormenta sale... Tu mamá gritando porque no metiste la ropa.|\n",
    "|Etiqueta de clase|is_humor|1|\n",
    "|Representación vectorial|vec| Vectores de dimensión 300 (FastText preentrenados para español) |\n",
    "|Identificador|id|942079817905770496|\n",
    "\n"
   ]
  },
  {
   "cell_type": "code",
   "execution_count": null,
   "metadata": {},
   "outputs": [],
   "source": [
    "# Cargamos lod datos.\n",
    "train_data=pd.read_json('data/haha_train_ft_pre.json',lines=True)"
   ]
  },
  {
   "cell_type": "code",
   "execution_count": null,
   "metadata": {},
   "outputs": [],
   "source": [
    "#Vemos los primeros 5\n",
    "train_data.head()[['id','text','is_humor','vec']]"
   ]
  },
  {
   "cell_type": "code",
   "execution_count": null,
   "metadata": {},
   "outputs": [],
   "source": [
    "#Dimensión de los vectores\n",
    "len(train_data.vec[3])"
   ]
  },
  {
   "cell_type": "code",
   "execution_count": null,
   "metadata": {},
   "outputs": [],
   "source": [
    "# Los datos de prueba\n",
    "test_data=pd.read_json('data/haha_test_ft_pre.json',lines=True)"
   ]
  },
  {
   "cell_type": "code",
   "execution_count": null,
   "metadata": {},
   "outputs": [],
   "source": [
    "#Obtenemos la representación vectorial para los conjunto de prueba y entrenamiento\n",
    "train,y_train=np.array([np.array(x) for x in train_data.vec]),np.array(train_data.is_humor)\n",
    "test,y_test=np.array([np.array(x) for x in test_data.vec]),np.array(test_data.is_humor)"
   ]
  },
  {
   "cell_type": "code",
   "execution_count": null,
   "metadata": {
    "scrolled": true
   },
   "outputs": [],
   "source": [
    "P={\"FastText\":{\"Accuracy\":0.809050,\"Macro F1\":0.793270,\"Macro Recall\":0.786900,\"F1 is_humor=1\":0.736140}} #Performance\n",
    "\n",
    "# # \n",
    "# P[\"NC.cos.avg\"]=testClassifier(NearestCentroid(distance='coseno',centroid_type='Average'),train,y_train,test,y_test)\n",
    "# P[\"NC.euc.avg\"]=testClassifier(NearestCentroid(distance='euclidiana',centroid_type='Average'),train,y_train,test,y_test)\n",
    "\n",
    "# P[\"NC.cos.sum\"]=testClassifier(NearestCentroid(distance='coseno',centroid_type='Sum'),train,y_train,test,y_test)\n",
    "# P[\"NC.euc.sum\"]=testClassifier(NearestCentroid(distance='euclidiana',centroid_type='Sum'),train,y_train,test,y_test)\n",
    "\n",
    "# P[\"NC.cos.rocchio\"]=testClassifier(NearestCentroid(distance='coseno',centroid_type='Rocchio',beta=16,gamma=4),train,y_train,test,y_test)\n",
    "# P[\"NC.euc.rocchio\"]=testClassifier(NearestCentroid(distance='euclidiana',centroid_type='Rocchio',beta=16,gamma=4),train,y_train,test,y_test)\n",
    "\n",
    "# P[\"NC.cos.nsum\"]=testClassifier(NearestCentroid(distance='coseno',centroid_type='NormSum'),train,y_train,test,y_test)\n",
    "# P[\"NC.euc.nsum\"]=testClassifier(NearestCentroid(distance='euclidiana',centroid_type='NormSum'),train,y_train,test,y_test)\n",
    "\n",
    "\n",
    "# P[\"KNN.cos.u\"]=testClassifier(kNN(distance='coseno',k=5,weight_type='uniform'),train,y_train,test,y_test)\n",
    "# P[\"KNN.euc.u\"]=testClassifier(kNN(distance='euclidiana',k=5,weight_type='uniform'),train,y_train,test,y_test)\n",
    "\n",
    "# P[\"KNN.cos.m\"]=testClassifier(kNN(distance='coseno',k=5,weight_type='mean_dist'),train,y_train,test,y_test)\n",
    "# P[\"KNN.euc.m\"]=testClassifier(kNN(distance='euclidiana',k=5,weight_type='mean_dist'),train,y_train,test,y_test)\n",
    "\n",
    "# P[\"KNN.cos.w\"]=testClassifier(kNN(distance='coseno',k=5,weight_type='weighed_dist'),train,y_train,test,y_test)\n",
    "# P[\"KNN.euc.w\"]=testClassifier(kNN(distance='euclidiana',k=5,weight_type='weighed_dist'),train,y_train,test,y_test)"
   ]
  },
  {
   "cell_type": "code",
   "execution_count": 5,
   "metadata": {},
   "outputs": [
    {
     "name": "stderr",
     "output_type": "stream",
     "text": [
      "[nltk_data] Downloading package stopwords to /home/jovyan/nltk_data...\n",
      "[nltk_data]   Package stopwords is already up-to-date!\n"
     ]
    }
   ],
   "source": [
    "from toolbox import *"
   ]
  },
  {
   "cell_type": "code",
   "execution_count": 6,
   "metadata": {},
   "outputs": [
    {
     "name": "stdout",
     "output_type": "stream",
     "text": [
      "    24000 data/haha_all_ft_pre.json\n",
      "      240 data/haha_all_ft_pre_min10.json\n",
      "     7201 data/haha_test_ft_pre.json\n",
      "       72 data/haha_test_ft_pre_min10.json\n",
      "    16799 data/haha_train_ft_pre.json\n",
      "      168 data/haha_train_ft_pre_min10.json\n",
      "    48480 total\n",
      "24000 data/haha_all_ft_pre.json\n",
      "** Processing data/haha_all_ft_pre.json ...\n",
      "2020-05-09 07:46:17.983991 :: 0.001201 - Processing item #0 \n",
      "2020-05-09 07:46:23.814103 :: 5.831313 - Processing item #5000 \n",
      "2020-05-09 07:46:27.711257 :: 9.728467 - Processing item #10000 \n",
      "2020-05-09 07:46:34.221749 :: 16.238959 - Processing item #15000 \n",
      "2020-05-09 07:46:38.431813 :: 20.449023 - Processing item #20000 \n",
      "** Processed 24000 lines. Saved to /home/jovyan/public/B5_Clasificacion/tokenized_docs.pickle.\n",
      "** Computing TF-IDF...\n",
      "** Computed TF-IDF Matrix !!!\n",
      "** Done poda0 TF-IDF Matrix !!!\n",
      "poda0_mtx.pickle written.\n"
     ]
    },
    {
     "data": {
      "text/plain": [
       "<15378x24000 sparse matrix of type '<class 'numpy.float16'>'\n",
       "\twith 165313 stored elements in List of Lists format>"
      ]
     },
     "execution_count": 6,
     "metadata": {},
     "output_type": "execute_result"
    },
    {
     "data": {
      "text/html": [
       "<div>\n",
       "<style scoped>\n",
       "    .dataframe tbody tr th:only-of-type {\n",
       "        vertical-align: middle;\n",
       "    }\n",
       "\n",
       "    .dataframe tbody tr th {\n",
       "        vertical-align: top;\n",
       "    }\n",
       "\n",
       "    .dataframe thead th {\n",
       "        text-align: right;\n",
       "    }\n",
       "</style>\n",
       "<table border=\"1\" class=\"dataframe\">\n",
       "  <thead>\n",
       "    <tr style=\"text-align: right;\">\n",
       "      <th></th>\n",
       "      <th>ab</th>\n",
       "      <th>aba</th>\n",
       "      <th>abac</th>\n",
       "      <th>abad</th>\n",
       "      <th>abaj</th>\n",
       "      <th>abajit</th>\n",
       "      <th>aban</th>\n",
       "      <th>abandon</th>\n",
       "      <th>abandonenl</th>\n",
       "      <th>abarzart</th>\n",
       "      <th>...</th>\n",
       "      <th>zucos</th>\n",
       "      <th>zuculini</th>\n",
       "      <th>zuli</th>\n",
       "      <th>zulu</th>\n",
       "      <th>zum</th>\n",
       "      <th>zumb</th>\n",
       "      <th>zup</th>\n",
       "      <th>zuperm</th>\n",
       "      <th>zur</th>\n",
       "      <th>zuv</th>\n",
       "    </tr>\n",
       "  </thead>\n",
       "  <tbody>\n",
       "    <tr>\n",
       "      <th>0</th>\n",
       "      <td>0.0</td>\n",
       "      <td>0.0</td>\n",
       "      <td>0.0</td>\n",
       "      <td>0.0</td>\n",
       "      <td>0.0</td>\n",
       "      <td>0.0</td>\n",
       "      <td>0.0</td>\n",
       "      <td>0.0</td>\n",
       "      <td>0.0</td>\n",
       "      <td>0.0</td>\n",
       "      <td>...</td>\n",
       "      <td>0.0</td>\n",
       "      <td>0.0</td>\n",
       "      <td>0.0</td>\n",
       "      <td>0.0</td>\n",
       "      <td>0.0</td>\n",
       "      <td>0.0</td>\n",
       "      <td>0.0</td>\n",
       "      <td>0.0</td>\n",
       "      <td>0.0</td>\n",
       "      <td>0.0</td>\n",
       "    </tr>\n",
       "    <tr>\n",
       "      <th>1</th>\n",
       "      <td>0.0</td>\n",
       "      <td>0.0</td>\n",
       "      <td>0.0</td>\n",
       "      <td>0.0</td>\n",
       "      <td>0.0</td>\n",
       "      <td>0.0</td>\n",
       "      <td>0.0</td>\n",
       "      <td>0.0</td>\n",
       "      <td>0.0</td>\n",
       "      <td>0.0</td>\n",
       "      <td>...</td>\n",
       "      <td>0.0</td>\n",
       "      <td>0.0</td>\n",
       "      <td>0.0</td>\n",
       "      <td>0.0</td>\n",
       "      <td>0.0</td>\n",
       "      <td>0.0</td>\n",
       "      <td>0.0</td>\n",
       "      <td>0.0</td>\n",
       "      <td>0.0</td>\n",
       "      <td>0.0</td>\n",
       "    </tr>\n",
       "    <tr>\n",
       "      <th>2</th>\n",
       "      <td>0.0</td>\n",
       "      <td>0.0</td>\n",
       "      <td>0.0</td>\n",
       "      <td>0.0</td>\n",
       "      <td>0.0</td>\n",
       "      <td>0.0</td>\n",
       "      <td>0.0</td>\n",
       "      <td>0.0</td>\n",
       "      <td>0.0</td>\n",
       "      <td>0.0</td>\n",
       "      <td>...</td>\n",
       "      <td>0.0</td>\n",
       "      <td>0.0</td>\n",
       "      <td>0.0</td>\n",
       "      <td>0.0</td>\n",
       "      <td>0.0</td>\n",
       "      <td>0.0</td>\n",
       "      <td>0.0</td>\n",
       "      <td>0.0</td>\n",
       "      <td>0.0</td>\n",
       "      <td>0.0</td>\n",
       "    </tr>\n",
       "    <tr>\n",
       "      <th>3</th>\n",
       "      <td>0.0</td>\n",
       "      <td>0.0</td>\n",
       "      <td>0.0</td>\n",
       "      <td>0.0</td>\n",
       "      <td>0.0</td>\n",
       "      <td>0.0</td>\n",
       "      <td>0.0</td>\n",
       "      <td>0.0</td>\n",
       "      <td>0.0</td>\n",
       "      <td>0.0</td>\n",
       "      <td>...</td>\n",
       "      <td>0.0</td>\n",
       "      <td>0.0</td>\n",
       "      <td>0.0</td>\n",
       "      <td>0.0</td>\n",
       "      <td>0.0</td>\n",
       "      <td>0.0</td>\n",
       "      <td>0.0</td>\n",
       "      <td>0.0</td>\n",
       "      <td>0.0</td>\n",
       "      <td>0.0</td>\n",
       "    </tr>\n",
       "    <tr>\n",
       "      <th>4</th>\n",
       "      <td>0.0</td>\n",
       "      <td>0.0</td>\n",
       "      <td>0.0</td>\n",
       "      <td>0.0</td>\n",
       "      <td>0.0</td>\n",
       "      <td>0.0</td>\n",
       "      <td>0.0</td>\n",
       "      <td>0.0</td>\n",
       "      <td>0.0</td>\n",
       "      <td>0.0</td>\n",
       "      <td>...</td>\n",
       "      <td>0.0</td>\n",
       "      <td>0.0</td>\n",
       "      <td>0.0</td>\n",
       "      <td>0.0</td>\n",
       "      <td>0.0</td>\n",
       "      <td>0.0</td>\n",
       "      <td>0.0</td>\n",
       "      <td>0.0</td>\n",
       "      <td>0.0</td>\n",
       "      <td>0.0</td>\n",
       "    </tr>\n",
       "    <tr>\n",
       "      <th>...</th>\n",
       "      <td>...</td>\n",
       "      <td>...</td>\n",
       "      <td>...</td>\n",
       "      <td>...</td>\n",
       "      <td>...</td>\n",
       "      <td>...</td>\n",
       "      <td>...</td>\n",
       "      <td>...</td>\n",
       "      <td>...</td>\n",
       "      <td>...</td>\n",
       "      <td>...</td>\n",
       "      <td>...</td>\n",
       "      <td>...</td>\n",
       "      <td>...</td>\n",
       "      <td>...</td>\n",
       "      <td>...</td>\n",
       "      <td>...</td>\n",
       "      <td>...</td>\n",
       "      <td>...</td>\n",
       "      <td>...</td>\n",
       "      <td>...</td>\n",
       "    </tr>\n",
       "    <tr>\n",
       "      <th>23995</th>\n",
       "      <td>0.0</td>\n",
       "      <td>0.0</td>\n",
       "      <td>0.0</td>\n",
       "      <td>0.0</td>\n",
       "      <td>0.0</td>\n",
       "      <td>0.0</td>\n",
       "      <td>0.0</td>\n",
       "      <td>0.0</td>\n",
       "      <td>0.0</td>\n",
       "      <td>0.0</td>\n",
       "      <td>...</td>\n",
       "      <td>0.0</td>\n",
       "      <td>0.0</td>\n",
       "      <td>0.0</td>\n",
       "      <td>0.0</td>\n",
       "      <td>0.0</td>\n",
       "      <td>0.0</td>\n",
       "      <td>0.0</td>\n",
       "      <td>0.0</td>\n",
       "      <td>0.0</td>\n",
       "      <td>0.0</td>\n",
       "    </tr>\n",
       "    <tr>\n",
       "      <th>23996</th>\n",
       "      <td>0.0</td>\n",
       "      <td>0.0</td>\n",
       "      <td>0.0</td>\n",
       "      <td>0.0</td>\n",
       "      <td>0.0</td>\n",
       "      <td>0.0</td>\n",
       "      <td>0.0</td>\n",
       "      <td>0.0</td>\n",
       "      <td>0.0</td>\n",
       "      <td>0.0</td>\n",
       "      <td>...</td>\n",
       "      <td>0.0</td>\n",
       "      <td>0.0</td>\n",
       "      <td>0.0</td>\n",
       "      <td>0.0</td>\n",
       "      <td>0.0</td>\n",
       "      <td>0.0</td>\n",
       "      <td>0.0</td>\n",
       "      <td>0.0</td>\n",
       "      <td>0.0</td>\n",
       "      <td>0.0</td>\n",
       "    </tr>\n",
       "    <tr>\n",
       "      <th>23997</th>\n",
       "      <td>0.0</td>\n",
       "      <td>0.0</td>\n",
       "      <td>0.0</td>\n",
       "      <td>0.0</td>\n",
       "      <td>0.0</td>\n",
       "      <td>0.0</td>\n",
       "      <td>0.0</td>\n",
       "      <td>0.0</td>\n",
       "      <td>0.0</td>\n",
       "      <td>0.0</td>\n",
       "      <td>...</td>\n",
       "      <td>0.0</td>\n",
       "      <td>0.0</td>\n",
       "      <td>0.0</td>\n",
       "      <td>0.0</td>\n",
       "      <td>0.0</td>\n",
       "      <td>0.0</td>\n",
       "      <td>0.0</td>\n",
       "      <td>0.0</td>\n",
       "      <td>0.0</td>\n",
       "      <td>0.0</td>\n",
       "    </tr>\n",
       "    <tr>\n",
       "      <th>23998</th>\n",
       "      <td>0.0</td>\n",
       "      <td>0.0</td>\n",
       "      <td>0.0</td>\n",
       "      <td>0.0</td>\n",
       "      <td>0.0</td>\n",
       "      <td>0.0</td>\n",
       "      <td>0.0</td>\n",
       "      <td>0.0</td>\n",
       "      <td>0.0</td>\n",
       "      <td>0.0</td>\n",
       "      <td>...</td>\n",
       "      <td>0.0</td>\n",
       "      <td>0.0</td>\n",
       "      <td>0.0</td>\n",
       "      <td>0.0</td>\n",
       "      <td>0.0</td>\n",
       "      <td>0.0</td>\n",
       "      <td>0.0</td>\n",
       "      <td>0.0</td>\n",
       "      <td>0.0</td>\n",
       "      <td>0.0</td>\n",
       "    </tr>\n",
       "    <tr>\n",
       "      <th>23999</th>\n",
       "      <td>0.0</td>\n",
       "      <td>0.0</td>\n",
       "      <td>0.0</td>\n",
       "      <td>0.0</td>\n",
       "      <td>0.0</td>\n",
       "      <td>0.0</td>\n",
       "      <td>0.0</td>\n",
       "      <td>0.0</td>\n",
       "      <td>0.0</td>\n",
       "      <td>0.0</td>\n",
       "      <td>...</td>\n",
       "      <td>0.0</td>\n",
       "      <td>0.0</td>\n",
       "      <td>0.0</td>\n",
       "      <td>0.0</td>\n",
       "      <td>0.0</td>\n",
       "      <td>0.0</td>\n",
       "      <td>0.0</td>\n",
       "      <td>0.0</td>\n",
       "      <td>0.0</td>\n",
       "      <td>0.0</td>\n",
       "    </tr>\n",
       "  </tbody>\n",
       "</table>\n",
       "<p>24000 rows × 15378 columns</p>\n",
       "</div>"
      ],
      "text/plain": [
       "        ab  aba  abac  abad  abaj  abajit  aban  abandon  abandonenl  \\\n",
       "0      0.0  0.0   0.0   0.0   0.0     0.0   0.0      0.0         0.0   \n",
       "1      0.0  0.0   0.0   0.0   0.0     0.0   0.0      0.0         0.0   \n",
       "2      0.0  0.0   0.0   0.0   0.0     0.0   0.0      0.0         0.0   \n",
       "3      0.0  0.0   0.0   0.0   0.0     0.0   0.0      0.0         0.0   \n",
       "4      0.0  0.0   0.0   0.0   0.0     0.0   0.0      0.0         0.0   \n",
       "...    ...  ...   ...   ...   ...     ...   ...      ...         ...   \n",
       "23995  0.0  0.0   0.0   0.0   0.0     0.0   0.0      0.0         0.0   \n",
       "23996  0.0  0.0   0.0   0.0   0.0     0.0   0.0      0.0         0.0   \n",
       "23997  0.0  0.0   0.0   0.0   0.0     0.0   0.0      0.0         0.0   \n",
       "23998  0.0  0.0   0.0   0.0   0.0     0.0   0.0      0.0         0.0   \n",
       "23999  0.0  0.0   0.0   0.0   0.0     0.0   0.0      0.0         0.0   \n",
       "\n",
       "       abarzart  ...  zucos  zuculini  zuli  zulu  zum  zumb  zup  zuperm  \\\n",
       "0           0.0  ...    0.0       0.0   0.0   0.0  0.0   0.0  0.0     0.0   \n",
       "1           0.0  ...    0.0       0.0   0.0   0.0  0.0   0.0  0.0     0.0   \n",
       "2           0.0  ...    0.0       0.0   0.0   0.0  0.0   0.0  0.0     0.0   \n",
       "3           0.0  ...    0.0       0.0   0.0   0.0  0.0   0.0  0.0     0.0   \n",
       "4           0.0  ...    0.0       0.0   0.0   0.0  0.0   0.0  0.0     0.0   \n",
       "...         ...  ...    ...       ...   ...   ...  ...   ...  ...     ...   \n",
       "23995       0.0  ...    0.0       0.0   0.0   0.0  0.0   0.0  0.0     0.0   \n",
       "23996       0.0  ...    0.0       0.0   0.0   0.0  0.0   0.0  0.0     0.0   \n",
       "23997       0.0  ...    0.0       0.0   0.0   0.0  0.0   0.0  0.0     0.0   \n",
       "23998       0.0  ...    0.0       0.0   0.0   0.0  0.0   0.0  0.0     0.0   \n",
       "23999       0.0  ...    0.0       0.0   0.0   0.0  0.0   0.0  0.0     0.0   \n",
       "\n",
       "       zur  zuv  \n",
       "0      0.0  0.0  \n",
       "1      0.0  0.0  \n",
       "2      0.0  0.0  \n",
       "3      0.0  0.0  \n",
       "4      0.0  0.0  \n",
       "...    ...  ...  \n",
       "23995  0.0  0.0  \n",
       "23996  0.0  0.0  \n",
       "23997  0.0  0.0  \n",
       "23998  0.0  0.0  \n",
       "23999  0.0  0.0  \n",
       "\n",
       "[24000 rows x 15378 columns]"
      ]
     },
     "execution_count": 6,
     "metadata": {},
     "output_type": "execute_result"
    }
   ],
   "source": [
    "!rm -f *.pickle\n",
    "!wc -l data/haha_*.json\n",
    "# !cat data/haha_train_ft_pre_min10.json > data/haha_all_ft_pre_min10.json\n",
    "# !cat data/haha_test_ft_pre_min10.json >> data/haha_all_ft_pre_min10.json\n",
    "# !wc -l data/haha_all_ft_pre_min10.json\n",
    "!cat data/haha_train_ft_pre.json > data/haha_all_ft_pre.json\n",
    "!cat data/haha_test_ft_pre.json >> data/haha_all_ft_pre.json\n",
    "!wc -l data/haha_all_ft_pre.json\n",
    "\n",
    "!rm -f *.pickle\n",
    "inv_idx = InvertedIdx(\"data/haha_all_ft_pre.json\")\n",
    "inv_idx.process(showProgressEach=5000)\n",
    "inv_idx.compute_mtx()\n",
    "tfidf=pd.DataFrame(inv_idx.idx_mtx.todense(), index=inv_idx.corpus).T\n",
    "tfidf"
   ]
  },
  {
   "cell_type": "code",
   "execution_count": null,
   "metadata": {},
   "outputs": [],
   "source": [
    "train_n=len(train_data)\n",
    "test_n=len(test_data)\n",
    "train_n,test_n # (16799, 7201)"
   ]
  },
  {
   "cell_type": "code",
   "execution_count": 7,
   "metadata": {},
   "outputs": [
    {
     "data": {
      "text/plain": [
       "20"
      ]
     },
     "execution_count": 7,
     "metadata": {},
     "output_type": "execute_result"
    }
   ],
   "source": [
    "del(inv_idx)\n",
    "# del(train_data)\n",
    "# del(test_data)\n",
    "gc.collect()"
   ]
  },
  {
   "cell_type": "code",
   "execution_count": 8,
   "metadata": {},
   "outputs": [],
   "source": [
    "test2=np.array([np.array(row,dtype='float16') for _, row in tfidf.tail(7201).iterrows()])"
   ]
  },
  {
   "cell_type": "code",
   "execution_count": 9,
   "metadata": {},
   "outputs": [],
   "source": [
    "train2=np.array([np.array(row,dtype='float16') for _, row in tfidf.head(16799).iterrows()])"
   ]
  },
  {
   "cell_type": "code",
   "execution_count": 10,
   "metadata": {},
   "outputs": [
    {
     "data": {
      "text/plain": [
       "60"
      ]
     },
     "execution_count": 10,
     "metadata": {},
     "output_type": "execute_result"
    }
   ],
   "source": [
    "del(tfidf)\n",
    "gc.collect()"
   ]
  },
  {
   "cell_type": "code",
   "execution_count": 11,
   "metadata": {},
   "outputs": [
    {
     "data": {
      "text/plain": [
       "0"
      ]
     },
     "execution_count": 11,
     "metadata": {},
     "output_type": "execute_result"
    }
   ],
   "source": [
    "# Cargamos lod datos.\n",
    "train_data=pd.read_json('data/haha_train_ft_pre.json',lines=True)\n",
    "#Obtenemos la representación vectorial para los conjunto de prueba y entrenamiento\n",
    "y_train=np.array(train_data.is_humor,dtype='int')\n",
    "# Los datos de prueba\n",
    "test_data=pd.read_json('data/haha_test_ft_pre.json',lines=True)\n",
    "y_test=np.array(test_data.is_humor)\n",
    "\n",
    "del(train_data)\n",
    "del(test_data)\n",
    "gc.collect()"
   ]
  },
  {
   "cell_type": "code",
   "execution_count": 23,
   "metadata": {},
   "outputs": [
    {
     "data": {
      "text/plain": [
       "1"
      ]
     },
     "execution_count": 23,
     "metadata": {},
     "output_type": "execute_result"
    }
   ],
   "source": [
    "max(y_train)"
   ]
  },
  {
   "cell_type": "code",
   "execution_count": null,
   "metadata": {},
   "outputs": [],
   "source": [
    "# train2=np.array(tfidf.head(train_n))\n",
    "# test2=np.array(tfidf.tail(test_n))\n",
    "# train2.shape,test2.shape"
   ]
  },
  {
   "cell_type": "code",
   "execution_count": null,
   "metadata": {},
   "outputs": [],
   "source": [
    "# train2=np.ascontiguousarray(tfidf.head(train_n).to_numpy())\n",
    "# test2=np.ascontiguousarray(tfidf.tail(test_n).to_numpy())\n",
    "# train2.shape,test2.shape"
   ]
  },
  {
   "cell_type": "code",
   "execution_count": 12,
   "metadata": {},
   "outputs": [],
   "source": [
    "P2={} #Performance"
   ]
  },
  {
   "cell_type": "code",
   "execution_count": null,
   "metadata": {},
   "outputs": [],
   "source": [
    "# \n",
    "P2[\"NC.cos.avg\"]=testClassifier(NearestCentroid(distance='coseno',centroid_type='Average'),train2,y_train,test2,y_test)\n",
    "P2[\"NC.euc.avg\"]=testClassifier(NearestCentroid(distance='euclidiana',centroid_type='Average'),train2,y_train,test2,y_test)\n",
    "\n",
    "P2[\"NC.cos.sum\"]=testClassifier(NearestCentroid(distance='coseno',centroid_type='Sum'),train2,y_train,test2,y_test)\n",
    "P2[\"NC.euc.sum\"]=testClassifier(NearestCentroid(distance='euclidiana',centroid_type='Sum'),train2,y_train,test2,y_test)\n",
    "\n",
    "P2[\"NC.cos.rocchio\"]=testClassifier(NearestCentroid(distance='coseno',centroid_type='Rocchio',beta=16,gamma=4),train2,y_train,test2,y_test)\n",
    "P2[\"NC.euc.rocchio\"]=testClassifier(NearestCentroid(distance='euclidiana',centroid_type='Rocchio',beta=16,gamma=4),train2,y_train,test2,y_test)\n",
    "\n",
    "P2[\"NC.cos.nsum\"]=testClassifier(NearestCentroid(distance='coseno',centroid_type='NormSum'),train2,y_train,test2,y_test)\n",
    "P2[\"NC.euc.nsum\"]=testClassifier(NearestCentroid(distance='euclidiana',centroid_type='NormSum'),train2,y_train,test2,y_test)"
   ]
  },
  {
   "cell_type": "code",
   "execution_count": null,
   "metadata": {
    "scrolled": false
   },
   "outputs": [],
   "source": [
    "P2[\"KNN.cos.u\"]=testClassifier(kNN(distance='coseno',k=5,weight_type='uniform'),train2,y_train,test2,y_test)\n",
    "P2[\"KNN.euc.u\"]=testClassifier(kNN(distance='euclidiana',k=5,weight_type='uniform'),train2,y_train,test2,y_test)\n",
    "\n",
    "P2[\"KNN.cos.m\"]=testClassifier(kNN(distance='coseno',k=5,weight_type='mean_dist'),train2,y_train,test2,y_test)\n",
    "P2[\"KNN.euc.m\"]=testClassifier(kNN(distance='euclidiana',k=5,weight_type='mean_dist'),train2,y_train,test2,y_test)\n",
    "\n",
    "P2[\"KNN.cos.w\"]=testClassifier(kNN(distance='coseno',k=5,weight_type='weighed_dist'),train2,y_train,test2,y_test)\n",
    "P2[\"KNN.euc.w\"]=testClassifier(kNN(distance='euclidiana',k=5,weight_type='weighed_dist'),train2,y_train,test2,y_test)"
   ]
  },
  {
   "cell_type": "code",
   "execution_count": null,
   "metadata": {},
   "outputs": [],
   "source": [
    "gc.collect()"
   ]
  },
  {
   "cell_type": "code",
   "execution_count": null,
   "metadata": {},
   "outputs": [],
   "source": [
    "df=pd.DataFrame(P).T.sort_values(\"F1 is_humor=1\",ascending =False)\n",
    "df"
   ]
  },
  {
   "cell_type": "code",
   "execution_count": null,
   "metadata": {},
   "outputs": [],
   "source": [
    "df2=pd.DataFrame(P2).T.sort_values(\"F1 is_humor=1\",ascending =False)\n",
    "df2"
   ]
  },
  {
   "cell_type": "code",
   "execution_count": null,
   "metadata": {},
   "outputs": [],
   "source": [
    "df.describe()"
   ]
  },
  {
   "cell_type": "code",
   "execution_count": null,
   "metadata": {},
   "outputs": [],
   "source": [
    "df2.describe()"
   ]
  },
  {
   "cell_type": "code",
   "execution_count": null,
   "metadata": {},
   "outputs": [],
   "source": []
  }
 ],
 "metadata": {
  "anaconda-cloud": {},
  "kernelspec": {
   "display_name": "Python 3",
   "language": "python",
   "name": "python3"
  },
  "language_info": {
   "codemirror_mode": {
    "name": "ipython",
    "version": 3
   },
   "file_extension": ".py",
   "mimetype": "text/x-python",
   "name": "python",
   "nbconvert_exporter": "python",
   "pygments_lexer": "ipython3",
   "version": "3.7.6"
  }
 },
 "nbformat": 4,
 "nbformat_minor": 1
}
