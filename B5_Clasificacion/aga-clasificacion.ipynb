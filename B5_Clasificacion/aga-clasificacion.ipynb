{
 "cells": [
  {
   "cell_type": "code",
   "execution_count": 1,
   "metadata": {},
   "outputs": [],
   "source": [
    "# Multiple outputs per cell in Jupyter \n",
    "from IPython.core.interactiveshell import InteractiveShell\n",
    "InteractiveShell.ast_node_interactivity = \"all\""
   ]
  },
  {
   "cell_type": "code",
   "execution_count": 2,
   "metadata": {},
   "outputs": [],
   "source": [
    "# %%javascript\n",
    "# // Evitar autoscroll.\n",
    "# IPython.OutputArea.prototype._should_scroll = function(lines) {\n",
    "#     return false;\n",
    "# }"
   ]
  },
  {
   "cell_type": "code",
   "execution_count": 3,
   "metadata": {},
   "outputs": [],
   "source": [
    "%matplotlib inline\n",
    "import matplotlib.pyplot as plt\n",
    "import numpy as np\n",
    "import pandas as pd\n",
    "%load_ext autoreload\n",
    "%autoreload 2\n",
    "from skeleton import *\n",
    "from sklearn.metrics import (recall_score, f1_score,\n",
    "                             precision_score, accuracy_score)"
   ]
  },
  {
   "cell_type": "code",
   "execution_count": 4,
   "metadata": {},
   "outputs": [],
   "source": [
    "def testClassifier(clf,train,y_train,test,y_test):\n",
    "    print(\"=== \",clf.__class__.__name__,end='')\n",
    "    print(\":\",vars(clf))\n",
    "    clf=clf.fit(train,y_train)\n",
    "    #Predecimos las etiqueta del conjunto de prueba\n",
    "    yp=clf.predict(test)\n",
    "    # Medidas de bondad\n",
    "    scores={}\n",
    "\n",
    "    scores['Accuracy']=accuracy_score(y_test,yp)\n",
    "    scores['Macro F1']=f1_score(y_test,yp,average='macro')\n",
    "    scores['Macro Recall']=recall_score(y_test,yp,average='macro')\n",
    "    scores['F1 is_humor=1']=f1_score(y_test,yp)\n",
    "    \n",
    "    print(\"Accuracy\",\"Macro F1\",\"Macro Recall\",\"F1 is_humor=1\",sep='\\t')\n",
    "    print(\"{:.6f}\\t{:.6f}\\t{:.6f}\\t{:.6f}\".format(\n",
    "        scores['Accuracy'],scores['Macro F1'],scores['Macro Recall'],scores['F1 is_humor=1']))\n",
    "                            \n",
    "#     print(\"Recall: \", scores['recall'])\n",
    "#     print(\"F1: \", scores['f1'])\n",
    "#     print(\"Accuracy: \", scores['accuracy'])\n",
    "#     print(\"F1 Humor: \", scores['f1_humor'])\n",
    "    #Vemos la frontera de decisión\n",
    "    plotDecisionBoundary(clf,train, y_train)\n",
    "    return scores"
   ]
  },
  {
   "cell_type": "markdown",
   "metadata": {},
   "source": [
    "## Un problema de texto  (Identificación de humor HAHA -2019)"
   ]
  },
  {
   "cell_type": "markdown",
   "metadata": {},
   "source": [
    "Para este ejemplo utilizaremos los datos proporcionados para la tarea 1 del HAHA - Humor Analysis based on Human Annotation, la cual consiste determinar si tweets en español son humorísticos o no (un problema de clasificación binaria). Esta tarea forma parte del Iberian Languages Evaluation Forum (IberLEF 2019)."
   ]
  },
  {
   "cell_type": "markdown",
   "metadata": {},
   "source": [
    "### Corpus \n",
    "\n",
    "El conjunto de datos fue etiquetado como se indica [5]. Todos los tweets están etiquetados como humorístico **is_humor=1**  o no humorístico **is_humor=0**. Los datos relevantes para el problema se clasificación ser muestran en el siguiente ejemplo:\n",
    "\n",
    "|Desscripción|Clave|Valor|\n",
    "|:------:|:------:|:-----:|\n",
    "|Tweet |text|Después de la tormenta sale... Tu mamá gritando porque no metiste la ropa.|\n",
    "|Etiqueta de clase|is_humor|1|\n",
    "|Representación vectorial|vec| Vectores de dimensión 300 (FastText preentrenados para español) |\n",
    "|Identificador|id|942079817905770496|\n",
    "\n"
   ]
  },
  {
   "cell_type": "code",
   "execution_count": 59,
   "metadata": {},
   "outputs": [],
   "source": [
    "# Cargamos lod datos.\n",
    "train_data=pd.read_json('data/haha_train_ft_pre_min10.json',lines=True)"
   ]
  },
  {
   "cell_type": "code",
   "execution_count": 60,
   "metadata": {},
   "outputs": [
    {
     "data": {
      "text/html": [
       "<div>\n",
       "<style scoped>\n",
       "    .dataframe tbody tr th:only-of-type {\n",
       "        vertical-align: middle;\n",
       "    }\n",
       "\n",
       "    .dataframe tbody tr th {\n",
       "        vertical-align: top;\n",
       "    }\n",
       "\n",
       "    .dataframe thead th {\n",
       "        text-align: right;\n",
       "    }\n",
       "</style>\n",
       "<table border=\"1\" class=\"dataframe\">\n",
       "  <thead>\n",
       "    <tr style=\"text-align: right;\">\n",
       "      <th></th>\n",
       "      <th>id</th>\n",
       "      <th>text</th>\n",
       "      <th>is_humor</th>\n",
       "      <th>vec</th>\n",
       "    </tr>\n",
       "  </thead>\n",
       "  <tbody>\n",
       "    <tr>\n",
       "      <th>0</th>\n",
       "      <td>965767017268678658</td>\n",
       "      <td>Amo a @CamilaTuDiosaxD</td>\n",
       "      <td>0</td>\n",
       "      <td>[-0.06692000000000001, 0.13184, -0.0030723, -0...</td>\n",
       "    </tr>\n",
       "    <tr>\n",
       "      <th>1</th>\n",
       "      <td>965811724392726528</td>\n",
       "      <td>@NamiNapoleon hola como estan me pueden seguir</td>\n",
       "      <td>0</td>\n",
       "      <td>[-0.06776, -0.24253000000000002, -0.0065559999...</td>\n",
       "    </tr>\n",
       "    <tr>\n",
       "      <th>2</th>\n",
       "      <td>964984559547777024</td>\n",
       "      <td>Típico : Estar viajando en taxi y pensar tácti...</td>\n",
       "      <td>1</td>\n",
       "      <td>[-0.044634, -0.049435, -0.053049, -0.026851, 0...</td>\n",
       "    </tr>\n",
       "    <tr>\n",
       "      <th>3</th>\n",
       "      <td>941669646364762113</td>\n",
       "      <td>Me gusta todo de ti.. te amo espejo.</td>\n",
       "      <td>1</td>\n",
       "      <td>[-0.022054999999999998, -0.064284, -0.052083, ...</td>\n",
       "    </tr>\n",
       "    <tr>\n",
       "      <th>4</th>\n",
       "      <td>1009142890415652866</td>\n",
       "      <td>\" Egipto siempre acaba afuera \"\\r\\n\\r\\nCleopatra</td>\n",
       "      <td>1</td>\n",
       "      <td>[0.066164, -0.082201, -0.022706, -0.047533, 0....</td>\n",
       "    </tr>\n",
       "  </tbody>\n",
       "</table>\n",
       "</div>"
      ],
      "text/plain": [
       "                    id                                               text  \\\n",
       "0   965767017268678658                             Amo a @CamilaTuDiosaxD   \n",
       "1   965811724392726528     @NamiNapoleon hola como estan me pueden seguir   \n",
       "2   964984559547777024  Típico : Estar viajando en taxi y pensar tácti...   \n",
       "3   941669646364762113               Me gusta todo de ti.. te amo espejo.   \n",
       "4  1009142890415652866   \" Egipto siempre acaba afuera \"\\r\\n\\r\\nCleopatra   \n",
       "\n",
       "   is_humor                                                vec  \n",
       "0         0  [-0.06692000000000001, 0.13184, -0.0030723, -0...  \n",
       "1         0  [-0.06776, -0.24253000000000002, -0.0065559999...  \n",
       "2         1  [-0.044634, -0.049435, -0.053049, -0.026851, 0...  \n",
       "3         1  [-0.022054999999999998, -0.064284, -0.052083, ...  \n",
       "4         1  [0.066164, -0.082201, -0.022706, -0.047533, 0....  "
      ]
     },
     "execution_count": 60,
     "metadata": {},
     "output_type": "execute_result"
    }
   ],
   "source": [
    "#Vemos los primeros 5\n",
    "train_data.head()[['id','text','is_humor','vec']]"
   ]
  },
  {
   "cell_type": "code",
   "execution_count": 61,
   "metadata": {},
   "outputs": [
    {
     "data": {
      "text/plain": [
       "300"
      ]
     },
     "execution_count": 61,
     "metadata": {},
     "output_type": "execute_result"
    }
   ],
   "source": [
    "#Dimensión de los vectores\n",
    "len(train_data.vec[3])"
   ]
  },
  {
   "cell_type": "code",
   "execution_count": 62,
   "metadata": {},
   "outputs": [],
   "source": [
    "# Los datos de prueba\n",
    "test_data=pd.read_json('data/haha_test_ft_pre_min10.json',lines=True)"
   ]
  },
  {
   "cell_type": "code",
   "execution_count": 63,
   "metadata": {},
   "outputs": [],
   "source": [
    "#Obtenemos la representación vectorial para los conjunto de prueba y entrenamiento\n",
    "train,y_train=np.array([np.array(x) for x in train_data.vec]),np.array(train_data.is_humor)\n",
    "test,y_test=np.array([np.array(x) for x in test_data.vec]),np.array(test_data.is_humor)"
   ]
  },
  {
   "cell_type": "code",
   "execution_count": 24,
   "metadata": {},
   "outputs": [
    {
     "name": "stdout",
     "output_type": "stream",
     "text": [
      "===  NearestCentroid: {'distance': <function coseno at 0x7fda074dab00>, 'algorithm': <bound method NearestCentroid.Average of <skeleton.NearestCentroid object at 0x7fda30f91e10>>, 'kwargs_': {}}\n",
      "Accuracy\tMacro F1\tMacro Recall\tF1 is_humor=1\n",
      "0.708333\t0.706920\t0.710811\t0.727273\n"
     ]
    },
    {
     "data": {
      "image/png": "[encoded data removed]",
      "text/plain": [
       "<Figure size 360x360 with 1 Axes>"
      ]
     },
     "metadata": {},
     "output_type": "display_data"
    },
    {
     "name": "stdout",
     "output_type": "stream",
     "text": [
      "===  NearestCentroid: {'distance': <function euclidiana at 0x7fda0999f9e0>, 'algorithm': <bound method NearestCentroid.Average of <skeleton.NearestCentroid object at 0x7fda3107da90>>, 'kwargs_': {}}\n",
      "Accuracy\tMacro F1\tMacro Recall\tF1 is_humor=1\n",
      "0.708333\t0.705550\t0.711583\t0.734177\n"
     ]
    },
    {
     "data": {
      "image/png": "[encoded data removed]",
      "text/plain": [
       "<Figure size 360x360 with 1 Axes>"
      ]
     },
     "metadata": {},
     "output_type": "display_data"
    },
    {
     "name": "stdout",
     "output_type": "stream",
     "text": [
      "===  NearestCentroid: {'distance': <function coseno at 0x7fda074dab00>, 'algorithm': <bound method NearestCentroid.Sum of <skeleton.NearestCentroid object at 0x7fda31037d10>>, 'kwargs_': {}}\n",
      "Accuracy\tMacro F1\tMacro Recall\tF1 is_humor=1\n",
      "0.708333\t0.706920\t0.710811\t0.727273\n"
     ]
    },
    {
     "data": {
      "image/png": "[encoded data removed]",
      "text/plain": [
       "<Figure size 360x360 with 1 Axes>"
      ]
     },
     "metadata": {},
     "output_type": "display_data"
    },
    {
     "name": "stdout",
     "output_type": "stream",
     "text": [
      "===  NearestCentroid: {'distance': <function euclidiana at 0x7fda0999f9e0>, 'algorithm': <bound method NearestCentroid.Sum of <skeleton.NearestCentroid object at 0x7fda30fa39d0>>, 'kwargs_': {}}\n",
      "Accuracy\tMacro F1\tMacro Recall\tF1 is_humor=1\n",
      "0.486111\t0.327103\t0.500000\t0.654206\n"
     ]
    },
    {
     "data": {
      "image/png": "[encoded data removed]",
      "text/plain": [
       "<Figure size 360x360 with 1 Axes>"
      ]
     },
     "metadata": {},
     "output_type": "display_data"
    },
    {
     "name": "stdout",
     "output_type": "stream",
     "text": [
      "===  NearestCentroid: {'distance': <function coseno at 0x7fda074dab00>, 'algorithm': <bound method NearestCentroid.Rocchio of <skeleton.NearestCentroid object at 0x7fda30ea9f50>>, 'kwargs_': {'beta': 16, 'gamma': 4}}\n",
      "Accuracy\tMacro F1\tMacro Recall\tF1 is_humor=1\n",
      "0.722222\t0.721362\t0.724324\t0.736842\n"
     ]
    },
    {
     "data": {
      "image/png": "[encoded data removed]",
      "text/plain": [
       "<Figure size 360x360 with 1 Axes>"
      ]
     },
     "metadata": {},
     "output_type": "display_data"
    },
    {
     "name": "stdout",
     "output_type": "stream",
     "text": [
      "===  NearestCentroid: {'distance': <function euclidiana at 0x7fda0999f9e0>, 'algorithm': <bound method NearestCentroid.Rocchio of <skeleton.NearestCentroid object at 0x7fda3105b410>>, 'kwargs_': {'beta': 16, 'gamma': 4}}\n",
      "Accuracy\tMacro F1\tMacro Recall\tF1 is_humor=1\n",
      "0.513889\t0.339450\t0.500000\t0.000000\n"
     ]
    },
    {
     "data": {
      "image/png": "[encoded data removed]",
      "text/plain": [
       "<Figure size 360x360 with 1 Axes>"
      ]
     },
     "metadata": {},
     "output_type": "display_data"
    },
    {
     "name": "stdout",
     "output_type": "stream",
     "text": [
      "===  NearestCentroid: {'distance': <function coseno at 0x7fda074dab00>, 'algorithm': <bound method NearestCentroid.NormSum of <skeleton.NearestCentroid object at 0x7fda3103d1d0>>, 'kwargs_': {}}\n",
      "Accuracy\tMacro F1\tMacro Recall\tF1 is_humor=1\n",
      "0.708333\t0.706920\t0.710811\t0.727273\n"
     ]
    },
    {
     "data": {
      "image/png": "[encoded data removed]",
      "text/plain": [
       "<Figure size 360x360 with 1 Axes>"
      ]
     },
     "metadata": {},
     "output_type": "display_data"
    },
    {
     "name": "stdout",
     "output_type": "stream",
     "text": [
      "===  NearestCentroid: {'distance': <function euclidiana at 0x7fda0999f9e0>, 'algorithm': <bound method NearestCentroid.NormSum of <skeleton.NearestCentroid object at 0x7fda30e71510>>, 'kwargs_': {}}\n",
      "Accuracy\tMacro F1\tMacro Recall\tF1 is_humor=1\n",
      "0.708333\t0.706920\t0.710811\t0.727273\n"
     ]
    },
    {
     "data": {
      "image/png": "[encoded data removed]",
      "text/plain": [
       "<Figure size 360x360 with 1 Axes>"
      ]
     },
     "metadata": {},
     "output_type": "display_data"
    },
    {
     "name": "stdout",
     "output_type": "stream",
     "text": [
      "===  kNN: {'weight': <bound method kNN._uniform of <skeleton.kNN object at 0x7fda30f12b90>>, 'distance': 'coseno', 'k': 5}\n",
      "Accuracy\tMacro F1\tMacro Recall\tF1 is_humor=1\n",
      "0.680556\t0.675485\t0.677606\t0.634921\n"
     ]
    },
    {
     "data": {
      "image/png": "[encoded data removed]",
      "text/plain": [
       "<Figure size 360x360 with 1 Axes>"
      ]
     },
     "metadata": {},
     "output_type": "display_data"
    },
    {
     "name": "stdout",
     "output_type": "stream",
     "text": [
      "===  kNN: {'weight': <bound method kNN._uniform of <skeleton.kNN object at 0x7fda28bcc290>>, 'distance': 'euclidiana', 'k': 5}\n",
      "Accuracy\tMacro F1\tMacro Recall\tF1 is_humor=1\n",
      "0.638889\t0.638610\t0.638610\t0.628571\n"
     ]
    },
    {
     "data": {
      "image/png": "[encoded data removed]",
      "text/plain": [
       "<Figure size 360x360 with 1 Axes>"
      ]
     },
     "metadata": {},
     "output_type": "display_data"
    },
    {
     "name": "stdout",
     "output_type": "stream",
     "text": [
      "===  kNN: {'weight': <bound method kNN._mean_dist of <skeleton.kNN object at 0x7fda28bd7350>>, 'distance': 'coseno', 'k': 5}\n",
      "Implementación mean_dist\n",
      "Accuracy\tMacro F1\tMacro Recall\tF1 is_humor=1\n",
      "0.611111\t0.610811\t0.612355\t0.621622\n",
      "Implementación mean_dist\n"
     ]
    },
    {
     "data": {
      "image/png": "[encoded data removed]",
      "text/plain": [
       "<Figure size 360x360 with 1 Axes>"
      ]
     },
     "metadata": {},
     "output_type": "display_data"
    },
    {
     "name": "stdout",
     "output_type": "stream",
     "text": [
      "===  kNN: {'weight': <bound method kNN._mean_dist of <skeleton.kNN object at 0x7fda28b89f50>>, 'distance': 'euclidiana', 'k': 5}\n",
      "Implementación mean_dist\n",
      "Accuracy\tMacro F1\tMacro Recall\tF1 is_humor=1\n",
      "0.680556\t0.680000\t0.679923\t0.666667\n",
      "Implementación mean_dist\n"
     ]
    },
    {
     "data": {
      "image/png": "[encoded data removed]",
      "text/plain": [
       "<Figure size 360x360 with 1 Axes>"
      ]
     },
     "metadata": {},
     "output_type": "display_data"
    },
    {
     "name": "stdout",
     "output_type": "stream",
     "text": [
      "===  kNN: {'weight': <bound method kNN._weighed_dist of <skeleton.kNN object at 0x7fda28ac2f50>>, 'distance': 'coseno', 'k': 5}\n",
      "Implementación weighed_dist\n",
      "Accuracy\tMacro F1\tMacro Recall\tF1 is_humor=1\n",
      "0.680556\t0.675485\t0.677606\t0.634921\n",
      "Implementación weighed_dist\n"
     ]
    },
    {
     "data": {
      "image/png": "[encoded data removed]",
      "text/plain": [
       "<Figure size 360x360 with 1 Axes>"
      ]
     },
     "metadata": {},
     "output_type": "display_data"
    },
    {
     "name": "stdout",
     "output_type": "stream",
     "text": [
      "===  kNN: {'weight': <bound method kNN._weighed_dist of <skeleton.kNN object at 0x7fda289fe0d0>>, 'distance': 'euclidiana', 'k': 5}\n",
      "Implementación weighed_dist\n",
      "Accuracy\tMacro F1\tMacro Recall\tF1 is_humor=1\n",
      "0.638889\t0.638610\t0.638610\t0.628571\n",
      "Implementación weighed_dist\n"
     ]
    },
    {
     "data": {
      "image/png": "[encoded data removed]",
      "text/plain": [
       "<Figure size 360x360 with 1 Axes>"
      ]
     },
     "metadata": {},
     "output_type": "display_data"
    }
   ],
   "source": [
    "P={\"FastText\":{\"Accuracy\":0.809050,\"Macro F1\":0.793270,\"Macro Recall\":0.786900,\"F1 is_humor=1\":0.736140}} #Performance\n",
    "\n",
    "# \n",
    "P[\"NC.cos.avg\"]=testClassifier(NearestCentroid(distance='coseno',centroid_type='Average'),train,y_train,test,y_test)\n",
    "P[\"NC.euc.avg\"]=testClassifier(NearestCentroid(distance='euclidiana',centroid_type='Average'),train,y_train,test,y_test)\n",
    "\n",
    "P[\"NC.cos.sum\"]=testClassifier(NearestCentroid(distance='coseno',centroid_type='Sum'),train,y_train,test,y_test)\n",
    "P[\"NC.euc.sum\"]=testClassifier(NearestCentroid(distance='euclidiana',centroid_type='Sum'),train,y_train,test,y_test)\n",
    "\n",
    "P[\"NC.cos.rocchio\"]=testClassifier(NearestCentroid(distance='coseno',centroid_type='Rocchio',beta=16,gamma=4),train,y_train,test,y_test)\n",
    "P[\"NC.euc.rocchio\"]=testClassifier(NearestCentroid(distance='euclidiana',centroid_type='Rocchio',beta=16,gamma=4),train,y_train,test,y_test)\n",
    "\n",
    "P[\"NC.cos.nsum\"]=testClassifier(NearestCentroid(distance='coseno',centroid_type='NormSum'),train,y_train,test,y_test)\n",
    "P[\"NC.euc.nsum\"]=testClassifier(NearestCentroid(distance='euclidiana',centroid_type='NormSum'),train,y_train,test,y_test)\n",
    "\n",
    "\n",
    "P[\"KNN.cos.u\"]=testClassifier(kNN(distance='coseno',k=5,weight_type='uniform'),train,y_train,test,y_test)\n",
    "P[\"KNN.euc.u\"]=testClassifier(kNN(distance='euclidiana',k=5,weight_type='uniform'),train,y_train,test,y_test)\n",
    "\n",
    "P[\"KNN.cos.m\"]=testClassifier(kNN(distance='coseno',k=5,weight_type='mean_dist'),train,y_train,test,y_test)\n",
    "P[\"KNN.euc.m\"]=testClassifier(kNN(distance='euclidiana',k=5,weight_type='mean_dist'),train,y_train,test,y_test)\n",
    "\n",
    "P[\"KNN.cos.w\"]=testClassifier(kNN(distance='coseno',k=5,weight_type='weighed_dist'),train,y_train,test,y_test)\n",
    "P[\"KNN.euc.w\"]=testClassifier(kNN(distance='euclidiana',k=5,weight_type='weighed_dist'),train,y_train,test,y_test)"
   ]
  },
  {
   "cell_type": "code",
   "execution_count": 25,
   "metadata": {},
   "outputs": [
    {
     "data": {
      "text/html": [
       "<div>\n",
       "<style scoped>\n",
       "    .dataframe tbody tr th:only-of-type {\n",
       "        vertical-align: middle;\n",
       "    }\n",
       "\n",
       "    .dataframe tbody tr th {\n",
       "        vertical-align: top;\n",
       "    }\n",
       "\n",
       "    .dataframe thead th {\n",
       "        text-align: right;\n",
       "    }\n",
       "</style>\n",
       "<table border=\"1\" class=\"dataframe\">\n",
       "  <thead>\n",
       "    <tr style=\"text-align: right;\">\n",
       "      <th></th>\n",
       "      <th>Accuracy</th>\n",
       "      <th>Macro F1</th>\n",
       "      <th>Macro Recall</th>\n",
       "      <th>F1 is_humor=1</th>\n",
       "    </tr>\n",
       "  </thead>\n",
       "  <tbody>\n",
       "    <tr>\n",
       "      <th>NC.cos.rocchio</th>\n",
       "      <td>0.722222</td>\n",
       "      <td>0.721362</td>\n",
       "      <td>0.724324</td>\n",
       "      <td>0.736842</td>\n",
       "    </tr>\n",
       "    <tr>\n",
       "      <th>FastText</th>\n",
       "      <td>0.809050</td>\n",
       "      <td>0.793270</td>\n",
       "      <td>0.786900</td>\n",
       "      <td>0.736140</td>\n",
       "    </tr>\n",
       "    <tr>\n",
       "      <th>NC.euc.avg</th>\n",
       "      <td>0.708333</td>\n",
       "      <td>0.705550</td>\n",
       "      <td>0.711583</td>\n",
       "      <td>0.734177</td>\n",
       "    </tr>\n",
       "    <tr>\n",
       "      <th>NC.cos.avg</th>\n",
       "      <td>0.708333</td>\n",
       "      <td>0.706920</td>\n",
       "      <td>0.710811</td>\n",
       "      <td>0.727273</td>\n",
       "    </tr>\n",
       "    <tr>\n",
       "      <th>NC.cos.sum</th>\n",
       "      <td>0.708333</td>\n",
       "      <td>0.706920</td>\n",
       "      <td>0.710811</td>\n",
       "      <td>0.727273</td>\n",
       "    </tr>\n",
       "    <tr>\n",
       "      <th>NC.cos.nsum</th>\n",
       "      <td>0.708333</td>\n",
       "      <td>0.706920</td>\n",
       "      <td>0.710811</td>\n",
       "      <td>0.727273</td>\n",
       "    </tr>\n",
       "    <tr>\n",
       "      <th>NC.euc.nsum</th>\n",
       "      <td>0.708333</td>\n",
       "      <td>0.706920</td>\n",
       "      <td>0.710811</td>\n",
       "      <td>0.727273</td>\n",
       "    </tr>\n",
       "    <tr>\n",
       "      <th>KNN.euc.m</th>\n",
       "      <td>0.680556</td>\n",
       "      <td>0.680000</td>\n",
       "      <td>0.679923</td>\n",
       "      <td>0.666667</td>\n",
       "    </tr>\n",
       "    <tr>\n",
       "      <th>NC.euc.sum</th>\n",
       "      <td>0.486111</td>\n",
       "      <td>0.327103</td>\n",
       "      <td>0.500000</td>\n",
       "      <td>0.654206</td>\n",
       "    </tr>\n",
       "    <tr>\n",
       "      <th>KNN.cos.u</th>\n",
       "      <td>0.680556</td>\n",
       "      <td>0.675485</td>\n",
       "      <td>0.677606</td>\n",
       "      <td>0.634921</td>\n",
       "    </tr>\n",
       "    <tr>\n",
       "      <th>KNN.cos.w</th>\n",
       "      <td>0.680556</td>\n",
       "      <td>0.675485</td>\n",
       "      <td>0.677606</td>\n",
       "      <td>0.634921</td>\n",
       "    </tr>\n",
       "    <tr>\n",
       "      <th>KNN.euc.u</th>\n",
       "      <td>0.638889</td>\n",
       "      <td>0.638610</td>\n",
       "      <td>0.638610</td>\n",
       "      <td>0.628571</td>\n",
       "    </tr>\n",
       "    <tr>\n",
       "      <th>KNN.euc.w</th>\n",
       "      <td>0.638889</td>\n",
       "      <td>0.638610</td>\n",
       "      <td>0.638610</td>\n",
       "      <td>0.628571</td>\n",
       "    </tr>\n",
       "    <tr>\n",
       "      <th>KNN.cos.m</th>\n",
       "      <td>0.611111</td>\n",
       "      <td>0.610811</td>\n",
       "      <td>0.612355</td>\n",
       "      <td>0.621622</td>\n",
       "    </tr>\n",
       "    <tr>\n",
       "      <th>NC.euc.rocchio</th>\n",
       "      <td>0.513889</td>\n",
       "      <td>0.339450</td>\n",
       "      <td>0.500000</td>\n",
       "      <td>0.000000</td>\n",
       "    </tr>\n",
       "  </tbody>\n",
       "</table>\n",
       "</div>"
      ],
      "text/plain": [
       "                Accuracy  Macro F1  Macro Recall  F1 is_humor=1\n",
       "NC.cos.rocchio  0.722222  0.721362      0.724324       0.736842\n",
       "FastText        0.809050  0.793270      0.786900       0.736140\n",
       "NC.euc.avg      0.708333  0.705550      0.711583       0.734177\n",
       "NC.cos.avg      0.708333  0.706920      0.710811       0.727273\n",
       "NC.cos.sum      0.708333  0.706920      0.710811       0.727273\n",
       "NC.cos.nsum     0.708333  0.706920      0.710811       0.727273\n",
       "NC.euc.nsum     0.708333  0.706920      0.710811       0.727273\n",
       "KNN.euc.m       0.680556  0.680000      0.679923       0.666667\n",
       "NC.euc.sum      0.486111  0.327103      0.500000       0.654206\n",
       "KNN.cos.u       0.680556  0.675485      0.677606       0.634921\n",
       "KNN.cos.w       0.680556  0.675485      0.677606       0.634921\n",
       "KNN.euc.u       0.638889  0.638610      0.638610       0.628571\n",
       "KNN.euc.w       0.638889  0.638610      0.638610       0.628571\n",
       "KNN.cos.m       0.611111  0.610811      0.612355       0.621622\n",
       "NC.euc.rocchio  0.513889  0.339450      0.500000       0.000000"
      ]
     },
     "execution_count": 25,
     "metadata": {},
     "output_type": "execute_result"
    }
   ],
   "source": [
    "pd.DataFrame(P).T.sort_values(\"F1 is_humor=1\",ascending =False)"
   ]
  },
  {
   "cell_type": "code",
   "execution_count": 16,
   "metadata": {},
   "outputs": [
    {
     "name": "stderr",
     "output_type": "stream",
     "text": [
      "[nltk_data] Downloading package stopwords to /home/jovyan/nltk_data...\n",
      "[nltk_data]   Unzipping corpora/stopwords.zip.\n"
     ]
    }
   ],
   "source": [
    "from toolbox import *"
   ]
  },
  {
   "cell_type": "code",
   "execution_count": 55,
   "metadata": {},
   "outputs": [
    {
     "name": "stdout",
     "output_type": "stream",
     "text": [
      "     240 data/haha_all_ft_pre_min10.json\n",
      "    7201 data/haha_test_ft_pre.json\n",
      "      72 data/haha_test_ft_pre_min10.json\n",
      "   16799 data/haha_train_ft_pre.json\n",
      "     168 data/haha_train_ft_pre_min10.json\n",
      "   24480 total\n",
      "240 data/haha_all_ft_pre_min10.json\n",
      "** Processing data/haha_all_ft_pre_min10.json ...\n",
      "2020-05-09 03:17:18.354986 :: 0.000335 - Processing item #0 \n",
      "** Processed 240 lines. Saved to /home/jovyan/B5_Clasificacion/tokenized_docs.pickle.\n",
      "** Computing TF-IDF...\n",
      "** Computed TF-IDF Matrix !!!\n",
      "** Done poda0 TF-IDF Matrix !!!\n",
      "poda0_mtx.pickle written.\n"
     ]
    },
    {
     "data": {
      "text/plain": [
       "<1230x240 sparse matrix of type '<class 'numpy.float64'>'\n",
       "\twith 1738 stored elements in List of Lists format>"
      ]
     },
     "execution_count": 55,
     "metadata": {},
     "output_type": "execute_result"
    },
    {
     "data": {
      "text/html": [
       "<div>\n",
       "<style scoped>\n",
       "    .dataframe tbody tr th:only-of-type {\n",
       "        vertical-align: middle;\n",
       "    }\n",
       "\n",
       "    .dataframe tbody tr th {\n",
       "        vertical-align: top;\n",
       "    }\n",
       "\n",
       "    .dataframe thead th {\n",
       "        text-align: right;\n",
       "    }\n",
       "</style>\n",
       "<table border=\"1\" class=\"dataframe\">\n",
       "  <thead>\n",
       "    <tr style=\"text-align: right;\">\n",
       "      <th></th>\n",
       "      <th>aah</th>\n",
       "      <th>abejas</th>\n",
       "      <th>abogados</th>\n",
       "      <th>abono</th>\n",
       "      <th>abraham</th>\n",
       "      <th>abrazamee</th>\n",
       "      <th>abrir</th>\n",
       "      <th>abuela</th>\n",
       "      <th>abuelas</th>\n",
       "      <th>aburrimiento</th>\n",
       "      <th>...</th>\n",
       "      <th>workshowsperu</th>\n",
       "      <th>xd</th>\n",
       "      <th>xra</th>\n",
       "      <th>xvideos</th>\n",
       "      <th>yahoo</th>\n",
       "      <th>yotrasmanerasdeenamorarme</th>\n",
       "      <th>you</th>\n",
       "      <th>yoyanose</th>\n",
       "      <th>zavees</th>\n",
       "      <th>zoe</th>\n",
       "    </tr>\n",
       "  </thead>\n",
       "  <tbody>\n",
       "    <tr>\n",
       "      <th>0</th>\n",
       "      <td>0.0</td>\n",
       "      <td>0.0</td>\n",
       "      <td>0.0</td>\n",
       "      <td>0.0</td>\n",
       "      <td>0.0</td>\n",
       "      <td>0.0</td>\n",
       "      <td>0.0</td>\n",
       "      <td>0.0</td>\n",
       "      <td>0.0</td>\n",
       "      <td>0.0</td>\n",
       "      <td>...</td>\n",
       "      <td>0.0</td>\n",
       "      <td>0.0</td>\n",
       "      <td>0.0</td>\n",
       "      <td>0.0</td>\n",
       "      <td>0.0</td>\n",
       "      <td>0.0</td>\n",
       "      <td>0.0</td>\n",
       "      <td>0.0</td>\n",
       "      <td>0.0</td>\n",
       "      <td>0.0</td>\n",
       "    </tr>\n",
       "    <tr>\n",
       "      <th>1</th>\n",
       "      <td>0.0</td>\n",
       "      <td>0.0</td>\n",
       "      <td>0.0</td>\n",
       "      <td>0.0</td>\n",
       "      <td>0.0</td>\n",
       "      <td>0.0</td>\n",
       "      <td>0.0</td>\n",
       "      <td>0.0</td>\n",
       "      <td>0.0</td>\n",
       "      <td>0.0</td>\n",
       "      <td>...</td>\n",
       "      <td>0.0</td>\n",
       "      <td>0.0</td>\n",
       "      <td>0.0</td>\n",
       "      <td>0.0</td>\n",
       "      <td>0.0</td>\n",
       "      <td>0.0</td>\n",
       "      <td>0.0</td>\n",
       "      <td>0.0</td>\n",
       "      <td>0.0</td>\n",
       "      <td>0.0</td>\n",
       "    </tr>\n",
       "    <tr>\n",
       "      <th>2</th>\n",
       "      <td>0.0</td>\n",
       "      <td>0.0</td>\n",
       "      <td>0.0</td>\n",
       "      <td>0.0</td>\n",
       "      <td>0.0</td>\n",
       "      <td>0.0</td>\n",
       "      <td>0.0</td>\n",
       "      <td>0.0</td>\n",
       "      <td>0.0</td>\n",
       "      <td>0.0</td>\n",
       "      <td>...</td>\n",
       "      <td>0.0</td>\n",
       "      <td>0.0</td>\n",
       "      <td>0.0</td>\n",
       "      <td>0.0</td>\n",
       "      <td>0.0</td>\n",
       "      <td>0.0</td>\n",
       "      <td>0.0</td>\n",
       "      <td>0.0</td>\n",
       "      <td>0.0</td>\n",
       "      <td>0.0</td>\n",
       "    </tr>\n",
       "    <tr>\n",
       "      <th>3</th>\n",
       "      <td>0.0</td>\n",
       "      <td>0.0</td>\n",
       "      <td>0.0</td>\n",
       "      <td>0.0</td>\n",
       "      <td>0.0</td>\n",
       "      <td>0.0</td>\n",
       "      <td>0.0</td>\n",
       "      <td>0.0</td>\n",
       "      <td>0.0</td>\n",
       "      <td>0.0</td>\n",
       "      <td>...</td>\n",
       "      <td>0.0</td>\n",
       "      <td>0.0</td>\n",
       "      <td>0.0</td>\n",
       "      <td>0.0</td>\n",
       "      <td>0.0</td>\n",
       "      <td>0.0</td>\n",
       "      <td>0.0</td>\n",
       "      <td>0.0</td>\n",
       "      <td>0.0</td>\n",
       "      <td>0.0</td>\n",
       "    </tr>\n",
       "    <tr>\n",
       "      <th>4</th>\n",
       "      <td>0.0</td>\n",
       "      <td>0.0</td>\n",
       "      <td>0.0</td>\n",
       "      <td>0.0</td>\n",
       "      <td>0.0</td>\n",
       "      <td>0.0</td>\n",
       "      <td>0.0</td>\n",
       "      <td>0.0</td>\n",
       "      <td>0.0</td>\n",
       "      <td>0.0</td>\n",
       "      <td>...</td>\n",
       "      <td>0.0</td>\n",
       "      <td>0.0</td>\n",
       "      <td>0.0</td>\n",
       "      <td>0.0</td>\n",
       "      <td>0.0</td>\n",
       "      <td>0.0</td>\n",
       "      <td>0.0</td>\n",
       "      <td>0.0</td>\n",
       "      <td>0.0</td>\n",
       "      <td>0.0</td>\n",
       "    </tr>\n",
       "    <tr>\n",
       "      <th>...</th>\n",
       "      <td>...</td>\n",
       "      <td>...</td>\n",
       "      <td>...</td>\n",
       "      <td>...</td>\n",
       "      <td>...</td>\n",
       "      <td>...</td>\n",
       "      <td>...</td>\n",
       "      <td>...</td>\n",
       "      <td>...</td>\n",
       "      <td>...</td>\n",
       "      <td>...</td>\n",
       "      <td>...</td>\n",
       "      <td>...</td>\n",
       "      <td>...</td>\n",
       "      <td>...</td>\n",
       "      <td>...</td>\n",
       "      <td>...</td>\n",
       "      <td>...</td>\n",
       "      <td>...</td>\n",
       "      <td>...</td>\n",
       "      <td>...</td>\n",
       "    </tr>\n",
       "    <tr>\n",
       "      <th>235</th>\n",
       "      <td>0.0</td>\n",
       "      <td>0.0</td>\n",
       "      <td>0.0</td>\n",
       "      <td>0.0</td>\n",
       "      <td>0.0</td>\n",
       "      <td>0.0</td>\n",
       "      <td>0.0</td>\n",
       "      <td>0.0</td>\n",
       "      <td>0.0</td>\n",
       "      <td>0.0</td>\n",
       "      <td>...</td>\n",
       "      <td>0.0</td>\n",
       "      <td>0.0</td>\n",
       "      <td>0.0</td>\n",
       "      <td>0.0</td>\n",
       "      <td>0.0</td>\n",
       "      <td>0.0</td>\n",
       "      <td>0.0</td>\n",
       "      <td>0.0</td>\n",
       "      <td>0.0</td>\n",
       "      <td>0.0</td>\n",
       "    </tr>\n",
       "    <tr>\n",
       "      <th>236</th>\n",
       "      <td>0.0</td>\n",
       "      <td>0.0</td>\n",
       "      <td>0.0</td>\n",
       "      <td>0.0</td>\n",
       "      <td>0.0</td>\n",
       "      <td>0.0</td>\n",
       "      <td>0.0</td>\n",
       "      <td>0.0</td>\n",
       "      <td>0.0</td>\n",
       "      <td>0.0</td>\n",
       "      <td>...</td>\n",
       "      <td>0.0</td>\n",
       "      <td>0.0</td>\n",
       "      <td>0.0</td>\n",
       "      <td>0.0</td>\n",
       "      <td>0.0</td>\n",
       "      <td>0.0</td>\n",
       "      <td>0.0</td>\n",
       "      <td>0.0</td>\n",
       "      <td>0.0</td>\n",
       "      <td>0.0</td>\n",
       "    </tr>\n",
       "    <tr>\n",
       "      <th>237</th>\n",
       "      <td>0.0</td>\n",
       "      <td>0.0</td>\n",
       "      <td>0.0</td>\n",
       "      <td>0.0</td>\n",
       "      <td>0.0</td>\n",
       "      <td>0.0</td>\n",
       "      <td>0.0</td>\n",
       "      <td>0.0</td>\n",
       "      <td>0.0</td>\n",
       "      <td>0.0</td>\n",
       "      <td>...</td>\n",
       "      <td>0.0</td>\n",
       "      <td>0.0</td>\n",
       "      <td>0.0</td>\n",
       "      <td>0.0</td>\n",
       "      <td>0.0</td>\n",
       "      <td>0.0</td>\n",
       "      <td>0.0</td>\n",
       "      <td>0.0</td>\n",
       "      <td>0.0</td>\n",
       "      <td>0.0</td>\n",
       "    </tr>\n",
       "    <tr>\n",
       "      <th>238</th>\n",
       "      <td>0.0</td>\n",
       "      <td>0.0</td>\n",
       "      <td>0.0</td>\n",
       "      <td>0.0</td>\n",
       "      <td>0.0</td>\n",
       "      <td>0.0</td>\n",
       "      <td>0.0</td>\n",
       "      <td>0.0</td>\n",
       "      <td>0.0</td>\n",
       "      <td>0.0</td>\n",
       "      <td>...</td>\n",
       "      <td>0.0</td>\n",
       "      <td>0.0</td>\n",
       "      <td>0.0</td>\n",
       "      <td>0.0</td>\n",
       "      <td>0.0</td>\n",
       "      <td>0.0</td>\n",
       "      <td>0.0</td>\n",
       "      <td>0.0</td>\n",
       "      <td>0.0</td>\n",
       "      <td>0.0</td>\n",
       "    </tr>\n",
       "    <tr>\n",
       "      <th>239</th>\n",
       "      <td>0.0</td>\n",
       "      <td>0.0</td>\n",
       "      <td>0.0</td>\n",
       "      <td>0.0</td>\n",
       "      <td>0.0</td>\n",
       "      <td>0.0</td>\n",
       "      <td>0.0</td>\n",
       "      <td>0.0</td>\n",
       "      <td>0.0</td>\n",
       "      <td>0.0</td>\n",
       "      <td>...</td>\n",
       "      <td>0.0</td>\n",
       "      <td>0.0</td>\n",
       "      <td>0.0</td>\n",
       "      <td>0.0</td>\n",
       "      <td>0.0</td>\n",
       "      <td>0.0</td>\n",
       "      <td>0.0</td>\n",
       "      <td>0.0</td>\n",
       "      <td>0.0</td>\n",
       "      <td>0.0</td>\n",
       "    </tr>\n",
       "  </tbody>\n",
       "</table>\n",
       "<p>240 rows × 1230 columns</p>\n",
       "</div>"
      ],
      "text/plain": [
       "     aah  abejas  abogados  abono  abraham  abrazamee  abrir  abuela  abuelas  \\\n",
       "0    0.0     0.0       0.0    0.0      0.0        0.0    0.0     0.0      0.0   \n",
       "1    0.0     0.0       0.0    0.0      0.0        0.0    0.0     0.0      0.0   \n",
       "2    0.0     0.0       0.0    0.0      0.0        0.0    0.0     0.0      0.0   \n",
       "3    0.0     0.0       0.0    0.0      0.0        0.0    0.0     0.0      0.0   \n",
       "4    0.0     0.0       0.0    0.0      0.0        0.0    0.0     0.0      0.0   \n",
       "..   ...     ...       ...    ...      ...        ...    ...     ...      ...   \n",
       "235  0.0     0.0       0.0    0.0      0.0        0.0    0.0     0.0      0.0   \n",
       "236  0.0     0.0       0.0    0.0      0.0        0.0    0.0     0.0      0.0   \n",
       "237  0.0     0.0       0.0    0.0      0.0        0.0    0.0     0.0      0.0   \n",
       "238  0.0     0.0       0.0    0.0      0.0        0.0    0.0     0.0      0.0   \n",
       "239  0.0     0.0       0.0    0.0      0.0        0.0    0.0     0.0      0.0   \n",
       "\n",
       "     aburrimiento  ...  workshowsperu   xd  xra  xvideos  yahoo  \\\n",
       "0             0.0  ...            0.0  0.0  0.0      0.0    0.0   \n",
       "1             0.0  ...            0.0  0.0  0.0      0.0    0.0   \n",
       "2             0.0  ...            0.0  0.0  0.0      0.0    0.0   \n",
       "3             0.0  ...            0.0  0.0  0.0      0.0    0.0   \n",
       "4             0.0  ...            0.0  0.0  0.0      0.0    0.0   \n",
       "..            ...  ...            ...  ...  ...      ...    ...   \n",
       "235           0.0  ...            0.0  0.0  0.0      0.0    0.0   \n",
       "236           0.0  ...            0.0  0.0  0.0      0.0    0.0   \n",
       "237           0.0  ...            0.0  0.0  0.0      0.0    0.0   \n",
       "238           0.0  ...            0.0  0.0  0.0      0.0    0.0   \n",
       "239           0.0  ...            0.0  0.0  0.0      0.0    0.0   \n",
       "\n",
       "     yotrasmanerasdeenamorarme  you  yoyanose  zavees  zoe  \n",
       "0                          0.0  0.0       0.0     0.0  0.0  \n",
       "1                          0.0  0.0       0.0     0.0  0.0  \n",
       "2                          0.0  0.0       0.0     0.0  0.0  \n",
       "3                          0.0  0.0       0.0     0.0  0.0  \n",
       "4                          0.0  0.0       0.0     0.0  0.0  \n",
       "..                         ...  ...       ...     ...  ...  \n",
       "235                        0.0  0.0       0.0     0.0  0.0  \n",
       "236                        0.0  0.0       0.0     0.0  0.0  \n",
       "237                        0.0  0.0       0.0     0.0  0.0  \n",
       "238                        0.0  0.0       0.0     0.0  0.0  \n",
       "239                        0.0  0.0       0.0     0.0  0.0  \n",
       "\n",
       "[240 rows x 1230 columns]"
      ]
     },
     "execution_count": 55,
     "metadata": {},
     "output_type": "execute_result"
    }
   ],
   "source": [
    "!wc -l data/haha_*.json\n",
    "!cat data/haha_train_ft_pre_min10.json > data/haha_all_ft_pre_min10.json\n",
    "!cat data/haha_test_ft_pre_min10.json >> data/haha_all_ft_pre_min10.json\n",
    "!wc -l data/haha_all_ft_pre_min10.json\n",
    "\n",
    "!rm -f *.pickle\n",
    "inv_idx = InvertedIdx(\"data/haha_all_ft_pre_min10.json\")\n",
    "inv_idx.process(showProgressEach=10000, stemm=False)\n",
    "inv_idx.compute_mtx()\n",
    "tfidf=pd.DataFrame(inv_idx.idx_mtx.todense(), index=inv_idx.corpus).T\n",
    "tfidf"
   ]
  },
  {
   "cell_type": "code",
   "execution_count": 71,
   "metadata": {},
   "outputs": [
    {
     "data": {
      "text/plain": [
       "((168, 1230), (72, 1230))"
      ]
     },
     "execution_count": 71,
     "metadata": {},
     "output_type": "execute_result"
    }
   ],
   "source": [
    "train2=np.ascontiguousarray(tfidf.head(168).to_numpy())\n",
    "test2=np.ascontiguousarray(tfidf.tail(72).to_numpy())\n",
    "train2.shape,test2.shape"
   ]
  },
  {
   "cell_type": "code",
   "execution_count": 70,
   "metadata": {},
   "outputs": [
    {
     "name": "stdout",
     "output_type": "stream",
     "text": [
      "===  NearestCentroid: {'distance': <function coseno at 0x7fda074dab00>, 'algorithm': <bound method NearestCentroid.Average of <skeleton.NearestCentroid object at 0x7fda30f39e90>>, 'kwargs_': {}}\n",
      "Accuracy\tMacro F1\tMacro Recall\tF1 is_humor=1\n",
      "0.555556\t0.552448\t0.553668\t0.515152\n"
     ]
    },
    {
     "data": {
      "image/png": "[encoded data removed]",
      "text/plain": [
       "<Figure size 360x360 with 1 Axes>"
      ]
     },
     "metadata": {},
     "output_type": "display_data"
    },
    {
     "name": "stdout",
     "output_type": "stream",
     "text": [
      "===  NearestCentroid: {'distance': <function euclidiana at 0x7fda0999f9e0>, 'algorithm': <bound method NearestCentroid.Average of <skeleton.NearestCentroid object at 0x7fda30f39990>>, 'kwargs_': {}}\n",
      "Accuracy\tMacro F1\tMacro Recall\tF1 is_humor=1\n",
      "0.527778\t0.456965\t0.518147\t0.260870\n"
     ]
    },
    {
     "data": {
      "image/png": "[encoded data removed]",
      "text/plain": [
       "<Figure size 360x360 with 1 Axes>"
      ]
     },
     "metadata": {},
     "output_type": "display_data"
    },
    {
     "name": "stdout",
     "output_type": "stream",
     "text": [
      "===  NearestCentroid: {'distance': <function coseno at 0x7fda074dab00>, 'algorithm': <bound method NearestCentroid.Sum of <skeleton.NearestCentroid object at 0x7fda31311290>>, 'kwargs_': {}}\n",
      "Accuracy\tMacro F1\tMacro Recall\tF1 is_humor=1\n",
      "0.555556\t0.552448\t0.553668\t0.515152\n"
     ]
    },
    {
     "data": {
      "image/png": "[encoded data removed]",
      "text/plain": [
       "<Figure size 360x360 with 1 Axes>"
      ]
     },
     "metadata": {},
     "output_type": "display_data"
    },
    {
     "name": "stdout",
     "output_type": "stream",
     "text": [
      "===  NearestCentroid: {'distance': <function euclidiana at 0x7fda0999f9e0>, 'algorithm': <bound method NearestCentroid.Sum of <skeleton.NearestCentroid object at 0x7fda28a17390>>, 'kwargs_': {}}\n",
      "Accuracy\tMacro F1\tMacro Recall\tF1 is_humor=1\n",
      "0.486111\t0.327103\t0.500000\t0.654206\n"
     ]
    },
    {
     "data": {
      "image/png": "[encoded data removed]",
      "text/plain": [
       "<Figure size 360x360 with 1 Axes>"
      ]
     },
     "metadata": {},
     "output_type": "display_data"
    },
    {
     "name": "stdout",
     "output_type": "stream",
     "text": [
      "===  NearestCentroid: {'distance': <function coseno at 0x7fda074dab00>, 'algorithm': <bound method NearestCentroid.Rocchio of <skeleton.NearestCentroid object at 0x7fda28be4950>>, 'kwargs_': {'beta': 16, 'gamma': 4}}\n",
      "Accuracy\tMacro F1\tMacro Recall\tF1 is_humor=1\n",
      "0.555556\t0.550000\t0.552896\t0.500000\n"
     ]
    },
    {
     "data": {
      "image/png": "[encoded data removed]",
      "text/plain": [
       "<Figure size 360x360 with 1 Axes>"
      ]
     },
     "metadata": {},
     "output_type": "display_data"
    },
    {
     "name": "stdout",
     "output_type": "stream",
     "text": [
      "===  NearestCentroid: {'distance': <function euclidiana at 0x7fda0999f9e0>, 'algorithm': <bound method NearestCentroid.Rocchio of <skeleton.NearestCentroid object at 0x7fda30f4db90>>, 'kwargs_': {'beta': 16, 'gamma': 4}}\n",
      "Accuracy\tMacro F1\tMacro Recall\tF1 is_humor=1\n",
      "0.513889\t0.339450\t0.500000\t0.000000\n"
     ]
    },
    {
     "data": {
      "image/png": "[encoded data removed]",
      "text/plain": [
       "<Figure size 360x360 with 1 Axes>"
      ]
     },
     "metadata": {},
     "output_type": "display_data"
    },
    {
     "name": "stdout",
     "output_type": "stream",
     "text": [
      "===  NearestCentroid: {'distance': <function coseno at 0x7fda074dab00>, 'algorithm': <bound method NearestCentroid.NormSum of <skeleton.NearestCentroid object at 0x7fda2b426610>>, 'kwargs_': {}}\n",
      "Accuracy\tMacro F1\tMacro Recall\tF1 is_humor=1\n",
      "0.555556\t0.552448\t0.553668\t0.515152\n"
     ]
    },
    {
     "data": {
      "image/png": "[encoded data removed]",
      "text/plain": [
       "<Figure size 360x360 with 1 Axes>"
      ]
     },
     "metadata": {},
     "output_type": "display_data"
    },
    {
     "name": "stdout",
     "output_type": "stream",
     "text": [
      "===  NearestCentroid: {'distance': <function euclidiana at 0x7fda0999f9e0>, 'algorithm': <bound method NearestCentroid.NormSum of <skeleton.NearestCentroid object at 0x7fda3106a710>>, 'kwargs_': {}}\n",
      "Accuracy\tMacro F1\tMacro Recall\tF1 is_humor=1\n",
      "0.486111\t0.485217\t0.487645\t0.506667\n"
     ]
    },
    {
     "data": {
      "image/png": "[encoded data removed]",
      "text/plain": [
       "<Figure size 360x360 with 1 Axes>"
      ]
     },
     "metadata": {},
     "output_type": "display_data"
    },
    {
     "name": "stdout",
     "output_type": "stream",
     "text": [
      "===  kNN: {'weight': <bound method kNN._mean_dist of <skeleton.kNN object at 0x7fda28a26650>>, 'distance': 'coseno', 'k': 5}\n"
     ]
    },
    {
     "ename": "AssertionError",
     "evalue": "",
     "output_type": "error",
     "traceback": [
      "\u001b[0;31m---------------------------------------------------------------------------\u001b[0m",
      "\u001b[0;31mAssertionError\u001b[0m                            Traceback (most recent call last)",
      "\u001b[0;32m<ipython-input-70-6a7eb811e397>\u001b[0m in \u001b[0;36m<module>\u001b[0;34m\u001b[0m\n\u001b[1;32m     18\u001b[0m \u001b[0;31m# P[\"KNN.euc.u\"]=testClassifier(kNN(distance='euclidiana',k=5,weight_type='uniform'),train2,y_train,test2,y_test)\u001b[0m\u001b[0;34m\u001b[0m\u001b[0;34m\u001b[0m\u001b[0;34m\u001b[0m\u001b[0m\n\u001b[1;32m     19\u001b[0m \u001b[0;34m\u001b[0m\u001b[0m\n\u001b[0;32m---> 20\u001b[0;31m \u001b[0mP\u001b[0m\u001b[0;34m[\u001b[0m\u001b[0;34m\"KNN.cos.m\"\u001b[0m\u001b[0;34m]\u001b[0m\u001b[0;34m=\u001b[0m\u001b[0mtestClassifier\u001b[0m\u001b[0;34m(\u001b[0m\u001b[0mkNN\u001b[0m\u001b[0;34m(\u001b[0m\u001b[0mdistance\u001b[0m\u001b[0;34m=\u001b[0m\u001b[0;34m'coseno'\u001b[0m\u001b[0;34m,\u001b[0m\u001b[0mk\u001b[0m\u001b[0;34m=\u001b[0m\u001b[0;36m5\u001b[0m\u001b[0;34m,\u001b[0m\u001b[0mweight_type\u001b[0m\u001b[0;34m=\u001b[0m\u001b[0;34m'mean_dist'\u001b[0m\u001b[0;34m)\u001b[0m\u001b[0;34m,\u001b[0m\u001b[0mtrain2\u001b[0m\u001b[0;34m,\u001b[0m\u001b[0my_train\u001b[0m\u001b[0;34m,\u001b[0m\u001b[0mtest2\u001b[0m\u001b[0;34m,\u001b[0m\u001b[0my_test\u001b[0m\u001b[0;34m)\u001b[0m\u001b[0;34m\u001b[0m\u001b[0;34m\u001b[0m\u001b[0m\n\u001b[0m\u001b[1;32m     21\u001b[0m \u001b[0mP\u001b[0m\u001b[0;34m[\u001b[0m\u001b[0;34m\"KNN.euc.m\"\u001b[0m\u001b[0;34m]\u001b[0m\u001b[0;34m=\u001b[0m\u001b[0mtestClassifier\u001b[0m\u001b[0;34m(\u001b[0m\u001b[0mkNN\u001b[0m\u001b[0;34m(\u001b[0m\u001b[0mdistance\u001b[0m\u001b[0;34m=\u001b[0m\u001b[0;34m'euclidiana'\u001b[0m\u001b[0;34m,\u001b[0m\u001b[0mk\u001b[0m\u001b[0;34m=\u001b[0m\u001b[0;36m5\u001b[0m\u001b[0;34m,\u001b[0m\u001b[0mweight_type\u001b[0m\u001b[0;34m=\u001b[0m\u001b[0;34m'mean_dist'\u001b[0m\u001b[0;34m)\u001b[0m\u001b[0;34m,\u001b[0m\u001b[0mtrain2\u001b[0m\u001b[0;34m,\u001b[0m\u001b[0my_train\u001b[0m\u001b[0;34m,\u001b[0m\u001b[0mtest2\u001b[0m\u001b[0;34m,\u001b[0m\u001b[0my_test\u001b[0m\u001b[0;34m)\u001b[0m\u001b[0;34m\u001b[0m\u001b[0;34m\u001b[0m\u001b[0m\n\u001b[1;32m     22\u001b[0m \u001b[0;34m\u001b[0m\u001b[0m\n",
      "\u001b[0;32m<ipython-input-4-a6c7b5d9be79>\u001b[0m in \u001b[0;36mtestClassifier\u001b[0;34m(clf, train, y_train, test, y_test)\u001b[0m\n\u001b[1;32m      2\u001b[0m     \u001b[0mprint\u001b[0m\u001b[0;34m(\u001b[0m\u001b[0;34m\"=== \"\u001b[0m\u001b[0;34m,\u001b[0m\u001b[0mclf\u001b[0m\u001b[0;34m.\u001b[0m\u001b[0m__class__\u001b[0m\u001b[0;34m.\u001b[0m\u001b[0m__name__\u001b[0m\u001b[0;34m,\u001b[0m\u001b[0mend\u001b[0m\u001b[0;34m=\u001b[0m\u001b[0;34m''\u001b[0m\u001b[0;34m)\u001b[0m\u001b[0;34m\u001b[0m\u001b[0;34m\u001b[0m\u001b[0m\n\u001b[1;32m      3\u001b[0m     \u001b[0mprint\u001b[0m\u001b[0;34m(\u001b[0m\u001b[0;34m\":\"\u001b[0m\u001b[0;34m,\u001b[0m\u001b[0mvars\u001b[0m\u001b[0;34m(\u001b[0m\u001b[0mclf\u001b[0m\u001b[0;34m)\u001b[0m\u001b[0;34m)\u001b[0m\u001b[0;34m\u001b[0m\u001b[0;34m\u001b[0m\u001b[0m\n\u001b[0;32m----> 4\u001b[0;31m     \u001b[0mclf\u001b[0m\u001b[0;34m=\u001b[0m\u001b[0mclf\u001b[0m\u001b[0;34m.\u001b[0m\u001b[0mfit\u001b[0m\u001b[0;34m(\u001b[0m\u001b[0mtrain\u001b[0m\u001b[0;34m,\u001b[0m\u001b[0my_train\u001b[0m\u001b[0;34m)\u001b[0m\u001b[0;34m\u001b[0m\u001b[0;34m\u001b[0m\u001b[0m\n\u001b[0m\u001b[1;32m      5\u001b[0m     \u001b[0;31m#Predecimos las etiqueta del conjunto de prueba\u001b[0m\u001b[0;34m\u001b[0m\u001b[0;34m\u001b[0m\u001b[0;34m\u001b[0m\u001b[0m\n\u001b[1;32m      6\u001b[0m     \u001b[0myp\u001b[0m\u001b[0;34m=\u001b[0m\u001b[0mclf\u001b[0m\u001b[0;34m.\u001b[0m\u001b[0mpredict\u001b[0m\u001b[0;34m(\u001b[0m\u001b[0mtest\u001b[0m\u001b[0;34m)\u001b[0m\u001b[0;34m\u001b[0m\u001b[0;34m\u001b[0m\u001b[0m\n",
      "\u001b[0;32m~/B5_Clasificacion/skeleton.py\u001b[0m in \u001b[0;36mfit\u001b[0;34m(self, data, labels)\u001b[0m\n\u001b[1;32m    268\u001b[0m         \u001b[0;32melse\u001b[0m\u001b[0;34m:\u001b[0m\u001b[0;34m\u001b[0m\u001b[0;34m\u001b[0m\u001b[0m\n\u001b[1;32m    269\u001b[0m             \u001b[0mself\u001b[0m\u001b[0;34m.\u001b[0m\u001b[0mindex\u001b[0m\u001b[0;34m=\u001b[0m \u001b[0mfaiss\u001b[0m\u001b[0;34m.\u001b[0m\u001b[0mIndexFlatL2\u001b[0m\u001b[0;34m(\u001b[0m\u001b[0md\u001b[0m\u001b[0;34m)\u001b[0m \u001b[0;31m# indice que utiliza L2\u001b[0m\u001b[0;34m\u001b[0m\u001b[0;34m\u001b[0m\u001b[0m\n\u001b[0;32m--> 270\u001b[0;31m         \u001b[0mself\u001b[0m\u001b[0;34m.\u001b[0m\u001b[0mindex\u001b[0m\u001b[0;34m.\u001b[0m\u001b[0madd\u001b[0m\u001b[0;34m(\u001b[0m\u001b[0mself\u001b[0m\u001b[0;34m.\u001b[0m\u001b[0mdata\u001b[0m\u001b[0;34m)\u001b[0m\u001b[0;34m\u001b[0m\u001b[0;34m\u001b[0m\u001b[0m\n\u001b[0m\u001b[1;32m    271\u001b[0m         \u001b[0;32mreturn\u001b[0m \u001b[0mself\u001b[0m\u001b[0;34m\u001b[0m\u001b[0;34m\u001b[0m\u001b[0m\n\u001b[1;32m    272\u001b[0m \u001b[0;34m\u001b[0m\u001b[0m\n",
      "\u001b[0;32m/srv/conda/envs/notebook/lib/python3.7/site-packages/faiss/__init__.py\u001b[0m in \u001b[0;36mreplacement_add\u001b[0;34m(self, x)\u001b[0m\n\u001b[1;32m    133\u001b[0m \u001b[0;34m\u001b[0m\u001b[0m\n\u001b[1;32m    134\u001b[0m     \u001b[0;32mdef\u001b[0m \u001b[0mreplacement_add\u001b[0m\u001b[0;34m(\u001b[0m\u001b[0mself\u001b[0m\u001b[0;34m,\u001b[0m \u001b[0mx\u001b[0m\u001b[0;34m)\u001b[0m\u001b[0;34m:\u001b[0m\u001b[0;34m\u001b[0m\u001b[0;34m\u001b[0m\u001b[0m\n\u001b[0;32m--> 135\u001b[0;31m         \u001b[0;32massert\u001b[0m \u001b[0mx\u001b[0m\u001b[0;34m.\u001b[0m\u001b[0mflags\u001b[0m\u001b[0;34m.\u001b[0m\u001b[0mcontiguous\u001b[0m\u001b[0;34m\u001b[0m\u001b[0;34m\u001b[0m\u001b[0m\n\u001b[0m\u001b[1;32m    136\u001b[0m         \u001b[0mn\u001b[0m\u001b[0;34m,\u001b[0m \u001b[0md\u001b[0m \u001b[0;34m=\u001b[0m \u001b[0mx\u001b[0m\u001b[0;34m.\u001b[0m\u001b[0mshape\u001b[0m\u001b[0;34m\u001b[0m\u001b[0;34m\u001b[0m\u001b[0m\n\u001b[1;32m    137\u001b[0m         \u001b[0;32massert\u001b[0m \u001b[0md\u001b[0m \u001b[0;34m==\u001b[0m \u001b[0mself\u001b[0m\u001b[0;34m.\u001b[0m\u001b[0md\u001b[0m\u001b[0;34m\u001b[0m\u001b[0;34m\u001b[0m\u001b[0m\n",
      "\u001b[0;31mAssertionError\u001b[0m: "
     ]
    }
   ],
   "source": [
    "P={\"FastText\":{\"Accuracy\":0.809050,\"Macro F1\":0.793270,\"Macro Recall\":0.786900,\"F1 is_humor=1\":0.736140}} #Performance\n",
    "\n",
    "# \n",
    "# P[\"NC.cos.avg\"]=testClassifier(NearestCentroid(distance='coseno',centroid_type='Average'),train2,y_train,test2,y_test)\n",
    "# P[\"NC.euc.avg\"]=testClassifier(NearestCentroid(distance='euclidiana',centroid_type='Average'),train2,y_train,test2,y_test)\n",
    "\n",
    "# P[\"NC.cos.sum\"]=testClassifier(NearestCentroid(distance='coseno',centroid_type='Sum'),train2,y_train,test2,y_test)\n",
    "# P[\"NC.euc.sum\"]=testClassifier(NearestCentroid(distance='euclidiana',centroid_type='Sum'),train2,y_train,test2,y_test)\n",
    "\n",
    "# P[\"NC.cos.rocchio\"]=testClassifier(NearestCentroid(distance='coseno',centroid_type='Rocchio',beta=16,gamma=4),train2,y_train,test2,y_test)\n",
    "# P[\"NC.euc.rocchio\"]=testClassifier(NearestCentroid(distance='euclidiana',centroid_type='Rocchio',beta=16,gamma=4),train2,y_train,test2,y_test)\n",
    "\n",
    "# P[\"NC.cos.nsum\"]=testClassifier(NearestCentroid(distance='coseno',centroid_type='NormSum'),train2,y_train,test2,y_test)\n",
    "# P[\"NC.euc.nsum\"]=testClassifier(NearestCentroid(distance='euclidiana',centroid_type='NormSum'),train2,y_train,test2,y_test)\n",
    "\n",
    "\n",
    "P[\"KNN.cos.u\"]=testClassifier(kNN(distance='coseno',k=5,weight_type='uniform'),train2,y_train,test2,y_test)\n",
    "P[\"KNN.euc.u\"]=testClassifier(kNN(distance='euclidiana',k=5,weight_type='uniform'),train2,y_train,test2,y_test)\n",
    "\n",
    "P[\"KNN.cos.m\"]=testClassifier(kNN(distance='coseno',k=5,weight_type='mean_dist'),train2,y_train,test2,y_test)\n",
    "P[\"KNN.euc.m\"]=testClassifier(kNN(distance='euclidiana',k=5,weight_type='mean_dist'),train2,y_train,test2,y_test)\n",
    "\n",
    "P[\"KNN.cos.w\"]=testClassifier(kNN(distance='coseno',k=5,weight_type='weighed_dist'),train2,y_train,test2,y_test)\n",
    "P[\"KNN.euc.w\"]=testClassifier(kNN(distance='euclidiana',k=5,weight_type='weighed_dist'),train2,y_train,test2,y_test)"
   ]
  },
  {
   "cell_type": "code",
   "execution_count": 64,
   "metadata": {},
   "outputs": [
    {
     "data": {
      "text/plain": [
       "numpy.ndarray"
      ]
     },
     "execution_count": 64,
     "metadata": {},
     "output_type": "execute_result"
    },
    {
     "data": {
      "text/plain": [
       "(168, 300)"
      ]
     },
     "execution_count": 64,
     "metadata": {},
     "output_type": "execute_result"
    },
    {
     "data": {
      "text/plain": [
       "array([-6.6920e-02,  1.3184e-01, -3.0723e-03, -3.7619e-02,  9.8128e-03,\n",
       "       -7.1614e-02,  1.9549e-02, -4.9435e-02, -1.4313e-02,  5.1207e-02,\n",
       "       -1.5278e-02,  7.6940e-03,  8.0972e-03,  5.9963e-02,  1.0634e-01,\n",
       "        7.7571e-03, -8.7919e-02, -6.7308e-02,  5.8746e-02, -5.9516e-03,\n",
       "        5.5359e-02, -2.1359e-02,  7.2556e-02,  9.5844e-02, -2.0153e-02,\n",
       "        1.7000e-02, -3.6819e-03,  1.4185e-02, -1.2132e-02,  3.2438e-02,\n",
       "        1.2657e-01, -8.3664e-02,  6.3546e-02,  1.7152e-01, -6.7754e-02,\n",
       "       -1.7392e-02,  1.1579e-01, -3.7867e-02,  1.5911e-02,  4.0765e-02,\n",
       "        1.1062e-02, -4.0016e-03, -7.5795e-02,  3.3561e-02, -3.2185e-02,\n",
       "        4.5748e-02, -3.2578e-02, -6.9581e-02,  4.7123e-02,  1.6005e-02,\n",
       "        1.9474e-02,  4.0140e-02, -3.0537e-02,  3.0665e-02,  5.2103e-02,\n",
       "       -4.8725e-03,  3.5210e-02,  1.2155e-01, -8.9828e-02, -6.5213e-02,\n",
       "        1.9277e-02, -2.5748e-02, -5.1655e-02, -3.3327e-03, -6.1101e-02,\n",
       "        1.4172e-01,  4.6451e-02, -2.9807e-02, -1.1082e-02, -5.9165e-02,\n",
       "        3.6257e-02, -6.2180e-03, -2.2036e-03, -5.0325e-02,  2.0642e-02,\n",
       "        7.4723e-02,  2.1507e-02,  2.8229e-02, -2.9518e-03,  7.6507e-03,\n",
       "       -3.8298e-03, -1.0682e-01, -2.7456e-02, -4.5986e-02, -4.8886e-02,\n",
       "       -8.3895e-03,  3.7493e-02,  8.8062e-02, -1.2905e-01, -4.3467e-02,\n",
       "        2.1597e-02, -5.1054e-02,  4.6199e-02, -7.1200e-02, -7.4612e-02,\n",
       "        2.6043e-02,  3.4081e-02, -1.6386e-02, -5.4303e-02, -4.9572e-02,\n",
       "        6.2282e-02, -3.7773e-02,  8.5801e-02, -3.5545e-02, -3.3262e-02,\n",
       "        8.9494e-03, -8.4913e-02,  6.5415e-02,  6.1277e-03,  9.0567e-03,\n",
       "       -9.4383e-02,  1.5546e-02,  2.7802e-02,  2.4403e-02,  7.5006e-02,\n",
       "       -5.9450e-02,  4.7596e-03, -9.4776e-02,  8.8145e-02,  1.7112e-02,\n",
       "       -3.6738e-02, -6.1596e-02, -6.2716e-02, -1.7773e-02,  1.2560e-01,\n",
       "        4.3261e-02,  4.8678e-02, -5.1804e-02, -1.8885e-02,  2.9352e-02,\n",
       "        2.2991e-02,  8.0100e-02, -5.4666e-02, -1.0015e-01,  6.8649e-02,\n",
       "       -7.7112e-03,  2.6726e-02,  1.4976e-02, -6.1451e-03, -2.4087e-02,\n",
       "        6.7294e-03,  2.0620e-02, -1.3486e-01, -5.5054e-03, -3.6821e-02,\n",
       "       -5.7592e-02,  4.4470e-02,  6.4478e-02, -1.0601e-01, -5.6735e-02,\n",
       "       -1.2381e-01, -3.1062e-02, -8.7421e-02,  3.6049e-03,  7.0840e-02,\n",
       "        3.4527e-03,  4.3553e-02, -3.1610e-02, -5.1367e-02, -8.4682e-02,\n",
       "        9.9033e-03, -3.6646e-02, -4.2667e-02, -2.5725e-02, -1.8279e-01,\n",
       "        1.1134e-01,  7.4370e-02,  5.0572e-02,  3.7478e-02, -8.8723e-02,\n",
       "       -5.0909e-02, -7.3368e-03,  5.7949e-02,  9.4148e-02,  9.3475e-02,\n",
       "        1.7076e-01,  9.8877e-02, -2.9202e-02,  4.2978e-04, -3.3203e-02,\n",
       "       -7.7761e-03,  6.1193e-02, -2.0393e-02,  4.0055e-02,  8.4551e-02,\n",
       "        4.0779e-02, -5.3878e-02, -5.3514e-02,  3.8148e-02,  9.7330e-02,\n",
       "        1.9801e-03, -3.1157e-02, -7.4695e-02,  1.7069e-02,  1.8439e-03,\n",
       "        3.3519e-02, -1.3275e-02,  6.7721e-02,  6.2925e-02, -8.1834e-02,\n",
       "        1.9736e-02, -9.4354e-02, -1.2397e-01,  4.5041e-02, -1.0521e-01,\n",
       "        3.7346e-02, -4.2968e-02, -8.8987e-02,  5.0017e-02, -2.4525e-02,\n",
       "       -1.2225e-01, -6.0513e-02, -1.1155e-04, -1.5696e-02,  6.1425e-03,\n",
       "        5.5311e-02,  6.8026e-02,  5.7499e-02, -3.8475e-02, -3.3517e-02,\n",
       "        2.5979e-02,  4.9881e-02, -9.5013e-03,  7.2162e-02, -9.3902e-02,\n",
       "       -1.0517e-01,  7.8062e-02,  4.8869e-02,  1.7644e-02,  7.4379e-04,\n",
       "       -1.3145e-01,  9.3876e-03, -7.4708e-02,  5.1744e-03, -4.0085e-02,\n",
       "        3.7368e-02, -9.3321e-02, -9.9993e-02,  1.3418e-01,  8.4520e-02,\n",
       "       -3.5916e-02,  1.0206e-01, -2.5248e-02,  8.9317e-02, -5.9453e-02,\n",
       "       -3.0770e-03, -1.4245e-01,  4.0808e-02, -2.1002e-02, -1.3616e-01,\n",
       "        6.8788e-02,  2.8274e-02,  4.8259e-02, -2.0594e-02,  3.3906e-02,\n",
       "        3.2467e-02, -5.5916e-02,  1.8391e-02, -6.7232e-02, -7.5446e-04,\n",
       "       -2.5737e-02, -2.1368e-02, -4.7255e-02,  3.8484e-02,  5.9533e-02,\n",
       "       -5.9696e-02,  3.1883e-02, -8.9648e-02,  5.0907e-02,  9.3636e-02,\n",
       "        4.6319e-02,  3.2638e-02,  7.0450e-03, -1.1082e-01,  1.3037e-01,\n",
       "        1.9537e-02, -6.6924e-02, -1.1952e-02,  1.9021e-02,  2.7019e-02,\n",
       "        1.0802e-01,  3.4736e-03, -2.4991e-02, -7.2370e-02,  3.5189e-02,\n",
       "       -8.8821e-03,  2.8342e-03, -5.0655e-02,  1.1564e-02,  5.7064e-03,\n",
       "       -4.0733e-02,  2.3933e-02,  5.6327e-02,  2.6666e-02,  1.2517e-01,\n",
       "       -1.6833e-02,  3.2984e-02,  1.4945e-02, -9.7091e-03,  2.8930e-02])"
      ]
     },
     "execution_count": 64,
     "metadata": {},
     "output_type": "execute_result"
    }
   ],
   "source": [
    "type(train)\n",
    "train.shape\n",
    "train[0]"
   ]
  },
  {
   "cell_type": "code",
   "execution_count": 67,
   "metadata": {},
   "outputs": [
    {
     "data": {
      "text/plain": [
       "numpy.ndarray"
      ]
     },
     "execution_count": 67,
     "metadata": {},
     "output_type": "execute_result"
    },
    {
     "data": {
      "text/plain": [
       "(168, 1230)"
      ]
     },
     "execution_count": 67,
     "metadata": {},
     "output_type": "execute_result"
    },
    {
     "data": {
      "text/plain": [
       "array([0., 0., 0., ..., 0., 0., 0.])"
      ]
     },
     "execution_count": 67,
     "metadata": {},
     "output_type": "execute_result"
    }
   ],
   "source": [
    "type(train2)\n",
    "train2.shape\n",
    "train2[0]"
   ]
  },
  {
   "cell_type": "code",
   "execution_count": null,
   "metadata": {},
   "outputs": [],
   "source": []
  }
 ],
 "metadata": {
  "anaconda-cloud": {},
  "kernelspec": {
   "display_name": "Python 3",
   "language": "python",
   "name": "python3"
  },
  "language_info": {
   "codemirror_mode": {
    "name": "ipython",
    "version": 3
   },
   "file_extension": ".py",
   "mimetype": "text/x-python",
   "name": "python",
   "nbconvert_exporter": "python",
   "pygments_lexer": "ipython3",
   "version": "3.7.6"
  }
 },
 "nbformat": 4,
 "nbformat_minor": 1
}
