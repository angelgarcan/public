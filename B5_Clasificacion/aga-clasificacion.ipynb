{
 "cells": [
  {
   "cell_type": "code",
   "execution_count": 1,
   "metadata": {},
   "outputs": [],
   "source": [
    "# Multiple outputs per cell in Jupyter \n",
    "from IPython.core.interactiveshell import InteractiveShell\n",
    "InteractiveShell.ast_node_interactivity = \"all\""
   ]
  },
  {
   "cell_type": "code",
   "execution_count": 2,
   "metadata": {},
   "outputs": [],
   "source": [
    "# %%javascript\n",
    "# // Evitar autoscroll.\n",
    "# IPython.OutputArea.prototype._should_scroll = function(lines) {\n",
    "#     return false;\n",
    "# }"
   ]
  },
  {
   "cell_type": "code",
   "execution_count": 3,
   "metadata": {},
   "outputs": [],
   "source": [
    "%matplotlib inline\n",
    "import matplotlib.pyplot as plt\n",
    "import numpy as np\n",
    "import pandas as pd\n",
    "%load_ext autoreload\n",
    "%autoreload 2\n",
    "from skeleton import *\n",
    "from sklearn.metrics import (recall_score, f1_score,\n",
    "                             precision_score, accuracy_score)"
   ]
  },
  {
   "cell_type": "code",
   "execution_count": 4,
   "metadata": {},
   "outputs": [],
   "source": [
    "def testClassifier(clf,train,y_train,test,y_test):\n",
    "    print(\"=== \",clf.__class__.__name__,end='')\n",
    "    print(\":\",vars(clf))\n",
    "    clf=clf.fit(train,y_train)\n",
    "    #Predecimos las etiqueta del conjunto de prueba\n",
    "    yp=clf.predict(test)\n",
    "    # Medidas de bondad\n",
    "    scores={}\n",
    "\n",
    "    scores['Accuracy']=accuracy_score(y_test,yp)\n",
    "    scores['Macro F1']=f1_score(y_test,yp,average='macro')\n",
    "    scores['Macro Recall']=recall_score(y_test,yp,average='macro')\n",
    "    scores['F1 is_humor=1']=f1_score(y_test,yp)\n",
    "    \n",
    "    print(\"Accuracy\",\"Macro F1\",\"Macro Recall\",\"F1 is_humor=1\",sep='\\t')\n",
    "    print(\"{:.6f}\\t{:.6f}\\t{:.6f}\\t{:.6f}\".format(\n",
    "        scores['Accuracy'],scores['Macro F1'],scores['Macro Recall'],scores['F1 is_humor=1']))\n",
    "                            \n",
    "#     print(\"Recall: \", scores['recall'])\n",
    "#     print(\"F1: \", scores['f1'])\n",
    "#     print(\"Accuracy: \", scores['accuracy'])\n",
    "#     print(\"F1 Humor: \", scores['f1_humor'])\n",
    "    #Vemos la frontera de decisión\n",
    "    plotDecisionBoundary(clf,train, y_train)\n",
    "    return scores"
   ]
  },
  {
   "cell_type": "markdown",
   "metadata": {},
   "source": [
    "## Un problema de texto  (Identificación de humor HAHA -2019)"
   ]
  },
  {
   "cell_type": "markdown",
   "metadata": {},
   "source": [
    "Para este ejemplo utilizaremos los datos proporcionados para la tarea 1 del HAHA - Humor Analysis based on Human Annotation, la cual consiste determinar si tweets en español son humorísticos o no (un problema de clasificación binaria). Esta tarea forma parte del Iberian Languages Evaluation Forum (IberLEF 2019)."
   ]
  },
  {
   "cell_type": "markdown",
   "metadata": {},
   "source": [
    "### Corpus \n",
    "\n",
    "El conjunto de datos fue etiquetado como se indica [5]. Todos los tweets están etiquetados como humorístico **is_humor=1**  o no humorístico **is_humor=0**. Los datos relevantes para el problema se clasificación ser muestran en el siguiente ejemplo:\n",
    "\n",
    "|Desscripción|Clave|Valor|\n",
    "|:------:|:------:|:-----:|\n",
    "|Tweet |text|Después de la tormenta sale... Tu mamá gritando porque no metiste la ropa.|\n",
    "|Etiqueta de clase|is_humor|1|\n",
    "|Representación vectorial|vec| Vectores de dimensión 300 (FastText preentrenados para español) |\n",
    "|Identificador|id|942079817905770496|\n",
    "\n"
   ]
  },
  {
   "cell_type": "code",
   "execution_count": 59,
   "metadata": {},
   "outputs": [],
   "source": [
    "# Cargamos lod datos.\n",
    "train_data=pd.read_json('data/haha_train_ft_pre_min10.json',lines=True)"
   ]
  },
  {
   "cell_type": "code",
   "execution_count": 60,
   "metadata": {},
   "outputs": [
    {
     "data": {
      "text/html": [
       "<div>\n",
       "<style scoped>\n",
       "    .dataframe tbody tr th:only-of-type {\n",
       "        vertical-align: middle;\n",
       "    }\n",
       "\n",
       "    .dataframe tbody tr th {\n",
       "        vertical-align: top;\n",
       "    }\n",
       "\n",
       "    .dataframe thead th {\n",
       "        text-align: right;\n",
       "    }\n",
       "</style>\n",
       "<table border=\"1\" class=\"dataframe\">\n",
       "  <thead>\n",
       "    <tr style=\"text-align: right;\">\n",
       "      <th></th>\n",
       "      <th>id</th>\n",
       "      <th>text</th>\n",
       "      <th>is_humor</th>\n",
       "      <th>vec</th>\n",
       "    </tr>\n",
       "  </thead>\n",
       "  <tbody>\n",
       "    <tr>\n",
       "      <th>0</th>\n",
       "      <td>965767017268678658</td>\n",
       "      <td>Amo a @CamilaTuDiosaxD</td>\n",
       "      <td>0</td>\n",
       "      <td>[-0.06692000000000001, 0.13184, -0.0030723, -0...</td>\n",
       "    </tr>\n",
       "    <tr>\n",
       "      <th>1</th>\n",
       "      <td>965811724392726528</td>\n",
       "      <td>@NamiNapoleon hola como estan me pueden seguir</td>\n",
       "      <td>0</td>\n",
       "      <td>[-0.06776, -0.24253000000000002, -0.0065559999...</td>\n",
       "    </tr>\n",
       "    <tr>\n",
       "      <th>2</th>\n",
       "      <td>964984559547777024</td>\n",
       "      <td>Típico : Estar viajando en taxi y pensar tácti...</td>\n",
       "      <td>1</td>\n",
       "      <td>[-0.044634, -0.049435, -0.053049, -0.026851, 0...</td>\n",
       "    </tr>\n",
       "    <tr>\n",
       "      <th>3</th>\n",
       "      <td>941669646364762113</td>\n",
       "      <td>Me gusta todo de ti.. te amo espejo.</td>\n",
       "      <td>1</td>\n",
       "      <td>[-0.022054999999999998, -0.064284, -0.052083, ...</td>\n",
       "    </tr>\n",
       "    <tr>\n",
       "      <th>4</th>\n",
       "      <td>1009142890415652866</td>\n",
       "      <td>\" Egipto siempre acaba afuera \"\\r\\n\\r\\nCleopatra</td>\n",
       "      <td>1</td>\n",
       "      <td>[0.066164, -0.082201, -0.022706, -0.047533, 0....</td>\n",
       "    </tr>\n",
       "  </tbody>\n",
       "</table>\n",
       "</div>"
      ],
      "text/plain": [
       "                    id                                               text  \\\n",
       "0   965767017268678658                             Amo a @CamilaTuDiosaxD   \n",
       "1   965811724392726528     @NamiNapoleon hola como estan me pueden seguir   \n",
       "2   964984559547777024  Típico : Estar viajando en taxi y pensar tácti...   \n",
       "3   941669646364762113               Me gusta todo de ti.. te amo espejo.   \n",
       "4  1009142890415652866   \" Egipto siempre acaba afuera \"\\r\\n\\r\\nCleopatra   \n",
       "\n",
       "   is_humor                                                vec  \n",
       "0         0  [-0.06692000000000001, 0.13184, -0.0030723, -0...  \n",
       "1         0  [-0.06776, -0.24253000000000002, -0.0065559999...  \n",
       "2         1  [-0.044634, -0.049435, -0.053049, -0.026851, 0...  \n",
       "3         1  [-0.022054999999999998, -0.064284, -0.052083, ...  \n",
       "4         1  [0.066164, -0.082201, -0.022706, -0.047533, 0....  "
      ]
     },
     "execution_count": 60,
     "metadata": {},
     "output_type": "execute_result"
    }
   ],
   "source": [
    "#Vemos los primeros 5\n",
    "train_data.head()[['id','text','is_humor','vec']]"
   ]
  },
  {
   "cell_type": "code",
   "execution_count": 61,
   "metadata": {},
   "outputs": [
    {
     "data": {
      "text/plain": [
       "300"
      ]
     },
     "execution_count": 61,
     "metadata": {},
     "output_type": "execute_result"
    }
   ],
   "source": [
    "#Dimensión de los vectores\n",
    "len(train_data.vec[3])"
   ]
  },
  {
   "cell_type": "code",
   "execution_count": 62,
   "metadata": {},
   "outputs": [],
   "source": [
    "# Los datos de prueba\n",
    "test_data=pd.read_json('data/haha_test_ft_pre_min10.json',lines=True)"
   ]
  },
  {
   "cell_type": "code",
   "execution_count": 63,
   "metadata": {},
   "outputs": [],
   "source": [
    "#Obtenemos la representación vectorial para los conjunto de prueba y entrenamiento\n",
    "train,y_train=np.array([np.array(x) for x in train_data.vec]),np.array(train_data.is_humor)\n",
    "test,y_test=np.array([np.array(x) for x in test_data.vec]),np.array(test_data.is_humor)"
   ]
  },
  {
   "cell_type": "code",
   "execution_count": 24,
   "metadata": {},
   "outputs": [
    {
     "name": "stdout",
     "output_type": "stream",
     "text": [
      "===  NearestCentroid: {'distance': <function coseno at 0x7fda074dab00>, 'algorithm': <bound method NearestCentroid.Average of <skeleton.NearestCentroid object at 0x7fda30f91e10>>, 'kwargs_': {}}\n",
      "Accuracy\tMacro F1\tMacro Recall\tF1 is_humor=1\n",
      "0.708333\t0.706920\t0.710811\t0.727273\n"
     ]
    },
    {
     "data": {
      "image/png": "[encoded data removed]",
      "text/plain": [
       "<Figure size 360x360 with 1 Axes>"
      ]
     },
     "metadata": {},
     "output_type": "display_data"
    },
    {
     "name": "stdout",
     "output_type": "stream",
     "text": [
      "===  NearestCentroid: {'distance': <function euclidiana at 0x7fda0999f9e0>, 'algorithm': <bound method NearestCentroid.Average of <skeleton.NearestCentroid object at 0x7fda3107da90>>, 'kwargs_': {}}\n",
      "Accuracy\tMacro F1\tMacro Recall\tF1 is_humor=1\n",
      "0.708333\t0.705550\t0.711583\t0.734177\n"
     ]
    },
    {
     "data": {
      "image/png": "[encoded data removed]",
      "text/plain": [
       "<Figure size 360x360 with 1 Axes>"
      ]
     },
     "metadata": {},
     "output_type": "display_data"
    },
    {
     "name": "stdout",
     "output_type": "stream",
     "text": [
      "===  NearestCentroid: {'distance': <function coseno at 0x7fda074dab00>, 'algorithm': <bound method NearestCentroid.Sum of <skeleton.NearestCentroid object at 0x7fda31037d10>>, 'kwargs_': {}}\n",
      "Accuracy\tMacro F1\tMacro Recall\tF1 is_humor=1\n",
      "0.708333\t0.706920\t0.710811\t0.727273\n"
     ]
    },
    {
     "data": {
      "image/png": "[encoded data removed]",
      "text/plain": [
       "<Figure size 360x360 with 1 Axes>"
      ]
     },
     "metadata": {},
     "output_type": "display_data"
    },
    {
     "name": "stdout",
     "output_type": "stream",
     "text": [
      "===  NearestCentroid: {'distance': <function euclidiana at 0x7fda0999f9e0>, 'algorithm': <bound method NearestCentroid.Sum of <skeleton.NearestCentroid object at 0x7fda30fa39d0>>, 'kwargs_': {}}\n",
      "Accuracy\tMacro F1\tMacro Recall\tF1 is_humor=1\n",
      "0.486111\t0.327103\t0.500000\t0.654206\n"
     ]
    },
    {
     "data": {
      "image/png": "[encoded data removed]",
      "text/plain": [
       "<Figure size 360x360 with 1 Axes>"
      ]
     },
     "metadata": {},
     "output_type": "display_data"
    },
    {
     "name": "stdout",
     "output_type": "stream",
     "text": [
      "===  NearestCentroid: {'distance': <function coseno at 0x7fda074dab00>, 'algorithm': <bound method NearestCentroid.Rocchio of <skeleton.NearestCentroid object at 0x7fda30ea9f50>>, 'kwargs_': {'beta': 16, 'gamma': 4}}\n",
      "Accuracy\tMacro F1\tMacro Recall\tF1 is_humor=1\n",
      "0.722222\t0.721362\t0.724324\t0.736842\n"
     ]
    },
    {
     "data": {
      "image/png": "[encoded data removed]",
      "text/plain": [
       "<Figure size 360x360 with 1 Axes>"
      ]
     },
     "metadata": {},
     "output_type": "display_data"
    },
    {
     "name": "stdout",
     "output_type": "stream",
     "text": [
      "===  NearestCentroid: {'distance': <function euclidiana at 0x7fda0999f9e0>, 'algorithm': <bound method NearestCentroid.Rocchio of <skeleton.NearestCentroid object at 0x7fda3105b410>>, 'kwargs_': {'beta': 16, 'gamma': 4}}\n",
      "Accuracy\tMacro F1\tMacro Recall\tF1 is_humor=1\n",
      "0.513889\t0.339450\t0.500000\t0.000000\n"
     ]
    },
    {
     "data": {
      "image/png": "[encoded data removed]",
      "text/plain": [
       "<Figure size 360x360 with 1 Axes>"
      ]
     },
     "metadata": {},
     "output_type": "display_data"
    },
    {
     "name": "stdout",
     "output_type": "stream",
     "text": [
      "===  NearestCentroid: {'distance': <function coseno at 0x7fda074dab00>, 'algorithm': <bound method NearestCentroid.NormSum of <skeleton.NearestCentroid object at 0x7fda3103d1d0>>, 'kwargs_': {}}\n",
      "Accuracy\tMacro F1\tMacro Recall\tF1 is_humor=1\n",
      "0.708333\t0.706920\t0.710811\t0.727273\n"
     ]
    },
    {
     "data": {
      "image/png": "[encoded data removed]",
      "text/plain": [
       "<Figure size 360x360 with 1 Axes>"
      ]
     },
     "metadata": {},
     "output_type": "display_data"
    },
    {
     "name": "stdout",
     "output_type": "stream",
     "text": [
      "===  NearestCentroid: {'distance': <function euclidiana at 0x7fda0999f9e0>, 'algorithm': <bound method NearestCentroid.NormSum of <skeleton.NearestCentroid object at 0x7fda30e71510>>, 'kwargs_': {}}\n",
      "Accuracy\tMacro F1\tMacro Recall\tF1 is_humor=1\n",
      "0.708333\t0.706920\t0.710811\t0.727273\n"
     ]
    },
    {
     "data": {
      "image/png": "[encoded data removed]",
      "text/plain": [
       "<Figure size 360x360 with 1 Axes>"
      ]
     },
     "metadata": {},
     "output_type": "display_data"
    },
    {
     "name": "stdout",
     "output_type": "stream",
     "text": [
      "===  kNN: {'weight': <bound method kNN._uniform of <skeleton.kNN object at 0x7fda30f12b90>>, 'distance': 'coseno', 'k': 5}\n",
      "Accuracy\tMacro F1\tMacro Recall\tF1 is_humor=1\n",
      "0.680556\t0.675485\t0.677606\t0.634921\n"
     ]
    },
    {
     "data": {
      "image/png": "[encoded data removed]",
      "text/plain": [
       "<Figure size 360x360 with 1 Axes>"
      ]
     },
     "metadata": {},
     "output_type": "display_data"
    },
    {
     "name": "stdout",
     "output_type": "stream",
     "text": [
      "===  kNN: {'weight': <bound method kNN._uniform of <skeleton.kNN object at 0x7fda28bcc290>>, 'distance': 'euclidiana', 'k': 5}\n",
      "Accuracy\tMacro F1\tMacro Recall\tF1 is_humor=1\n",
      "0.638889\t0.638610\t0.638610\t0.628571\n"
     ]
    },
    {
     "data": {
      "image/png": "[encoded data removed]",
      "text/plain": [
       "<Figure size 360x360 with 1 Axes>"
      ]
     },
     "metadata": {},
     "output_type": "display_data"
    },
    {
     "name": "stdout",
     "output_type": "stream",
     "text": [
      "===  kNN: {'weight': <bound method kNN._mean_dist of <skeleton.kNN object at 0x7fda28bd7350>>, 'distance': 'coseno', 'k': 5}\n",
      "Implementación mean_dist\n",
      "Accuracy\tMacro F1\tMacro Recall\tF1 is_humor=1\n",
      "0.611111\t0.610811\t0.612355\t0.621622\n",
      "Implementación mean_dist\n"
     ]
    },
    {
     "data": {
      "image/png": "[encoded data removed]",
      "text/plain": [
       "<Figure size 360x360 with 1 Axes>"
      ]
     },
     "metadata": {},
     "output_type": "display_data"
    },
    {
     "name": "stdout",
     "output_type": "stream",
     "text": [
      "===  kNN: {'weight': <bound method kNN._mean_dist of <skeleton.kNN object at 0x7fda28b89f50>>, 'distance': 'euclidiana', 'k': 5}\n",
      "Implementación mean_dist\n",
      "Accuracy\tMacro F1\tMacro Recall\tF1 is_humor=1\n",
      "0.680556\t0.680000\t0.679923\t0.666667\n",
      "Implementación mean_dist\n"
     ]
    },
    {
     "data": {
      "image/png": "[encoded data removed]",
      "text/plain": [
       "<Figure size 360x360 with 1 Axes>"
      ]
     },
     "metadata": {},
     "output_type": "display_data"
    },
    {
     "name": "stdout",
     "output_type": "stream",
     "text": [
      "===  kNN: {'weight': <bound method kNN._weighed_dist of <skeleton.kNN object at 0x7fda28ac2f50>>, 'distance': 'coseno', 'k': 5}\n",
      "Implementación weighed_dist\n",
      "Accuracy\tMacro F1\tMacro Recall\tF1 is_humor=1\n",
      "0.680556\t0.675485\t0.677606\t0.634921\n",
      "Implementación weighed_dist\n"
     ]
    },
    {
     "data": {
      "image/png": "[encoded data removed]",
      "text/plain": [
       "<Figure size 360x360 with 1 Axes>"
      ]
     },
     "metadata": {},
     "output_type": "display_data"
    },
    {
     "name": "stdout",
     "output_type": "stream",
     "text": [
      "===  kNN: {'weight': <bound method kNN._weighed_dist of <skeleton.kNN object at 0x7fda289fe0d0>>, 'distance': 'euclidiana', 'k': 5}\n",
      "Implementación weighed_dist\n",
      "Accuracy\tMacro F1\tMacro Recall\tF1 is_humor=1\n",
      "0.638889\t0.638610\t0.638610\t0.628571\n",
      "Implementación weighed_dist\n"
     ]
    },
    {
     "data": {
      "image/png": "[encoded data removed]",
      "text/plain": [
       "<Figure size 360x360 with 1 Axes>"
      ]
     },
     "metadata": {},
     "output_type": "display_data"
    }
   ],
   "source": [
    "P={\"FastText\":{\"Accuracy\":0.809050,\"Macro F1\":0.793270,\"Macro Recall\":0.786900,\"F1 is_humor=1\":0.736140}} #Performance\n",
    "\n",
    "# \n",
    "P[\"NC.cos.avg\"]=testClassifier(NearestCentroid(distance='coseno',centroid_type='Average'),train,y_train,test,y_test)\n",
    "P[\"NC.euc.avg\"]=testClassifier(NearestCentroid(distance='euclidiana',centroid_type='Average'),train,y_train,test,y_test)\n",
    "\n",
    "P[\"NC.cos.sum\"]=testClassifier(NearestCentroid(distance='coseno',centroid_type='Sum'),train,y_train,test,y_test)\n",
    "P[\"NC.euc.sum\"]=testClassifier(NearestCentroid(distance='euclidiana',centroid_type='Sum'),train,y_train,test,y_test)\n",
    "\n",
    "P[\"NC.cos.rocchio\"]=testClassifier(NearestCentroid(distance='coseno',centroid_type='Rocchio',beta=16,gamma=4),train,y_train,test,y_test)\n",
    "P[\"NC.euc.rocchio\"]=testClassifier(NearestCentroid(distance='euclidiana',centroid_type='Rocchio',beta=16,gamma=4),train,y_train,test,y_test)\n",
    "\n",
    "P[\"NC.cos.nsum\"]=testClassifier(NearestCentroid(distance='coseno',centroid_type='NormSum'),train,y_train,test,y_test)\n",
    "P[\"NC.euc.nsum\"]=testClassifier(NearestCentroid(distance='euclidiana',centroid_type='NormSum'),train,y_train,test,y_test)\n",
    "\n",
    "\n",
    "P[\"KNN.cos.u\"]=testClassifier(kNN(distance='coseno',k=5,weight_type='uniform'),train,y_train,test,y_test)\n",
    "P[\"KNN.euc.u\"]=testClassifier(kNN(distance='euclidiana',k=5,weight_type='uniform'),train,y_train,test,y_test)\n",
    "\n",
    "P[\"KNN.cos.m\"]=testClassifier(kNN(distance='coseno',k=5,weight_type='mean_dist'),train,y_train,test,y_test)\n",
    "P[\"KNN.euc.m\"]=testClassifier(kNN(distance='euclidiana',k=5,weight_type='mean_dist'),train,y_train,test,y_test)\n",
    "\n",
    "P[\"KNN.cos.w\"]=testClassifier(kNN(distance='coseno',k=5,weight_type='weighed_dist'),train,y_train,test,y_test)\n",
    "P[\"KNN.euc.w\"]=testClassifier(kNN(distance='euclidiana',k=5,weight_type='weighed_dist'),train,y_train,test,y_test)"
   ]
  },
  {
   "cell_type": "code",
   "execution_count": 25,
   "metadata": {},
   "outputs": [
    {
     "data": {
      "text/html": [
       "<div>\n",
       "<style scoped>\n",
       "    .dataframe tbody tr th:only-of-type {\n",
       "        vertical-align: middle;\n",
       "    }\n",
       "\n",
       "    .dataframe tbody tr th {\n",
       "        vertical-align: top;\n",
       "    }\n",
       "\n",
       "    .dataframe thead th {\n",
       "        text-align: right;\n",
       "    }\n",
       "</style>\n",
       "<table border=\"1\" class=\"dataframe\">\n",
       "  <thead>\n",
       "    <tr style=\"text-align: right;\">\n",
       "      <th></th>\n",
       "      <th>Accuracy</th>\n",
       "      <th>Macro F1</th>\n",
       "      <th>Macro Recall</th>\n",
       "      <th>F1 is_humor=1</th>\n",
       "    </tr>\n",
       "  </thead>\n",
       "  <tbody>\n",
       "    <tr>\n",
       "      <th>NC.cos.rocchio</th>\n",
       "      <td>0.722222</td>\n",
       "      <td>0.721362</td>\n",
       "      <td>0.724324</td>\n",
       "      <td>0.736842</td>\n",
       "    </tr>\n",
       "    <tr>\n",
       "      <th>FastText</th>\n",
       "      <td>0.809050</td>\n",
       "      <td>0.793270</td>\n",
       "      <td>0.786900</td>\n",
       "      <td>0.736140</td>\n",
       "    </tr>\n",
       "    <tr>\n",
       "      <th>NC.euc.avg</th>\n",
       "      <td>0.708333</td>\n",
       "      <td>0.705550</td>\n",
       "      <td>0.711583</td>\n",
       "      <td>0.734177</td>\n",
       "    </tr>\n",
       "    <tr>\n",
       "      <th>NC.cos.avg</th>\n",
       "      <td>0.708333</td>\n",
       "      <td>0.706920</td>\n",
       "      <td>0.710811</td>\n",
       "      <td>0.727273</td>\n",
       "    </tr>\n",
       "    <tr>\n",
       "      <th>NC.cos.sum</th>\n",
       "      <td>0.708333</td>\n",
       "      <td>0.706920</td>\n",
       "      <td>0.710811</td>\n",
       "      <td>0.727273</td>\n",
       "    </tr>\n",
       "    <tr>\n",
       "      <th>NC.cos.nsum</th>\n",
       "      <td>0.708333</td>\n",
       "      <td>0.706920</td>\n",
       "      <td>0.710811</td>\n",
       "      <td>0.727273</td>\n",
       "    </tr>\n",
       "    <tr>\n",
       "      <th>NC.euc.nsum</th>\n",
       "      <td>0.708333</td>\n",
       "      <td>0.706920</td>\n",
       "      <td>0.710811</td>\n",
       "      <td>0.727273</td>\n",
       "    </tr>\n",
       "    <tr>\n",
       "      <th>KNN.euc.m</th>\n",
       "      <td>0.680556</td>\n",
       "      <td>0.680000</td>\n",
       "      <td>0.679923</td>\n",
       "      <td>0.666667</td>\n",
       "    </tr>\n",
       "    <tr>\n",
       "      <th>NC.euc.sum</th>\n",
       "      <td>0.486111</td>\n",
       "      <td>0.327103</td>\n",
       "      <td>0.500000</td>\n",
       "      <td>0.654206</td>\n",
       "    </tr>\n",
       "    <tr>\n",
       "      <th>KNN.cos.u</th>\n",
       "      <td>0.680556</td>\n",
       "      <td>0.675485</td>\n",
       "      <td>0.677606</td>\n",
       "      <td>0.634921</td>\n",
       "    </tr>\n",
       "    <tr>\n",
       "      <th>KNN.cos.w</th>\n",
       "      <td>0.680556</td>\n",
       "      <td>0.675485</td>\n",
       "      <td>0.677606</td>\n",
       "      <td>0.634921</td>\n",
       "    </tr>\n",
       "    <tr>\n",
       "      <th>KNN.euc.u</th>\n",
       "      <td>0.638889</td>\n",
       "      <td>0.638610</td>\n",
       "      <td>0.638610</td>\n",
       "      <td>0.628571</td>\n",
       "    </tr>\n",
       "    <tr>\n",
       "      <th>KNN.euc.w</th>\n",
       "      <td>0.638889</td>\n",
       "      <td>0.638610</td>\n",
       "      <td>0.638610</td>\n",
       "      <td>0.628571</td>\n",
       "    </tr>\n",
       "    <tr>\n",
       "      <th>KNN.cos.m</th>\n",
       "      <td>0.611111</td>\n",
       "      <td>0.610811</td>\n",
       "      <td>0.612355</td>\n",
       "      <td>0.621622</td>\n",
       "    </tr>\n",
       "    <tr>\n",
       "      <th>NC.euc.rocchio</th>\n",
       "      <td>0.513889</td>\n",
       "      <td>0.339450</td>\n",
       "      <td>0.500000</td>\n",
       "      <td>0.000000</td>\n",
       "    </tr>\n",
       "  </tbody>\n",
       "</table>\n",
       "</div>"
      ],
      "text/plain": [
       "                Accuracy  Macro F1  Macro Recall  F1 is_humor=1\n",
       "NC.cos.rocchio  0.722222  0.721362      0.724324       0.736842\n",
       "FastText        0.809050  0.793270      0.786900       0.736140\n",
       "NC.euc.avg      0.708333  0.705550      0.711583       0.734177\n",
       "NC.cos.avg      0.708333  0.706920      0.710811       0.727273\n",
       "NC.cos.sum      0.708333  0.706920      0.710811       0.727273\n",
       "NC.cos.nsum     0.708333  0.706920      0.710811       0.727273\n",
       "NC.euc.nsum     0.708333  0.706920      0.710811       0.727273\n",
       "KNN.euc.m       0.680556  0.680000      0.679923       0.666667\n",
       "NC.euc.sum      0.486111  0.327103      0.500000       0.654206\n",
       "KNN.cos.u       0.680556  0.675485      0.677606       0.634921\n",
       "KNN.cos.w       0.680556  0.675485      0.677606       0.634921\n",
       "KNN.euc.u       0.638889  0.638610      0.638610       0.628571\n",
       "KNN.euc.w       0.638889  0.638610      0.638610       0.628571\n",
       "KNN.cos.m       0.611111  0.610811      0.612355       0.621622\n",
       "NC.euc.rocchio  0.513889  0.339450      0.500000       0.000000"
      ]
     },
     "execution_count": 25,
     "metadata": {},
     "output_type": "execute_result"
    }
   ],
   "source": [
    "pd.DataFrame(P).T.sort_values(\"F1 is_humor=1\",ascending =False)"
   ]
  },
  {
   "cell_type": "code",
   "execution_count": 16,
   "metadata": {},
   "outputs": [
    {
     "name": "stderr",
     "output_type": "stream",
     "text": [
      "[nltk_data] Downloading package stopwords to /home/jovyan/nltk_data...\n",
      "[nltk_data]   Unzipping corpora/stopwords.zip.\n"
     ]
    }
   ],
   "source": [
    "from toolbox import *"
   ]
  },
  {
   "cell_type": "code",
   "execution_count": 55,
   "metadata": {},
   "outputs": [
    {
     "name": "stdout",
     "output_type": "stream",
     "text": [
      "     240 data/haha_all_ft_pre_min10.json\n",
      "    7201 data/haha_test_ft_pre.json\n",
      "      72 data/haha_test_ft_pre_min10.json\n",
      "   16799 data/haha_train_ft_pre.json\n",
      "     168 data/haha_train_ft_pre_min10.json\n",
      "   24480 total\n",
      "240 data/haha_all_ft_pre_min10.json\n",
      "** Processing data/haha_all_ft_pre_min10.json ...\n",
      "2020-05-09 03:17:18.354986 :: 0.000335 - Processing item #0 \n",
      "** Processed 240 lines. Saved to /home/jovyan/B5_Clasificacion/tokenized_docs.pickle.\n",
      "** Computing TF-IDF...\n",
      "** Computed TF-IDF Matrix !!!\n",
      "** Done poda0 TF-IDF Matrix !!!\n",
      "poda0_mtx.pickle written.\n"
     ]
    },
    {
     "data": {
      "text/plain": [
       "<1230x240 sparse matrix of type '<class 'numpy.float64'>'\n",
       "\twith 1738 stored elements in List of Lists format>"
      ]
     },
     "execution_count": 55,
     "metadata": {},
     "output_type": "execute_result"
    },
    {
     "data": {
      "text/html": [
       "<div>\n",
       "<style scoped>\n",
       "    .dataframe tbody tr th:only-of-type {\n",
       "        vertical-align: middle;\n",
       "    }\n",
       "\n",
       "    .dataframe tbody tr th {\n",
       "        vertical-align: top;\n",
       "    }\n",
       "\n",
       "    .dataframe thead th {\n",
       "        text-align: right;\n",
       "    }\n",
       "</style>\n",
       "<table border=\"1\" class=\"dataframe\">\n",
       "  <thead>\n",
       "    <tr style=\"text-align: right;\">\n",
       "      <th></th>\n",
       "      <th>aah</th>\n",
       "      <th>abejas</th>\n",
       "      <th>abogados</th>\n",
       "      <th>abono</th>\n",
       "      <th>abraham</th>\n",
       "      <th>abrazamee</th>\n",
       "      <th>abrir</th>\n",
       "      <th>abuela</th>\n",
       "      <th>abuelas</th>\n",
       "      <th>aburrimiento</th>\n",
       "      <th>...</th>\n",
       "      <th>workshowsperu</th>\n",
       "      <th>xd</th>\n",
       "      <th>xra</th>\n",
       "      <th>xvideos</th>\n",
       "      <th>yahoo</th>\n",
       "      <th>yotrasmanerasdeenamorarme</th>\n",
       "      <th>you</th>\n",
       "      <th>yoyanose</th>\n",
       "      <th>zavees</th>\n",
       "      <th>zoe</th>\n",
       "    </tr>\n",
       "  </thead>\n",
       "  <tbody>\n",
       "    <tr>\n",
       "      <th>0</th>\n",
       "      <td>0.0</td>\n",
       "      <td>0.0</td>\n",
       "      <td>0.0</td>\n",
       "      <td>0.0</td>\n",
       "      <td>0.0</td>\n",
       "      <td>0.0</td>\n",
       "      <td>0.0</td>\n",
       "      <td>0.0</td>\n",
       "      <td>0.0</td>\n",
       "      <td>0.0</td>\n",
       "      <td>...</td>\n",
       "      <td>0.0</td>\n",
       "      <td>0.0</td>\n",
       "      <td>0.0</td>\n",
       "      <td>0.0</td>\n",
       "      <td>0.0</td>\n",
       "      <td>0.0</td>\n",
       "      <td>0.0</td>\n",
       "      <td>0.0</td>\n",
       "      <td>0.0</td>\n",
       "      <td>0.0</td>\n",
       "    </tr>\n",
       "    <tr>\n",
       "      <th>1</th>\n",
       "      <td>0.0</td>\n",
       "      <td>0.0</td>\n",
       "      <td>0.0</td>\n",
       "      <td>0.0</td>\n",
       "      <td>0.0</td>\n",
       "      <td>0.0</td>\n",
       "      <td>0.0</td>\n",
       "      <td>0.0</td>\n",
       "      <td>0.0</td>\n",
       "      <td>0.0</td>\n",
       "      <td>...</td>\n",
       "      <td>0.0</td>\n",
       "      <td>0.0</td>\n",
       "      <td>0.0</td>\n",
       "      <td>0.0</td>\n",
       "      <td>0.0</td>\n",
       "      <td>0.0</td>\n",
       "      <td>0.0</td>\n",
       "      <td>0.0</td>\n",
       "      <td>0.0</td>\n",
       "      <td>0.0</td>\n",
       "    </tr>\n",
       "    <tr>\n",
       "      <th>2</th>\n",
       "      <td>0.0</td>\n",
       "      <td>0.0</td>\n",
       "      <td>0.0</td>\n",
       "      <td>0.0</td>\n",
       "      <td>0.0</td>\n",
       "      <td>0.0</td>\n",
       "      <td>0.0</td>\n",
       "      <td>0.0</td>\n",
       "      <td>0.0</td>\n",
       "      <td>0.0</td>\n",
       "      <td>...</td>\n",
       "      <td>0.0</td>\n",
       "      <td>0.0</td>\n",
       "      <td>0.0</td>\n",
       "      <td>0.0</td>\n",
       "      <td>0.0</td>\n",
       "      <td>0.0</td>\n",
       "      <td>0.0</td>\n",
       "      <td>0.0</td>\n",
       "      <td>0.0</td>\n",
       "      <td>0.0</td>\n",
       "    </tr>\n",
       "    <tr>\n",
       "      <th>3</th>\n",
       "      <td>0.0</td>\n",
       "      <td>0.0</td>\n",
       "      <td>0.0</td>\n",
       "      <td>0.0</td>\n",
       "      <td>0.0</td>\n",
       "      <td>0.0</td>\n",
       "      <td>0.0</td>\n",
       "      <td>0.0</td>\n",
       "      <td>0.0</td>\n",
       "      <td>0.0</td>\n",
       "      <td>...</td>\n",
       "      <td>0.0</td>\n",
       "      <td>0.0</td>\n",
       "      <td>0.0</td>\n",
       "      <td>0.0</td>\n",
       "      <td>0.0</td>\n",
       "      <td>0.0</td>\n",
       "      <td>0.0</td>\n",
       "      <td>0.0</td>\n",
       "      <td>0.0</td>\n",
       "      <td>0.0</td>\n",
       "    </tr>\n",
       "    <tr>\n",
       "      <th>4</th>\n",
       "      <td>0.0</td>\n",
       "      <td>0.0</td>\n",
       "      <td>0.0</td>\n",
       "      <td>0.0</td>\n",
       "      <td>0.0</td>\n",
       "      <td>0.0</td>\n",
       "      <td>0.0</td>\n",
       "      <td>0.0</td>\n",
       "      <td>0.0</td>\n",
       "      <td>0.0</td>\n",
       "      <td>...</td>\n",
       "      <td>0.0</td>\n",
       "      <td>0.0</td>\n",
       "      <td>0.0</td>\n",
       "      <td>0.0</td>\n",
       "      <td>0.0</td>\n",
       "      <td>0.0</td>\n",
       "      <td>0.0</td>\n",
       "      <td>0.0</td>\n",
       "      <td>0.0</td>\n",
       "      <td>0.0</td>\n",
       "    </tr>\n",
       "    <tr>\n",
       "      <th>...</th>\n",
       "      <td>...</td>\n",
       "      <td>...</td>\n",
       "      <td>...</td>\n",
       "      <td>...</td>\n",
       "      <td>...</td>\n",
       "      <td>...</td>\n",
       "      <td>...</td>\n",
       "      <td>...</td>\n",
       "      <td>...</td>\n",
       "      <td>...</td>\n",
       "      <td>...</td>\n",
       "      <td>...</td>\n",
       "      <td>...</td>\n",
       "      <td>...</td>\n",
       "      <td>...</td>\n",
       "      <td>...</td>\n",
       "      <td>...</td>\n",
       "      <td>...</td>\n",
       "      <td>...</td>\n",
       "      <td>...</td>\n",
       "      <td>...</td>\n",
       "    </tr>\n",
       "    <tr>\n",
       "      <th>235</th>\n",
       "      <td>0.0</td>\n",
       "      <td>0.0</td>\n",
       "      <td>0.0</td>\n",
       "      <td>0.0</td>\n",
       "      <td>0.0</td>\n",
       "      <td>0.0</td>\n",
       "      <td>0.0</td>\n",
       "      <td>0.0</td>\n",
       "      <td>0.0</td>\n",
       "      <td>0.0</td>\n",
       "      <td>...</td>\n",
       "      <td>0.0</td>\n",
       "      <td>0.0</td>\n",
       "      <td>0.0</td>\n",
       "      <td>0.0</td>\n",
       "      <td>0.0</td>\n",
       "      <td>0.0</td>\n",
       "      <td>0.0</td>\n",
       "      <td>0.0</td>\n",
       "      <td>0.0</td>\n",
       "      <td>0.0</td>\n",
       "    </tr>\n",
       "    <tr>\n",
       "      <th>236</th>\n",
       "      <td>0.0</td>\n",
       "      <td>0.0</td>\n",
       "      <td>0.0</td>\n",
       "      <td>0.0</td>\n",
       "      <td>0.0</td>\n",
       "      <td>0.0</td>\n",
       "      <td>0.0</td>\n",
       "      <td>0.0</td>\n",
       "      <td>0.0</td>\n",
       "      <td>0.0</td>\n",
       "      <td>...</td>\n",
       "      <td>0.0</td>\n",
       "      <td>0.0</td>\n",
       "      <td>0.0</td>\n",
       "      <td>0.0</td>\n",
       "      <td>0.0</td>\n",
       "      <td>0.0</td>\n",
       "      <td>0.0</td>\n",
       "      <td>0.0</td>\n",
       "      <td>0.0</td>\n",
       "      <td>0.0</td>\n",
       "    </tr>\n",
       "    <tr>\n",
       "      <th>237</th>\n",
       "      <td>0.0</td>\n",
       "      <td>0.0</td>\n",
       "      <td>0.0</td>\n",
       "      <td>0.0</td>\n",
       "      <td>0.0</td>\n",
       "      <td>0.0</td>\n",
       "      <td>0.0</td>\n",
       "      <td>0.0</td>\n",
       "      <td>0.0</td>\n",
       "      <td>0.0</td>\n",
       "      <td>...</td>\n",
       "      <td>0.0</td>\n",
       "      <td>0.0</td>\n",
       "      <td>0.0</td>\n",
       "      <td>0.0</td>\n",
       "      <td>0.0</td>\n",
       "      <td>0.0</td>\n",
       "      <td>0.0</td>\n",
       "      <td>0.0</td>\n",
       "      <td>0.0</td>\n",
       "      <td>0.0</td>\n",
       "    </tr>\n",
       "    <tr>\n",
       "      <th>238</th>\n",
       "      <td>0.0</td>\n",
       "      <td>0.0</td>\n",
       "      <td>0.0</td>\n",
       "      <td>0.0</td>\n",
       "      <td>0.0</td>\n",
       "      <td>0.0</td>\n",
       "      <td>0.0</td>\n",
       "      <td>0.0</td>\n",
       "      <td>0.0</td>\n",
       "      <td>0.0</td>\n",
       "      <td>...</td>\n",
       "      <td>0.0</td>\n",
       "      <td>0.0</td>\n",
       "      <td>0.0</td>\n",
       "      <td>0.0</td>\n",
       "      <td>0.0</td>\n",
       "      <td>0.0</td>\n",
       "      <td>0.0</td>\n",
       "      <td>0.0</td>\n",
       "      <td>0.0</td>\n",
       "      <td>0.0</td>\n",
       "    </tr>\n",
       "    <tr>\n",
       "      <th>239</th>\n",
       "      <td>0.0</td>\n",
       "      <td>0.0</td>\n",
       "      <td>0.0</td>\n",
       "      <td>0.0</td>\n",
       "      <td>0.0</td>\n",
       "      <td>0.0</td>\n",
       "      <td>0.0</td>\n",
       "      <td>0.0</td>\n",
       "      <td>0.0</td>\n",
       "      <td>0.0</td>\n",
       "      <td>...</td>\n",
       "      <td>0.0</td>\n",
       "      <td>0.0</td>\n",
       "      <td>0.0</td>\n",
       "      <td>0.0</td>\n",
       "      <td>0.0</td>\n",
       "      <td>0.0</td>\n",
       "      <td>0.0</td>\n",
       "      <td>0.0</td>\n",
       "      <td>0.0</td>\n",
       "      <td>0.0</td>\n",
       "    </tr>\n",
       "  </tbody>\n",
       "</table>\n",
       "<p>240 rows × 1230 columns</p>\n",
       "</div>"
      ],
      "text/plain": [
       "     aah  abejas  abogados  abono  abraham  abrazamee  abrir  abuela  abuelas  \\\n",
       "0    0.0     0.0       0.0    0.0      0.0        0.0    0.0     0.0      0.0   \n",
       "1    0.0     0.0       0.0    0.0      0.0        0.0    0.0     0.0      0.0   \n",
       "2    0.0     0.0       0.0    0.0      0.0        0.0    0.0     0.0      0.0   \n",
       "3    0.0     0.0       0.0    0.0      0.0        0.0    0.0     0.0      0.0   \n",
       "4    0.0     0.0       0.0    0.0      0.0        0.0    0.0     0.0      0.0   \n",
       "..   ...     ...       ...    ...      ...        ...    ...     ...      ...   \n",
       "235  0.0     0.0       0.0    0.0      0.0        0.0    0.0     0.0      0.0   \n",
       "236  0.0     0.0       0.0    0.0      0.0        0.0    0.0     0.0      0.0   \n",
       "237  0.0     0.0       0.0    0.0      0.0        0.0    0.0     0.0      0.0   \n",
       "238  0.0     0.0       0.0    0.0      0.0        0.0    0.0     0.0      0.0   \n",
       "239  0.0     0.0       0.0    0.0      0.0        0.0    0.0     0.0      0.0   \n",
       "\n",
       "     aburrimiento  ...  workshowsperu   xd  xra  xvideos  yahoo  \\\n",
       "0             0.0  ...            0.0  0.0  0.0      0.0    0.0   \n",
       "1             0.0  ...            0.0  0.0  0.0      0.0    0.0   \n",
       "2             0.0  ...            0.0  0.0  0.0      0.0    0.0   \n",
       "3             0.0  ...            0.0  0.0  0.0      0.0    0.0   \n",
       "4             0.0  ...            0.0  0.0  0.0      0.0    0.0   \n",
       "..            ...  ...            ...  ...  ...      ...    ...   \n",
       "235           0.0  ...            0.0  0.0  0.0      0.0    0.0   \n",
       "236           0.0  ...            0.0  0.0  0.0      0.0    0.0   \n",
       "237           0.0  ...            0.0  0.0  0.0      0.0    0.0   \n",
       "238           0.0  ...            0.0  0.0  0.0      0.0    0.0   \n",
       "239           0.0  ...            0.0  0.0  0.0      0.0    0.0   \n",
       "\n",
       "     yotrasmanerasdeenamorarme  you  yoyanose  zavees  zoe  \n",
       "0                          0.0  0.0       0.0     0.0  0.0  \n",
       "1                          0.0  0.0       0.0     0.0  0.0  \n",
       "2                          0.0  0.0       0.0     0.0  0.0  \n",
       "3                          0.0  0.0       0.0     0.0  0.0  \n",
       "4                          0.0  0.0       0.0     0.0  0.0  \n",
       "..                         ...  ...       ...     ...  ...  \n",
       "235                        0.0  0.0       0.0     0.0  0.0  \n",
       "236                        0.0  0.0       0.0     0.0  0.0  \n",
       "237                        0.0  0.0       0.0     0.0  0.0  \n",
       "238                        0.0  0.0       0.0     0.0  0.0  \n",
       "239                        0.0  0.0       0.0     0.0  0.0  \n",
       "\n",
       "[240 rows x 1230 columns]"
      ]
     },
     "execution_count": 55,
     "metadata": {},
     "output_type": "execute_result"
    }
   ],
   "source": [
    "!wc -l data/haha_*.json\n",
    "!cat data/haha_train_ft_pre_min10.json > data/haha_all_ft_pre_min10.json\n",
    "!cat data/haha_test_ft_pre_min10.json >> data/haha_all_ft_pre_min10.json\n",
    "!wc -l data/haha_all_ft_pre_min10.json\n",
    "\n",
    "!rm -f *.pickle\n",
    "inv_idx = InvertedIdx(\"data/haha_all_ft_pre_min10.json\")\n",
    "inv_idx.process(showProgressEach=10000, stemm=False)\n",
    "inv_idx.compute_mtx()\n",
    "tfidf=pd.DataFrame(inv_idx.idx_mtx.todense(), index=inv_idx.corpus).T\n",
    "tfidf"
   ]
  },
  {
   "cell_type": "code",
   "execution_count": 71,
   "metadata": {},
   "outputs": [
    {
     "data": {
      "text/plain": [
       "((168, 1230), (72, 1230))"
      ]
     },
     "execution_count": 71,
     "metadata": {},
     "output_type": "execute_result"
    }
   ],
   "source": [
    "train2=np.ascontiguousarray(tfidf.head(168).to_numpy())\n",
    "test2=np.ascontiguousarray(tfidf.tail(72).to_numpy())\n",
    "train2.shape,test2.shape"
   ]
  },
  {
   "cell_type": "code",
   "execution_count": 74,
   "metadata": {},
   "outputs": [
    {
     "name": "stdout",
     "output_type": "stream",
     "text": [
      "===  NearestCentroid: {'distance': <function coseno at 0x7fda074dab00>, 'algorithm': <bound method NearestCentroid.Average of <skeleton.NearestCentroid object at 0x7fda29192e90>>, 'kwargs_': {}}\n",
      "Accuracy\tMacro F1\tMacro Recall\tF1 is_humor=1\n",
      "0.555556\t0.552448\t0.553668\t0.515152\n"
     ]
    },
    {
     "data": {
      "image/png": "[encoded data removed]",
      "text/plain": [
       "<Figure size 360x360 with 1 Axes>"
      ]
     },
     "metadata": {},
     "output_type": "display_data"
    },
    {
     "name": "stdout",
     "output_type": "stream",
     "text": [
      "===  NearestCentroid: {'distance': <function euclidiana at 0x7fda0999f9e0>, 'algorithm': <bound method NearestCentroid.Average of <skeleton.NearestCentroid object at 0x7fda289e6f90>>, 'kwargs_': {}}\n",
      "Accuracy\tMacro F1\tMacro Recall\tF1 is_humor=1\n",
      "0.527778\t0.456965\t0.518147\t0.260870\n"
     ]
    },
    {
     "data": {
      "image/png": "[encoded data removed]",
      "text/plain": [
       "<Figure size 360x360 with 1 Axes>"
      ]
     },
     "metadata": {},
     "output_type": "display_data"
    },
    {
     "name": "stdout",
     "output_type": "stream",
     "text": [
      "===  NearestCentroid: {'distance': <function coseno at 0x7fda074dab00>, 'algorithm': <bound method NearestCentroid.Sum of <skeleton.NearestCentroid object at 0x7fda28aa44d0>>, 'kwargs_': {}}\n",
      "Accuracy\tMacro F1\tMacro Recall\tF1 is_humor=1\n",
      "0.555556\t0.552448\t0.553668\t0.515152\n"
     ]
    },
    {
     "data": {
      "image/png": "[encoded data removed]",
      "text/plain": [
       "<Figure size 360x360 with 1 Axes>"
      ]
     },
     "metadata": {},
     "output_type": "display_data"
    },
    {
     "name": "stdout",
     "output_type": "stream",
     "text": [
      "===  NearestCentroid: {'distance': <function euclidiana at 0x7fda0999f9e0>, 'algorithm': <bound method NearestCentroid.Sum of <skeleton.NearestCentroid object at 0x7fda31013910>>, 'kwargs_': {}}\n",
      "Accuracy\tMacro F1\tMacro Recall\tF1 is_humor=1\n",
      "0.486111\t0.327103\t0.500000\t0.654206\n"
     ]
    },
    {
     "data": {
      "image/png": "[encoded data removed]",
      "text/plain": [
       "<Figure size 360x360 with 1 Axes>"
      ]
     },
     "metadata": {},
     "output_type": "display_data"
    },
    {
     "name": "stdout",
     "output_type": "stream",
     "text": [
      "===  NearestCentroid: {'distance': <function coseno at 0x7fda074dab00>, 'algorithm': <bound method NearestCentroid.Rocchio of <skeleton.NearestCentroid object at 0x7fda2b398650>>, 'kwargs_': {'beta': 16, 'gamma': 4}}\n",
      "Accuracy\tMacro F1\tMacro Recall\tF1 is_humor=1\n",
      "0.555556\t0.550000\t0.552896\t0.500000\n"
     ]
    },
    {
     "data": {
      "image/png": "[encoded data removed]",
      "text/plain": [
       "<Figure size 360x360 with 1 Axes>"
      ]
     },
     "metadata": {},
     "output_type": "display_data"
    },
    {
     "name": "stdout",
     "output_type": "stream",
     "text": [
      "===  NearestCentroid: {'distance': <function euclidiana at 0x7fda0999f9e0>, 'algorithm': <bound method NearestCentroid.Rocchio of <skeleton.NearestCentroid object at 0x7fda30f00a90>>, 'kwargs_': {'beta': 16, 'gamma': 4}}\n",
      "Accuracy\tMacro F1\tMacro Recall\tF1 is_humor=1\n",
      "0.513889\t0.339450\t0.500000\t0.000000\n"
     ]
    },
    {
     "data": {
      "image/png": "[encoded data removed]",
      "text/plain": [
       "<Figure size 360x360 with 1 Axes>"
      ]
     },
     "metadata": {},
     "output_type": "display_data"
    },
    {
     "name": "stdout",
     "output_type": "stream",
     "text": [
      "===  NearestCentroid: {'distance': <function coseno at 0x7fda074dab00>, 'algorithm': <bound method NearestCentroid.NormSum of <skeleton.NearestCentroid object at 0x7fda30e9d690>>, 'kwargs_': {}}\n",
      "Accuracy\tMacro F1\tMacro Recall\tF1 is_humor=1\n",
      "0.555556\t0.552448\t0.553668\t0.515152\n"
     ]
    },
    {
     "data": {
      "image/png": "[encoded data removed]",
      "text/plain": [
       "<Figure size 360x360 with 1 Axes>"
      ]
     },
     "metadata": {},
     "output_type": "display_data"
    },
    {
     "name": "stdout",
     "output_type": "stream",
     "text": [
      "===  NearestCentroid: {'distance': <function euclidiana at 0x7fda0999f9e0>, 'algorithm': <bound method NearestCentroid.NormSum of <skeleton.NearestCentroid object at 0x7fda29275290>>, 'kwargs_': {}}\n",
      "Accuracy\tMacro F1\tMacro Recall\tF1 is_humor=1\n",
      "0.486111\t0.485217\t0.487645\t0.506667\n"
     ]
    },
    {
     "data": {
      "image/png": "[encoded data removed]",
      "text/plain": [
       "<Figure size 360x360 with 1 Axes>"
      ]
     },
     "metadata": {},
     "output_type": "display_data"
    },
    {
     "name": "stdout",
     "output_type": "stream",
     "text": [
      "===  kNN: {'weight': <bound method kNN._uniform of <skeleton.kNN object at 0x7fda30fd6210>>, 'distance': 'coseno', 'k': 5}\n",
      "Accuracy\tMacro F1\tMacro Recall\tF1 is_humor=1\n",
      "0.458333\t0.458229\t0.459073\t0.465753\n"
     ]
    },
    {
     "data": {
      "image/png": "[encoded data removed]",
      "text/plain": [
       "<Figure size 360x360 with 1 Axes>"
      ]
     },
     "metadata": {},
     "output_type": "display_data"
    },
    {
     "name": "stdout",
     "output_type": "stream",
     "text": [
      "===  kNN: {'weight': <bound method kNN._uniform of <skeleton.kNN object at 0x7fda28a08a50>>, 'distance': 'euclidiana', 'k': 5}\n",
      "Accuracy\tMacro F1\tMacro Recall\tF1 is_humor=1\n",
      "0.597222\t0.573442\t0.591120\t0.472727\n"
     ]
    },
    {
     "data": {
      "image/png": "[encoded data removed]",
      "text/plain": [
       "<Figure size 360x360 with 1 Axes>"
      ]
     },
     "metadata": {},
     "output_type": "display_data"
    },
    {
     "name": "stdout",
     "output_type": "stream",
     "text": [
      "===  kNN: {'weight': <bound method kNN._mean_dist of <skeleton.kNN object at 0x7fda311139d0>>, 'distance': 'coseno', 'k': 5}\n",
      "Implementación mean_dist\n",
      "Accuracy\tMacro F1\tMacro Recall\tF1 is_humor=1\n",
      "0.555556\t0.552448\t0.553668\t0.515152\n",
      "Implementación mean_dist\n"
     ]
    },
    {
     "data": {
      "image/png": "[encoded data removed]",
      "text/plain": [
       "<Figure size 360x360 with 1 Axes>"
      ]
     },
     "metadata": {},
     "output_type": "display_data"
    },
    {
     "name": "stdout",
     "output_type": "stream",
     "text": [
      "===  kNN: {'weight': <bound method kNN._mean_dist of <skeleton.kNN object at 0x7fda292b00d0>>, 'distance': 'euclidiana', 'k': 5}\n",
      "Implementación mean_dist\n",
      "Accuracy\tMacro F1\tMacro Recall\tF1 is_humor=1\n",
      "0.500000\t0.485714\t0.495753\t0.400000\n",
      "Implementación mean_dist\n"
     ]
    },
    {
     "data": {
      "image/png": "[encoded data removed]",
      "text/plain": [
       "<Figure size 360x360 with 1 Axes>"
      ]
     },
     "metadata": {},
     "output_type": "display_data"
    },
    {
     "name": "stdout",
     "output_type": "stream",
     "text": [
      "===  kNN: {'weight': <bound method kNN._weighed_dist of <skeleton.kNN object at 0x7fda3125f0d0>>, 'distance': 'coseno', 'k': 5}\n",
      "Implementación weighed_dist\n"
     ]
    },
    {
     "name": "stderr",
     "output_type": "stream",
     "text": [
      "/home/jovyan/B5_Clasificacion/skeleton.py:249: RuntimeWarning: divide by zero encountered in reciprocal\n",
      "  dtype='float32')\n"
     ]
    },
    {
     "name": "stdout",
     "output_type": "stream",
     "text": [
      "Accuracy\tMacro F1\tMacro Recall\tF1 is_humor=1\n",
      "0.555556\t0.525926\t0.549035\t0.407407\n",
      "Implementación weighed_dist\n"
     ]
    },
    {
     "data": {
      "image/png": "[encoded data removed]",
      "text/plain": [
       "<Figure size 360x360 with 1 Axes>"
      ]
     },
     "metadata": {},
     "output_type": "display_data"
    },
    {
     "name": "stdout",
     "output_type": "stream",
     "text": [
      "===  kNN: {'weight': <bound method kNN._weighed_dist of <skeleton.kNN object at 0x7fda2908fd90>>, 'distance': 'euclidiana', 'k': 5}\n",
      "Implementación weighed_dist\n",
      "Accuracy\tMacro F1\tMacro Recall\tF1 is_humor=1\n",
      "0.597222\t0.573442\t0.591120\t0.472727\n",
      "Implementación weighed_dist\n"
     ]
    },
    {
     "data": {
      "image/png": "[encoded data removed]",
      "text/plain": [
       "<Figure size 360x360 with 1 Axes>"
      ]
     },
     "metadata": {},
     "output_type": "display_data"
    }
   ],
   "source": [
    "P2={} #Performance\n",
    "\n",
    "# \n",
    "P2[\"NC.cos.avg\"]=testClassifier(NearestCentroid(distance='coseno',centroid_type='Average'),train2,y_train,test2,y_test)\n",
    "P2[\"NC.euc.avg\"]=testClassifier(NearestCentroid(distance='euclidiana',centroid_type='Average'),train2,y_train,test2,y_test)\n",
    "\n",
    "P2[\"NC.cos.sum\"]=testClassifier(NearestCentroid(distance='coseno',centroid_type='Sum'),train2,y_train,test2,y_test)\n",
    "P2[\"NC.euc.sum\"]=testClassifier(NearestCentroid(distance='euclidiana',centroid_type='Sum'),train2,y_train,test2,y_test)\n",
    "\n",
    "P2[\"NC.cos.rocchio\"]=testClassifier(NearestCentroid(distance='coseno',centroid_type='Rocchio',beta=16,gamma=4),train2,y_train,test2,y_test)\n",
    "P2[\"NC.euc.rocchio\"]=testClassifier(NearestCentroid(distance='euclidiana',centroid_type='Rocchio',beta=16,gamma=4),train2,y_train,test2,y_test)\n",
    "\n",
    "P2[\"NC.cos.nsum\"]=testClassifier(NearestCentroid(distance='coseno',centroid_type='NormSum'),train2,y_train,test2,y_test)\n",
    "P2[\"NC.euc.nsum\"]=testClassifier(NearestCentroid(distance='euclidiana',centroid_type='NormSum'),train2,y_train,test2,y_test)\n",
    "\n",
    "\n",
    "P2[\"KNN.cos.u\"]=testClassifier(kNN(distance='coseno',k=5,weight_type='uniform'),train2,y_train,test2,y_test)\n",
    "P2[\"KNN.euc.u\"]=testClassifier(kNN(distance='euclidiana',k=5,weight_type='uniform'),train2,y_train,test2,y_test)\n",
    "\n",
    "P2[\"KNN.cos.m\"]=testClassifier(kNN(distance='coseno',k=5,weight_type='mean_dist'),train2,y_train,test2,y_test)\n",
    "P2[\"KNN.euc.m\"]=testClassifier(kNN(distance='euclidiana',k=5,weight_type='mean_dist'),train2,y_train,test2,y_test)\n",
    "\n",
    "P2[\"KNN.cos.w\"]=testClassifier(kNN(distance='coseno',k=5,weight_type='weighed_dist'),train2,y_train,test2,y_test)\n",
    "P2[\"KNN.euc.w\"]=testClassifier(kNN(distance='euclidiana',k=5,weight_type='weighed_dist'),train2,y_train,test2,y_test)"
   ]
  },
  {
   "cell_type": "code",
   "execution_count": 75,
   "metadata": {},
   "outputs": [
    {
     "data": {
      "text/html": [
       "<div>\n",
       "<style scoped>\n",
       "    .dataframe tbody tr th:only-of-type {\n",
       "        vertical-align: middle;\n",
       "    }\n",
       "\n",
       "    .dataframe tbody tr th {\n",
       "        vertical-align: top;\n",
       "    }\n",
       "\n",
       "    .dataframe thead th {\n",
       "        text-align: right;\n",
       "    }\n",
       "</style>\n",
       "<table border=\"1\" class=\"dataframe\">\n",
       "  <thead>\n",
       "    <tr style=\"text-align: right;\">\n",
       "      <th></th>\n",
       "      <th>Accuracy</th>\n",
       "      <th>Macro F1</th>\n",
       "      <th>Macro Recall</th>\n",
       "      <th>F1 is_humor=1</th>\n",
       "    </tr>\n",
       "  </thead>\n",
       "  <tbody>\n",
       "    <tr>\n",
       "      <th>NC.euc.sum</th>\n",
       "      <td>0.486111</td>\n",
       "      <td>0.327103</td>\n",
       "      <td>0.500000</td>\n",
       "      <td>0.654206</td>\n",
       "    </tr>\n",
       "    <tr>\n",
       "      <th>NC.cos.avg</th>\n",
       "      <td>0.555556</td>\n",
       "      <td>0.552448</td>\n",
       "      <td>0.553668</td>\n",
       "      <td>0.515152</td>\n",
       "    </tr>\n",
       "    <tr>\n",
       "      <th>NC.cos.sum</th>\n",
       "      <td>0.555556</td>\n",
       "      <td>0.552448</td>\n",
       "      <td>0.553668</td>\n",
       "      <td>0.515152</td>\n",
       "    </tr>\n",
       "    <tr>\n",
       "      <th>NC.cos.nsum</th>\n",
       "      <td>0.555556</td>\n",
       "      <td>0.552448</td>\n",
       "      <td>0.553668</td>\n",
       "      <td>0.515152</td>\n",
       "    </tr>\n",
       "    <tr>\n",
       "      <th>KNN.cos.m</th>\n",
       "      <td>0.555556</td>\n",
       "      <td>0.552448</td>\n",
       "      <td>0.553668</td>\n",
       "      <td>0.515152</td>\n",
       "    </tr>\n",
       "    <tr>\n",
       "      <th>NC.euc.nsum</th>\n",
       "      <td>0.486111</td>\n",
       "      <td>0.485217</td>\n",
       "      <td>0.487645</td>\n",
       "      <td>0.506667</td>\n",
       "    </tr>\n",
       "    <tr>\n",
       "      <th>NC.cos.rocchio</th>\n",
       "      <td>0.555556</td>\n",
       "      <td>0.550000</td>\n",
       "      <td>0.552896</td>\n",
       "      <td>0.500000</td>\n",
       "    </tr>\n",
       "    <tr>\n",
       "      <th>KNN.euc.u</th>\n",
       "      <td>0.597222</td>\n",
       "      <td>0.573442</td>\n",
       "      <td>0.591120</td>\n",
       "      <td>0.472727</td>\n",
       "    </tr>\n",
       "    <tr>\n",
       "      <th>KNN.euc.w</th>\n",
       "      <td>0.597222</td>\n",
       "      <td>0.573442</td>\n",
       "      <td>0.591120</td>\n",
       "      <td>0.472727</td>\n",
       "    </tr>\n",
       "    <tr>\n",
       "      <th>KNN.cos.u</th>\n",
       "      <td>0.458333</td>\n",
       "      <td>0.458229</td>\n",
       "      <td>0.459073</td>\n",
       "      <td>0.465753</td>\n",
       "    </tr>\n",
       "    <tr>\n",
       "      <th>KNN.cos.w</th>\n",
       "      <td>0.555556</td>\n",
       "      <td>0.525926</td>\n",
       "      <td>0.549035</td>\n",
       "      <td>0.407407</td>\n",
       "    </tr>\n",
       "    <tr>\n",
       "      <th>KNN.euc.m</th>\n",
       "      <td>0.500000</td>\n",
       "      <td>0.485714</td>\n",
       "      <td>0.495753</td>\n",
       "      <td>0.400000</td>\n",
       "    </tr>\n",
       "    <tr>\n",
       "      <th>NC.euc.avg</th>\n",
       "      <td>0.527778</td>\n",
       "      <td>0.456965</td>\n",
       "      <td>0.518147</td>\n",
       "      <td>0.260870</td>\n",
       "    </tr>\n",
       "    <tr>\n",
       "      <th>NC.euc.rocchio</th>\n",
       "      <td>0.513889</td>\n",
       "      <td>0.339450</td>\n",
       "      <td>0.500000</td>\n",
       "      <td>0.000000</td>\n",
       "    </tr>\n",
       "  </tbody>\n",
       "</table>\n",
       "</div>"
      ],
      "text/plain": [
       "                Accuracy  Macro F1  Macro Recall  F1 is_humor=1\n",
       "NC.euc.sum      0.486111  0.327103      0.500000       0.654206\n",
       "NC.cos.avg      0.555556  0.552448      0.553668       0.515152\n",
       "NC.cos.sum      0.555556  0.552448      0.553668       0.515152\n",
       "NC.cos.nsum     0.555556  0.552448      0.553668       0.515152\n",
       "KNN.cos.m       0.555556  0.552448      0.553668       0.515152\n",
       "NC.euc.nsum     0.486111  0.485217      0.487645       0.506667\n",
       "NC.cos.rocchio  0.555556  0.550000      0.552896       0.500000\n",
       "KNN.euc.u       0.597222  0.573442      0.591120       0.472727\n",
       "KNN.euc.w       0.597222  0.573442      0.591120       0.472727\n",
       "KNN.cos.u       0.458333  0.458229      0.459073       0.465753\n",
       "KNN.cos.w       0.555556  0.525926      0.549035       0.407407\n",
       "KNN.euc.m       0.500000  0.485714      0.495753       0.400000\n",
       "NC.euc.avg      0.527778  0.456965      0.518147       0.260870\n",
       "NC.euc.rocchio  0.513889  0.339450      0.500000       0.000000"
      ]
     },
     "execution_count": 75,
     "metadata": {},
     "output_type": "execute_result"
    }
   ],
   "source": [
    "pd.DataFrame(P2).T.sort_values(\"F1 is_humor=1\",ascending =False)"
   ]
  },
  {
   "cell_type": "code",
   "execution_count": 78,
   "metadata": {},
   "outputs": [
    {
     "ename": "AttributeError",
     "evalue": "'dict' object has no attribute 'display'",
     "output_type": "error",
     "traceback": [
      "\u001b[0;31m---------------------------------------------------------------------------\u001b[0m",
      "\u001b[0;31mAttributeError\u001b[0m                            Traceback (most recent call last)",
      "\u001b[0;32m<ipython-input-78-b797d359c868>\u001b[0m in \u001b[0;36m<module>\u001b[0;34m\u001b[0m\n\u001b[0;32m----> 1\u001b[0;31m \u001b[0mP2\u001b[0m\u001b[0;34m.\u001b[0m\u001b[0mdisplay\u001b[0m\u001b[0;34m(\u001b[0m\u001b[0;34m)\u001b[0m\u001b[0;34m\u001b[0m\u001b[0;34m\u001b[0m\u001b[0m\n\u001b[0m",
      "\u001b[0;31mAttributeError\u001b[0m: 'dict' object has no attribute 'display'"
     ]
    }
   ],
   "source": [
    "P2.display()"
   ]
  }
 ],
 "metadata": {
  "anaconda-cloud": {},
  "kernelspec": {
   "display_name": "Python 3",
   "language": "python",
   "name": "python3"
  },
  "language_info": {
   "codemirror_mode": {
    "name": "ipython",
    "version": 3
   },
   "file_extension": ".py",
   "mimetype": "text/x-python",
   "name": "python",
   "nbconvert_exporter": "python",
   "pygments_lexer": "ipython3",
   "version": "3.7.6"
  }
 },
 "nbformat": 4,
 "nbformat_minor": 1
}
