{
 "cells": [
  {
   "cell_type": "code",
   "execution_count": 1,
   "metadata": {},
   "outputs": [],
   "source": [
    "# Multiple outputs per cell in Jupyter \n",
    "from IPython.core.interactiveshell import InteractiveShell\n",
    "InteractiveShell.ast_node_interactivity = \"all\""
   ]
  },
  {
   "cell_type": "code",
   "execution_count": 2,
   "metadata": {},
   "outputs": [
    {
     "data": {
      "application/javascript": [
       "// Evitar autoscroll.\n",
       "IPython.OutputArea.prototype._should_scroll = function(lines) {\n",
       "    return false;\n",
       "}\n"
      ],
      "text/plain": [
       "<IPython.core.display.Javascript object>"
      ]
     },
     "metadata": {},
     "output_type": "display_data"
    }
   ],
   "source": [
    "%%javascript\n",
    "// Evitar autoscroll.\n",
    "IPython.OutputArea.prototype._should_scroll = function(lines) {\n",
    "    return false;\n",
    "}"
   ]
  },
  {
   "cell_type": "code",
   "execution_count": 3,
   "metadata": {},
   "outputs": [],
   "source": [
    "%matplotlib inline\n",
    "import matplotlib.pyplot as plt\n",
    "import numpy as np\n",
    "import pandas as pd\n",
    "%load_ext autoreload\n",
    "%autoreload 2\n",
    "from skeleton import *\n",
    "from sklearn.metrics import (recall_score, f1_score,\n",
    "                             precision_score, accuracy_score)\n",
    "import os"
   ]
  },
  {
   "cell_type": "code",
   "execution_count": 4,
   "metadata": {},
   "outputs": [],
   "source": [
    "def testClassifier(clf,train,y_train,test,y_test):\n",
    "    print(\"=== \",clf.__class__.__name__,end='')\n",
    "    print(\":\",vars(clf))\n",
    "    clf=clf.fit(train,y_train)\n",
    "    #Predecimos las etiqueta del conjunto de prueba\n",
    "    yp=clf.predict(test)\n",
    "    # Medidas de bondad\n",
    "    scores={}\n",
    "\n",
    "    scores['Accuracy']=accuracy_score(y_test,yp)\n",
    "    scores['Macro F1']=f1_score(y_test,yp,average='macro')\n",
    "    scores['Macro Recall']=recall_score(y_test,yp,average='macro')\n",
    "    scores['F1 is_humor=1']=f1_score(y_test,yp)\n",
    "    \n",
    "    print(\"Accuracy\",\"Macro F1\",\"Macro Recall\",\"F1 is_humor=1\",sep='\\t')\n",
    "    print(\"{:.6f}\\t{:.6f}\\t{:.6f}\\t{:.6f}\".format(\n",
    "        scores['Accuracy'],scores['Macro F1'],scores['Macro Recall'],scores['F1 is_humor=1']))\n",
    "                            \n",
    "#     print(\"Recall: \", scores['recall'])\n",
    "#     print(\"F1: \", scores['f1'])\n",
    "#     print(\"Accuracy: \", scores['accuracy'])\n",
    "#     print(\"F1 Humor: \", scores['f1_humor'])\n",
    "    #Vemos la frontera de decisión\n",
    "    plotDecisionBoundary(clf,train, y_train)\n",
    "    return scores"
   ]
  },
  {
   "cell_type": "markdown",
   "metadata": {},
   "source": [
    "## Un problema de texto  (Identificación de humor HAHA -2019)"
   ]
  },
  {
   "cell_type": "markdown",
   "metadata": {},
   "source": [
    "Para este ejemplo utilizaremos los datos proporcionados para la tarea 1 del HAHA - Humor Analysis based on Human Annotation, la cual consiste determinar si tweets en español son humorísticos o no (un problema de clasificación binaria). Esta tarea forma parte del Iberian Languages Evaluation Forum (IberLEF 2019)."
   ]
  },
  {
   "cell_type": "markdown",
   "metadata": {},
   "source": [
    "### Corpus \n",
    "\n",
    "El conjunto de datos fue etiquetado como se indica [5]. Todos los tweets están etiquetados como humorístico **is_humor=1**  o no humorístico **is_humor=0**. Los datos relevantes para el problema se clasificación ser muestran en el siguiente ejemplo:\n",
    "\n",
    "|Desscripción|Clave|Valor|\n",
    "|:------:|:------:|:-----:|\n",
    "|Tweet |text|Después de la tormenta sale... Tu mamá gritando porque no metiste la ropa.|\n",
    "|Etiqueta de clase|is_humor|1|\n",
    "|Representación vectorial|vec| Vectores de dimensión 300 (FastText preentrenados para español) |\n",
    "|Identificador|id|942079817905770496|\n",
    "\n"
   ]
  },
  {
   "cell_type": "code",
   "execution_count": 5,
   "metadata": {},
   "outputs": [],
   "source": [
    "# Cargamos lod datos.\n",
    "train_data=pd.read_json('data/haha_train_ft_pre.json',lines=True)"
   ]
  },
  {
   "cell_type": "code",
   "execution_count": 6,
   "metadata": {},
   "outputs": [
    {
     "data": {
      "text/html": [
       "<div>\n",
       "<style scoped>\n",
       "    .dataframe tbody tr th:only-of-type {\n",
       "        vertical-align: middle;\n",
       "    }\n",
       "\n",
       "    .dataframe tbody tr th {\n",
       "        vertical-align: top;\n",
       "    }\n",
       "\n",
       "    .dataframe thead th {\n",
       "        text-align: right;\n",
       "    }\n",
       "</style>\n",
       "<table border=\"1\" class=\"dataframe\">\n",
       "  <thead>\n",
       "    <tr style=\"text-align: right;\">\n",
       "      <th></th>\n",
       "      <th>id</th>\n",
       "      <th>text</th>\n",
       "      <th>is_humor</th>\n",
       "      <th>vec</th>\n",
       "    </tr>\n",
       "  </thead>\n",
       "  <tbody>\n",
       "    <tr>\n",
       "      <th>0</th>\n",
       "      <td>965767017268678658</td>\n",
       "      <td>Amo a @CamilaTuDiosaxD</td>\n",
       "      <td>0</td>\n",
       "      <td>[-0.06692000000000001, 0.13184, -0.0030723, -0...</td>\n",
       "    </tr>\n",
       "    <tr>\n",
       "      <th>1</th>\n",
       "      <td>965811724392726528</td>\n",
       "      <td>@NamiNapoleon hola como estan me pueden seguir</td>\n",
       "      <td>0</td>\n",
       "      <td>[-0.06776, -0.24253000000000002, -0.0065559999...</td>\n",
       "    </tr>\n",
       "    <tr>\n",
       "      <th>2</th>\n",
       "      <td>964984559547777024</td>\n",
       "      <td>Típico : Estar viajando en taxi y pensar tácti...</td>\n",
       "      <td>1</td>\n",
       "      <td>[-0.044634, -0.049435, -0.053049, -0.026851, 0...</td>\n",
       "    </tr>\n",
       "    <tr>\n",
       "      <th>3</th>\n",
       "      <td>941669646364762113</td>\n",
       "      <td>Me gusta todo de ti.. te amo espejo.</td>\n",
       "      <td>1</td>\n",
       "      <td>[-0.022054999999999998, -0.064284, -0.052083, ...</td>\n",
       "    </tr>\n",
       "    <tr>\n",
       "      <th>4</th>\n",
       "      <td>1009142890415652866</td>\n",
       "      <td>\" Egipto siempre acaba afuera \"\\r\\n\\r\\nCleopatra</td>\n",
       "      <td>1</td>\n",
       "      <td>[0.066164, -0.082201, -0.022706, -0.047533, 0....</td>\n",
       "    </tr>\n",
       "  </tbody>\n",
       "</table>\n",
       "</div>"
      ],
      "text/plain": [
       "                    id                                               text  \\\n",
       "0   965767017268678658                             Amo a @CamilaTuDiosaxD   \n",
       "1   965811724392726528     @NamiNapoleon hola como estan me pueden seguir   \n",
       "2   964984559547777024  Típico : Estar viajando en taxi y pensar tácti...   \n",
       "3   941669646364762113               Me gusta todo de ti.. te amo espejo.   \n",
       "4  1009142890415652866   \" Egipto siempre acaba afuera \"\\r\\n\\r\\nCleopatra   \n",
       "\n",
       "   is_humor                                                vec  \n",
       "0         0  [-0.06692000000000001, 0.13184, -0.0030723, -0...  \n",
       "1         0  [-0.06776, -0.24253000000000002, -0.0065559999...  \n",
       "2         1  [-0.044634, -0.049435, -0.053049, -0.026851, 0...  \n",
       "3         1  [-0.022054999999999998, -0.064284, -0.052083, ...  \n",
       "4         1  [0.066164, -0.082201, -0.022706, -0.047533, 0....  "
      ]
     },
     "execution_count": 6,
     "metadata": {},
     "output_type": "execute_result"
    }
   ],
   "source": [
    "#Vemos los primeros 5\n",
    "train_data.head()[['id','text','is_humor','vec']]"
   ]
  },
  {
   "cell_type": "code",
   "execution_count": 7,
   "metadata": {},
   "outputs": [
    {
     "data": {
      "text/plain": [
       "300"
      ]
     },
     "execution_count": 7,
     "metadata": {},
     "output_type": "execute_result"
    }
   ],
   "source": [
    "#Dimensión de los vectores\n",
    "len(train_data.vec[3])"
   ]
  },
  {
   "cell_type": "code",
   "execution_count": 8,
   "metadata": {},
   "outputs": [],
   "source": [
    "# Los datos de prueba\n",
    "test_data=pd.read_json('data/haha_test_ft_pre.json',lines=True)"
   ]
  },
  {
   "cell_type": "code",
   "execution_count": 9,
   "metadata": {},
   "outputs": [],
   "source": [
    "#Obtenemos la representación vectorial para los conjunto de prueba y entrenamiento\n",
    "train,y_train=np.array([np.array(x) for x in train_data.vec]),np.array(train_data.is_humor)\n",
    "test,y_test=np.array([np.array(x) for x in test_data.vec]),np.array(test_data.is_humor)"
   ]
  },
  {
   "cell_type": "code",
   "execution_count": null,
   "metadata": {},
   "outputs": [
    {
     "name": "stdout",
     "output_type": "stream",
     "text": [
      "===  NearestCentroid: {'distance': <function coseno at 0x7f21697bfef0>, 'algorithm': <bound method NearestCentroid.Average of <skeleton.NearestCentroid object at 0x7f21ac51be50>>, 'kwargs_': {}}\n",
      "Accuracy\tMacro F1\tMacro Recall\tF1 is_humor=1\n",
      "0.758506\t0.754136\t0.767883\t0.721359\n"
     ]
    },
    {
     "data": {
      "image/png": "[encoded data removed]",
      "text/plain": [
       "<Figure size 360x360 with 1 Axes>"
      ]
     },
     "metadata": {},
     "output_type": "display_data"
    },
    {
     "name": "stdout",
     "output_type": "stream",
     "text": [
      "===  NearestCentroid: {'distance': <function euclidiana at 0x7f216bc6bdd0>, 'algorithm': <bound method NearestCentroid.Average of <skeleton.NearestCentroid object at 0x7f21ac51ba10>>, 'kwargs_': {}}\n",
      "Accuracy\tMacro F1\tMacro Recall\tF1 is_humor=1\n",
      "0.764755\t0.760063\t0.772908\t0.726510\n"
     ]
    },
    {
     "data": {
      "image/png": "[encoded data removed]",
      "text/plain": [
       "<Figure size 360x360 with 1 Axes>"
      ]
     },
     "metadata": {},
     "output_type": "display_data"
    },
    {
     "name": "stdout",
     "output_type": "stream",
     "text": [
      "===  NearestCentroid: {'distance': <function coseno at 0x7f21697bfef0>, 'algorithm': <bound method NearestCentroid.Sum of <skeleton.NearestCentroid object at 0x7f2192bbd9d0>>, 'kwargs_': {}}\n",
      "Accuracy\tMacro F1\tMacro Recall\tF1 is_humor=1\n",
      "0.758506\t0.754136\t0.767883\t0.721359\n"
     ]
    },
    {
     "data": {
      "image/png": "[encoded data removed]",
      "text/plain": [
       "<Figure size 360x360 with 1 Axes>"
      ]
     },
     "metadata": {},
     "output_type": "display_data"
    },
    {
     "name": "stdout",
     "output_type": "stream",
     "text": [
      "===  NearestCentroid: {'distance': <function euclidiana at 0x7f216bc6bdd0>, 'algorithm': <bound method NearestCentroid.Sum of <skeleton.NearestCentroid object at 0x7f21ac5686d0>>, 'kwargs_': {}}\n",
      "Accuracy\tMacro F1\tMacro Recall\tF1 is_humor=1\n",
      "0.386335\t0.278674\t0.500000\t0.557347\n"
     ]
    },
    {
     "data": {
      "image/png": "[encoded data removed]",
      "text/plain": [
       "<Figure size 360x360 with 1 Axes>"
      ]
     },
     "metadata": {},
     "output_type": "display_data"
    },
    {
     "name": "stdout",
     "output_type": "stream",
     "text": [
      "===  NearestCentroid: {'distance': <function coseno at 0x7f21697bfef0>, 'algorithm': <bound method NearestCentroid.Rocchio of <skeleton.NearestCentroid object at 0x7f2192f57bd0>>, 'kwargs_': {'beta': 16, 'gamma': 4}}\n",
      "Accuracy\tMacro F1\tMacro Recall\tF1 is_humor=1\n",
      "0.756562\t0.752360\t0.766565\t0.720102\n"
     ]
    },
    {
     "data": {
      "image/png": "[encoded data removed]",
      "text/plain": [
       "<Figure size 360x360 with 1 Axes>"
      ]
     },
     "metadata": {},
     "output_type": "display_data"
    },
    {
     "name": "stdout",
     "output_type": "stream",
     "text": [
      "===  NearestCentroid: {'distance': <function euclidiana at 0x7f216bc6bdd0>, 'algorithm': <bound method NearestCentroid.Rocchio of <skeleton.NearestCentroid object at 0x7f218db0e0d0>>, 'kwargs_': {'beta': 16, 'gamma': 4}}\n",
      "Accuracy\tMacro F1\tMacro Recall\tF1 is_humor=1\n",
      "0.487849\t0.446826\t0.579715\t0.597468\n"
     ]
    },
    {
     "data": {
      "image/png": "[encoded data removed]",
      "text/plain": [
       "<Figure size 360x360 with 1 Axes>"
      ]
     },
     "metadata": {},
     "output_type": "display_data"
    },
    {
     "name": "stdout",
     "output_type": "stream",
     "text": [
      "===  NearestCentroid: {'distance': <function coseno at 0x7f21697bfef0>, 'algorithm': <bound method NearestCentroid.NormSum of <skeleton.NearestCentroid object at 0x7f218b34c910>>, 'kwargs_': {}}\n",
      "Accuracy\tMacro F1\tMacro Recall\tF1 is_humor=1\n",
      "0.758506\t0.754136\t0.767883\t0.721359\n"
     ]
    }
   ],
   "source": [
    "P={\"FastText\":{\"Accuracy\":0.809050,\"Macro F1\":0.793270,\"Macro Recall\":0.786900,\"F1 is_humor=1\":0.736140}} #Performance\n",
    "\n",
    "# \n",
    "P[\"NC.cos.avg\"]=testClassifier(NearestCentroid(distance='coseno',centroid_type='Average'),train,y_train,test,y_test)\n",
    "P[\"NC.euc.avg\"]=testClassifier(NearestCentroid(distance='euclidiana',centroid_type='Average'),train,y_train,test,y_test)\n",
    "\n",
    "P[\"NC.cos.sum\"]=testClassifier(NearestCentroid(distance='coseno',centroid_type='Sum'),train,y_train,test,y_test)\n",
    "P[\"NC.euc.sum\"]=testClassifier(NearestCentroid(distance='euclidiana',centroid_type='Sum'),train,y_train,test,y_test)\n",
    "\n",
    "P[\"NC.cos.rocchio\"]=testClassifier(NearestCentroid(distance='coseno',centroid_type='Rocchio',beta=16,gamma=4),train,y_train,test,y_test)\n",
    "P[\"NC.euc.rocchio\"]=testClassifier(NearestCentroid(distance='euclidiana',centroid_type='Rocchio',beta=16,gamma=4),train,y_train,test,y_test)\n",
    "\n",
    "P[\"NC.cos.nsum\"]=testClassifier(NearestCentroid(distance='coseno',centroid_type='NormSum'),train,y_train,test,y_test)\n",
    "P[\"NC.euc.nsum\"]=testClassifier(NearestCentroid(distance='euclidiana',centroid_type='NormSum'),train,y_train,test,y_test)\n",
    "\n",
    "\n",
    "P[\"KNN.cos.u\"]=testClassifier(kNN(distance='coseno',k=5,weight_type='uniform'),train,y_train,test,y_test)\n",
    "P[\"KNN.euc.u\"]=testClassifier(kNN(distance='euclidiana',k=5,weight_type='uniform'),train,y_train,test,y_test)\n",
    "\n",
    "P[\"KNN.cos.m\"]=testClassifier(kNN(distance='coseno',k=5,weight_type='mean_dist'),train,y_train,test,y_test)\n",
    "P[\"KNN.euc.m\"]=testClassifier(kNN(distance='euclidiana',k=5,weight_type='mean_dist'),train,y_train,test,y_test)\n",
    "\n",
    "P[\"KNN.cos.w\"]=testClassifier(kNN(distance='coseno',k=5,weight_type='weighed_dist'),train,y_train,test,y_test)\n",
    "P[\"KNN.euc.w\"]=testClassifier(kNN(distance='euclidiana',k=5,weight_type='weighed_dist'),train,y_train,test,y_test)"
   ]
  },
  {
   "cell_type": "code",
   "execution_count": null,
   "metadata": {},
   "outputs": [],
   "source": [
    "from toolbox import *"
   ]
  },
  {
   "cell_type": "code",
   "execution_count": null,
   "metadata": {},
   "outputs": [],
   "source": [
    "!wc -l data/haha_*.json\n",
    "# !cat data/haha_train_ft_pre_min10.json > data/haha_all_ft_pre_min10.json\n",
    "# !cat data/haha_test_ft_pre_min10.json >> data/haha_all_ft_pre_min10.json\n",
    "# !wc -l data/haha_all_ft_pre_min10.json\n",
    "!cat data/haha_train_ft_pre.json > data/haha_all_ft_pre.json\n",
    "!cat data/haha_test_ft_pre.json >> data/haha_all_ft_pre.json\n",
    "!wc -l data/haha_all_ft_pre.json\n",
    "\n",
    "!rm -f *.pickle\n",
    "inv_idx = InvertedIdx(\"data/haha_all_ft_pre.json\")\n",
    "inv_idx.process(showProgressEach=10000, stemm=False)\n",
    "inv_idx.compute_mtx()\n",
    "tfidf=pd.DataFrame(inv_idx.idx_mtx.todense(), index=inv_idx.corpus).T\n",
    "tfidf"
   ]
  },
  {
   "cell_type": "code",
   "execution_count": null,
   "metadata": {},
   "outputs": [],
   "source": [
    "train_n=len(train_data)\n",
    "test_n=len(test_data)\n",
    "train_n,test_n\n",
    "train2=np.ascontiguousarray(tfidf.head(train_n).to_numpy())\n",
    "test2=np.ascontiguousarray(tfidf.tail(test_n).to_numpy())\n",
    "train2.shape,test2.shape"
   ]
  },
  {
   "cell_type": "code",
   "execution_count": null,
   "metadata": {
    "scrolled": false
   },
   "outputs": [],
   "source": [
    "P2={} #Performance\n",
    "\n",
    "# \n",
    "P2[\"NC.cos.avg\"]=testClassifier(NearestCentroid(distance='coseno',centroid_type='Average'),train2,y_train,test2,y_test)\n",
    "P2[\"NC.euc.avg\"]=testClassifier(NearestCentroid(distance='euclidiana',centroid_type='Average'),train2,y_train,test2,y_test)\n",
    "\n",
    "P2[\"NC.cos.sum\"]=testClassifier(NearestCentroid(distance='coseno',centroid_type='Sum'),train2,y_train,test2,y_test)\n",
    "P2[\"NC.euc.sum\"]=testClassifier(NearestCentroid(distance='euclidiana',centroid_type='Sum'),train2,y_train,test2,y_test)\n",
    "\n",
    "P2[\"NC.cos.rocchio\"]=testClassifier(NearestCentroid(distance='coseno',centroid_type='Rocchio',beta=16,gamma=4),train2,y_train,test2,y_test)\n",
    "P2[\"NC.euc.rocchio\"]=testClassifier(NearestCentroid(distance='euclidiana',centroid_type='Rocchio',beta=16,gamma=4),train2,y_train,test2,y_test)\n",
    "\n",
    "P2[\"NC.cos.nsum\"]=testClassifier(NearestCentroid(distance='coseno',centroid_type='NormSum'),train2,y_train,test2,y_test)\n",
    "P2[\"NC.euc.nsum\"]=testClassifier(NearestCentroid(distance='euclidiana',centroid_type='NormSum'),train2,y_train,test2,y_test)\n",
    "\n",
    "\n",
    "P2[\"KNN.cos.u\"]=testClassifier(kNN(distance='coseno',k=5,weight_type='uniform'),train2,y_train,test2,y_test)\n",
    "P2[\"KNN.euc.u\"]=testClassifier(kNN(distance='euclidiana',k=5,weight_type='uniform'),train2,y_train,test2,y_test)\n",
    "\n",
    "P2[\"KNN.cos.m\"]=testClassifier(kNN(distance='coseno',k=5,weight_type='mean_dist'),train2,y_train,test2,y_test)\n",
    "P2[\"KNN.euc.m\"]=testClassifier(kNN(distance='euclidiana',k=5,weight_type='mean_dist'),train2,y_train,test2,y_test)\n",
    "\n",
    "P2[\"KNN.cos.w\"]=testClassifier(kNN(distance='coseno',k=5,weight_type='weighed_dist'),train2,y_train,test2,y_test)\n",
    "P2[\"KNN.euc.w\"]=testClassifier(kNN(distance='euclidiana',k=5,weight_type='weighed_dist'),train2,y_train,test2,y_test)"
   ]
  },
  {
   "cell_type": "code",
   "execution_count": null,
   "metadata": {},
   "outputs": [],
   "source": [
    "df=pd.DataFrame(P).T.sort_values(\"F1 is_humor=1\",ascending =False)\n",
    "df"
   ]
  },
  {
   "cell_type": "code",
   "execution_count": null,
   "metadata": {},
   "outputs": [],
   "source": [
    "df2=pd.DataFrame(P2).T.sort_values(\"F1 is_humor=1\",ascending =False)\n",
    "df2"
   ]
  },
  {
   "cell_type": "code",
   "execution_count": null,
   "metadata": {},
   "outputs": [],
   "source": [
    "df.describe()"
   ]
  },
  {
   "cell_type": "code",
   "execution_count": null,
   "metadata": {},
   "outputs": [],
   "source": [
    "df2.describe()"
   ]
  }
 ],
 "metadata": {
  "anaconda-cloud": {},
  "kernelspec": {
   "display_name": "Python 3",
   "language": "python",
   "name": "python3"
  },
  "language_info": {
   "codemirror_mode": {
    "name": "ipython",
    "version": 3
   },
   "file_extension": ".py",
   "mimetype": "text/x-python",
   "name": "python",
   "nbconvert_exporter": "python",
   "pygments_lexer": "ipython3",
   "version": "3.7.6"
  }
 },
 "nbformat": 4,
 "nbformat_minor": 1
}
