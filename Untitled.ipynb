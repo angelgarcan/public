{
 "cells": [
  {
   "cell_type": "code",
   "execution_count": 23,
   "metadata": {},
   "outputs": [
    {
     "name": "stdout",
     "output_type": "stream",
     "text": [
      "=====Wed May 6 05:40:30 UTC 2020\n",
      "B5_Clasificacion/\n",
      "B5_Clasificacion/skeleton.py\n",
      "B5_Clasificacion/data/\n",
      "B5_Clasificacion/data/haha_test_ft_pre_min10.json\n",
      "B5_Clasificacion/data/haha_train_ft_pre_min10.json\n",
      "B5_Clasificacion/clasificacion.ipynb\n",
      "B5_Clasificacion/clasificacion.ori.ipynb\n",
      "e6a3e52422b7e599a34d387928c17674  B5_Clasificacion.tgz\n",
      "^C\n"
     ]
    }
   ],
   "source": [
    "!while(true); do echo =====$(date); tar -zcvf B5_Clasificacion.tgz B5_Clasificacion/ ; md5sum B5_Clasificacion.tgz ; sleep 60 ; done"
   ]
  },
  {
   "cell_type": "code",
   "execution_count": 24,
   "metadata": {},
   "outputs": [],
   "source": [
    "!git add B5_Clasificacion.tgz"
   ]
  },
  {
   "cell_type": "code",
   "execution_count": 26,
   "metadata": {},
   "outputs": [],
   "source": [
    "!git config --global user.email \"angelgarcan@blinder.com\"\n",
    "!git config --global user.name \"AngelBlinder\""
   ]
  },
  {
   "cell_type": "code",
   "execution_count": 32,
   "metadata": {},
   "outputs": [
    {
     "name": "stdout",
     "output_type": "stream",
     "text": [
      "2020-05-06T05:44:31\r\n"
     ]
    }
   ],
   "source": [
    "!date +%FT%T"
   ]
  },
  {
   "cell_type": "code",
   "execution_count": 33,
   "metadata": {},
   "outputs": [
    {
     "name": "stdout",
     "output_type": "stream",
     "text": [
      "[master 3936427] 2020-05-06T05:44:42\r\n",
      " 32 files changed, 341 insertions(+)\r\n",
      " create mode 100644 .bash_logout\r\n",
      " create mode 100644 .bashrc\r\n",
      " create mode 100644 .cache/parso/CPython-37-33/17708d38681238dd1bba305ffeb4ac990f31754460f9a2481cbff62497eedbfb-8f10d5b5db374252c3ff316a81c5d3c565dfab5ba938ea42be9db353d20da8a6.pkl\r\n",
      " create mode 100644 .cache/pip/http/0/7/9/c/c/079ccb5a7b8801d3f6fcc77715d8eff742ca72ac64ac7a903d4b288b\r\n",
      " create mode 100644 .cache/pip/http/0/7/b/9/e/07b9e91e66088d569f88e9b16bfa93780de664ea4243c6ef9e4fb0c2\r\n",
      " create mode 100644 .cache/pip/http/0/c/2/1/8/0c218d526767991766d9b365a4f3e4449ce3579fd8b0f96a707d5a52\r\n",
      " create mode 100644 .cache/pip/http/3/3/9/7/4/33974f84394d9a943f68359da08431dab4af9f86c33962982ea21b5f\r\n",
      " create mode 100644 .cache/pip/http/3/5/9/6/8/3596862d816965b0c8fa5f06da895dbdc75cbc44a9f3e31272d52b2f\r\n",
      " create mode 100644 .cache/pip/http/4/4/e/5/b/44e5b11a6caa92636d8ccfe658d420ba4ed8f67f7f4e835b214255aa\r\n",
      " create mode 100644 .cache/pip/http/5/c/a/b/d/5cabd7529134c81b46142573ea24f902356c09c058a7a0f54f066887\r\n",
      " create mode 100644 .cache/pip/http/6/8/8/1/6/6881695d9110d18d8c52035757e6acf3f93dfb4bfa0b32afadf592b1\r\n",
      " create mode 100644 .cache/pip/http/7/3/c/3/a/73c3a780e17f5e947c788a9cb111cdef096f43dbe925001283e27a77\r\n",
      " create mode 100644 .cache/pip/http/a/1/5/a/3/a15a3a227f3412287f03121d8de35a7e4b8889a19d0448af719d96c1\r\n",
      " create mode 100644 .cache/pip/http/a/1/9/5/3/a19537d3cf37c122db841d6fe4cd322bc10d1a558bb00d146b85cb9a\r\n",
      " create mode 100644 .cache/pip/http/d/0/1/1/9/d011918cda486d0b36c5e7e91dcb2315fd5f921d0d0c8e515b5e643d\r\n",
      " create mode 100644 .cache/pip/http/e/0/f/d/0/e0fd01eecf66eb1b785e0e343778e0f3ae84d1dc536a34d42c8b4153\r\n",
      " create mode 100644 .cache/pip/selfcheck/bb5acb8a5b908de1839df0c37960d6fb29dbcdb1e31a9a9f484d281a\r\n",
      " create mode 100644 .config/configstore/update-notifier-npm.json\r\n",
      " create mode 100644 .ipynb_checkpoints/Untitled-checkpoint.ipynb\r\n",
      " create mode 100644 .ipython/profile_default/history.sqlite\r\n",
      " create mode 100644 .ipython/profile_default/startup/README\r\n",
      " create mode 100644 .jupyter/migrated\r\n",
      " create mode 100644 .jupyter/nbconfig/tree.json\r\n",
      " create mode 100644 .local/share/jupyter/nbsignatures.db\r\n",
      " create mode 100644 .local/share/jupyter/notebook_secret\r\n",
      " create mode 100644 .local/share/jupyter/runtime/kernel-36e7ee50-1278-4427-a146-f22d5fb3b1ba.json\r\n",
      " create mode 100644 .local/share/jupyter/runtime/nbserver-1-open.html\r\n",
      " create mode 100644 .local/share/jupyter/runtime/nbserver-1.json\r\n",
      " create mode 100644 .local/share/jupyter/runtime/notebook_cookie_secret\r\n",
      " create mode 100644 .profile\r\n",
      " create mode 100644 B5_Clasificacion.tgz\r\n",
      " create mode 100644 Untitled.ipynb\r\n"
     ]
    }
   ],
   "source": [
    "!git commit -a -m \"$(date +%FT%T)\""
   ]
  },
  {
   "cell_type": "code",
   "execution_count": null,
   "metadata": {},
   "outputs": [],
   "source": []
  }
 ],
 "metadata": {
  "kernelspec": {
   "display_name": "Python 3",
   "language": "python",
   "name": "python3"
  },
  "language_info": {
   "codemirror_mode": {
    "name": "ipython",
    "version": 3
   },
   "file_extension": ".py",
   "mimetype": "text/x-python",
   "name": "python",
   "nbconvert_exporter": "python",
   "pygments_lexer": "ipython3",
   "version": "3.7.6"
  }
 },
 "nbformat": 4,
 "nbformat_minor": 4
}
