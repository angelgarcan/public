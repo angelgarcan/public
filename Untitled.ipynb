{
 "cells": [
  {
   "cell_type": "code",
   "execution_count": 23,
   "metadata": {},
   "outputs": [
    {
     "name": "stdout",
     "output_type": "stream",
     "text": [
      "=====Wed May 6 05:40:30 UTC 2020\n",
      "B5_Clasificacion/\n",
      "B5_Clasificacion/skeleton.py\n",
      "B5_Clasificacion/data/\n",
      "B5_Clasificacion/data/haha_test_ft_pre_min10.json\n",
      "B5_Clasificacion/data/haha_train_ft_pre_min10.json\n",
      "B5_Clasificacion/clasificacion.ipynb\n",
      "B5_Clasificacion/clasificacion.ori.ipynb\n",
      "e6a3e52422b7e599a34d387928c17674  B5_Clasificacion.tgz\n",
      "^C\n"
     ]
    }
   ],
   "source": [
    "!while(true); do echo =====$(date); tar -zcvf B5_Clasificacion.tgz B5_Clasificacion/ ; md5sum B5_Clasificacion.tgz ; sleep 60 ; done"
   ]
  },
  {
   "cell_type": "code",
   "execution_count": 24,
   "metadata": {},
   "outputs": [],
   "source": [
    "!git add B5_Clasificacion.tgz"
   ]
  },
  {
   "cell_type": "code",
   "execution_count": 26,
   "metadata": {},
   "outputs": [],
   "source": [
    "!git config --global user.email \"angelgarcan@blinder.com\"\n",
    "!git config --global user.name \"AngelBlinder\""
   ]
  },
  {
   "cell_type": "code",
   "execution_count": 32,
   "metadata": {},
   "outputs": [
    {
     "name": "stdout",
     "output_type": "stream",
     "text": [
      "2020-05-06T05:44:31\r\n"
     ]
    }
   ],
   "source": [
    "!date +%FT%T"
   ]
  },
  {
   "cell_type": "code",
   "execution_count": 36,
   "metadata": {},
   "outputs": [
    {
     "name": "stdout",
     "output_type": "stream",
     "text": [
      "[master cd3367f] 2020-05-06T05:45:23\r\n",
      " 1 file changed, 0 insertions(+), 0 deletions(-)\r\n"
     ]
    }
   ],
   "source": [
    "!git commit -a -m \"$(date +%FT%T)\""
   ]
  },
  {
   "cell_type": "code",
   "execution_count": 38,
   "metadata": {},
   "outputs": [
    {
     "name": "stdout",
     "output_type": "stream",
     "text": [
      "+ true\n",
      "++ date\n",
      "+ NOW='Wed May  6 05:50:19 UTC 2020'\n",
      "+ echo ===== Wed May 6 05:50:19 UTC 2020\n",
      "===== Wed May 6 05:50:19 UTC 2020\n",
      "+ git add .\n",
      "warning: adding embedded git repository: .local/share/Trash/files/public\n",
      "hint: You've added another git repository inside your current repository.\n",
      "hint: Clones of the outer repository will not contain the contents of\n",
      "hint: the embedded repository and will not know how to obtain it.\n",
      "hint: If you meant to add a submodule, use:\n",
      "hint: \n",
      "hint: \tgit submodule add <url> .local/share/Trash/files/public\n",
      "hint: \n",
      "hint: If you added this path by mistake, you can remove it from the\n",
      "hint: index with:\n",
      "hint: \n",
      "hint: \tgit rm --cached .local/share/Trash/files/public\n",
      "hint: \n",
      "hint: See \"git help submodule\" for more information.\n",
      "+ git commit -a -m 'Wed May  6 05:50:19 UTC 2020'\n",
      "[master 49fc1e4] Wed May  6 05:50:19 UTC 2020\n",
      " 7 files changed, 32 insertions(+), 36 deletions(-)\n",
      " create mode 100644 .gitconfig\n",
      " create mode 160000 .local/share/Trash/files/public\n",
      " create mode 100644 .local/share/Trash/info/public.trashinfo\n",
      " create mode 100644 backup.sh\n",
      "+ git push\n",
      "Username for 'https://github.com': ^C\n"
     ]
    }
   ],
   "source": [
    "!bash backup.sh"
   ]
  }
 ],
 "metadata": {
  "kernelspec": {
   "display_name": "Python 3",
   "language": "python",
   "name": "python3"
  },
  "language_info": {
   "codemirror_mode": {
    "name": "ipython",
    "version": 3
   },
   "file_extension": ".py",
   "mimetype": "text/x-python",
   "name": "python",
   "nbconvert_exporter": "python",
   "pygments_lexer": "ipython3",
   "version": "3.7.6"
  }
 },
 "nbformat": 4,
 "nbformat_minor": 4
}
