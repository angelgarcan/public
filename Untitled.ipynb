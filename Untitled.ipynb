{
 "cells": [
  {
   "cell_type": "code",
   "execution_count": null,
   "metadata": {},
   "outputs": [
    {
     "name": "stdout",
     "output_type": "stream",
     "text": [
      "===== 2020-05-06T05:58:38\n",
      "[master 2565e13] 2020-05-06T05:58:38: B5_Clasificacion\n",
      " 2 files changed, 1 insertion(+), 1 deletion(-)\n",
      "Counting objects: 6, done.\n",
      "Delta compression using up to 72 threads.\n",
      "Compressing objects: 100% (5/5), done.\n",
      "Writing objects: 100% (6/6), 641 bytes | 641.00 KiB/s, done.\n",
      "Total 6 (delta 3), reused 0 (delta 0)\n",
      "remote: Resolving deltas: 100% (3/3), completed with 3 local objects.\u001b[K\n",
      "To https://github.com/angelgarcan/public.git\n",
      "   8bc894b..2565e13  master -> master\n",
      "Sleeping...\n",
      "\n",
      "===== 2020-05-06T05:59:42\n",
      "[master f507f9c] 2020-05-06T05:59:42: B5_Clasificacion\n",
      " 2 files changed, 5 insertions(+), 5 deletions(-)\n",
      "Counting objects: 7, done.\n",
      "Delta compression using up to 72 threads.\n",
      "Compressing objects: 100% (6/6), done.\n",
      "Writing objects: 100% (7/7), 885 bytes | 885.00 KiB/s, done.\n",
      "Total 7 (delta 3), reused 0 (delta 0)\n",
      "remote: Resolving deltas: 100% (3/3), completed with 3 local objects.\u001b[K\n",
      "To https://github.com/angelgarcan/public.git\n",
      "   2565e13..f507f9c  master -> master\n",
      "Sleeping...\n",
      "\n",
      "===== 2020-05-06T06:00:47\n",
      "[master 2e00bf1] 2020-05-06T06:00:47: B5_Clasificacion\n",
      " 2 files changed, 3 insertions(+)\n",
      " rename B5_Clasificacion.tgz => .local/share/Trash/files/B5_Clasificacion.tgz (100%)\n",
      " create mode 100644 .local/share/Trash/info/B5_Clasificacion.tgz.trashinfo\n",
      "Counting objects: 8, done.\n",
      "Delta compression using up to 72 threads.\n",
      "Compressing objects: 100% (7/7), done.\n",
      "Writing objects: 100% (8/8), 746 bytes | 746.00 KiB/s, done.\n",
      "Total 8 (delta 1), reused 0 (delta 0)\n",
      "remote: Resolving deltas: 100% (1/1), completed with 1 local object.\u001b[K\n",
      "To https://github.com/angelgarcan/public.git\n",
      "   f507f9c..2e00bf1  master -> master\n",
      "Sleeping...\n",
      "\n",
      "===== 2020-05-06T06:01:51\n",
      "[master f1ca7a0] 2020-05-06T06:01:51: B5_Clasificacion\n",
      " 4 files changed, 107 insertions(+), 83 deletions(-)\n",
      "Counting objects: 9, done.\n",
      "Delta compression using up to 72 threads.\n",
      "Compressing objects: 100% (8/8), done.\n",
      "Writing objects: 100% (9/9), 1.76 KiB | 899.00 KiB/s, done.\n",
      "Total 9 (delta 3), reused 0 (delta 0)\n",
      "remote: Resolving deltas: 100% (3/3), completed with 3 local objects.\u001b[K\n",
      "To https://github.com/angelgarcan/public.git\n",
      "   2e00bf1..f1ca7a0  master -> master\n",
      "Sleeping...\n",
      "\n"
     ]
    }
   ],
   "source": [
    "!bash backup.sh B5_Clasificacion"
   ]
  }
 ],
 "metadata": {
  "kernelspec": {
   "display_name": "Python 3",
   "language": "python",
   "name": "python3"
  },
  "language_info": {
   "codemirror_mode": {
    "name": "ipython",
    "version": 3
   },
   "file_extension": ".py",
   "mimetype": "text/x-python",
   "name": "python",
   "nbconvert_exporter": "python",
   "pygments_lexer": "ipython3",
   "version": "3.7.6"
  }
 },
 "nbformat": 4,
 "nbformat_minor": 4
}
