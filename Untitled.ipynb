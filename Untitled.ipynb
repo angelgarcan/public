{
 "cells": [
  {
   "cell_type": "code",
   "execution_count": 23,
   "metadata": {},
   "outputs": [
    {
     "name": "stdout",
     "output_type": "stream",
     "text": [
      "=====Wed May 6 05:40:30 UTC 2020\n",
      "B5_Clasificacion/\n",
      "B5_Clasificacion/skeleton.py\n",
      "B5_Clasificacion/data/\n",
      "B5_Clasificacion/data/haha_test_ft_pre_min10.json\n",
      "B5_Clasificacion/data/haha_train_ft_pre_min10.json\n",
      "B5_Clasificacion/clasificacion.ipynb\n",
      "B5_Clasificacion/clasificacion.ori.ipynb\n",
      "e6a3e52422b7e599a34d387928c17674  B5_Clasificacion.tgz\n",
      "^C\n"
     ]
    }
   ],
   "source": [
    "!while(true); do echo =====$(date); tar -zcvf B5_Clasificacion.tgz B5_Clasificacion/ ; md5sum B5_Clasificacion.tgz ; sleep 60 ; done"
   ]
  },
  {
   "cell_type": "code",
   "execution_count": 24,
   "metadata": {},
   "outputs": [],
   "source": [
    "!git add B5_Clasificacion.tgz"
   ]
  },
  {
   "cell_type": "code",
   "execution_count": 26,
   "metadata": {},
   "outputs": [],
   "source": [
    "!git config --global user.email \"angelgarcan@blinder.com\"\n",
    "!git config --global user.name \"AngelBlinder\""
   ]
  },
  {
   "cell_type": "code",
   "execution_count": 25,
   "metadata": {},
   "outputs": [
    {
     "name": "stdout",
     "output_type": "stream",
     "text": [
      "\r\n",
      "*** Please tell me who you are.\r\n",
      "\r\n",
      "Run\r\n",
      "\r\n",
      "  git config --global user.email \"you@example.com\"\r\n",
      "  git config --global user.name \"Your Name\"\r\n",
      "\r\n",
      "to set your account's default identity.\r\n",
      "Omit --global to set the identity only in this repository.\r\n",
      "\r\n",
      "fatal: unable to auto-detect email address (got 'jovyan@jupyter-angelgarcan-2dpublic-2dj4n4rjv7.(none)')\r\n"
     ]
    }
   ],
   "source": [
    "!git commit -a"
   ]
  }
 ],
 "metadata": {
  "kernelspec": {
   "display_name": "Python 3",
   "language": "python",
   "name": "python3"
  },
  "language_info": {
   "codemirror_mode": {
    "name": "ipython",
    "version": 3
   },
   "file_extension": ".py",
   "mimetype": "text/x-python",
   "name": "python",
   "nbconvert_exporter": "python",
   "pygments_lexer": "ipython3",
   "version": "3.7.6"
  }
 },
 "nbformat": 4,
 "nbformat_minor": 4
}
