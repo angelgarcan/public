{
 "cells": [
  {
   "cell_type": "code",
   "execution_count": 9,
   "metadata": {},
   "outputs": [
    {
     "data": {
      "application/javascript": [
       "if (!(\"Notification\" in window)) {\n",
       "    alert(\"This browser does not support desktop notifications, so the %%notify magic will not work.\");\n",
       "} else if (Notification.permission !== 'granted' && Notification.permission !== 'denied') {\n",
       "    Notification.requestPermission(function (permission) {\n",
       "        if(!('permission' in Notification)) {\n",
       "            Notification.permission = permission;\n",
       "        }\n",
       "    })\n",
       "}\n"
      ],
      "text/plain": [
       "<IPython.core.display.Javascript object>"
      ]
     },
     "metadata": {},
     "output_type": "display_data"
    }
   ],
   "source": [
    "# Multiple outputs per cell in Jupyter \n",
    "from IPython.core.interactiveshell import InteractiveShell\n",
    "InteractiveShell.ast_node_interactivity = \"all\"\n",
    "%load_ext jupyternotify\n",
    "%autonotify -a 30"
   ]
  },
  {
   "cell_type": "code",
   "execution_count": 2,
   "metadata": {
    "collapsed": true
   },
   "outputs": [
    {
     "data": {
      "application/javascript": [
       "// Evitar autoscroll.\n",
       "IPython.OutputArea.prototype._should_scroll = function(lines) {\n",
       "    return false;\n",
       "}\n"
      ],
      "text/plain": [
       "<IPython.core.display.Javascript object>"
      ]
     },
     "metadata": {},
     "output_type": "display_data"
    }
   ],
   "source": [
    "%%javascript\n",
    "// Evitar autoscroll.\n",
    "IPython.OutputArea.prototype._should_scroll = function(lines) {\n",
    "    return false;\n",
    "}"
   ]
  },
  {
   "cell_type": "code",
   "execution_count": 8,
   "metadata": {
    "collapsed": true
   },
   "outputs": [],
   "source": [
    "from integrado import *\n",
    "%load_ext autoreload\n",
    "%autoreload 2"
   ]
  },
  {
   "cell_type": "code",
   "execution_count": null,
   "metadata": {},
   "outputs": [],
   "source": [
    "tokens=Tokens().tokenize(\"data/geo-mx-2004_min.json\",replace=True,showProgressEach=10000)"
   ]
  },
  {
   "cell_type": "code",
   "execution_count": 5,
   "metadata": {
    "collapsed": true
   },
   "outputs": [
    {
     "name": "stdout",
     "output_type": "stream",
     "text": [
      "** Counting TF & DF ...\n",
      "2020-05-12 19:23:37.210103 :: 0.000988 - Processing item #0 \n",
      "** Calculating TF-IDF...\n",
      "2020-05-12 19:23:37.909169 :: 0.700054 - Processing item #0 \n",
      "** Sorting posting lists...\n",
      "2020-05-12 19:23:38.389240 :: 1.180125 - Processing item #0 \n",
      "2020-05-12 19:23:38.499494 :: 1.290379 - Processing item #10000 \n"
     ]
    }
   ],
   "source": [
    "index_=Index().computePostingLists(tokens,showProgressEach=10000)\n",
    "len(index_.postlists.keys())"
   ]
  },
  {
   "cell_type": "code",
   "execution_count": 12,
   "metadata": {},
   "outputs": [
    {
     "name": "stdout",
     "output_type": "stream",
     "text": [
      "[11, 12, 39, 42, 104, 143, 157, 162, 167, 175, 181, 216, 258, 267, 270, 278, 312, 335, 375, 402, 439, 446, 482, 509, 513, 542, 583, 632, 663, 683, 715, 718, 719, 721, 727, 783, 832, 850, 853, 889, 913, 939, 948, 971, 993, 1010, 1027, 1065, 1067, 1073, 1081, 1084, 1140, 1143, 1161, 1187, 1210, 1224, 1233, 1254, 1256, 1306, 1350, 1370, 1379, 1397, 1438, 1441, 1443, 1445, 1496, 1503, 1528, 1582, 1601, 1701, 1753, 1757, 1767, 1772, 1783, 1784, 1817, 1851, 1871, 1876, 1902, 1933, 1955, 1956, 1968, 2006, 2035, 2090, 2133, 2142, 2144, 2146, 2154, 2178, 2184, 2194, 2200, 2210, 2216, 2250, 2253, 2280, 2289, 2305, 2317, 2409, 2446, 2473, 2479, 2484, 2494, 2499, 2503, 2510, 2512, 2521, 2525, 2555, 2589, 2590, 2596, 2620, 2647, 2660, 2687, 2692, 2740, 2810, 2843, 2856, 2861, 2876, 2880, 2884, 2945, 2967, 2981, 2993, 3018, 3040, 3048, 3072, 3123, 3143, 3162, 3219, 3220, 3284, 3293, 3297, 3299, 3303, 3313, 3317, 3325, 3350, 3357, 3430, 3436, 3463, 3528, 3572, 3592, 3594, 3624, 3630, 3641, 3668, 3669, 3743, 3747, 3762, 3842, 3876, 3887, 3902, 3949, 3962, 3972, 4006, 4078, 4085, 4093, 4155, 4190, 4211, 4230, 4254, 4258, 4275, 4285, 4322, 4326, 4355, 4361, 4368, 4424, 4441, 4447, 4480, 4498, 4504, 4570, 4573, 4596, 4645, 4649, 4660, 4675, 4694, 4733, 4737, 4746, 4754, 4783, 4799, 4803, 4849, 4868, 4871, 4874, 4946, 4968, 4974, 4977, 4985, 4991, 5000, 5020, 5025, 5035, 5037, 5040, 5089, 5096, 5192, 5201, 5206, 5216, 5258, 5271, 5285, 5295, 5303, 5325, 5337, 5392, 5394, 5410, 5426, 5439, 5446, 5459, 5505, 5512, 5519, 5552, 5639, 5664, 5703, 5722, 5806, 5835, 5857, 5939, 5954, 5973, 6025, 6053, 6060, 6068, 6083, 6100, 6105, 6115, 6162, 6222, 6236, 6258, 6260, 6262, 6265, 6274, 6276, 6279, 6290, 6307, 6313, 6321, 6327, 6331, 6381, 6404, 6413, 6428, 6452, 6474, 6488, 6503, 6508, 6541, 6561, 6576, 6621, 6694, 6750, 6778, 6784, 6786, 6790, 6796, 6841, 6863, 6885, 6897, 6929, 6931, 6952, 6955, 6972, 7001, 7054, 7071, 7076, 7090, 7097, 7107, 7108, 7115, 7121, 7125, 7140, 7186, 7216, 7222, 7287, 7314, 7315, 7331, 7343, 7345, 7372, 7386, 7430, 7450, 7452, 7486, 7495, 7496, 7543, 7548, 7573, 7597, 7601, 7609, 7662, 7663, 7681, 7702, 7724, 7745, 7791, 7834, 7956, 8020, 8025, 8096, 8099, 8111, 8122, 8139, 8159, 8177, 8182, 8211, 8218, 8244, 8248, 8295, 8304, 8311, 8322, 8400, 8413, 8427, 8452, 8478, 8495, 8525, 8528, 8565, 8583, 8596, 8642, 8647, 8685, 8715, 8766, 8767, 8785, 8848, 8856, 8858, 8864, 8870, 8873, 8886, 8901, 8914, 8930, 9041, 9042, 9080, 9084, 9130, 9153, 9186, 9189, 9212, 9218, 9257, 9286, 9296, 9297, 9366, 9372, 9382, 9436, 9437, 9438, 9462, 9463, 9495, 9550, 9565, 9581, 9594, 9603, 9605, 9636, 9647, 9653, 9668, 9713, 9730, 9773, 9814, 9856, 9882, 9900, 9910, 9948, 9978, 9984]\n"
     ]
    }
   ],
   "source": [
    "print(index_.o(\"covid coronavirus pandemia cuarentena\",tokenize=True))"
   ]
  },
  {
   "cell_type": "code",
   "execution_count": 13,
   "metadata": {},
   "outputs": [
    {
     "name": "stdout",
     "output_type": "stream",
     "text": [
      "460 [11, 12, 39, 42, 104]\n",
      "460 [['afortun', 'suel', 'sol', 'madr', 'cas', 'cuarenten', 'pas', 'si'], ['escuch', 'enlaz', 'inform', 'pandemi', 'retransmision', 'conciert', 'orquest', 'sinfon', 'nacional', 'honor', 'bethov', 'programacion'], ['altur', 'cuarenten', 'cuestion', 'si', 'amig', 'posit', 'pendej', 'comprob', 'toler'], ['si', 'sacrific', 'coloni', 'culiac', 'cov', 'seri', 'baranc'], ['dic', 'vay', 'acab', 'cov', 'da', 'cas', 'klosters']]\n"
     ]
    }
   ],
   "source": [
    "ds=index_.o(\"covid coronavirus pandemia cuarentena\",tokenize=True)\n",
    "print(len(ds),ds[:5])\n",
    "docs=tokens.getDocs(ds)\n",
    "print(len(docs),docs[:5])"
   ]
  },
  {
   "cell_type": "code",
   "execution_count": 7,
   "metadata": {
    "collapsed": true
   },
   "outputs": [
    {
     "data": {
      "text/plain": [
       "20"
      ]
     },
     "execution_count": 7,
     "metadata": {},
     "output_type": "execute_result"
    },
    {
     "name": "stdout",
     "output_type": "stream",
     "text": [
      "Total = 21002\n",
      "[(5688, 'ds'), (5504, 'docs'), (1064, 'Tokens'), (1064, 'InteractiveShell'), (1064, 'Index'), (1064, 'FastText'), (1064, 'Counter'), (400, 'defaultdict'), (278, '_i7'), (248, '_oh'), (248, 'Out'), (195, '_i1'), (172, '_i6'), (172, '_i'), (167, '_i2'), (144, 'tweet_iterator'), (138, '_iii'), (138, '_i4'), (136, '_ih'), (136, 'In'), (133, '_ii'), (133, '_i5'), (113, '__doc__'), (88, 'tb'), (88, 'sys'), (88, 'pd'), (88, 'os'), (88, 'np'), (88, 'gc'), (88, 'datetime'), (88, '__builtins__'), (88, '__builtin__'), (80, '_dh'), (72, 'get_ipython'), (72, '_i3'), (64, 'tokens'), (64, 'quit'), (64, 'index_'), (64, 'exit'), (57, '__name__'), (53, '___'), (53, '__'), (28, '_7'), (28, '_'), (16, '__spec__'), (16, '__package__'), (16, '__loader__')]\n"
     ]
    }
   ],
   "source": [
    "gc.collect()\n",
    "import sys\n",
    "local_vars = list(locals().items())\n",
    "tot=0\n",
    "vars_=[]\n",
    "for var, obj in local_vars:\n",
    "    mem=sys.getsizeof(obj)\n",
    "    tot+=mem\n",
    "    vars_.append((mem,var))\n",
    "print(\"Total =\",tot)\n",
    "vars_.sort(reverse=True)\n",
    "print(vars_)"
   ]
  },
  {
   "cell_type": "code",
   "execution_count": null,
   "metadata": {
    "collapsed": true
   },
   "outputs": [],
   "source": []
  }
 ],
 "metadata": {
  "kernelspec": {
   "display_name": "Python 3",
   "language": "python",
   "name": "python3"
  },
  "language_info": {
   "codemirror_mode": {
    "name": "ipython",
    "version": 3
   },
   "file_extension": ".py",
   "mimetype": "text/x-python",
   "name": "python",
   "nbconvert_exporter": "python",
   "pygments_lexer": "ipython3",
   "version": "3.7.6"
  }
 },
 "nbformat": 4,
 "nbformat_minor": 4
}
