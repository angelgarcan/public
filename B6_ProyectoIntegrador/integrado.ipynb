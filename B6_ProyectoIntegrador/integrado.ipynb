{
 "cells": [
  {
   "cell_type": "code",
   "execution_count": 9,
   "metadata": {},
   "outputs": [
    {
     "data": {
      "application/javascript": [
       "if (!(\"Notification\" in window)) {\n",
       "    alert(\"This browser does not support desktop notifications, so the %%notify magic will not work.\");\n",
       "} else if (Notification.permission !== 'granted' && Notification.permission !== 'denied') {\n",
       "    Notification.requestPermission(function (permission) {\n",
       "        if(!('permission' in Notification)) {\n",
       "            Notification.permission = permission;\n",
       "        }\n",
       "    })\n",
       "}\n"
      ],
      "text/plain": [
       "<IPython.core.display.Javascript object>"
      ]
     },
     "metadata": {},
     "output_type": "display_data"
    }
   ],
   "source": [
    "# Multiple outputs per cell in Jupyter \n",
    "from IPython.core.interactiveshell import InteractiveShell\n",
    "InteractiveShell.ast_node_interactivity = \"all\"\n",
    "%load_ext jupyternotify\n",
    "%autonotify -a 30"
   ]
  },
  {
   "cell_type": "code",
   "execution_count": 2,
   "metadata": {
    "collapsed": true
   },
   "outputs": [
    {
     "data": {
      "application/javascript": [
       "// Evitar autoscroll.\n",
       "IPython.OutputArea.prototype._should_scroll = function(lines) {\n",
       "    return false;\n",
       "}\n"
      ],
      "text/plain": [
       "<IPython.core.display.Javascript object>"
      ]
     },
     "metadata": {},
     "output_type": "display_data"
    }
   ],
   "source": [
    "%%javascript\n",
    "// Evitar autoscroll.\n",
    "IPython.OutputArea.prototype._should_scroll = function(lines) {\n",
    "    return false;\n",
    "}"
   ]
  },
  {
   "cell_type": "code",
   "execution_count": 24,
   "metadata": {},
   "outputs": [
    {
     "name": "stdout",
     "output_type": "stream",
     "text": [
      "The autoreload extension is already loaded. To reload it, use:\n",
      "  %reload_ext autoreload\n"
     ]
    }
   ],
   "source": [
    "from integrado import *\n",
    "%load_ext autoreload\n",
    "%autoreload 2"
   ]
  },
  {
   "cell_type": "code",
   "execution_count": 60,
   "metadata": {},
   "outputs": [
    {
     "name": "stdout",
     "output_type": "stream",
     "text": [
      "** Processing data/geo-mx-2004_min.json ...\n",
      "2020-05-12 20:23:23.000319 :: 0.000186 - Processing item #0 \n",
      "** Processed 1000 lines. Saved to /home/jovyan/public/B6_ProyectoIntegrador/data/geo-mx-2004_min.npy.\n"
     ]
    }
   ],
   "source": [
    "tokens=Tokens(\"data/geo-mx-2004_min.json\",replace=True,showProgressEach=10000)"
   ]
  },
  {
   "cell_type": "code",
   "execution_count": 61,
   "metadata": {},
   "outputs": [
    {
     "name": "stdout",
     "output_type": "stream",
     "text": [
      "** Counting TF & DF ...\n",
      "2020-05-12 20:23:53.946680 :: 0.001112 - Processing item #0 \n",
      "** Calculating TF-IDF...\n",
      "2020-05-12 20:23:53.984287 :: 0.038719 - Processing item #0 \n",
      "** Sorting posting lists...\n",
      "2020-05-12 20:23:54.092733 :: 0.147165 - Processing item #0 \n"
     ]
    },
    {
     "data": {
      "text/plain": [
       "2435"
      ]
     },
     "execution_count": 61,
     "metadata": {},
     "output_type": "execute_result"
    }
   ],
   "source": [
    "index_=Index(tokens,showProgressEach=10000)\n",
    "len(index_.postlists.keys())"
   ]
  },
  {
   "cell_type": "code",
   "execution_count": 62,
   "metadata": {
    "scrolled": true
   },
   "outputs": [
    {
     "name": "stdout",
     "output_type": "stream",
     "text": [
      "33 [12, 39, 42, 104, 143]\n",
      "33 [['escucha', 'enlazados', 'informarse', 'pandemia', 'retransmision'], ['alturas', 'cuarentena', 'cuestiono', 'si', 'amigos'], ['si', 'sacrificar', 'colonia', 'culiacan', 'covid'], ['dice', 'vayamos', 'acabe', 'covid', 'da'], ['abril', 'mes', 'clave', 'tema', 'covid']]\n"
     ]
    },
    {
     "data": {
      "text/plain": [
       "['#QuédateEnCasa \\n#FelizMiércoles\\nEscucha #UnidosPorLasAudienciasCovid19 enlazados a \\n@RadioEducacion para informarse  de la pandemia; y la retransmisión de los conciertos de la Orquesta Sinfónica Nacional en honor a Beethoven en la programación del 1 de #abril de 2020🐬 https://t.co/EBgx6FdsOY',\n",
       " 'A estas alturas de la cuarentena #COVID19mx me cuestiono si mis \"amigos\" son muy positivos o muy pendejos;\\nLo que comprobé es que soy muy tolerante',\n",
       " 'Si tuvieras que sacrificar una colonia de Culiacán por el Covid-19 ¿Cual sería? y ¿Por qué Barrancos?',\n",
       " '@majoxmendez Dice que vayamos cuando acabe lo del Covid, que él da la casa y las klosters',\n",
       " '01 de abril del 2020 \\nUn mes clave para el tema del COVID19\\nCuídense mucho y dentro de sus posibilidades quédense en casa por favor 🙌']"
      ]
     },
     "execution_count": 62,
     "metadata": {},
     "output_type": "execute_result"
    }
   ],
   "source": [
    "ds=index_.o(\"covid coronavirus pandemia cuarentena\",tokenize=True)\n",
    "print(len(ds),ds[:5])\n",
    "docs=tokens.getToks(ds)\n",
    "print(len(docs),docs[:5])\n",
    "[tw['text'] for tw in tokens.getTws(ds[:5])]"
   ]
  },
  {
   "cell_type": "code",
   "execution_count": 54,
   "metadata": {},
   "outputs": [],
   "source": [
    "from gensim.models import FastText"
   ]
  },
  {
   "cell_type": "code",
   "execution_count": 63,
   "metadata": {},
   "outputs": [],
   "source": [
    "class Embeddings():\n",
    "    \n",
    "    def __init__(self,tokens):        \n",
    "        model = FastText(size=100, window=3, min_count=1, min_n=2, max_n=5)\n",
    "        model.build_vocab(sentences=tokens)\n",
    "        model.train(sentences=tokens,total_examples=len(tokens), epochs=10)\n",
    "        \n",
    "        arry=[]\n",
    "        for tw in tokens:\n",
    "            arry.append(np.mean([model.wv[tok] for tok in tw],axis=0)\n",
    "        self.embeddings_=np.array(\n",
    "            [np.mean([model.wv[tok] for tok in tw],axis=0) \n",
    "                   for tw in tokens])\n",
    "        del(model)\n",
    "        gc.collect()\n",
    "        return self"
   ]
  },
  {
   "cell_type": "code",
   "execution_count": null,
   "metadata": {},
   "outputs": [],
   "source": [
    "embs=Embeddings(tokens)\n",
    "print(type(embs), len(embs))\n",
    "embs"
   ]
  },
  {
   "cell_type": "code",
   "execution_count": 51,
   "metadata": {},
   "outputs": [],
   "source": [
    "from skeleton import Clustering\n",
    "class Clustering2(Clustering):\n",
    "    \n",
    "    # se asigna el método de inicialización de Kmeans (default=\"fft\")\n",
    "    def __init__(self, *args, k_init=\"fft\", **kwargs):\n",
    "        super().__init__(*args, **kwargs)\n",
    "        self.k_init_ = k_init\n",
    "        \n",
    "    # asigna los elementos en la colección a su centroide más cercano\n",
    "    # genera las etiquetas de los clusters\n",
    "    # almacena la distancia de cada elemento a su centroide más cercano\n",
    "    def _assign_nearest_centroids(self):\n",
    "        self.labels_=[-1 for _ in self.data]\n",
    "        self.dists_=[-1 for _ in self.data]\n",
    "        for j in range(len(self.data)):\n",
    "            dists = [(self.distance_function(c, self.data[j]), i, self.data[j])\n",
    "                     for i, c in self.centroids_.items()]\n",
    "            dists.sort()\n",
    "            self.labels_[j]=dists[0][1]\n",
    "            self.dists_[j]=(dists[0][0],j)\n",
    "            \n",
    "    def KMeans(self):\n",
    "        self.centroids_ = {}\n",
    "        C = []\n",
    "        if self.k_init_ == 'fft':\n",
    "            self.FFTraversal()\n",
    "            for i, c in self.centroids_.items():\n",
    "                C.append(c)\n",
    "        elif self.k_init_ == 'random':\n",
    "            C = np.random.uniform(low=np.min(self.data, axis=0) * .4,\n",
    "                                  high=np.max(self.data, axis=0) * .4,\n",
    "                                  size=(self.n_clusters, self.data.shape[1]))\n",
    "#             self.labels_ = []\n",
    "#             for i in range(len(self.data)):\n",
    "#                 self.labels_.append(np.int64(np.random.choice(range(self.n_clusters))))\n",
    "#             for i in range(self.n_clusters):\n",
    "#                 cs = self.data[np.where(self.labels_ == np.int64(i))[0]]\n",
    "#                 if len(cs) > 0:\n",
    "#                     C.append(np.mean(cs, axis=0))\n",
    "        else:\n",
    "            raise Exception(f\"k_init={self.k_init_} is not defined\")\n",
    "            \n",
    "        C = np.array(C)\n",
    "        error = np.inf\n",
    "        while error != 0:\n",
    "            self.labels_ = []\n",
    "            C_old = deepcopy(C)\n",
    "            for i in range(len(self.data)):\n",
    "                distances = [(self.distance_function(c, self.data[i]), j, self.data[i])\n",
    "                    for j, c in enumerate(C)]\n",
    "                distances.sort()\n",
    "                cluster = distances[0][1]\n",
    "                self.labels_.append(cluster)\n",
    "            for i in range(self.n_clusters):\n",
    "                cs = self.data[np.where(self.labels_ == np.int64(i))[0]]\n",
    "                if len(cs) > 0:\n",
    "                    C[i] = np.mean(cs, axis=0)\n",
    "            error = np.sum(C - C_old)\n",
    "        self.centroids_ = {}\n",
    "        for i, c in enumerate(C):\n",
    "            self.centroids_[np.int32(i)] = c\n",
    "        self._inertia()\n",
    "        return self\n",
    "\n",
    "    def FFTraversal(self):\n",
    "        self.centroids_ = {}\n",
    "        c1_idx = np.random.choice(self.data.shape[0])\n",
    "        self.centroids_[np.int32(c1_idx)] = self.data[c1_idx, :]\n",
    "        while len(self.centroids_.keys()) < self.n_clusters:\n",
    "            self._assign_nearest_centroids()\n",
    "            self.dists_.sort()\n",
    "            cn_idx=self.dists_[-1][1]\n",
    "            self.centroids_[np.int32(cn_idx)] = self.data[cn_idx, :]\n",
    "        self._assign_nearest_centroids()\n",
    "#         self.dists_.sort()\n",
    "        self._inertia()"
   ]
  },
  {
   "cell_type": "code",
   "execution_count": null,
   "metadata": {},
   "outputs": [],
   "source": []
  },
  {
   "cell_type": "code",
   "execution_count": 7,
   "metadata": {
    "collapsed": true
   },
   "outputs": [
    {
     "data": {
      "text/plain": [
       "20"
      ]
     },
     "execution_count": 7,
     "metadata": {},
     "output_type": "execute_result"
    },
    {
     "name": "stdout",
     "output_type": "stream",
     "text": [
      "Total = 21002\n",
      "[(5688, 'ds'), (5504, 'docs'), (1064, 'Tokens'), (1064, 'InteractiveShell'), (1064, 'Index'), (1064, 'FastText'), (1064, 'Counter'), (400, 'defaultdict'), (278, '_i7'), (248, '_oh'), (248, 'Out'), (195, '_i1'), (172, '_i6'), (172, '_i'), (167, '_i2'), (144, 'tweet_iterator'), (138, '_iii'), (138, '_i4'), (136, '_ih'), (136, 'In'), (133, '_ii'), (133, '_i5'), (113, '__doc__'), (88, 'tb'), (88, 'sys'), (88, 'pd'), (88, 'os'), (88, 'np'), (88, 'gc'), (88, 'datetime'), (88, '__builtins__'), (88, '__builtin__'), (80, '_dh'), (72, 'get_ipython'), (72, '_i3'), (64, 'tokens'), (64, 'quit'), (64, 'index_'), (64, 'exit'), (57, '__name__'), (53, '___'), (53, '__'), (28, '_7'), (28, '_'), (16, '__spec__'), (16, '__package__'), (16, '__loader__')]\n"
     ]
    }
   ],
   "source": [
    "gc.collect()\n",
    "import sys\n",
    "local_vars = list(locals().items())\n",
    "tot=0\n",
    "vars_=[]\n",
    "for var, obj in local_vars:\n",
    "    mem=sys.getsizeof(obj)\n",
    "    tot+=mem\n",
    "    vars_.append((mem,var))\n",
    "print(\"Total =\",tot)\n",
    "vars_.sort(reverse=True)\n",
    "print(vars_)"
   ]
  },
  {
   "cell_type": "code",
   "execution_count": null,
   "metadata": {
    "collapsed": true
   },
   "outputs": [],
   "source": []
  }
 ],
 "metadata": {
  "kernelspec": {
   "display_name": "Python 3",
   "language": "python",
   "name": "python3"
  },
  "language_info": {
   "codemirror_mode": {
    "name": "ipython",
    "version": 3
   },
   "file_extension": ".py",
   "mimetype": "text/x-python",
   "name": "python",
   "nbconvert_exporter": "python",
   "pygments_lexer": "ipython3",
   "version": "3.7.6"
  }
 },
 "nbformat": 4,
 "nbformat_minor": 4
}
