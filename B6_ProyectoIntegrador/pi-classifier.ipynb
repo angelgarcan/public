{
 "cells": [
  {
   "cell_type": "markdown",
   "metadata": {},
   "source": [
    "# Clasificador de valencia (Positividad, Negatividad).\n",
    "\n",
    "Este notebook es un complemento de proyecto integrador.\n",
    "\n",
    "Aquí se procesa lo referente a la elección de los parámetros del clasficador, la creación y almacenamiento del mismo para su uso posterior."
   ]
  },
  {
   "cell_type": "markdown",
   "metadata": {},
   "source": [
    "## Análisis de valencia.\n",
    "Aquí la valencia indica el grado de positividad o negatividad de un texto dado.\n",
    "\n",
    "Para realizar este clasificador se usaron los tweets ya clasificados de `semeval2018` en el idioma español (2443 tweets en total). Dichos tweets están asignados a alguna de las etiquetas [-3,-2,-1,0,1,2,3] dependiendo de su valencia, siendo: \n",
    " \n",
    "|||\n",
    "|-|-|\n",
    "|**Etiqueta**|**Descripción**|\n",
    "|-3|se infiere un estado emocional muy negativo|\n",
    "|-2|se infiere un estado emocional moderadamente negativo|\n",
    "|-1|se infiere un estado emocional ligeramente negativo|\n",
    "|0|se infiere un estado emocional neutral or mixto|\n",
    "|1|se infiere un estado emocional ligeramente positivo|\n",
    "|2|se infiere un estado emocional moderadamente positivo|\n",
    "|3|se infiere un estado emocional muy positivo|\n",
    "\n",
    "Usando todas los tweets, con todas sus etiquetas, no se alcanzaron buenos resultados por lo que se decidió solo usar los etiquetados con los casos más extremos `-3 (muy negativo)` y `3 (muy positivo)`."
   ]
  },
  {
   "cell_type": "code",
   "execution_count": 1,
   "metadata": {},
   "outputs": [
    {
     "data": {
      "text/html": [
       "<style>.prompt{width: 0px; min-width: 0px; visibility: collapse}</style>"
      ],
      "text/plain": [
       "<IPython.core.display.HTML object>"
      ]
     },
     "metadata": {},
     "output_type": "display_data"
    }
   ],
   "source": [
    "# Ocultar In[] y Out[] en cada celda.\n",
    "from IPython.core.display import display,HTML\n",
    "display(HTML('<style>.prompt{width: 0px; min-width: 0px; visibility: collapse}</style>'))"
   ]
  },
  {
   "cell_type": "code",
   "execution_count": 1,
   "metadata": {},
   "outputs": [
    {
     "data": {
      "application/javascript": [
       "if (!(\"Notification\" in window)) {\n",
       "    alert(\"This browser does not support desktop notifications, so the %%notify magic will not work.\");\n",
       "} else if (Notification.permission !== 'granted' && Notification.permission !== 'denied') {\n",
       "    Notification.requestPermission(function (permission) {\n",
       "        if(!('permission' in Notification)) {\n",
       "            Notification.permission = permission;\n",
       "        }\n",
       "    })\n",
       "}\n"
      ],
      "text/plain": [
       "<IPython.core.display.Javascript object>"
      ]
     },
     "metadata": {},
     "output_type": "display_data"
    }
   ],
   "source": [
    "# Multiple outputs per cell in Jupyter \n",
    "from IPython.core.interactiveshell import InteractiveShell\n",
    "InteractiveShell.ast_node_interactivity = \"all\"\n",
    "%load_ext jupyternotify\n",
    "%autonotify -a 30"
   ]
  },
  {
   "cell_type": "code",
   "execution_count": 2,
   "metadata": {},
   "outputs": [
    {
     "data": {
      "application/javascript": [
       "// Evitar autoscroll.\n",
       "IPython.OutputArea.prototype._should_scroll = function(lines) {\n",
       "    return false;\n",
       "}\n"
      ],
      "text/plain": [
       "<IPython.core.display.Javascript object>"
      ]
     },
     "metadata": {},
     "output_type": "display_data"
    }
   ],
   "source": [
    "%%javascript\n",
    "// Evitar autoscroll.\n",
    "IPython.OutputArea.prototype._should_scroll = function(lines) {\n",
    "    return false;\n",
    "}"
   ]
  },
  {
   "cell_type": "code",
   "execution_count": 3,
   "metadata": {},
   "outputs": [
    {
     "name": "stderr",
     "output_type": "stream",
     "text": [
      "[nltk_data] Downloading package stopwords to\n",
      "[nltk_data]     C:\\Users\\Serban\\AppData\\Roaming\\nltk_data...\n",
      "[nltk_data]   Package stopwords is already up-to-date!\n"
     ]
    },
    {
     "data": {
      "application/javascript": [
       "$(document).ready(\n",
       "    function() {\n",
       "        function appendUniqueDiv(){\n",
       "            // append a div with our uuid so we can check that it's already\n",
       "            // been sent and avoid duplicates on page reload\n",
       "            var notifiedDiv = document.createElement(\"div\")\n",
       "            notifiedDiv.id = \"42771a4c-d452-4c1d-b60f-a43bc05be577\"\n",
       "            element.append(notifiedDiv)\n",
       "        }\n",
       "\n",
       "        // only send notifications if the pageload is complete; this will\n",
       "        // help stop extra notifications when a saved notebook is loaded,\n",
       "        // which during testing gives us state \"interactive\", not \"complete\"\n",
       "        if (document.readyState === 'complete') {\n",
       "            // check for the div that signifies that the notification\n",
       "            // was already sent\n",
       "            if (document.getElementById(\"42771a4c-d452-4c1d-b60f-a43bc05be577\") === null) {\n",
       "                var notificationPayload = {\"requireInteraction\": false, \"icon\": \"/static/base/images/favicon.ico\", \"body\": \"Cell Execution Has Finished!!\", \"autonotify_after\": \"30\", \"autonotify_output\": false};\n",
       "                if (Notification.permission !== 'denied') {\n",
       "                    if (Notification.permission !== 'granted') { \n",
       "                        Notification.requestPermission(function (permission) {\n",
       "                            if(!('permission' in Notification)) {\n",
       "                                Notification.permission = permission\n",
       "                            }\n",
       "                        })\n",
       "                    }\n",
       "                    if (Notification.permission === 'granted') {\n",
       "                    var notification = new Notification(\"Jupyter Notebook\", notificationPayload)\n",
       "                    appendUniqueDiv()\n",
       "                    notification.onclick = function () {\n",
       "                        window.focus();\n",
       "                        this.close();\n",
       "                        };\n",
       "                    } \n",
       "                }     \n",
       "            }\n",
       "        }\n",
       "    }\n",
       ")\n"
      ],
      "text/plain": [
       "<IPython.core.display.Javascript object>"
      ]
     },
     "metadata": {},
     "output_type": "display_data"
    }
   ],
   "source": [
    "from integrado import *\n",
    "from skeleton import *\n",
    "%load_ext autoreload\n",
    "%autoreload 2"
   ]
  },
  {
   "cell_type": "markdown",
   "metadata": {},
   "source": [
    "##### Función para probar clasificador\n",
    "Se crea, entrena y se mide el desempeño del clasificador usando las medidas f1-score, recall-macro y acurracy."
   ]
  },
  {
   "cell_type": "code",
   "execution_count": 4,
   "metadata": {},
   "outputs": [],
   "source": [
    "from sklearn.metrics import (recall_score, f1_score,\n",
    "                             precision_score, accuracy_score)\n",
    "# Función genérica para crear clasificador, entrenar, predecir, medir desempeño y plotear resultados.\n",
    "def testClassifier(clf,train,y_train,test,y_test,plot=True):\n",
    "    clf=clf.fit(train,y_train)\n",
    "    #Predecimos las etiqueta del conjunto de prueba\n",
    "    yp=clf.predict(test)\n",
    "    # Medidas de bondad\n",
    "    scores={}\n",
    "\n",
    "    scores['f1_macro']=f1_score(y_test,yp,average='macro')\n",
    "    scores['recall_macro']=recall_score(y_test,yp,average='macro')\n",
    "    scores['accuracy']=accuracy_score(y_test,yp)\n",
    "    \n",
    "    #Vemos la frontera de decisión\n",
    "    if plot: plotDecisionBoundary(clf,train, y_train)\n",
    "    \n",
    "    del(clf)\n",
    "    del(yp)\n",
    "    gc.collect()\n",
    "    return scores"
   ]
  },
  {
   "cell_type": "markdown",
   "metadata": {},
   "source": [
    "### Modelo Fasttext preentrenado\n",
    "Se puede encontrar la implementación de esta clase en el archivo `integrado.py`, la cual simplemente crea el modelo Fasttext, lo entrena y lo almacena en un archivo .pickle para su uso posterior o bien solo lo carga de desde el archivo especificado dependiendo de los parámetros de entrada.\n",
    "\n",
    "El modelo se ha entrenado con los 200,000 tweets del archivo `geo-mx-2004.json`.\n",
    "\n",
    "Este modelo servirá para encontrar la representación vectorial de los textos de los tweets."
   ]
  },
  {
   "cell_type": "code",
   "execution_count": 5,
   "metadata": {},
   "outputs": [
    {
     "name": "stdout",
     "output_type": "stream",
     "text": [
      "** Replace is off. C:\\Users\\Serban\\00_MCDI\\S4sem\\S4RI\\B6_ProyectoIntegrador\\ftmodel.pickle already exists, then load.\n",
      "Load...\n",
      "** Model C:\\Users\\Serban\\00_MCDI\\S4sem\\S4RI\\B6_ProyectoIntegrador\\ftmodel.pickle loaded: [OK]. All done !!.\n"
     ]
    }
   ],
   "source": [
    "# Cargando modelo preentrenado.\n",
    "ft=FTModel(None,file=\"ftmodel.pickle\",replace=False)"
   ]
  },
  {
   "cell_type": "markdown",
   "metadata": {},
   "source": [
    "##### Carga, selección y transformación de datos"
   ]
  },
  {
   "cell_type": "code",
   "execution_count": 19,
   "metadata": {
    "scrolled": true
   },
   "outputs": [
    {
     "name": "stdout",
     "output_type": "stream",
     "text": [
      "Longitud del vector Fasttext: 100\n",
      "Clases: [1 0]\n",
      "Dimensiones del conjunto de datos: (467, 6)\n"
     ]
    },
    {
     "data": {
      "text/html": [
       "<div>\n",
       "<style scoped>\n",
       "    .dataframe tbody tr th:only-of-type {\n",
       "        vertical-align: middle;\n",
       "    }\n",
       "\n",
       "    .dataframe tbody tr th {\n",
       "        vertical-align: top;\n",
       "    }\n",
       "\n",
       "    .dataframe thead th {\n",
       "        text-align: right;\n",
       "    }\n",
       "</style>\n",
       "<table border=\"1\" class=\"dataframe\">\n",
       "  <thead>\n",
       "    <tr style=\"text-align: right;\">\n",
       "      <th></th>\n",
       "      <th>klass</th>\n",
       "      <th>klass_desc</th>\n",
       "      <th>text</th>\n",
       "      <th>vec</th>\n",
       "    </tr>\n",
       "  </thead>\n",
       "  <tbody>\n",
       "    <tr>\n",
       "      <th>4</th>\n",
       "      <td>1</td>\n",
       "      <td>se infiere un estado emocional muy positivo</td>\n",
       "      <td>A celebrar con gusto</td>\n",
       "      <td>[0.49437872, 0.3418805, -0.7748704, -0.8600693...</td>\n",
       "    </tr>\n",
       "    <tr>\n",
       "      <th>12</th>\n",
       "      <td>1</td>\n",
       "      <td>se infiere un estado emocional muy positivo</td>\n",
       "      <td>Intento hacer sonreír a la gente</td>\n",
       "      <td>[-0.97179496, 2.2770703, -0.74351424, -0.80527...</td>\n",
       "    </tr>\n",
       "    <tr>\n",
       "      <th>22</th>\n",
       "      <td>0</td>\n",
       "      <td>se infiere un estado emocional muy negativo</td>\n",
       "      <td>Estoy to’ triste porque el culebrón catalán ac...</td>\n",
       "      <td>[0.23631933, 0.7596901, 0.1986684, -0.16699386...</td>\n",
       "    </tr>\n",
       "    <tr>\n",
       "      <th>26</th>\n",
       "      <td>0</td>\n",
       "      <td>se infiere un estado emocional muy negativo</td>\n",
       "      <td>Llega a tener algo grave, la batata esa se la ...</td>\n",
       "      <td>[-0.42306927, 0.768877, -0.04611562, 0.3279031...</td>\n",
       "    </tr>\n",
       "    <tr>\n",
       "      <th>32</th>\n",
       "      <td>1</td>\n",
       "      <td>se infiere un estado emocional muy positivo</td>\n",
       "      <td>Hermoso dia! Hermosa visita.  Por arrancar la ...</td>\n",
       "      <td>[-0.2724616, 1.3803662, 0.5425671, 1.2152714, ...</td>\n",
       "    </tr>\n",
       "  </tbody>\n",
       "</table>\n",
       "</div>"
      ],
      "text/plain": [
       "    klass                                   klass_desc  \\\n",
       "4       1  se infiere un estado emocional muy positivo   \n",
       "12      1  se infiere un estado emocional muy positivo   \n",
       "22      0  se infiere un estado emocional muy negativo   \n",
       "26      0  se infiere un estado emocional muy negativo   \n",
       "32      1  se infiere un estado emocional muy positivo   \n",
       "\n",
       "                                                 text  \\\n",
       "4                                A celebrar con gusto   \n",
       "12                   Intento hacer sonreír a la gente   \n",
       "22  Estoy to’ triste porque el culebrón catalán ac...   \n",
       "26  Llega a tener algo grave, la batata esa se la ...   \n",
       "32  Hermoso dia! Hermosa visita.  Por arrancar la ...   \n",
       "\n",
       "                                                  vec  \n",
       "4   [0.49437872, 0.3418805, -0.7748704, -0.8600693...  \n",
       "12  [-0.97179496, 2.2770703, -0.74351424, -0.80527...  \n",
       "22  [0.23631933, 0.7596901, 0.1986684, -0.16699386...  \n",
       "26  [-0.42306927, 0.768877, -0.04611562, 0.3279031...  \n",
       "32  [-0.2724616, 1.3803662, 0.5425671, 1.2152714, ...  "
      ]
     },
     "execution_count": 19,
     "metadata": {},
     "output_type": "execute_result"
    }
   ],
   "source": [
    "all_data=pd.read_json('data/semeval2018_valence_Es_all.json',lines=True) # Cargamos los datos.\n",
    "all_data=all_data.query(\"klass == -3 or klass == 3\") # Seleccionamos las etiquetas extremo.\n",
    "all_data['klass']=all_data['klass'].map({-3:0,3:1}) # Mapeamos a otro dominio.\n",
    "# Creamos representación vectorial.\n",
    "all_data['vec']=all_data.apply(lambda row: ft.computeEmbedding(preprocess(row['text'])), axis=1)\n",
    "## Examinamos datos resultantes.\n",
    "print(\"Longitud del vector Fasttext:\",len(all_data.iloc[0].vec))\n",
    "print(\"Clases:\",all_data.klass.unique())\n",
    "print(\"Dimensiones del conjunto de datos:\", all_data.shape)\n",
    "all_data.head()[['klass','klass_desc','text','vec']]"
   ]
  },
  {
   "cell_type": "markdown",
   "metadata": {},
   "source": [
    "## Pruebas y búsqueda de parámetros óptimos.\n",
    "Antes de crear el clasificador final se usan los conjuntos de entrenamiento y pruebas para validar/inspeccionar el clasificador resultante."
   ]
  },
  {
   "cell_type": "markdown",
   "metadata": {},
   "source": [
    "##### Separación de datos en train y test (80-20)"
   ]
  },
  {
   "cell_type": "code",
   "execution_count": 7,
   "metadata": {
    "scrolled": true
   },
   "outputs": [
    {
     "data": {
      "text/plain": [
       "(373, 0.7987152034261242)"
      ]
     },
     "execution_count": 7,
     "metadata": {},
     "output_type": "execute_result"
    },
    {
     "data": {
      "text/plain": [
       "(94, 0.2012847965738758)"
      ]
     },
     "execution_count": 7,
     "metadata": {},
     "output_type": "execute_result"
    },
    {
     "data": {
      "text/plain": [
       "467"
      ]
     },
     "execution_count": 7,
     "metadata": {},
     "output_type": "execute_result"
    }
   ],
   "source": [
    "from sklearn.model_selection import train_test_split\n",
    "train_data, test_data = train_test_split(all_data, test_size=0.2)\n",
    "len(train_data),len(train_data)/len(all_data),\n",
    "len(test_data),len(test_data)/len(all_data)\n",
    "len(train_data)+len(test_data)"
   ]
  },
  {
   "cell_type": "markdown",
   "metadata": {},
   "source": [
    "##### Transformación de dataframe a arrays X, y."
   ]
  },
  {
   "cell_type": "code",
   "execution_count": 8,
   "metadata": {},
   "outputs": [],
   "source": [
    "train,y_train=np.array([np.array(x) for x in train_data.vec]),np.array(train_data.klass)\n",
    "test,y_test=np.array([np.array(x) for x in test_data.vec]),np.array(test_data.klass)"
   ]
  },
  {
   "cell_type": "markdown",
   "metadata": {},
   "source": [
    "##### Inspección para encontrar parámetros ideales.\n",
    "Se itera sobre todas las combinaciones posibles de función de distancia y tipos de centroides, buscando la que resulta en un mejor desempeño usando f1-macro score."
   ]
  },
  {
   "cell_type": "code",
   "execution_count": 9,
   "metadata": {},
   "outputs": [
    {
     "name": "stdout",
     "output_type": "stream",
     "text": [
      "== distance=coseno; centroid_type=Average;  distance: coseno\n",
      "f1_macro=0.747045747045747\n",
      "== distance=coseno; centroid_type=Sum;  distance: coseno\n",
      "f1_macro=0.747045747045747\n",
      "== distance=coseno; centroid_type=Rocchio;  distance: coseno\n",
      "f1_macro=0.747045747045747\n",
      "== distance=coseno; centroid_type=NormSum;  distance: coseno\n",
      "f1_macro=0.747045747045747\n",
      "== distance=euclidiana; centroid_type=Average;  distance: euclidiana\n",
      "f1_macro=0.758974358974359\n",
      "== distance=euclidiana; centroid_type=Sum;  distance: euclidiana\n",
      "f1_macro=0.29323308270676696\n",
      "== distance=euclidiana; centroid_type=Rocchio;  distance: euclidiana\n",
      "f1_macro=0.29323308270676696\n",
      "== distance=euclidiana; centroid_type=NormSum;  distance: euclidiana\n",
      "f1_macro=0.747045747045747\n"
     ]
    },
    {
     "data": {
      "text/html": [
       "<div>\n",
       "<style scoped>\n",
       "    .dataframe tbody tr th:only-of-type {\n",
       "        vertical-align: middle;\n",
       "    }\n",
       "\n",
       "    .dataframe tbody tr th {\n",
       "        vertical-align: top;\n",
       "    }\n",
       "\n",
       "    .dataframe thead th {\n",
       "        text-align: right;\n",
       "    }\n",
       "</style>\n",
       "<table border=\"1\" class=\"dataframe\">\n",
       "  <thead>\n",
       "    <tr style=\"text-align: right;\">\n",
       "      <th></th>\n",
       "      <th>f1_macro</th>\n",
       "      <th>recall_macro</th>\n",
       "      <th>accuracy</th>\n",
       "    </tr>\n",
       "  </thead>\n",
       "  <tbody>\n",
       "    <tr>\n",
       "      <th>euclidiana-Average</th>\n",
       "      <td>0.758974</td>\n",
       "      <td>0.758974</td>\n",
       "      <td>0.765957</td>\n",
       "    </tr>\n",
       "    <tr>\n",
       "      <th>coseno-Average</th>\n",
       "      <td>0.747046</td>\n",
       "      <td>0.746154</td>\n",
       "      <td>0.755319</td>\n",
       "    </tr>\n",
       "    <tr>\n",
       "      <th>coseno-Sum</th>\n",
       "      <td>0.747046</td>\n",
       "      <td>0.746154</td>\n",
       "      <td>0.755319</td>\n",
       "    </tr>\n",
       "    <tr>\n",
       "      <th>coseno-Rocchio</th>\n",
       "      <td>0.747046</td>\n",
       "      <td>0.746154</td>\n",
       "      <td>0.755319</td>\n",
       "    </tr>\n",
       "    <tr>\n",
       "      <th>coseno-NormSum</th>\n",
       "      <td>0.747046</td>\n",
       "      <td>0.746154</td>\n",
       "      <td>0.755319</td>\n",
       "    </tr>\n",
       "    <tr>\n",
       "      <th>euclidiana-NormSum</th>\n",
       "      <td>0.747046</td>\n",
       "      <td>0.746154</td>\n",
       "      <td>0.755319</td>\n",
       "    </tr>\n",
       "    <tr>\n",
       "      <th>euclidiana-Sum</th>\n",
       "      <td>0.293233</td>\n",
       "      <td>0.500000</td>\n",
       "      <td>0.414894</td>\n",
       "    </tr>\n",
       "    <tr>\n",
       "      <th>euclidiana-Rocchio</th>\n",
       "      <td>0.293233</td>\n",
       "      <td>0.500000</td>\n",
       "      <td>0.414894</td>\n",
       "    </tr>\n",
       "  </tbody>\n",
       "</table>\n",
       "</div>"
      ],
      "text/plain": [
       "                    f1_macro  recall_macro  accuracy\n",
       "euclidiana-Average  0.758974      0.758974  0.765957\n",
       "coseno-Average      0.747046      0.746154  0.755319\n",
       "coseno-Sum          0.747046      0.746154  0.755319\n",
       "coseno-Rocchio      0.747046      0.746154  0.755319\n",
       "coseno-NormSum      0.747046      0.746154  0.755319\n",
       "euclidiana-NormSum  0.747046      0.746154  0.755319\n",
       "euclidiana-Sum      0.293233      0.500000  0.414894\n",
       "euclidiana-Rocchio  0.293233      0.500000  0.414894"
      ]
     },
     "execution_count": 9,
     "metadata": {},
     "output_type": "execute_result"
    },
    {
     "name": "stdout",
     "output_type": "stream",
     "text": [
      "Best are: ['euclidiana', 'Average']\n"
     ]
    }
   ],
   "source": [
    "DISTANCES='coseno','euclidiana'\n",
    "CTYPES='Average','Sum','Rocchio','NormSum'\n",
    "P={}\n",
    "for dist in DISTANCES:\n",
    "    for typ in CTYPES:\n",
    "        print(f\"== distance={dist}; centroid_type={typ}; \",end=' ')\n",
    "        P[f\"{dist}-{typ}\"]=testClassifier(\n",
    "            NearestCentroid(distance=dist,centroid_type=typ),\n",
    "            train,y_train,test,y_test,plot=False)\n",
    "        print(f\"f1_macro={P[f'{dist}-{typ}']['f1_macro']}\")\n",
    "\n",
    "# Tabla de los resultados de FastText.\n",
    "results=pd.DataFrame(P).T.sort_values(\"f1_macro\",ascending =False)\n",
    "results\n",
    "best=results.iloc[0].name.split('-')\n",
    "print(f\"Best are: {best}\")"
   ]
  },
  {
   "cell_type": "markdown",
   "metadata": {},
   "source": [
    "### Validación de parámetros encontrados.\n",
    "\n",
    "Con los parámetros elegidos se crea y entrena un clasificador."
   ]
  },
  {
   "cell_type": "code",
   "execution_count": 10,
   "metadata": {},
   "outputs": [
    {
     "name": "stdout",
     "output_type": "stream",
     "text": [
      "distance: euclidiana\n"
     ]
    },
    {
     "data": {
      "text/plain": [
       "<skeleton.NearestCentroid at 0x116f447f908>"
      ]
     },
     "execution_count": 10,
     "metadata": {},
     "output_type": "execute_result"
    }
   ],
   "source": [
    "clf=NearestCentroid(distance=best[0],centroid_type=best[1])\n",
    "clf.fit(train,y_train)"
   ]
  },
  {
   "cell_type": "markdown",
   "metadata": {},
   "source": [
    "Se valida con los datos de test:"
   ]
  },
  {
   "cell_type": "code",
   "execution_count": 11,
   "metadata": {},
   "outputs": [
    {
     "name": "stdout",
     "output_type": "stream",
     "text": [
      "Input(test) : [1 1 1 0 0 0 0 1 1 1 1 0 0 1 0 1 1 0 1 0 0 0 0 1 0 0 1 0 0 1]\n",
      "Prediction  : [0 1 1 0 0 0 1 1 1 0 0 0 0 1 0 0 1 0 1 0 0 0 0 0 0 0 1 0 0 1]\n",
      "{'f1_macro': 0.758974358974359, 'recall_macro': 0.7589743589743589, 'accuracy': 0.7659574468085106}\n"
     ]
    },
    {
     "data": {
      "image/png": "[encoded data removed]",
      "text/plain": [
       "<Figure size 360x360 with 1 Axes>"
      ]
     },
     "metadata": {},
     "output_type": "display_data"
    }
   ],
   "source": [
    "ypred=clf.predict(test)\n",
    "print(\"Input(test) :\",y_test[:30])\n",
    "print(\"Prediction  :\",ypred[:30])\n",
    "scores={}\n",
    "scores['f1_macro']=f1_score(y_test,ypred,average='macro')\n",
    "scores['recall_macro']=recall_score(y_test,ypred,average='macro')\n",
    "scores['accuracy']=accuracy_score(y_test,ypred)\n",
    "print(scores)\n",
    "plotDecisionBoundary(clf,test, y_test)"
   ]
  },
  {
   "cell_type": "markdown",
   "metadata": {},
   "source": [
    "Se valida con los datos de train:"
   ]
  },
  {
   "cell_type": "code",
   "execution_count": 12,
   "metadata": {
    "scrolled": false
   },
   "outputs": [
    {
     "name": "stdout",
     "output_type": "stream",
     "text": [
      "Input(train): [0 0 1 0 1 1 1 0 0 0 0 0 1 1 1 1 0 1 1 0 0 0 1 1 1 0 1 0 0 0]\n",
      "Prediction  : [0 0 1 0 0 1 1 0 0 0 0 0 0 1 1 1 0 0 1 0 0 0 1 0 1 0 0 0 0 0]\n",
      "{'f1_macro': 0.7974838669645072, 'recall_macro': 0.7922772879294618, 'accuracy': 0.8123324396782842}\n"
     ]
    },
    {
     "data": {
      "image/png": "[encoded data removed]",
      "text/plain": [
       "<Figure size 360x360 with 1 Axes>"
      ]
     },
     "metadata": {},
     "output_type": "display_data"
    }
   ],
   "source": [
    "ypred=clf.predict(train)\n",
    "print(\"Input(train):\",y_train[:30])\n",
    "print(\"Prediction  :\",ypred[:30])\n",
    "scores={}\n",
    "scores['f1_macro']=f1_score(y_train,ypred,average='macro')\n",
    "scores['recall_macro']=recall_score(y_train,ypred,average='macro')\n",
    "scores['accuracy']=accuracy_score(y_train,ypred)\n",
    "print(scores)\n",
    "plotDecisionBoundary(clf,train, y_train)"
   ]
  },
  {
   "cell_type": "markdown",
   "metadata": {},
   "source": [
    "Se puede observar que aún con los datos de entrenamiento, que son los que se usaron para crear el clasificador, el máximo f1-score alcanzado es de 0.79. Esto probablemente podría ser mejorado usando una mayor cantidad de tweets, en esta ocasión se usaron 373 para entrenamiento (de un total de 467)."
   ]
  },
  {
   "cell_type": "markdown",
   "metadata": {},
   "source": [
    "## Creación de clasificador final.\n",
    "Usando los parámetros óptimos se proceda a crear, entrenar y almacenar el clasificador final. Esta vez se usan el total de los tweets disponibles (467) para el entrenamiento."
   ]
  },
  {
   "cell_type": "code",
   "execution_count": 13,
   "metadata": {},
   "outputs": [
    {
     "name": "stdout",
     "output_type": "stream",
     "text": [
      "Create...\n",
      "distance: euclidiana\n",
      "Fit...\n",
      "Save...\n",
      "** Processed classifier. Saved to C:\\Users\\Serban\\00_MCDI\\S4sem\\S4RI\\B6_ProyectoIntegrador\\classifer.pickle.\n",
      "Load...\n",
      "** Classifier C:\\Users\\Serban\\00_MCDI\\S4sem\\S4RI\\B6_ProyectoIntegrador\\classifer.pickle loaded: [OK]. All done !!.\n"
     ]
    }
   ],
   "source": [
    "X,y=np.array([np.array(x) for x in all_data.vec]),np.array(all_data.klass)\n",
    "\n",
    "clf=NCClassifier(X,y,\n",
    "                 distance=best[0],centroid_type=best[1],\n",
    "                 file=\"valence-classifier.pickle\",replace=True).clf"
   ]
  },
  {
   "cell_type": "markdown",
   "metadata": {},
   "source": [
    "Se comprueba la correcta carga el clasificador."
   ]
  },
  {
   "cell_type": "code",
   "execution_count": 14,
   "metadata": {},
   "outputs": [
    {
     "name": "stdout",
     "output_type": "stream",
     "text": [
      "** Replace is off. C:\\Users\\Serban\\00_MCDI\\S4sem\\S4RI\\B6_ProyectoIntegrador\\classifer.pickle already exists, then load.\n",
      "Load...\n",
      "** Classifier C:\\Users\\Serban\\00_MCDI\\S4sem\\S4RI\\B6_ProyectoIntegrador\\classifer.pickle loaded: [OK]. All done !!.\n"
     ]
    }
   ],
   "source": [
    "clf=NCClassifier(None,None,file=\"valence-classifier.pickle\",replace=False).clf"
   ]
  },
  {
   "cell_type": "markdown",
   "metadata": {},
   "source": [
    "Algunas pruebas para validar los resultados."
   ]
  },
  {
   "cell_type": "code",
   "execution_count": 15,
   "metadata": {},
   "outputs": [
    {
     "data": {
      "text/plain": [
       "array([1], dtype=int64)"
      ]
     },
     "execution_count": 15,
     "metadata": {},
     "output_type": "execute_result"
    },
    {
     "data": {
      "text/plain": [
       "array([1], dtype=int64)"
      ]
     },
     "execution_count": 15,
     "metadata": {},
     "output_type": "execute_result"
    },
    {
     "data": {
      "text/plain": [
       "array([0], dtype=int64)"
      ]
     },
     "execution_count": 15,
     "metadata": {},
     "output_type": "execute_result"
    },
    {
     "data": {
      "text/plain": [
       "array([0], dtype=int64)"
      ]
     },
     "execution_count": 15,
     "metadata": {},
     "output_type": "execute_result"
    }
   ],
   "source": [
    "clf.predict([ft.computeEmbedding(preprocess(\"Muy feliz y contento por esta linda mañana\"))])\n",
    "clf.predict([ft.computeEmbedding(preprocess(\"Es niña!!!!\"))])\n",
    "clf.predict([ft.computeEmbedding(preprocess(\"El mundo es horrible, muerte a los miseables\"))])\n",
    "clf.predict([ft.computeEmbedding(preprocess(\"Nos lleva la que nos trajo\"))])"
   ]
  }
 ],
 "metadata": {
  "kernelspec": {
   "display_name": "Python 3",
   "language": "python",
   "name": "python3"
  },
  "language_info": {
   "codemirror_mode": {
    "name": "ipython",
    "version": 3
   },
   "file_extension": ".py",
   "mimetype": "text/x-python",
   "name": "python",
   "nbconvert_exporter": "python",
   "pygments_lexer": "ipython3",
   "version": "3.7.6"
  }
 },
 "nbformat": 4,
 "nbformat_minor": 4
}
