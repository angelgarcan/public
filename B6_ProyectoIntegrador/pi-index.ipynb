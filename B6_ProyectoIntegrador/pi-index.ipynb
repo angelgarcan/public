{
 "cells": [
  {
   "cell_type": "code",
   "execution_count": 1,
   "metadata": {},
   "outputs": [],
   "source": [
    "# Multiple outputs per cell in Jupyter \n",
    "from IPython.core.interactiveshell import InteractiveShell\n",
    "InteractiveShell.ast_node_interactivity = \"all\""
   ]
  },
  {
   "cell_type": "code",
   "execution_count": 2,
   "metadata": {},
   "outputs": [
    {
     "data": {
      "application/javascript": [
       "// Evitar autoscroll.\n",
       "IPython.OutputArea.prototype._should_scroll = function(lines) {\n",
       "    return false;\n",
       "}\n"
      ],
      "text/plain": [
       "<IPython.core.display.Javascript object>"
      ]
     },
     "metadata": {},
     "output_type": "display_data"
    }
   ],
   "source": [
    "%%javascript\n",
    "// Evitar autoscroll.\n",
    "IPython.OutputArea.prototype._should_scroll = function(lines) {\n",
    "    return false;\n",
    "}"
   ]
  },
  {
   "cell_type": "code",
   "execution_count": 3,
   "metadata": {},
   "outputs": [
    {
     "name": "stderr",
     "output_type": "stream",
     "text": [
      "[nltk_data] Downloading package stopwords to /home/jovyan/nltk_data...\n",
      "[nltk_data]   Package stopwords is already up-to-date!\n"
     ]
    }
   ],
   "source": [
    "import numpy as np\n",
    "# from toolbox import *\n",
    "import toolbox as tb\n",
    "from skeleton import *\n",
    "import pandas as pd\n",
    "from gensim.models import FastText\n",
    "%load_ext autoreload\n",
    "%autoreload 2\n",
    "import os\n",
    "import tqdm\n",
    "from microtc.utils import tweet_iterator\n",
    "import datetime\n",
    "from collections import Counter\n",
    "import gc\n",
    "from collections import defaultdict"
   ]
  },
  {
   "cell_type": "code",
   "execution_count": 12,
   "metadata": {},
   "outputs": [],
   "source": [
    "class Tokens():\n",
    "    tokenized_pointer=None\n",
    "    \n",
    "    def tokenize(self,json_file,npy_file=None,replace=False,showProgressEach=1000):\n",
    "        self.npy_file=str(os.path.splitext(json_file)[0]+\".npy\") if not npy_file else npy_file\n",
    "\n",
    "        if not replace and os.path.isfile(self.npy_file):\n",
    "            print(f\"** Replace is off. {os.path.abspath(self.npy_file)} already exists, then load.\")\n",
    "        else:\n",
    "            tokenized_docs=[]\n",
    "            self.N=0\n",
    "            print(f\"** Processing {json_file} ...\")\n",
    "            tx = datetime.datetime.now()\n",
    "            for idx, tw in enumerate(tweet_iterator(json_file)):\n",
    "                tb.show_progress(showProgressEach, tx, idx)\n",
    "                twTokens = tb.process_line(tw['text']) # Tokenizando tweet.\n",
    "                tokenized_docs.append(twTokens)\n",
    "            self.N=idx+1\n",
    "        \n",
    "            maxLen=len(max(tokenized_docs))\n",
    "            for i, doc in enumerate(tokenized_docs):\n",
    "                tokenized_docs[i]=[doc[x] if x<len(doc) else '' for x in range(maxLen)]\n",
    "            \n",
    "            np.save(self.npy_file,tokenized_docs)\n",
    "            del(tokenized_docs)\n",
    "            gc.collect()\n",
    "            print(f\"** Processed {self.N} lines. Saved to {os.path.abspath(self.npy_file)}.\")\n",
    "        \n",
    "        self.pointer=np.load(self.npy_file, mmap_mode='r')\n",
    "        return self\n",
    "    \n",
    "    def get(self,n):\n",
    "        return [x for x in self.pointer[n,:] if x != '']\n",
    "    \n",
    "    def getDocs(self,docs):\n",
    "#         if isinstance(docs,int): docs=[docs]\n",
    "        res=[]\n",
    "        for n in docs:\n",
    "            res.append(self.get(n))\n",
    "        return res"
   ]
  },
  {
   "cell_type": "code",
   "execution_count": 13,
   "metadata": {
    "scrolled": false
   },
   "outputs": [
    {
     "name": "stdout",
     "output_type": "stream",
     "text": [
      "** Processing data/geo-mx-2004_min.json ...\n",
      "2020-05-12 19:16:27.990884 :: 0.000193 - Processing item #0 \n",
      "** Processed 10000 lines. Saved to /home/jovyan/public/B6_ProyectoIntegrador/data/geo-mx-2004_min.npy.\n"
     ]
    }
   ],
   "source": [
    "tokens=Tokens().tokenize(\"data/geo-mx-2004_min.json\",replace=True,showProgressEach=10000)"
   ]
  },
  {
   "cell_type": "code",
   "execution_count": 24,
   "metadata": {},
   "outputs": [],
   "source": [
    "class Index():\n",
    "    N = 0\n",
    "    \n",
    "    def computePostingLists(self, tokens, showProgressEach=1000):\n",
    "        tx = datetime.datetime.now()\n",
    "        DF = Counter({})\n",
    "        TF = []\n",
    "        \n",
    "        print(\"** Counting TF & DF ...\")\n",
    "        for idx in range(tokens.N):\n",
    "            tb.show_progress(showProgressEach,tx,idx)\n",
    "            tok=tokens.get(idx)\n",
    "            twCnt = Counter(tok) # Sumando frecuencias individiales.\n",
    "            TF.append(twCnt)\n",
    "            DF.update(list(twCnt.keys())) # Sumando frecuencias por documento (DF).\n",
    "            \n",
    "        self.N=idx+1 # Contabilizando documentos.\n",
    "        self.postlists=defaultdict(list)\n",
    "        print(\"** Calculating TF-IDF...\")\n",
    "        for i,c in enumerate(TF):\n",
    "            tb.show_progress(showProgressEach,tx,i)\n",
    "            for w,tf in c.items():\n",
    "                self.postlists[w].append((tf*np.log2(self.N/(DF[w]+1)),i))\n",
    "        del(TF)\n",
    "        del(DF)\n",
    "        gc.collect()\n",
    "        \n",
    "        print(\"** Sorting posting lists...\")\n",
    "        for idx,(w,p) in enumerate(self.postlists.items()):\n",
    "            tb.show_progress(showProgressEach,tx,idx)\n",
    "            p.sort()\n",
    "            p=list(zip(*p))\n",
    "            self.postlists[w]=[list(p[1]),list(p[0])]\n",
    "        \n",
    "        return self\n",
    "    \n",
    "    def getIdxs(self,word):\n",
    "        return self.postlists[word][0]\n",
    "    \n",
    "    def getScores(self,word):\n",
    "        return self.postlists[word][1]\n",
    "    \n",
    "    def a(self, q, isText=False):\n",
    "        \"\"\"Búsqueda AND.\"\"\"\n",
    "        if isText: q=tb.process_line(q)\n",
    "        res = None\n",
    "        for word in q:\n",
    "            if not res:\n",
    "                res = set(self.getIdxs(word))\n",
    "            else:\n",
    "                res = res.intersection(self.getIdxs(word))\n",
    "        return list(sorted(res))\n",
    "\n",
    "    def o(self, q, isText=False):\n",
    "        \"\"\"Búsqueda OR.\"\"\"\n",
    "        if isText: q=tb.process_line(q)\n",
    "        res = set()\n",
    "        for word in q:\n",
    "            res = res.union(self.getIdxs(word))\n",
    "        return list(sorted(res))    "
   ]
  },
  {
   "cell_type": "code",
   "execution_count": 25,
   "metadata": {
    "scrolled": true
   },
   "outputs": [
    {
     "name": "stdout",
     "output_type": "stream",
     "text": [
      "** Counting TF & DF ...\n",
      "2020-05-12 19:18:55.281691 :: 0.001182 - Processing item #0 \n",
      "** Calculating TF-IDF...\n",
      "2020-05-12 19:18:55.935591 :: 0.655082 - Processing item #0 \n",
      "** Sorting posting lists...\n",
      "2020-05-12 19:18:56.539612 :: 1.259103 - Processing item #0 \n",
      "2020-05-12 19:18:56.634560 :: 1.354051 - Processing item #10000 \n"
     ]
    }
   ],
   "source": [
    "index_=Index().computePostingLists(tokens,showProgressEach=10000)\n",
    "# index_.postlists"
   ]
  },
  {
   "cell_type": "code",
   "execution_count": 26,
   "metadata": {},
   "outputs": [
    {
     "data": {
      "text/plain": [
       "10383"
      ]
     },
     "execution_count": 26,
     "metadata": {},
     "output_type": "execute_result"
    }
   ],
   "source": [
    "len(index_.postlists.keys())"
   ]
  },
  {
   "cell_type": "code",
   "execution_count": 33,
   "metadata": {},
   "outputs": [
    {
     "name": "stdout",
     "output_type": "stream",
     "text": [
      "619 [3, 5, 9, 45, 54]\n",
      "619 [['obvi', 'hoy', 'cumpl', 'anos', 'apag', 'voz'], ['hoy', 'cumpl', 'ano', 'plan', 'des', 'secret', 'gent', 'sabi', 'haci', 'sent', 'bien', 'aunqu', 've', 'tan', 'cercan'], ['amig', 'seguidor', 'tod', 'person', 'respet', 'jueg', 'decision', 'jug', 'pued', 'influ', 'ser', 'president', 'estudiantil', 'hag', 'ayud'], ['pregunt', 'quer', 'hoy'], ['pregunt', 'investig', 'aprend', 'pued']]\n"
     ]
    }
   ],
   "source": [
    "ds=index_.o('hoy no me puedo levantar',isText=True)\n",
    "print(len(ds),ds[:5])\n",
    "docs=tokens.getDocs(ds)\n",
    "print(len(docs),docs[:5])"
   ]
  },
  {
   "cell_type": "code",
   "execution_count": null,
   "metadata": {},
   "outputs": [],
   "source": [
    "gc.collect()\n",
    "import sys\n",
    "local_vars = list(locals().items())\n",
    "tot=0\n",
    "vars_=[]\n",
    "for var, obj in local_vars:\n",
    "    mem=sys.getsizeof(obj)\n",
    "    tot+=mem\n",
    "    vars_.append((mem,var))\n",
    "print(\"Total =\",tot)\n",
    "vars_.sort(reverse=True)\n",
    "print(vars_)"
   ]
  }
 ],
 "metadata": {
  "kernelspec": {
   "display_name": "Python 3",
   "language": "python",
   "name": "python3"
  },
  "language_info": {
   "codemirror_mode": {
    "name": "ipython",
    "version": 3
   },
   "file_extension": ".py",
   "mimetype": "text/x-python",
   "name": "python",
   "nbconvert_exporter": "python",
   "pygments_lexer": "ipython3",
   "version": "3.7.6"
  }
 },
 "nbformat": 4,
 "nbformat_minor": 4
}
