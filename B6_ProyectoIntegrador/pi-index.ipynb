{
 "cells": [
  {
   "cell_type": "code",
   "execution_count": 1,
   "metadata": {},
   "outputs": [],
   "source": [
    "# Multiple outputs per cell in Jupyter \n",
    "from IPython.core.interactiveshell import InteractiveShell\n",
    "InteractiveShell.ast_node_interactivity = \"all\""
   ]
  },
  {
   "cell_type": "code",
   "execution_count": 2,
   "metadata": {},
   "outputs": [
    {
     "data": {
      "application/javascript": [
       "// Evitar autoscroll.\n",
       "IPython.OutputArea.prototype._should_scroll = function(lines) {\n",
       "    return false;\n",
       "}\n"
      ],
      "text/plain": [
       "<IPython.core.display.Javascript object>"
      ]
     },
     "metadata": {},
     "output_type": "display_data"
    }
   ],
   "source": [
    "%%javascript\n",
    "// Evitar autoscroll.\n",
    "IPython.OutputArea.prototype._should_scroll = function(lines) {\n",
    "    return false;\n",
    "}"
   ]
  },
  {
   "cell_type": "code",
   "execution_count": 3,
   "metadata": {},
   "outputs": [
    {
     "name": "stderr",
     "output_type": "stream",
     "text": [
      "[nltk_data] Downloading package stopwords to /home/jovyan/nltk_data...\n",
      "[nltk_data]   Package stopwords is already up-to-date!\n"
     ]
    }
   ],
   "source": [
    "import numpy as np\n",
    "# from toolbox import *\n",
    "import toolbox as tb\n",
    "from skeleton import *\n",
    "import pandas as pd\n",
    "from gensim.models import FastText\n",
    "%load_ext autoreload\n",
    "%autoreload 2\n",
    "import os\n",
    "import tqdm\n",
    "from microtc.utils import tweet_iterator\n",
    "import datetime\n",
    "from collections import Counter\n",
    "import gc\n",
    "from collections import defaultdict"
   ]
  },
  {
   "cell_type": "code",
   "execution_count": 12,
   "metadata": {},
   "outputs": [],
   "source": [
    "class Tokens():\n",
    "    tokenized_pointer=None\n",
    "    \n",
    "    def tokenize(self,json_file,npy_file=None,replace=False,showProgressEach=1000):\n",
    "        self.npy_file=str(os.path.splitext(json_file)[0]+\".npy\") if not npy_file else npy_file\n",
    "\n",
    "        if not replace and os.path.isfile(self.npy_file):\n",
    "            print(f\"** Replace is off. {os.path.abspath(self.npy_file)} already exists, then load.\")\n",
    "        else:\n",
    "            tokenized_docs=[]\n",
    "            self.N=0\n",
    "            print(f\"** Processing {json_file} ...\")\n",
    "            tx = datetime.datetime.now()\n",
    "            for idx, tw in enumerate(tweet_iterator(json_file)):\n",
    "                tb.show_progress(showProgressEach, tx, idx)\n",
    "                twTokens = tb.process_line(tw['text']) # Tokenizando tweet.\n",
    "                tokenized_docs.append(twTokens)\n",
    "            self.N=idx+1\n",
    "        \n",
    "            maxLen=len(max(tokenized_docs))\n",
    "            for i, doc in enumerate(tokenized_docs):\n",
    "                tokenized_docs[i]=[doc[x] if x<len(doc) else '' for x in range(maxLen)]\n",
    "            \n",
    "            np.save(self.npy_file,tokenized_docs)\n",
    "            del(tokenized_docs)\n",
    "            gc.collect()\n",
    "            print(f\"** Processed {self.N} lines. Saved to {os.path.abspath(self.npy_file)}.\")\n",
    "        \n",
    "        self.pointer=np.load(self.npy_file, mmap_mode='r')\n",
    "        return self\n",
    "    \n",
    "    def get(self,n):\n",
    "        return [x for x in self.pointer[n,:] if x != '']\n",
    "    \n",
    "    def getDocs(self,docs):\n",
    "#         if isinstance(docs,int): docs=[docs]\n",
    "        res=[]\n",
    "        for n in docs:\n",
    "            res.append(self.get(n))\n",
    "        return res"
   ]
  },
  {
   "cell_type": "code",
   "execution_count": 13,
   "metadata": {
    "scrolled": false
   },
   "outputs": [
    {
     "name": "stdout",
     "output_type": "stream",
     "text": [
      "** Processing data/geo-mx-2004_min.json ...\n",
      "2020-05-12 19:16:27.990884 :: 0.000193 - Processing item #0 \n",
      "** Processed 10000 lines. Saved to /home/jovyan/public/B6_ProyectoIntegrador/data/geo-mx-2004_min.npy.\n"
     ]
    }
   ],
   "source": [
    "tokens=Tokens().tokenize(\"data/geo-mx-2004_min.json\",replace=True,showProgressEach=10000)"
   ]
  },
  {
   "cell_type": "code",
   "execution_count": 16,
   "metadata": {},
   "outputs": [],
   "source": [
    "class Index():\n",
    "    N = 0\n",
    "    \n",
    "    def computePostingLists(self, tokens, showProgressEach=1000):\n",
    "        tx = datetime.datetime.now()\n",
    "        DF = Counter({})\n",
    "        TF = []\n",
    "        \n",
    "        print(\"** Counting TF & DF ...\")\n",
    "        for idx in range(tokens.N):\n",
    "            tb.show_progress(showProgressEach,tx,idx)\n",
    "            tok=tokens.get(idx)\n",
    "            twCnt = Counter(tok) # Sumando frecuencias individiales.\n",
    "            TF.append(twCnt)\n",
    "            DF.update(list(twCnt.keys())) # Sumando frecuencias por documento (DF).\n",
    "            \n",
    "        self.N=idx+1 # Contabilizando documentos.\n",
    "        self.postlists=defaultdict(list)\n",
    "        print(\"** Calculating TF-IDF...\")\n",
    "        for i,c in enumerate(TF):\n",
    "            tb.show_progress(showProgressEach,tx,i)\n",
    "            for w,tf in c.items():\n",
    "                self.postlists[w].append((tf*np.log2(self.N/(DF[w]+1)),i))\n",
    "        del(TF)\n",
    "        del(DF)\n",
    "        gc.collect()\n",
    "        \n",
    "        print(\"** Sorting posting lists...\")\n",
    "        for idx,(w,p) in enumerate(self.postlists.items()):\n",
    "            tb.show_progress(showProgressEach,tx,idx)\n",
    "            p.sort()\n",
    "            p=list(zip(*p))\n",
    "            self.postlists[w]=[list(p[1]),list(p[0])]\n",
    "        \n",
    "        return self\n",
    "    \n",
    "    def getIdxs(self,word):\n",
    "        return self.postlists[word][0]\n",
    "    \n",
    "    def getScores(self,word):\n",
    "        return self.postlists[word][1]\n",
    "    \n",
    "    def a(self, q, isText=False):\n",
    "        \"\"\"Búsqueda AND.\"\"\"\n",
    "        if isText: q=tb.process_line(q)\n",
    "        res = None\n",
    "        for word in q:\n",
    "            if not res:\n",
    "                res = set(self.getIdxs(word))\n",
    "            else:\n",
    "                res = res.intersection(self.getIdxs(word))\n",
    "        return list(sorted(res))\n",
    "\n",
    "    def o(self, q, isText=False):\n",
    "        \"\"\"Búsqueda OR.\"\"\"\n",
    "        if isText: q=tb.process_line(q)\n",
    "        res = set()\n",
    "        for word in q:\n",
    "            res = res.union(self.getIdxs(word))\n",
    "        return list(sorted(res))    "
   ]
  },
  {
   "cell_type": "code",
   "execution_count": 17,
   "metadata": {
    "scrolled": true
   },
   "outputs": [
    {
     "name": "stdout",
     "output_type": "stream",
     "text": [
      "** Counting TF & DF ...\n",
      "2020-05-12 19:16:53.001421 :: 0.001253 - Processing item #0 \n",
      "** Calculating TF-IDF...\n",
      "2020-05-12 19:16:53.861872 :: 0.861704 - Processing item #0 \n",
      "** Sorting posting lists...\n",
      "2020-05-12 19:16:54.663991 :: 1.663823 - Processing item #0 \n",
      "2020-05-12 19:16:54.758209 :: 1.758041 - Processing item #10000 \n"
     ]
    }
   ],
   "source": [
    "index_=Index().computePostingLists(tokens,showProgressEach=10000)\n",
    "# index_.postlists"
   ]
  },
  {
   "cell_type": "code",
   "execution_count": 18,
   "metadata": {},
   "outputs": [
    {
     "data": {
      "text/plain": [
       "10383"
      ]
     },
     "execution_count": 18,
     "metadata": {},
     "output_type": "execute_result"
    }
   ],
   "source": [
    "len(index_.postlists.keys())"
   ]
  },
  {
   "cell_type": "code",
   "execution_count": 23,
   "metadata": {},
   "outputs": [
    {
     "name": "stdout",
     "output_type": "stream",
     "text": [
      "[3, 5, 45, 73, 100, 124, 151, 154, 169, 258, 270, 280, 300, 343, 358, 464, 473, 572, 608, 610, 612, 624, 635, 657, 667, 669, 781, 800, 919, 953, 990, 1000, 1003, 1019, 1039, 1106, 1109, 1122, 1154, 1162, 1189, 1213, 1215, 1217, 1300, 1306, 1310, 1406, 1451, 1490, 1545, 1592, 1595, 1771, 1877, 1915, 1933, 1981, 2017, 2115, 2244, 2276, 2401, 2482, 2561, 2571, 2584, 2585, 2637, 2641, 2696, 2741, 2777, 2800, 2825, 2835, 2854, 2892, 2916, 3053, 3141, 3163, 3171, 3210, 3231, 3246, 3276, 3371, 3374, 3378, 3389, 3434, 3490, 3505, 3515, 3643, 3659, 3676, 3719, 3787, 3789, 3792, 3856, 3988, 4026, 4041, 4047, 4073, 4201, 4245, 4282, 4355, 4432, 4449, 4605, 4613, 4638, 4825, 4886, 4956, 4957, 5087, 5157, 5164, 5169, 5179, 5216, 5247, 5263, 5267, 5279, 5463, 5468, 5544, 5575, 5576, 5792, 5827, 5876, 5967, 5992, 6011, 6036, 6052, 6069, 6102, 6173, 6197, 6211, 6238, 6280, 6295, 6336, 6355, 6393, 6402, 6406, 6447, 6458, 6500, 6503, 6509, 6515, 6563, 6571, 6586, 6612, 6623, 6626, 6641, 6707, 6742, 6743, 6790, 6800, 6805, 6850, 6857, 6885, 6965, 6967, 6995, 7055, 7072, 7075, 7096, 7136, 7214, 7357, 7377, 7391, 7407, 7428, 7502, 7506, 7583, 7593, 7616, 7700, 7732, 7751, 7755, 7758, 7797, 7800, 7857, 7880, 7950, 7981, 7990, 8063, 8157, 8211, 8281, 8295, 8308, 8340, 8367, 8407, 8483, 8524, 8674, 8675, 8725, 8743, 8818, 8830, 8938, 8968, 8976, 9018, 9086, 9094, 9160, 9200, 9221, 9297, 9327, 9339, 9432, 9444, 9498, 9541, 9605, 9606, 9688, 9695, 9706, 9748, 9770, 9824, 9826, 9851, 9879, 9905]\n",
      "[['obvi', 'hoy', 'cumpl', 'anos', 'apag', 'voz'], ['hoy', 'cumpl', 'ano', 'plan', 'des', 'secret', 'gent', 'sabi', 'haci', 'sent', 'bien', 'aunqu', 've', 'tan', 'cercan'], ['pregunt', 'quer', 'hoy'], ['favor', 'ayud', 'compart', 'entraron', 'cas', 'lev', 'mil', 'hoy'], ['pues', 'sal', 'cor', 'ayer', 'hoy', 'normal', 'si', 'gimnasi', 'abiert', 'bar', 'estan', 'concur', 'qued', 'tom', 'san'], ['salud', 'graci', 'mensaj', 'hoy', 'ayud', 'bastant'], ['tw', 'hoy', 'proksim', 'cans', 'u'], ['hoy', 'prim', 'cumplean', 'gordit'], ['ayer', 'dormi', 'am', 'buen', 'hoy', 'aun', 'jajaj'], ['van', 'cuarenten', 'cuant', 'vec', 'jal', 'hoy'], ['hoy', 'platic', 'cov', 'dos', 'cos', 'admir', 'labor', 'personal', 'pre', 'hospitalari', 'pais', 'prepar', 'pa', 'leg', 'chingaz'], ['hoy', 'manan', 'ir', 'sup', 'ser', 'atac', 'morlocks'], ['hoy', 'levant', 'content', 'hoy', 'levant', 'feliz', 'aunqu', 'dic', 'ahi', 'estan', 'habl', 'jod', 'jod', 'jod'], ['hoy', 'ala', 'cas', 'mam', 'vd', 'ala', 'mejor', 'sobrin', 'dij', 'si', 'queri', 'manzan', 'vas', 'agu', 'entiend'], ['comport', 'virus', 'siend', 'diferent', 'mx', 'muert', 'hoy', 'minim', 'esper', 'continu', 'asi'], ['dias', 'hoy', 'mas', 'suel', 'extranart'], ['sab', 'ningun', 'lug', 'mund', 'gent', 'defiend', 'tom', 'personal', 'cualqui', 'critic', 'fundador', 'hoy', 'algui', 'pued', 'defend'], ['nunc', 'gener', 'sol', 'emple', 'vid', 'hoy', 'ahog', 'impuest', 'ching', 'madr', 'cp'], ['hoy', 'comi', 'puerquit', 'fin', 'comunic'], ['hoy', 'cumplean', 'serguei', 'rajmaninov', 'manot'], ['denunci', 'condicion', 'trabaj', 'falt', 'insum', 'hoy', 'estadist', 'zacatec'], ['hoy', 'despert', 'dij', 'va', 'pas', 'va', 'pas', 'pas', 'dia', 'si', 'orit', 'hor', 'termin', 'noch', 'pas'], ['hoy', 'fin', 'atrevi', 'pregunt', 'si', 'habi', 'com', 'browni', 'magic'], ['amazon', 'prim', 'quit', 'primer', 'tempor', 'the', 'god', 'wif', 'hoy', 'primer', 'abril', 'mientr', 'vei', 'capitul', 'apen'], ['aiud', 'hoy', 'toc', 'ir', 'dentist', 'ajust', 'duel', 'demasi', 'dient', 'aguant', 'parec', 'dieron', 'golpiz', 'fuert', 'duel'], ['hoy', 'falec', 'trist', 'rel'], ['hoy', 'asi', 'trabaj', 'cas', 'bien', 'comod'], ['hoy', 'vi', 'facil', 'histori', 'mor', 'hic', 'flec', 'jajajajajajajajaj', 'buen', 'quit'], ['amig', 'team', 'trabaj', 'estan', 'hac', 'caret', 'darl', 'hospital', 'gdl', 'ayer', 'hoy', 'entreg', 'met', 'entreg', 'm'], ['siempr', 'aunqu', 'hoy', 'dia', 'finaliz', 'mezcl', 'biyrn', 'bel', 'pentatonix'], ['hoy', 'senti', 'trist', 'decidi', 'prepar', 'com', 'favorit', 'cur', 'demasi'], ['hoy', 'dia', 'declar', 'impuest', 'via', 'onlin', 'hoy', 'dia', 'sient', 'cog', 'sat', 'lug', 'aunqu', 'sol', 'par'], ['fras', 'cas', 'hoy', 'escrib', 'segur', 'mund', 'viv', 'cuilac', 'sinalo', 'mexic'], ['andas', 'rar', 'hoy', 'andas', 'dias'], ['hoy', 'pus', 'record', 'laps', 'teni', 'anos', 'madr', 'disfrut'], ['hoy', 'sali', 'recuerd'], ['hoy', 'herman', 'dij', 'mejor', 'amig', 'acost', 'conmig', 'chid', 'jej'], ['hoy', 'ver'], ['hoy', 'pus', 'ped', 'prim', 'espos', 'levab', 'caguam', 'cad', 'aguant', 'hahah', 'pus', 'mal'], ['dia', 'hoy', 'recibi', 'ultim', 'pag', 'cuant', 'tiemp'], ['noch', 'hoy', 'comeri', 'sup', 'dur', 'cul'], ['problem', 'atravies', 'hoy', 'evolucion', 'orgul', 'ela'], ['hoy', 'si', 'pas', 'vrg', 'dej', 'dol', 'piern'], ['hoy', 'pedi', 'hector', 'sac', 'dar', 'vuelt', 'car', 'baj', 'ningun', 'lad', 'dur', 'hor', 'cant', 'mariachi', 'cancion'], ['dias', 'pues', 'hormon', 'hoy', 'mostr', 'mas'], ['novi', 'felicit', 'hoy', 'prim', 'dia', 'pel', 'enoj', 'tonteri', 'podr', 'segund', 'part', 'cuarenten'], ['hoy', 'hic', 'desayun', 'verguisim', 'cas', 'novi', 'remat', 'karlot', 'prepar', 'ela', 'cen', 'famili', 'mejor', 'amig', 'cay'], ['hoy', 'encontr', 'estacion', 'gasolin', 'teni', 'pes', 'premium', 'ahor', 'pes', 'premium', 'magn', 'dud', 'escenari', 'nunc', 'imagin'], ['ayer', 'fin', 'discuti', 'algui', 'coincid', 'libr', 'intim', 'maravil', 'desgar', 'hoy', 'quier', 'compart', 'fragment', 'marc'], ['respet', 'opinion', 'sal', 'segur', 'secretari', 'dat', 'corazon', 'dig', 'esper', 'futur', 'trag', 'opcion', 'luz', 'result', 'hoy'], ['pen', 'gent', 'tom', 'brom', 'rosari', 'facil', 'fin', 'seman', 'escuch', 'much', 'fiest', 'reunion', 'familiar', 'inclus', 'hoy'], ['hoy', 'abril', 'dia', 'felic'], ['ver', 'inteligent', 'hoy', 'abraz', 'bes', 'lev', 'tripl', 'asesinat', 'violent', 'ultim', 'ano', 'gobiern', 'habi', 'rescat', 'muchisim'], ['seguidor', 'mutu', 'encarg', 'prostitu', 'futur', 'cobrart', 'disput', 'egos', 'incapac', 'manej', 'sentimient', 'infantil', 'inmensur', 'dia', 'hoy'], ['leyend', 'twets', 'pus', 'crisis', 'wow', 'hoy', 'sient', 'sup', 'feliz', 'plen', 'tiemp', 'dios', 'cur', 'graci', 'ano'], ['hoy', 'liber', 'sentimient', 'ener', 'aturdi', 'pod', 'logr', 'si', 'experient', 'viv', 'larg', 'vid', 'ensen', 'afront', 'valor'], ['amiguit', 'va', 'cuarenten', 'hoy', 'empec', 'ver', 'seri', 'paquit', 'bari', 'amazon', 'rat', 'dos', 'pat'], ['hoy', 'si', 'armand', 'conciert', 'cuart'], ['hoy', 'di', 'primer', 'asesori', 'agricultor', 'aun', 'agronom'], ['hoy', 'ser', 'noch', 'larg', 'dormi', 'tard', 'asi', 'ando', 'bien', 'monic', 'naranj'], ['hoy', 'dan', 'pesam', 'trat', 'hacert', 'sent', 'mejor'], ['premi', 'trol', 'dia', 'hoy', 'lev', 'sant', 'monic', 'studi', 'duel', 'its', 'hurts', 'lot'], ['fras', 'hoy', 'seman', 'mexican', 'consecuent', 'mas', 'omin', 'cumpl', 'med', 'exclu', 'solidar', 'social'], ['jur', 'part', 'hoy', 'miercol', 'ro', 'abril', 'voy', 'pon', 'hac', 'ejercici', 'vist', 'pas', 'gordur', 'comod', 'val'], ['quier', 'hac', 'maraton', 'episodi', 'bizar', 'sal', 'hac', 'muj', 'cas', 'vid', 'real', 'hoy', 'dia', 'censur', 'pd'], ['hoy', 'liber', 'sentimient', 'ener', 'aturdi', 'pod', 'logr', 'si', 'experient', 'viv', 'larg', 'vid', 'ensen', 'afront', 'valor'], ['conoci', 'marin', 'hac', 'mes', 'san', 'dieg', 'equis', 'gust', 'habl', 'casi', 'siempr', 'hoy', 'barc', 'qued', 'senal'], ['ayer', 'hoy', 'empiez', 'nivel', 'viern', 'nivel'], ['hoy', 'cib', 'crush', 'mand', 'mensaj'], ['hoy', 'jal', 'ser', 'pued', 'dorm'], ['hoy', 'liber', 'sentimient', 'ener', 'aturdi', 'pod', 'logr', 'si', 'experient', 'viv', 'larg', 'vid', 'ensen', 'afront', 'valor'], ['final', 'hoy', 'cay', 'deposit', 'rembols', 'amazon', 'lueg', 'mes', 'medi', 'despu', 'content', 'pued', 'mim', 'paz'], ['hoy', 'sali', 'farmaci', 'medicin', 'mam', 'regres', 'nunc', 'habi', 'alegr', 'manej'], ['experient', 'hag', 'aprend', 'conoc', 'hoy', 'mas', 'ayer'], ['sol', 'quier', 'dec', 'hoy', 'empiez', 'mes', 'bai'], ['hoy', 'son', 'tan', 'fuert', 'ex', 'senti', 'real', 'peor', 'despert', 'pens', 'vid', 'real', 'suen', 'mam', 'xd'], ['hoy', 'casi', 'lor', 'estres', 'pinch', 'tar', 'hart'], ['hoy', 'di', 'cuent', 'si', 'castros', 'voy', 'ser', 'asi', 'net'], ['hoy', 'crisis', 'net', 'casi', 'hag', 'flec'], ['manan', 'empez', 'diet', 'ejercici', 'senor', 'cas', 'hoy', 'unas', 'chev'], ['hoy', 'andan', 'cal', 'esperat', 'dias', 'mas', 'report', 'result', 'dias'], ['dias', 'duerm', 'manan', 'hoy', 'hac', 'cos', 'trabaj', 'suen'], ['estres', 'ver', 'oir', 'mund', 'apanic', 'oi', 'sacerdot', 'volunt', 'dios', 'infinit', 'si', 'decid', 'muer', 'hoy', 'ahi'], ['suen', 'casi', 'pelicul', 'hoy', 'msj'], ['si', 'man', 'va', 'gast', 'mde', 'jadon', 'sanch', 'ir', 'dybal', 'hac', 'mas', 'jugador', 'hoy', 'hoy', 'iri'], ['fuert', 'escuch', 'darl', 'micr', 'penchyn', 'guajard', 'lozoy', 'hoy', 'mund', 'pri', 'hoy', 'context'], ['ves', 'mas', 'guap', 'ayer', 'mejor', 'cumpl', 'pud', 'recib', 'dia', 'hoy'], ['hoy', 'sals', 'andan'], ['hoy', 'colacion', 'ando', 'desmayanding'], ['hoy', 'qued', 'tard', 'entren'], ['hoy', 'sol', 'pid', 'ensen', 'olvidart'], ['hoy', 'andab', 'on', 'point'], ['hoy', 'pud', 'comprob', 'dich', 'dic', 'buen', 'mal', 'atrev', 'dec', 'nunc', 'eh', 'mas', 'convenc', 'eh', 'tom'], ['hoy', 'dij', 'dormiri', 'tempran', 'dieron', 'gan', 'ver', 'spiderm'], ['vez', 'lor', 'podi', 'pas', 'nivel', 'hoy', 'lor', 'nivel', 'candy', 'crush', 'cos', 'tan', 'hermos'], ['hoy', 'cumpl', 'tambi', 'novi', 'destin', 'pus', 'diferent', 'siti', 'dia', 'tont', 'uni'], ['hoy', 'cancel', 'mor', 'cai', 'chid', 'subi', 'histori', 'sent', 'mism', 'mes', 'mes', 'agresor', 'sab', 'si', 'femin'], ['jef', 'hoy', 'cit', 'cas', 'urgi', 'trabaj', 'leg', 'mam', 'dij', 'habi', 'sal', 'senor', 'sup', 'dorm', 'alv'], ['hoy', 'art', 'atack', 'trabaj', 'material', 'facil', 'consegu', 'cas', 'sol', 'necesit', 'hiel', 'bacardi', 'coc', 'col'], ['hoy', 'senti', 'bien', 'vez', 'mal', 'bien', 'lev', 'escrib', 'nadi', 'col', 'mal', 'sol', 'quier', 'habl', 'contig'], ['pelicul', 'hoy', 'ocult', 'lun'], ['hoy', 'toc', 'guardi'], ['prometi', 'dorm', 'tempran', 'hoy', 'am'], ['hoy', 'lam', 'sol', 'confirm', 'abril', 'escuel', 'estar', 'cer', 'pinshi', 'cicl', 'escol', 'va', 'acab', 'shing', 'extran'], ['coraj', 'hoy', 'fin', 'habi', 'logr', 'dorm', 'tempran', 'frid', 'brun', 'luc', 'pareci', 'excelent', 'ide', 'empez', 'ladr'], ['hoy', 'sali', 'pas', 'vielh', 'pas', 'minut', 'cuatr', 'vat', 'dijeron', 'cos', 'chifl', 'segun', 'bien', 'valient', 'midl'], ['quier', 'amart', 'hoy', 'si', 'manan', 'siempr', 'luis', 'fonsi'], ['segun', 'hoy', 'iba', 'dorm', 'tempran', 'buen', 'adi'], ['hoy', 'ser', 'mia', 'fin', 'cier', 'ojos', 'dejat', 'quer', 'quier', 'levart', 'val', 'pnac'], ['hoy', 'saqu', 'recetari', 'univers', 'extran', 'cocin', 'tan', 'ric'], ['antigu', 'dir', 'presagi', 'aparent', 'rostr', 'lucif', 'hoy', 'form', 'lun', 'igual', 'presagi', 'gran', 'incendi', 'cer', 'estrel'], ['hoy', 'planific', 'cit', 'perfect', 'vern', 'acab', 'cuarenten', 'irem', 'com', 'italian', 'restaur', 'hermos', 'puebl', 'mientr', 'estren'], ['hoy', 'clav', 'seri'], ['hoy', 'pus', 'feliz', 'nervios', 'ansios', 'sobretod', 'preocup', 'simpl', 'fras', 'extran', 'vert', 'dias', 'verg', 'dig'], ['hoy', 'am', 'pued', 'dorm', 'dolor', 'puest', 'pens', 'sabi', 'vid', 'absolut', 'pas', 'ahor', 'tiemp', 'reflexion', 'conoc'], ['hoy', 'entreg', 'fot', 'vide', 'bod', 'mas', 'feliz'], ['medi', 'hoy', 'despid', 'companer', 'trabaj', 'adivin', 'insomni'], ['tuiti', 'hoy', 'pierd', 'costumbr', 'tuit', 'pendej', 'aqui', 'tuit', 'cac', 'pel'], ['hoy', 'cad', 'vez', 'mat', 'segur', 'nin', 'asiat', 'habl', 'fortnit'], ['ultim', 'anos', 'histori', 'pais', 'relat', 'tranquil', 'si', 'compar', 'pas', 'hoy', 'mund', 'ener'], ['hahahahah', 'meritit', 'sinalo', 'gust', 'nuev', 'band', 'hoy', 'pur', 'porqueri', 'jos', 'jimenez', 'band', 'recod', 'juli', 'preci'], ['siempr', 'sup', 'hoy', 'posibil', 'verd', 'sient', 'mas', 'asombr'], ['hor', 'desayun', 'feliz', 'volv', 'replant', 'plan', 'acas', 'crei', 'plan', 'siempr', 'mism', 'pues', 'hoy', 'toc', 'disen'], ['invit', 'ser', 'mir', 'contribu', 'planet', 'evit', 'tip', 'enfermedad', 'hoy', 'viv'], ['am', 'hoy', 'levant', 'tempran', 'mas', 'tiemp', 'sent', 'silon', 'sal'], ['hoy', 'victim', 'insomni'], ['compart', 'twet', 'gran', 'aren', 'apoy', 'emocional', 'necesit', 'hoy', 'elos', 'manan', 'hag', 'pandemi', 'contagi', 'human', 'amor'], ['hoy', 'encontr', 'taz', 'iridiscent', 'vajil', 'abuel', 'nin', 'encant', 'sirv', 'chocolat', 'ela', 'perdi', 'bril', 'color', 'mientr'], ['dia', 'divert', 'hoy', 'reir', 'mejor', 'antidot', 'hag', 'dia', 'esper', 'dic'], ['consej', 'hoy', 'cad', 'manan', 'despert', 'dos', 'opcion', 'continu', 'durm', 'segu', 'son', 'levantart', 'alcanz', 'suen', 'decision'], ['prim', 'despu', 'ped', 'dia', 'hoy', 'ener'], ['hoy'], ['hoy', 'toc', 'ir', 'analisis', 'triglicer', 'colesterol', 'glucos', 'ire', 'realment', 'sol', 'seguimient', 'sient', 'mal', 'si', 'mas'], ['vi', 'hoy', 'netflix', 'ahor', 'quier', 'ver'], ['seri', 'estupend', 'tip', 'distribuidor', 'pud', 'apoy', 'pequen', 'productor', 'hoy', 'dia', 'problem', 'posicion', 'product'], ['bonit', 'amaneci', 'hoy', 'amanec', 'voy', 'volv', 'dorm'], ['ojal', 'hoy', 'revel', 'pur', 'brom'], ['asi', 'empez', 'hac', 'cos', 'enseri', 'asi', 'hoy'], ['dia', 'hoy', 'len', 'tanqu', 'car', 'cantid', 'presion', 'litr', 'gasolin', 'roj', 'hoy', 'realid', 'graci', 'reform', 'energet'], ['hoy'], ['hol', 'servici', 'despiert', 'aqui', 'va', 'ven', 'cog', 'hoy', 'porfis', 'coj', 'dad'], ['caes', 'bien', 'hoy', 'necesit', 'hero', 'cancun', 'centr'], ['ahor', 'deb', 'ir', 'escuel', 'esper', 'abiert', 'hoy'], ['buen', 'dias', 'port', 'hoy', 'anunci', 'mayor', 'control', 'sanitari', 'jalisc'], ['hoy', 'adem', 'trabaj', 'cas', 'har', 'limpiez', 'profund', 'cel', 'com', 'har', 'lentej', 'hoy', 'har', 'rutin', 'ejercici'], ['amanec', 'calient', 'hoy', 'sol', 'antoj'], ['acordemon', 'miser', 'hoy', 'gobiern', 'proxim', 'elecion'], ['hoy', 'cumpl', 'cien', 'anos', 'natalici', 'gran', 'actor', 'japon', 'toshir', 'mifun', 'recom', 'clasic', 'cin', 'dias', 'siet'], ['hoy', 'hic', 'madrugacion', 'teabajacion'], ['mejor', 'hoy', 'siempr'], ['gaby', 'celebr', 'dia', 'mundial', 'educacion', 'ener', 'dia', 'hoy', 'abril', 'abrzo'], ['hoy', 'mes', 'polit', 'salud', 'dos', 'coleg', 'particip', 'import', 'analisis'], ['hoy', 'aprend', 'amor', 'sol', 'cre', 'cos', 'buen', 'abram', 'corazon', 'dej', 'intuicion', 'gui', 'acept', 'ret', 'espiritual'], ['esper', 'hoy', 'gran', 'dia', 'cuarentinast', 'amig'], ['alcen', 'escud', 'practic', 'hoy', 'pued', 'salv', 'vid', 'manan', 'nunc', 'olvid', 'valenti', 'entren', 'sirv', 'camp', 'batal'], ['dia', 'hoy', 'naci', 'escritor', 'period', 'fern', 'pas'], ['dia', 'hoy', 'naci', 'escritor', 'period', 'fern', 'pas'], ['aprox', 'hoy', 'volvi', 'pas'], ['apoy', 'solidar', 'hoy', 'mexic', 'necesit', 'unid', 'torn', 'dej', 'odi', 'rencor'], ['mejor', 'ver', 'hoy'], ['sr', 'buen', 'dias', 'trabaj', 'ims', 'dijeron', 'present', 'labor', 'ayer', 'hoy', 'abril', 'cov', 'esper', 'ud', 'orden'], ['list', 'ver', 'hoy'], ['hoy', 'entren', 'numer', 'inici', 'am', 'sonris', 'tip'], ['cad', 'epoc', 'hoy', 'dud', 'chap'], ['supon', 'prepar', 'anos', 'pas', 'vocifer', 'teni', 'solucion', 'problem', 'unic', 'logr', 'hund', 'aun', 'mas', 'hoy', 'ahor'], ['buen', 'dias', 'salud', 'afectu', 'alcald', 'compart', 'informacion', 'meteorolog', 'dia', 'hoy', 'cuid', 'air', 'cuid', 'vid'], ['hoy', 'inici', 'mes', 'abril', 'luc', 'complic', 'deb', 'emergent', 'sanitari', 'vez', 'gener', 'crisis', 'econom', 'estabil', 'precedent'], ['dispon', 'apen', 'hoy', 'vi', 'publicacion'], ['hoy', 'amaneci', 'ela', 'mexic', 'city', 'mexic'], ['aprovech', 'promocion', 'tra', 'miercol', 'mes', 'preci', 'sol', 'hoy', 'sup', 'taquilaz', 'albert', 'manzanar'], ['buen', 'dias', 'band', 'twiter', 'hoy', 'pens', 'hac', 'hag', 'casi', 'dias', 'pens', 'com', 'com', 'asom', 'ventan'], ['lam', 'traj', 'famili', 'fe', 'naci', 'hoy', 'tiemp', 'mas', 'dedic', 'padr', 'celestial', 'felic', 'ser', 'dicipul', 'buen'], ['mar', 'respondi', 'hoy', 'levant', 'mas', 'tempran', 'lav', 'vidri', 'ventan', 'gust', 'histori', 'vec', 'critic', 'desconoc', 'sab'], ['despiert', 'am', 'ms', 'hoy', 'muchisim', 'trabaj', 'delincuent', 'favor', 'respet', 'cuarenten', 'nac', 'rob', 'dias'], ['des', 'mejor', 'mexic', 'hoy', 'hac', 'median', 'empres', 'produc', 'person', 'plant', 'quier', 'dej', 'labor', 'social', 'deb'], ['hoy', 'emision', 'inform', 'padrastr', 'mat', 'golp', 'menor', 'anos', 'cier', 'tiend', 'departamental', 'caus', 'emergent', 'sanitari', 'aranc'], ['hoy', 'si', 'sient', 'bien', 'per', 'inalcanz', 'hermos', 'precios'], ['urgent', 'puebl', 'vam', 'elimin', 'nefast', 'part', 'hoy', 'estan', 'neg', 'aprob', 'peticion', 'puebl'], ['hoy', 'cumpl', 'lily', 'centen', 'felic', 'lily', 'pasal', 'increibl', 'aunqu', 'cuarenten', 'dic', 'cant', 'mananit'], ['britan', 'primer', 'mit', 'dec', 'anos', 'vei', 'lid', 'churchil', 'sabi', 'encontr', 'ali', 'cambi', 'mexican', 'hoy', 'len'], ['aprovech', 'hoy', 'apag', 'maquin', 'guard', 'tijer', 'cer', 'puert', 'temporal', 'cuid', 'salud', 'team', 'bigot', 'extran', 'regres'], ['buen', 'dias', 'hoy', 'miercol', 'encant', 'toc', 'hac', 'pan', 'hoy', 'conch', 'pistach', 'brioch', 'hojaldr', 'hig', 'scon'], ['sig', 'hac', 'lam', 'hoy', 'terc', 'dia', 'internet', 'aunqu', 'hic', 'report', 'corespondient', 'acud', 'restablec', 'servici', 'posibl'], ['part', 'hoy', 'column', 'pondr', 'cuent', 'altern', 'aqui', 'dar', 'rt'], ['hoy', 'dia', 'reinvent', 'tom', 'decision', 'hac', 'carg', 'encontr', 'vid', 'camin', 'haci'], ['enoj', 'dia', 'hoy', 'ver', 'gent', 'cor', 'manan', 'put', 'madr', 'ano', 'men', 'pinch', 'pie', 'ah', 'ahorit'], ['hoy', 'toc', 'curs', 'dc'], ['hoy', 'escuch', 'diari', 'jesus', 'escob', 'poc', 'period', 'qued', 'sesg', 'partid', 'profecional', 'etic', 'mananews', 'mencion', 'entrev'], ['april', 'fol', 'hoy', 'hag', 'brom', 'karanavair', 'parfav'], ['buen', 'dias', 'mexic', 'hoy', 'nuev', 'oportun', 'cambi', 'reflexion', 'aqui', 'segu', 'viv', 'ala', 'afuer', 'doctor', 'enfermer'], ['lopez', 'pid', 'tregu', 'hoy', 'min', 'mananer', 'rompi', 'dic', 'pabl', 'hiriart', 'requier', 'lopez', 'deb', 'dej', 'disp'], ['victor', 'hug', 'castaned', 'apuest', 'dirig', 'muse', 'ciud', 'hoy', 'cp'], ['humor', 'sensibl', 'dia', 'hoy'], ['hoy', 'casi', 'arol', 'vehicul', 'negr', 'pas', 'alto', 'luz', 'roj', 'neces', 'conductor', 'ir', 'alta', 'veloc', 'aven'], ['hoy', 'encuentr', 'motivacion', 'bai'], ['contingent', 'equip', 'profesional', 'financier', 'acompan', 'part', 'hoy', 'siguient', 'seman', 'encuentr', 'version', 'print', 'suplement', 'blomberg', 'busineswek'], ['sig', 'pas', 'actop', 'asi', 'dia', 'hoy', 'acas', 'entram', 'fas'], ['tecnic', 'corig', 'primer', 'dentr', 'camp', 'par', 'equip', 'hac', 'ajust', 'hac', 'sustitu', 'jugador', 'hoy', 'veo', 'tecnic'], ['nivel', 'infanci', 'adolescent', 'nivel', 'mientr', 'estudi', 'univers', 'nivel', 'gradu', 'hoy', 'mx'], ['verd', 'amig', 'sheny', 'alvar', 'dese', 'mejor', 'hoy', 'buen', 'dias'], ['hoy', 'hic', 'juguit', 'naranj', 'asi', 'desayunar', 'mas', 'delici'], ['hoy', 'epidemiolog', 'acab', 'reun', 'dar', 'notici', 'sup', 'preocup', 'chil', 'quier', 'qued', 'cas', 'alv'], ['esper', 'hoy', 'dia', 'hiz', 'muert'], ['prev', 'desp', 'empres', 'trist', 'escenari', 'laboral', 'proyect', 'hoy'], ['buen', 'dias', 'hoy', 'miercol', 'despu', 'escuch', 'cont', 'renunci', 'decen', 'dealers', 'union', 'tepit', 'caus', 'fiebr', 'vuelv'], ['mam', 'hoy', 'hij', 'menor', 'seman'], ['algui', 'conoc', 'algun', 'somnifer', 'pued', 'tom', 'hoy', 'despert', 'abril', 'tare'], ['problem', 'salud', 'public', 'mexic', 'necesit', 'gobiern', 'gui', 'necesit', 'lid', 'hoy', 'mexic', 'president', 'irespons', 'sig', 'dand'], ['hoy', 'suen', 'continu', 'veng', 'son', 'hac', 'anos', 'pelicul', 'mexican', 'acab', 'ching'], ['buen', 'hoy', 'cumpl', 'mes', 'fum'], ['dia', 'hoy', 'viaj', 'holbox', 'atend', 'tem', 'deb', 'contiengent'], ['compart', 'cifr', 'hoy', 'abril', 'mund', 'pais'], ['apen', 'hoy', 'empiez', 'cuarenten', 'emocion'], ['abril', 'dia', 'especial', 'hoy', 'cumpl', 'ano', 'gran', 'institucion', 'afortun', 'ten', 'trabaj', 'sueld', 'prestacion', 'vacacion', 'horari'], ['hoy', 'inici', 'nuev', 'mes', 'esper', 'corazon', 'mes', 'abril', 'acab', 'pandemi', 'vuelv', 'normal'], ['hoy', 'labor', 'cas', 'pront', 'volv', 'ver', 'tambi', 'extran'], ['todavi', 'dic', 'hoy', 'mejor'], ['i', 'lov', 'you', 'imag', 'hoy', 'cerc'], ['cumpl', 'activ', 'tempran', 'ejercit', 'hoy'], ['hoy', 'cumpl', 'ano', 'logist', 'exit'], ['pil', 'caen', 'brom', 'dia', 'olvid', 'hoy', 'april', 'fols', 'day', 'lind', 'miercol'], ['cal', 'centr', 'puebl', 'normal', 've', 'gent', 'camin', 'hoy', 'guard', 'silenci', 'nervios'], ['amig', 'hoy', 'gran', 'dia', 'comunity', 'regres'], ['hoy', 'cumplean', 'ser', 'mas', 'hermos', 'planet', 'amo', 'pao', 'companer', 'vid'], ['compart', 'informacion', 'hoy', 'ejercit', 'polici', 'evit', 'rob', 'suspend', 'adel', 'cobr', 'moros', 'mil', 'negoci', 'cer', 'crisis'], ['servici', 'domicili', 'tels', 'whatsap', 'comedor', 'precaucion', 'deb', 'hoy', 'milanes', 'res', 'pol', 'chulet', 'adob', 'enchil', 'enmol'], ['dej', 'desanim', 'pat', 'cul', 'empuj', 'haci', 'adel', 'hoy', 'ser', 'buen', 'dia', 'twiter', 'chul'], ['miercol', 'prom', 'boral', 'burg', 'pap', 'agu', 'dia', 'mxn', 'pidel', 'hoy', 'val', 'ped', 'prom', 'boral', 'wap'], ['escuch', 'chic', 'chick', 'hom', 'ofic', 'hoy', 'hiz', 'tard', 'asi', 'licenci'], ['carl', 'calz', 'report', 'detal', 'mananer', 'hoy', 'palaci', 'nacional', 'med', 'deten', 'avanc'], ['si', 'sab', 'dios', 'sep', 'mund', 'prepar', 'expo', 'abril', 'mientr', 'hoy', 'inaugur', 'nuev', 'siti', 'vari', 'cos'], ['si', 'sab', 'dios', 'sep', 'mund', 'prepar', 'expo', 'abril', 'mientr', 'hoy', 'inaugur', 'nuev', 'siti', 'vari', 'cos'], ['hoy', 'sal', 'ban', 'si', 'hart', 'actitud', 'dia', 'graci', 'confianz', 'segu', 'mand', 'tod', 'dud', 'fm'], ['bendec', 'dia', 'hoy', 'miercol', 'qued', 'cas'], ['hoy', 'comedor', 'ban', 'si', 'tod', 'actitud', 'dia', 'graci', 'confianz', 'segu', 'mand', 'tod', 'dud'], ['hoy', 'despert', 'jef', 'jajajajaj', 'oh', 'swet', 'reveng'], ['hoy', 'dia', 'cuarenten', 'da', 'tempor'], ['hoy', 'cumplean'], ['am', 'suficient', 'internet', 'hoy', 'estan', 'impar'], ['dan', 'gan', 'dec', 'hoy', 'leg', 'tard', 'hom', 'ofic'], ['hoy', 'punt', 'pm', 'estar', 'pantal', 'disfrut', 'programacion', 'especial', 'graci'], ['hoy', 'lev', 'cab', 'transmision', 'sesion', 'extraordinari', 'consej', 'general', 'hor', 'centr'], ['hoy', 'dejan', 'consentirt', 'disfrut', 'mejor', 'menu'], ['vi', 'hoy', 'unid', 'cov'], ['instant', 'acumul', 'moment', 'mor', 'hoy', 'viv', 'anos'], ['activ', 'amig', 'si', 'interes', 'fot', 'sensur', 'vent', 'hoy', 'estar', 'dand', 'servici', 'scort', 'fot', 'recient'], ['diri', 'pod', 'hac', 'hoy', 'hag', 'esper', 'salg', 'termin', 'tal', 'si', 'lev', 'nunc', 'mas', 'pod', 'ver'], ['invent', 'feder', 'lopez', 'cac', 'honradez', 'rest', 'capac', 'aun', 'not', 'invent', 'alcohol', 'calderon', 'hoy', 'pid', 'calumni'], ['dinam', 'apoy', 'emprendedor', 'utiliz', 'servici', 'hoy', 'mas', 'nunc', 'lik', 'import'], ['esper', 'hoy', 'futbol', 'pequen', 'sorpres', 'usted', 'we', 'shal', 'com', 'back', 'am', 'are', 'metropolitan', 'monterey', 'tambi'], ['todavi', 'hac', 'mencion', 'brav', 'si', 'ayer', 'atend', 'public', 'hoy', 'pip', 'agu', 'ayer', 'entreg', 'hoy', 'avis'], ['buen', 'noch', 'seman', 'pas', 'marz', 'inscribi', 'tal', 'virtual', 'impartir', 'hoy', 'am', 'contrat', 'abiert', 'leg', 'mayor'], ['recomend', 'hoy', 'dispon', 'uncut', 'gems', 'herman', 'safdi', 'ofrec', 'papel', 'adam', 'sandl', 'rechaz', 'acerc', 'nuev', 'actor'], ['esper', 'hoy', 'futbol', 'pequen', 'sorpres', 'usted', 'we', 'shal', 'com', 'back', 'am', 'are', 'metropolitan', 'monterey', 'tambi'], ['hoy', 'respir', 'vient', 'dificil', 'vient', 'cambi', 'vient', 'caus', 'enfermed', 'vient', 'caus', 'tiemp', 'deteng', 'termin', 'metr']]\n"
     ]
    }
   ],
   "source": [
    "ds=index_.a(['hoy'])\n",
    "print(ds)\n",
    "print(tokens.getDocs(ds))"
   ]
  },
  {
   "cell_type": "code",
   "execution_count": null,
   "metadata": {},
   "outputs": [],
   "source": [
    "gc.collect()\n",
    "import sys\n",
    "local_vars = list(locals().items())\n",
    "tot=0\n",
    "vars_=[]\n",
    "for var, obj in local_vars:\n",
    "    mem=sys.getsizeof(obj)\n",
    "    tot+=mem\n",
    "    vars_.append((mem,var))\n",
    "print(\"Total =\",tot)\n",
    "vars_.sort(reverse=True)\n",
    "print(vars_)"
   ]
  }
 ],
 "metadata": {
  "kernelspec": {
   "display_name": "Python 3",
   "language": "python",
   "name": "python3"
  },
  "language_info": {
   "codemirror_mode": {
    "name": "ipython",
    "version": 3
   },
   "file_extension": ".py",
   "mimetype": "text/x-python",
   "name": "python",
   "nbconvert_exporter": "python",
   "pygments_lexer": "ipython3",
   "version": "3.7.6"
  }
 },
 "nbformat": 4,
 "nbformat_minor": 4
}
