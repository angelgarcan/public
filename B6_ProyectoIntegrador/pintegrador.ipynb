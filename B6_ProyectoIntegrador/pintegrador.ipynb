{
 "cells": [
  {
   "cell_type": "code",
   "execution_count": 1,
   "metadata": {},
   "outputs": [],
   "source": [
    "# Multiple outputs per cell in Jupyter \n",
    "from IPython.core.interactiveshell import InteractiveShell\n",
    "InteractiveShell.ast_node_interactivity = \"all\""
   ]
  },
  {
   "cell_type": "code",
   "execution_count": 2,
   "metadata": {},
   "outputs": [
    {
     "data": {
      "application/javascript": [
       "// Evitar autoscroll.\n",
       "IPython.OutputArea.prototype._should_scroll = function(lines) {\n",
       "    return false;\n",
       "}\n"
      ],
      "text/plain": [
       "<IPython.core.display.Javascript object>"
      ]
     },
     "metadata": {},
     "output_type": "display_data"
    }
   ],
   "source": [
    "%%javascript\n",
    "// Evitar autoscroll.\n",
    "IPython.OutputArea.prototype._should_scroll = function(lines) {\n",
    "    return false;\n",
    "}"
   ]
  },
  {
   "cell_type": "code",
   "execution_count": 25,
   "metadata": {},
   "outputs": [
    {
     "data": {
      "text/plain": [
       "[(1, 4), (3, 5), (2, 6)]"
      ]
     },
     "execution_count": 25,
     "metadata": {},
     "output_type": "execute_result"
    },
    {
     "data": {
      "text/plain": [
       "[(1, 3, 2), (4, 5, 6)]"
      ]
     },
     "execution_count": 25,
     "metadata": {},
     "output_type": "execute_result"
    },
    {
     "data": {
      "text/plain": [
       "[1, 3, 2]"
      ]
     },
     "execution_count": 25,
     "metadata": {},
     "output_type": "execute_result"
    },
    {
     "data": {
      "text/plain": [
       "[4, 5, 6]"
      ]
     },
     "execution_count": 25,
     "metadata": {},
     "output_type": "execute_result"
    }
   ],
   "source": [
    "# a = [1,2,3]\n",
    "# b = [4,5,6]\n",
    "# zipped_list = zip(a,b)\n",
    "zipped_list=[(1, 4), (3, 5), (2, 6)]\n",
    "zipped_list\n",
    "unzipped_list=list(zip(*zipped_list))\n",
    "unzipped_list\n",
    "list(unzipped_list[0])\n",
    "list(unzipped_list[1])"
   ]
  },
  {
   "cell_type": "code",
   "execution_count": 36,
   "metadata": {},
   "outputs": [
    {
     "data": {
      "text/plain": [
       "[(1, 4), (2, 6), (3, 5)]"
      ]
     },
     "execution_count": 36,
     "metadata": {},
     "output_type": "execute_result"
    },
    {
     "data": {
      "text/plain": [
       "[(1, 2, 3), (4, 6, 5)]"
      ]
     },
     "execution_count": 36,
     "metadata": {},
     "output_type": "execute_result"
    },
    {
     "data": {
      "text/plain": [
       "[[1, 2, 3], [4, 6, 5]]"
      ]
     },
     "execution_count": 36,
     "metadata": {},
     "output_type": "execute_result"
    }
   ],
   "source": [
    "p=[(1, 4), (3, 5), (2, 6)]\n",
    "\n",
    "p.sort()\n",
    "p\n",
    "\n",
    "p=list(zip(*p))\n",
    "p\n",
    "\n",
    "p=[list(p[0]),list(p[1])]\n",
    "p"
   ]
  },
  {
   "cell_type": "code",
   "execution_count": 30,
   "metadata": {},
   "outputs": [
    {
     "name": "stdout",
     "output_type": "stream",
     "text": [
      "The autoreload extension is already loaded. To reload it, use:\n",
      "  %reload_ext autoreload\n"
     ]
    }
   ],
   "source": [
    "import numpy as np\n",
    "# from toolbox import *\n",
    "import toolbox as tb\n",
    "from skeleton import *\n",
    "import pandas as pd\n",
    "from gensim.models import FastText\n",
    "%load_ext autoreload\n",
    "%autoreload 2\n",
    "import os\n",
    "import tqdm\n",
    "from microtc.utils import tweet_iterator\n",
    "import datetime\n"
   ]
  },
  {
   "cell_type": "code",
   "execution_count": 59,
   "metadata": {},
   "outputs": [],
   "source": [
    "class Tokens():\n",
    "    tokenized_pointer=None\n",
    "    \n",
    "    def tokenize(self,json_file,npy_file=None,replace=False):\n",
    "        self.npy_file=str(os.path.splitext(json_file)[0]+\".npy\") if not npy_file else npy_file\n",
    "\n",
    "        if not replace and os.path.isfile(self.npy_file):\n",
    "            print(f\"** Replace is off. {os.path.abspath(self.npy_file)} already exists, then load.\")\n",
    "        else:\n",
    "            tokenized_docs=[]\n",
    "            self.N=0\n",
    "            print(f\"** Processing {json_file} ...\")\n",
    "            tx = datetime.datetime.now()\n",
    "            for idx, tw in enumerate(tweet_iterator(json_file)):\n",
    "                tb.show_progress(1000, tx, idx)\n",
    "                twTokens = tb.process_line(tw['text']) # Limpiando text.\n",
    "#                 print(type(twTokens))\n",
    "                tokenized_docs.append(twTokens)\n",
    "            self.N=idx+1\n",
    "            print(type(tokenized_docs))\n",
    "            print(tokenized_docs)\n",
    "\n",
    "            np.save(self.npy_file,tokenized_docs)\n",
    "            del(tokenized_docs)\n",
    "            print(f\"** Processed {self.N} lines. Saved to {os.path.abspath(self.npy_file)}.\")\n",
    "        \n",
    "        self.tokenized_pointer=np.load(self.npy_file, mmap_mode='r')\n",
    "        return self\n",
    "    \n",
    "    def get(s):\n",
    "        return self.tokenized_pointer[s]"
   ]
  },
  {
   "cell_type": "code",
   "execution_count": 104,
   "metadata": {},
   "outputs": [
    {
     "data": {
      "text/plain": [
       "array([0.00156783, 0.8219782 ])"
      ]
     },
     "execution_count": 104,
     "metadata": {},
     "output_type": "execute_result"
    }
   ],
   "source": [
    "np.random.rand(2)"
   ]
  },
  {
   "cell_type": "code",
   "execution_count": 60,
   "metadata": {},
   "outputs": [
    {
     "name": "stdout",
     "output_type": "stream",
     "text": [
      "** Processing data/geo-mx-2004_min.json ...\n",
      "2020-05-12 02:14:33.949692 :: 0.000219 - Processing item #0 \n",
      "<class 'list'>\n",
      "[['nochecit'], ['teo', 'pai', 'pai', 'canon', 'nunc', 'crei', 'viv', 'moment', 'exist', 'graci'], ['jajajaj', 'sab', 'sup', 'chid', 'manej', 'mism', 'user', 'igual', 'amig'], ['obvi', 'hoy', 'cumpl', 'anos', 'apag', 'voz'], ['jajajajaj', 'campanaz'], ['hoy', 'cumpl', 'ano', 'plan', 'des', 'secret', 'gent', 'sabi', 'haci', 'sent', 'bien', 'aunqu', 've', 'tan', 'cercan', 'dia', 'vuelv', 'tenert', 'dej', 'recordart'], ['dij', 'amig', 'analiz', 'porn', 'tan', 'satur', 'wey', 'buenis', 'gent', 'normal', 'consider', 'product', 'nich', 'va', 'sup', 'bien'], ['dan', 'ris', 'mem', 'vat', 'tres', 'pel', 'barb', 'si', 'jajajaj', 'sal', 'pel', 'baj', 'barbil', 'lad', 'car', 'amp', 'its', 'so', 'funy'], ['si', 'domicili', 'solicit', 'oblig', 'solidari', 'mism', 'proced', 'mand', 'dos', 'comprob', 'domicili', 'diferent', 'bien'], ['amig', 'seguidor', 'tod', 'person', 'respet', 'jueg', 'decision', 'jug', 'pued', 'influ', 'ser', 'president', 'estudiantil', 'hag', 'ayud', 'novi', 'herman', 'gemel', 'jueg', 'caus', 'conflict', 'help'], ['abraz', 'solidari', 'dr', 'javi', 'trujil', 'asi', 'famili', 'qepd', 'senor', 'padr'], ['afortun', 'suel', 'sol', 'madr', 'cas', 'cuarenten', 'pas', 'si'], ['escuch', 'enlaz', 'inform', 'pandemi', 'retransmision', 'conciert', 'orquest', 'sinfon', 'nacional', 'honor', 'bethov', 'programacion'], ['dios', 'pied', 'nuev', 'mes', 'tambi', 'conscient', 'busqu', 'desgraci', 'famili'], ['sol', 'sali', 'cuestion', 'necesari', 'pag', 'cos', 'hebmx', 'plaz', 'cumbr'], ['ultim', 'person', 'pon', 'ped', 'mam'], ['mam', 'baj', 'avent', 'cabron'], ['bro', 'sig', 'hac', 'rat', 'igual', 'jajajaj', 'dos', 'estan', 'cabron', 'sac', 'peyot'], ['buen', 'noch', 'c', 'p'], ['dejari', 'engan', 'asunt'], ['cham', 'val', 'madr'], ['demoni', 'pf'], ['mejor', 'ser', 'mejor', 'amig', 'casi', 'herman', 'diviert', 'ching', 'mas'], ['recuerd', 'ped', 'sol', 'escuch', 'juan', 'cirerol', 'ex', 'cag', 'nunc', 'entendi'], ['si', 'veracruz', 'mexic', 'c'], ['guard', 'tuit'], ['falt', 'siempr', 'quis'], ['abril', 'ser', 'mes', 'len', 'mejor', 'notici'], ['exist', 'nin', 'net', 'si', 'qlo', 'sirv', 'conoc', 'automat', 'cag', 'madr', 'actitud', 'ego', 'gigant'], ['si', 'elimin', 'equip', 'complet', 'tiemp', 'calendari', 'mas', 'seri', 'adem', 'ray'], ['total', 'acuerd', 'respect', 'terminal', 'nervi', 'elo', 'dedic', 'tiemp'], ['put', 'iva', 'cuadr', 'put', 'iva'], ['usted', 'tambi', 'pas', 'quier', 'escrib', 'algui', 'lueg', 'das', 'cuent', 'hac', 'bor', 'envi'], ['razon', 'heli', 'cuatr', 'cerc', 'cuatr', 'esquin', 'ampli', 'imag'], ['twins', 'muse', 'jos', 'luis', 'cuev'], ['ahi', 'pas', 'cabal', 'res', 'moj'], ['don', 'carmensit'], ['list', 'escuchart', 'consent', 'bel'], ['subi'], ['altur', 'cuarenten', 'cuestion', 'si', 'amig', 'posit', 'pendej', 'comprob', 'toler'], ['graci', 'jc', 'nomin', 'arepentir'], ['ayn', 'viej', 'confiabl', 'buen', 'pues'], ['si', 'sacrific', 'coloni', 'culiac', 'cov', 'seri', 'baranc'], ['algui', 'cortem', 'pinch', 'grener', 'traig', 'gt'], ['adi', 'marz', 'graci', 'aprendizaj'], ['pregunt', 'quer', 'hoy'], ['interes', 'troc', 'pregunt', 'public', 'outland'], ['jajajaj', 'mam', 'plen', 'contingent', 'trajeron', 'fucking', 'serenat', 'edifici', 'viv'], ['dios', 'entend', 'senal', 'mand', 'letal', 'sab', 'ud', 'orden', 'acab', 'human', 'diferent', 'entend', 'dios', 'confi', 'amen'], ['extran', 'espej'], ['sabi', 'defraudari', 'favs', 'rojibegr'], ['cumpl', 'anos', 'zor'], ['mas', 'intent', 'entend', 'logr'], ['nac', 'sergei', 'rachmaninof', 'pianist', 'mas', 'influyent', 'sigl', 'x'], ['pregunt', 'investig', 'aprend', 'pued'], ['envi', 'salud', 'hij', 'wilbert', 'sebasti', 'anos', 'aprend', 'chist', 'lueg', 'contest', 'bloque', 'mal', 'influenci', 'salud', 'bro', 'tabasc', 'ama'], ['desastr'], ['nivel', 'mundial', 'pais', 'grand', 'deb', 'volt', 'car', 'camp', 'sembr', 'cosech', 'ten', 'aut', 'suficient', 'alimentari', 'aca', 'veracruz', 'todavi', 'hac', 'anos', 'product', 'basic', 'consum', 'aca', 'mism'], ['updat', 'cas', 'blanc', 'ahi'], ['cant', 'fuent', 'ortiz', 'ed', 'maverick', 'usted'], ['meti', 'unas', 'cuerd', 'metal', 'ibanez', 'electroacust', 'puent', 'reforz', 'tod', 'maner', 'empez', 'desoctav', 'olvid', 'espaci', 'dio', 'sol'], ['aprovech', 'much', 'graci'], ['jajajajaj', 'pens'], ['hac', 'ano', 'is', 'one', 'waiting', 'for', 'you', 'in', 'mexic', 'city'], ['gust', 'bn', 'culpos', 'cancion'], ['import', 'cuant', 'dig', 'vas', 'entend'], ['algui', 'molest', 'decepcion', 'canon', 'expert', 'ignor'], ['realment', 'enoj', 'acion', 'cualqui', 'person', 'pued', 'hac', 'cualqui', 'cos', 'val', 'verg', 'cre', 'hech', 'veng', 'algui', 'import'], ['bendit', 'pod', 'dios', 'alelu'], ['quedens', 'cas', 'favor', 'cuidens'], ['si', 'tambi', 'cre', 'import', 'compart', 'cos', 'crem', 'dem', 'puedsn', 'sent', 'identific', 'lind', 'person', 'preocup', 'compart', 'ahor', 'lueg', 'ser', 'person'], ['sient', 'pus', 'peligr', 'integr', 'informacion', 'personal'], ['censur', 'si', 'censur'], ['favor', 'ayud', 'compart', 'entraron', 'cas', 'lev', 'mil', 'hoy'], ['buen', 'noch', 'doctor', 'claudi', 'sheinbaum', 'trabaj', 'merc', 'merc', 'flor', 'product', 'vend', 'primer', 'neces', 'si', 'dej', 'trabaj', 'veri', 'bastant', 'afect', 'economi', 'merc', 'depend', 'much', 'famili', 'viv', 'dia'], ['segur', 'si', 'si', 'tont'], ['podri', 'obten'], ['maldicion', 'bendicion', 'pod', 'ten', 'crush', 'hac', 'cas', 'jdhajsbajajasjs'], ['gust', 'sac', 'lad', 'sol', 'verl', 'dan', 'gan', 'chup'], ['i', 'so', 'sory', 'pens', 'sub', 'sig', 'mart', 'voy', 'intent'], ['buen', 'noch', 'nin', 'lind'], ['ojal', 'salg', 'favor', 'declaracion', 'impuest', 'quier', 'compr', 'animal', 'crosing'], ['falt', 'funk', 'ver'], ['pol', 'carnal', 'saqu'], ['hazm', 'lam', 'cambi', 'plan', 'voy', 'cas', 'cruz', 'mar'], ['regres', 'jalap', 'enriquez'], ['graci', 'bien'], ['entregart', 'vid', 'tampoc', 'viv', 'vos'], ['oig', 'ayud', 'dar', 'seguimient', 'acion', 'exig', 'chic', 'asesin'], ['parec', 'si', 'sirv', 'mejor', 'filtr', 'alej', 'val', 'pen'], ['big', 'litl', 'lies', 'elit', 'senor'], ['acostumbr', 'novi', 'contest', 'cad', 'grit', 'si', 'novi', 'mam', 'qlo', 'deb', 'contest', 'sig', 'gt'], ['seri', 'genial', 'casi', 'nadi', 'habl', 'empiez', 'sig', 'hil', 'usted', 'si', 'quier', 'donald', 'glov'], ['line', 'cas', 'mexican', 'ching', 'cabron'], ['pued', 'utiliz', 'favor'], ['hac', 'dias', 'estab', 'novi', 'acost', 'abraz', 'pus', 'vide', 'hiz', 'reir', 'carcaj', 'pequen', 'moment', 'ahor', 'recuerd', 'len', 'corazoncit', 'amor', 'paz', 'amo', 'jorg', 'import', 'leas'], ['nuev', 'vide', 'prueb', 'colecion', 'vide', 'complet', 'mas'], ['quier', 'quier', 'ps', 'simplement'], ['esper', 'despu', 'desmadr', 'cau', 'dej', 'abraz', 'vea'], ['actitud', 'enamor', 'mejor', 'servici', 'pued', 'ver'], ['pues', 'sal', 'cor', 'ayer', 'hoy', 'normal', 'si', 'gimnasi', 'abiert', 'bar', 'estan', 'concur', 'qued', 'tom', 'san', 'distanci', 'mejor', 'hag', 'ejercici', 'fuerz', 'cas', 'volv'], ['don', 'irma', 'recordatori', 'moren', 'trans', 'donat', 'damnific', 'teremot', 'ahor', 'cheques', 'boquit', 'mordi'], ['funcion', 'amaneci', 'pitot', 'boc'], ['crei', 'ex', 'univers', 'horibl', 'veo', 'equivoqu'], ['dic', 'vay', 'acab', 'cov', 'da', 'cas', 'klosters'], ['mand', 'doy', 'motiv', 'coloc', 'inicial', 'algui', 'p', 'oficial', 'c', 'r'], ['jajajajaj', 'pasiv', 'agres', 'maxim'], ['abril', 'mes', 'nac', 'carl'], ['mejor', 'mes', 'ano', 'tremend', 'brutal'], ['sac', 'disc', 'teni', 'guard', 'cas', 'pap', 'encontr', 'belez'], ['nadi', 'va', 'extran', 'asi', 'oxigen', 'opinion', 'public'], ['ira', 'vi', 'contest'], ['jajajajaj', 'pens'], ['ve', 'habl', 'ahi', 'van', 'ah', 'cabr', 'tan', 'joc'], ['queri', 'hac', 'polit', 'jajajaj'], ['qued'], ['pag', 'mil', 'colon', 'cosit', 'loc', 'vali', 'pen', 'sol', 'viv', 'afuer', 'valor', 'tier'], ['tod', 'razon', 'feliz', 'cumplean'], ['verd', 'urge', 'empez', 'lug'], ['chal', 'net', 'si', 'quis', 'obregon'], ['lament', 'profund', 'sensibl', 'falec', 'jos', 'luis', 'riber', 'tor', 'vecin', 'amig', 'recib', 'mas', 'sincer', 'condolent', 'famili', 'carin', 'siempr', 'present', 'descans', 'paz'], ['salv', 'plant', 'product', 'servici', 'emple', 'trabaj', 'conserv', 'emple', 'trat', 'restablec', 'economi', 'posterg', 'pag', 'impuest', 'lopez', 'sig', 'siend', 'peligr', 'pais', 'recurs', 'desperdici'], ['odi', 'despu', 'regl', 'empiec', 'migran', 'cog'], ['pas', 'pinch', 'carton'], ['salud', 'graci', 'mensaj', 'hoy', 'ayud', 'bastant'], ['chingon', 'herman', 'felicit', 'admir', 'tod', 'maquin', 'sig', 'asi', 'encarg', 'difund'], ['amo', 'clasic', 'aladin', 'gust', 'mas', 'nuev', 'tram', 'tram'], ['hombr', 'pedaz', 'infiern', 'leg', 'enciend', 'ment', 'ilumin', 'noch', 'exist', 'lun', 'hac', 'arder', 'dentr', 'deramart', 'chor', 'ciel'], ['cog', 'conmig', 'mejor', 'dia', 'jajaj'], ['declar', 'emergent', 'teni', 'bien', 'calcul', 'cre', 'ocuri', 'dec', 'emergent', 'mas', 'si'], ['andarl', 'dic', 'marz', 'sorprend', 'ahor', 'aislamient'], ['trabaj', 'esper', 'sro', 'ebrar', 'bien', 'presupuest', 'liber'], ['algui', 'expliqu', 'xim', 'hor', 'andar', 'jug'], ['jajajajaj', 'redact', 'ampar', 'ke', 'ase'], ['senor'], ['do', 'cododc', 'conozc'], ['k', 'respir', 'asust', 'panoram', 'cam', 'dispon', 'pais'], ['buen', 'opcion', 'ayud', 'pued'], ['uta', 'intent', 'mil', 'vec', 'internet', 'lam', 'impos', 'clar', 'porqueri'], ['wakal', 'mejor', 'qued', 'castil'], ['doy', 'consej', 'tan', 'chingon', 'sac', 'onda', 'vid', 'cabez'], ['exact', 'animalit', 'entiend', 'salud'], ['ay', 'amig', 'lit', 'jal', 'buenisim'], ['abril', 'mes', 'clav', 'tem', 'cov', 'cuidens', 'dentr', 'posibil', 'quedens', 'cas', 'favor'], ['buen', 'dia', 'blu'], ['verdader', 'her'], ['whow', 'ven', 'ric', 'disculp', 'salud'], ['aunqu', 'parezc', 'mentir', 'milon', 'todavi', 'apoy'], ['problem', 'asemej', 'quier', 'dec', 'import'], ['graci', 'famili', 'amist', 'toler'], ['aguit', 'person', 'van', 'pon', 'asi', 'chil', 'vay', 'quier', 'vam', 'conoc', 'ching', 'person', 'tod', 'vid', 'mal', 'quier'], ['tw', 'hoy', 'proksim', 'cans', 'u'], ['noch', 'snaks', 'maravil', 'besti', 'tuxtl', 'desol'], ['tramit', 'leg', 'respuest', 'har', 'numer', 'proporcion', 'dependent', 'estatal', 'funcion', 'contest'], ['hoy', 'prim', 'cumplean', 'gordit'], ['asom', 'tom', 'air'], ['volvi', 'cambi', 'fot', 'fac', 'acord', 'encant', 'perdon', 'amig', 'si', 'estan', 'hart'], ['asi', 'aisl', 'coronavirus', 'explot', 'cabron', 'fan', 'culer', 'mir', 'vide'], ['quier', 'contest', 'contest'], ['ojos', 'dem', 'sab'], ['deber', 'vid', 'pag', 'ojit'], ['siempr', 'lor', 'pelicul', 'bel', 'besti'], ['ama', 'dio', 'cuent', 'brom', 'hac', 'reguetoner', 'cuarenten', 'preocup'], ['ric', 'piern'], ['vec', 'avec', 'favor', 'porfavor', 'pendej'], ['spoil', 'text', 'manan', 'manan', 'bien', 'bonit'], ['dar', 'respir', 'planet', 'belez', 'aparec', 'nuev', 'rob', 'fot', 'facebok'], ['acab', 'ped', 'microfon', 'pasarmel', 'cant', 'cuarenten'], ['aguant', 'amor', 'amor', 'amor', 'disfrut', 'aguant'], ['ayer', 'dormi', 'am', 'buen', 'hoy', 'aun', 'jajaj'], ['manan', 'promet', 'pon', 'algun', 'rutin', 'ejercici', 'baj', 'gul'], ['cog', 'conmig', 'oficin', 'cas', 'jaj'], ['mexic', 'profund', 'civilizacion', 'neg', 'mestiz', 'mexican', 'verd', 'fusion', 'civiliz', 'sol', 'mas', 'ignor', 'confund', 'part', 'racist', 'proyect', 'eurocentr', 'manten', 'nativ', 'desconect', 'ident', 'raiz'], ['hari', 'centr', 'maestr'], ['practic', 'conoci', 'semestr', 'pas', 'recib', 'dos', 'vec', 'cas', 'ahi', 'sup', 'amor', 'person', 'sup', 'simpat', 'encant', 'compart', 'contig', 'periu', 'seri', 'maxim', 'gan', 'corazon', 'carin', 'siempr', 'tqm'], ['abril', 'mes', 'clav', 'tem', 'cov', 'cuidens', 'dentr', 'posibil', 'quedens', 'cas', 'favor'], ['lor', 'rio', 'lor', 'revent'], ['sig', 'metiendot', 'mugrer', 'baj', 'vas', 'qued', 'buen', 'mand', 'deci', 'ranch'], ['moment', 'diri', 'abril', 'sorprendem', 'quier', 'sorprend', 'si', 'quier', 'acab'], ['abril', 'feliz', 'mes', 'declaracion', 'anual', 'sald', 'favor', 'lad'], ['uy', 'desat', 'fier', 'santi'], ['chil', 'chil', 'val', 'ching', 'tonel', 'verg', 'busc', 'cuarenten', 'respond', 'bien', 'cabron', 'repit', 'val', 'verg'], ['fan', 'dr', 'grand', 'quier', 'ser', 'usted', 'ten', 'pacienci', 'templ', 'graci', 'ahi'], ['crist', 'noas'], ['spoil', 'nuev', 'pianist'], ['chid', 'desahog', 'twit', 'unic', 'escuch'], ['bom', 'gran', 'infinit', 'uter'], ['corazon', 'vuelv', 'amar'], ['muchach', 'ojos', 'trist', 'ocotl', 'tlaxcal'], ['quier', 'tom'], ['pacienci', 'solit', 'cav', 'propi', 'tumb', 'seguidor', 'estan', 'decepcion', 'tiemp', 'dar', 'razon'], ['favor', 'nadi', 'pid', 'abril', 'sorprend', 'suficient'], ['inhal', 'paz', 'exhal', 'amor', 'respir', 'profund', 'repit', 'despu', 'ching', 'madr', 'gent', 'culer', 'casi', 'acab', 'dia', 'manan', 'ser', 'mejor'], ['bocol', 'tortil', 'grues', 'mas', 'maiz', 'mezcl', 'mantec', 'res', 'cerd', 'vegetal', 'coc', 'comal', 'relen', 'frijol', 'refrit', 'ques', 'fresc', 'chich', 'carn', 'deshebr', 'guis'], ['buen', 'viaj', 'buen', 'pase', 'dos', 'companer', 'increibl', 'paisaj', 'vist', 'espectacular', 'puert', 'progres'], ['president', 'pued', 'salud', 'nadi', 'net', 'dio', 'defend', 'indedend'], ['si', 'imag', 'vien', 'acompan', 'text', 'cas'], ['info', 'nuev', 'disc', 'si', 'tendr', 'cancion'], ['omg', 'sar', 'ahmed', 'laur', 'berlant', 'lis', 'dug', 'compart', 'reflexion', 'just', 'escrib', 'tem'], ['cuent', 'parodi', 'verd'], ['admir', 'buen', 'gust', 'pesim', 'relacion'], ['asi'], ['chal', 'cre', 'molest', 'ah'], ['lor', 'rio', 'ahor', 'loram', 'mar'], ['cer', 'cin', 'mexican', 'dafuq', 'netflix', 'joy', 'taman', 'nadi', 'sabr', 'nunc', 'tiemp', 'felic', 'solter', 'almacen', 'tiemp', 'compart', 'promet', 'anarqui', 'carg', 'ignor'], ['apoy', 'comerci', 'local', 'jalisc'], ['cuant', 'razon', 'dignid', 'muert', 'lev', 'concienci'], ['aqui', 'parec', 'cualqu', 'hombr', 'verdader', 'maltrat', 'cualqui', 'ser', 'cualqu', 'ciert', 'espos', 'agravi', 'ela', 'cambi', 'tod', 'declaracion', 'diner', 'derech', 'culpabl', 'pued', 'demostr'], ['jal', 'put', 'siempr', 'pel'], ['libr', 'vet', 'ching', 'put', 'madr', 'habl', 'acerc', 'divers', 'camin', 'tom', 'pid', 'opinion'], ['noch', 'mas', 'larg', 'depend', 'pensamient', 'carg', 'memori'], ['segu'], ['net', 'si', 'extran', 'ir', 'normal', 'dec', 'cad', 'rat', 'queri', 'ir'], ['tant', 'hor', 'hac', 'dan', 'gan', 'met', 'cuadr'], ['amo', 'amo', 'amo', 'amo', 'amo', 'amo', 'amo', 'dig', 'des', 'sal', 'conmig', 'hac', 'pinch', 'anos'], ['sig'], ['bai', 'bai', 'abril', 'unic', 'pued', 'pens', 'quier', 'acab', 'mes', 'ver', 'vam', 'pandemi'], ['ahor', 'pid', 'tregu', 'si', 'oposicion', 'hdp', 'otorg'], ['ela', 'sigui', 'novi', 'empec', 'junt', 'companer', 'arturit', 'habi', 'termin', 'habi', 'qued', 'friends', 'cont', 'habi', 'dich', 'aprend', 'diferent'], ['ogt', 'dart', 'cuent', 'si', 'amig', 'companer', 'todavi', 'habl'], ['si', 'lent', 'internet', 'telcel', 'batal', 'dia'], ['maxim'], ['recuerd', 'hug', 'lev', 'tod', 'farmaci', 'doming', 'noch', 'coc', 'her', 'amo', 'corazon', 'ah', 'grab', 'hac', 'ridicul', 'casi', 'plen', 'desmay'], ['cup', 'limit', 'person', 'mand', 'info', 'si', 'interes', 'pas', 'ric', 'sab', 'len', 'calor', 'buen', 'ambient', 'whatsap'], ['falt', 'confianz', 'baby'], ['net', 'mand', 'patrul', 'hac', 'cas'], ['famili', 'tambi', 'jueg', 'loteri', 'noch'], ['jam', 'pens', 'dec', 'net', 'si', 'extran', 'ir', 'normal', 'dec', 'cad', 'rat', 'queri', 'ir'], ['sac', 'pas'], ['jajaj', 'necesit', 'estes', 'tir', 'cabron', 'salg', 'tiend'], ['liguil', 'vos', 'final', 'seri', 'just'], ['pens', 'memesit', 'cre', 'si', 'memit', 'jajajaj'], ['ric', 'tri', 'conmig', 'viern'], ['sal', 'fin', 'bast', 'posterg', 'cos', 'invit', 'prim', 'rond', 'chel', 'xd'], ['pinch', 'ano', 'culer', 'parec', 'compus', 'arjon'], ['nac', 'fern', 'pas', 'aclam', 'escritor', 'dibuj', 'pintor', 'diplomat', 'academ', 'mexican'], ['vec', 'comi', 'men', 'hor', 'jajaj', 'csi', 'acab'], ['hac', 'mas', 'segur', 'luis', 'perez'], ['uf', 'mas', 'agreg'], ['dic', 'tres', 'version', 'cad', 'relacion', 'sentimental', 'propi', 'real', 'tem', 'person', 'tard', 'ching', 'san', 'perd', 'simplement', 'quier'], ['amig', 'hac', 'bulying', 'vez', 'contig', 'grabacion', 'vide', 'ireal', 'cort', 'vide', 'promocional', 'qued', 'tan', 'traum', 'vd', 'acuerd', 'si', 'acas', 'odi', 'bor'], ['pues', 'dud', 'human', 'algun', 'form', 'desech', 'cuerp', 'necesit', 'si', 'inform', 'si', 'notici'], ['practic', 'conoci', 'semestr', 'pas', 'recib', 'dos', 'vec', 'cas', 'ahi', 'sup', 'amor', 'person', 'sup', 'simpat', 'encant', 'compart', 'contig', 'perieu', 'seri', 'maxim', 'gan', 'corazon', 'carin', 'siempr', 'tqm'], ['sig', 'esper', 'escrib', 'twet', 'hag', 'famos'], ['ah', 'canij', 'si', 'parec', 'mal', 'ide', 'to', 'semestr', 'adel'], ['jajajaj', 'ay', 'maldit', 'ahor', 'si', 'pas', 'voy', 'madr'], ['busc', 'felic', 'dentr', 'etern', 'si', 'busc', 'afuer', 'tendr', 'tiemp'], ['mejor', 'list', 'dud'], ['ric', 'hac', 'ejerc', 'calzon', 'sud', 'ric', 'ahor', 'ban', 'mand', 'fotuquis', 'tanguit', 'nuev'], ['cre', 'ando', 'mas', 'presion', 'trabaj', 'cas', 'oficin'], ['content', 'sal', 'pas'], ['cuant', 'vid', 'pued', 'levart', 'sol', 'caprich'], ['toluc', 'ahor', 'pod', 'sal', 'doy', 'vuelt'], ['ve', 've', 've', 've', 've'], ['anos', 'vid', 'apen', 'acab', 'enter', 'cumplean', 'celebr', 'dia', 'tac', 'tambi', 'sient', 'feliz', 'tont', 'sab', 'dat', 'interes'], ['mas', 'facil', 'entonc'], ['ain', 'acab', 'mes', 'cumplean'], ['comput', 'guard'], ['van', 'cuarenten', 'cuant', 'vec', 'jal', 'hoy'], ['acab', 'public', 'fot', 'sant', 'fe', 'ciud', 'mexic'], ['vier', 'vide', 'mand', 'idiot', 'herman'], ['si', 'navolat', 'abre', 'play', 'obligatori', 'asist', 'elas', 'fech', 'tan', 'complej', 'comun', 'sinaloens'], ['ahor', 'result', 'sal', 'cobr'], ['bots', 'pag', 'impuest'], ['bich', 'peg', 'rop', 'cabel', 'aret', 'reloj', 'celul', 'ahorit', 'mod', 'nunc', 'deb', 'leg', 'uniform', 'puest', 'cas', 'deb', 'banart', 'med', 'segur', 'higien'], ['felip', 'anda', 'pes', 'mism', 'caguam', 'tan', 'equip'], ['consej', 'evit', 'tocart', 'car'], ['cuarenten', 'ide', 'dia', 'hor', 'mes', 'bai', 'pues', 'ide', 'va', 'put', 'vid'], ['aqui', 'evident'], ['lament', 'asi', 'pas', 'aqui', 'mexic', 'segu', 'indic', 'qued', 'cas'], ['hoy', 'platic', 'cov', 'dos', 'cos', 'admir', 'labor', 'personal', 'pre', 'hospitalari', 'pais', 'prepar', 'pa', 'leg', 'chingaz'], ['pinch', 'marz', 'dur', 'ching', 'abril', 'aburem', 'porfi'], ['ex', 'siempr', 'grab', 'tik', 'toks', 'junt', 'jaj'], ['si', 'vi', 'entrar', 'trabaj', 'ayer', 'hic', 'mism'], ['teni', 'cag', 'gordit', 'tip', 'mas', 'nefast', 'cay', 'graci'], ['fin', 'seman', 'amig', 'literal', 'pas', 'ped', 'wei', 'ven', 'contingent', 'tan', 'nac'], ['topamax', 'sant', 'remedi'], ['idealiz', 'person', 'tan', 'chid', 'sient', 'si', 'seri', 'si', 'vam', 'tac', 'tambi', 'sient', 'fum', 'mot'], ['dia', 'cuarenten', 'chel', 'tac', 'cuarenten', 'perfect', 'pro'], ['nadi', 'famili', 'patern'], ['hoy', 'manan', 'ir', 'sup', 'ser', 'atac', 'morlocks'], ['esper', 'reporter', 'ta', 'mentir', 'fals', 'vend', 'adem', 'trabaj', 'ahi'], ['tiemp', 'perd', 'medit', 'ahor', 'dec', 'pued', 'ser'], ['estan', 'com', 'vez', 'murcielag', 'seri', 'mund', 'entiend'], ['jajajajajajajajajaj', 'qpsdv'], ['ejercici', 'hac', 'jalr', 'si', 'dej', 'com', 'azuc', 'biej', 'puerc'], ['mand', 'nud', 'novi', 'sub', 'autoestim'], ['cuestion'], ['gord', 'clar', 'ahi', 'dic', 'barb'], ['voy', 'public', 'mem', 'herman', 'fij', 'primer', 'compart', 'ela', 'compart', 'uo', 'cad', 'min', 'maquin', 'producion', 'masiv', 'compart', 'mem'], ['adem', 'habi', 'monton', 'trafic', 'centr', 'asi', 'funcion', 'tod', 'part'], ['unas', 'pelis', 'preparari', 'fres', 'hdtpm'], ['asi', 'denot', 'fracas', 'socied', 'nivel', 'mundial'], ['enoj', 'cas', 'naturalez', 'agradec'], ['mas', 'si', 'tem', 'inedit'], ['cog', 'conmig', 'suert', 'pues', 'vas', 'hac', 'favor', 'jajajajajaj'], ['mas', 'peregrin', 'ide', 'hac', 'ocup', 'president', 'pais'], ['algui', 'vio', 'euphori', 'recomiend'], ['beb', 'cas', 'fifi', 'coc', 'spiuk'], ['jajajaj', 'hag', 'brujeri', 'jaj'], ['hoy', 'levant', 'content', 'hoy', 'levant', 'feliz', 'aunqu', 'dic', 'ahi', 'estan', 'habl', 'jod', 'jod', 'jod'], ['q', 'omit', 'va', 'dec', 'rl', 'dat', 'mader', 'coservafor', 'complot'], ['si', 'vi', 'dos', 'vec', 'deposit', 'funcion'], ['quej', 'gust', 'pued', 'twit', 'pa', 'verg'], ['herman', 'tan', 'col', 'jajaj', 'invit', 'pas'], ['quier', 'vert', 'feliz', 'aunqu'], ['bonit', 'inici', 'regal', 'cos', 'repartidor', 'rapi', 'lastim', 'ranch', 'entra', 'uber', 'delincuent'], ['tiern', 'dia', 'salud', 'bendicion', 'cuidat'], ['pregunt', 'seri', 'much', 'gent', 'pregunt', 'seri', 'tan', 'dificil', 'com', 'cre', 'contest', 'pregunt'], ['total', 'si', 'bes', 'muer', 'cans', 'bes'], ['buen', 'tiemp', 'cbtis', 'vendi', 'browni', 'mot'], ['hijol', 'mij', 'ahi', 'si', 'cos', 'tac', 'oriental', 'poblan', 'cos', 'distint', 'tac', 'pastor', 'surg', 'conoc', 'cdmx', 'dia', 'platic', 'histori', 'infografi', 'padr', 'corect', 'abraz'], ['madr', 'cuarenten', 'mam', 'valeri', 'cuant', 'termin', 'vam', 'armar', 'gran', 'ped', 'aqui', 'cas', 'promet'], ['mantec', 'chocolat', 'amo'], ['nop', 'caril', 'mor', 'mneh', 'tip'], ['matari', 'balen', 'chancletaz', 'bes'], ['si', 'amor', 'siemprit'], ['nms', 'si', 'bien', 'guapisim', 'per'], ['siempr', 'vam', 'necesit'], ['pues', 'veo', 'quier', 'ir'], ['mejor', 'mejor', 'maner', 'hac', 'minim', 'quit', 'pes', 'encim', 'moment'], ['acab', 'encontr', 'cds', 'compr', 'pubert', 'vivi', 'pap', 'belez', 'original', 'amo', 'colecion', 'cos'], ['sig', 'enoj', 'sorian', 'dej', 'compr', 'restock', 'vin', 'l'], ['ausenci', 'devor', 'enter', 'corazon'], ['preguntal', 'carnal'], ['siempr', 'leg', 'algui', 'hac', 'olvid', 'ayer', 'hac', 'son', 'manan'], ['primer', 'vez', 'volvi', 'nac', 'contig'], ['si', 'bien', 'pendej', 'hac', 'anos'], ['odi', 'vomit', 'dej', 'dolor', 'cabez', 'horibl', 'buen', 'moreton', 'car'], ['hermos', 'bendec', 'noch', 'efrain'], ['pur', 'verg', 'estan', 'bien', 'chid'], ['dic', 'just', 'for', 'fans', 'men', 'voraz', 'trat', 'hac', 'only', 'aparent', 'credencial', 'elector', 'identificacion', 'primari', 'segun', 'estandar', 'dio', 'huev', 'busc', 'jaj'], ['di', 'cuent', 'sol', 'contest', 'nom', 'contest'], ['sup', 'plen', 'solteri', 'ningun', 'lig', 'wey', 'rend', 'cuant', 'ahor', 'aqui', 'quer', 'recib', 'buen', 'dias', 'sab', 'pas', 'dia'], ['inici', 'mejor', 'mes', 'ano'], ['cuarenten'], ['cabron', 'himym', 'hac', 'sent'], ['pepi', 'lucy', 'bom', 'chic', 'monton', 'primer', 'pelicul', 'almodov', 'atrev', 'habi', 'pas', 'tan', 'sol', 'cinc', 'anos', 'fin', 'dictadur', 'franc', 'histori', 'enfrent', 'hipocresi', 'socied', 'conserv', 'heteronorm'], ['urge', 'reu', 'amig', 'huev'], ['report', 'bloqu', 'hdspm', 'ches', 'borol', 'contrat'], ['si', 'amig', 'graci', 'buen', 'vibr', 'siempr'], ['dej', 'contest', 'pobr', 'inteligent', 'pesit', 'atencion', 'cha'], ['show', 'si', 'sac', 'ped', 'cas', 'sac', 'ped'], ['hoy', 'ala', 'cas', 'mam', 'vd', 'ala', 'mejor', 'sobrin', 'dij', 'si', 'queri', 'manzan', 'vas', 'agu', 'entiend', 'senti', 'atend', 'anos', 'leo', 'amor', 'siempr', 'dir', 'bari', 'xk', 'jajaj'], ['da', 'much', 'ris', 'pas', 'ped', 'ex', 'tres', 'convers', 'consist', 'solt', 'pizc', 'informacion', 'general', 'interlocutor', 'agradec', 'info', 'explicacion', 'mas', 'larg', 'convers'], ['logr', 'qued', 'cas', 'mas', 'inform', 'tem', 'trat', 'qued', 'cas', 'abur', 'avec', 'cre', 'cerebr', 'taman', 'nuez'], ['jajajajajajajajajaj', 'qpsdv', 'robert'], ['cog', 'conmig', 'hor', 'mas', 'dig', 'vas', 'cha'], ['pendej', 'hab', 'com', 'clas'], ['tiemp', 'libr', 'pus', 'corient', 'tar', 'ahor', 'estudi', 'franc', 'nuev'], ['dej', 'dorm', 'ped', 'jerseys', 'estan', 'list', 'van', 'ped', 'rembols'], ['algui', 'sac', 'mas', 'lagrim', 'sonris', 'val', 'pen'], ['jajajajajajajaj', 'vas', 'habland'], ['net', 'mas', 'chid', 'hac', 'tare', 'baj', 'presion', 'madrug'], ['esper', 'destin', 'nunc', 'vuelv', 'junt'], ['siempr', 'pregunt', 'cuant', 'constel', 'alberg', 'ojos', 'tant', 'estrel', 'junt', 'ilumin', 'mir'], ['mejor'], ['segur', 'obedec', 'cuent'], ['comport', 'virus', 'siend', 'diferent', 'mx', 'muert', 'hoy', 'minim', 'esper', 'continu', 'asi'], ['imaginart', 'desnud', 'oie'], ['trabaj', 'hac', 'pe', 'daz'], ['pendejet', 'ex', 'quier'], ['jaj', 'tampoc', 'gustari', 'dijer', 'asi', 'pued', 'dec', 'ruth'], ['nuev', 'mes', 'nuev', 'oportun', 'sig', 'lej', 'cas', 'extran'], ['ching', 'madr', 'amig', 'busc', 'ahuev'], ['santiag', 'relajacion', 'ciud', 'carm'], ['crer', 'crer', 'irelev', 'meol', 'asunt', 'realic', 'mas', 'prueb', 'pais'], ['vay', 'diabl', 'asegurat', 'ten'], ['aqui', 'conflict', 'inter', 'bar', 'camp', 'cer', 'puert', 'viv', 'propietari', 'par', 'cuat', 'recib', 'cuent', 'pag', 'apoy', 'aquel', 'influenci'], ['culer', 'soled', 'calor'], ['ah', 'ms', 'abril', 'compr', 'regal'], ['quier', 'ir', 'austin', 'emocion', 'aqui'], ['noch', 'dar', 'mot', 'jueg', 'retr', 'recomendacion', 'salud'], ['diganl', 'put', 'salg', 'cas', 'van', 'ver', 'qued', 'dentr'], ['si', 'dij', 'sonris', 'fascin'], ['gust', 'ver', 'conferent', 'cov', 'comentari', 'sal', 'cad', 'joy'], ['devon', 'whit', 'espectacul', 'cf', 'dab', 'gust', 'verl', 'jug'], ['dijeron', 'octav', 'mejor', 'semestr', 'contrari', 'odi'], ['conviert', 'mal', 'person', 'repet'], ['extran', 'grit', 'salon', 'mientr', 'doy', 'avis'], ['sab', 'dec', 'adi', 'aun', 'quier', 'hac'], ['hac', 'dias', 'pis', 'kil', 'biej', 'puerc', 'decidi', 'tom', 'san', 'decision', 'cre', 'sub', 'pes', 'odi', 'si', 'corect', 'si'], ['va', 'dec', 'lopez', 'obrador', 'obra', 'conserv', 'fifis', 'neoliberal'], ['si', 'casi', 'siempr', 'perfect', 'relacion'], ['ven', 'q', 'aplaud'], ['avec', 'mied', 'agar', 'dic', 'dia', 'xme', 'voy', 'ir', 'vid', 'ahor', 'apriet', 'lastim'], ['si', 'quier', 'lev', 'tom'], ['poc', 'mes', 'poc', 'hrs', 'manuel'], ['chair', 'identific', 'pesim', 'ortografi'], ['much', 'graci', 'mejor'], ['mental', 'encuentr', 'com', 'bolon', 'ques'], ['generacion', 'influencers', 'salv', 'mund', 'sid', 'ofend'], ['u', 'asi', 'medi', 'ano', 'fel', 'sis'], ['vay', 'mes', 'larg', 'esper', 'abril'], ['pinch', 'prianist', 'orejon', 'dec', 'men'], ['salg', 'cas', 'adrian', 'sucursal', 'aguil', 'preocup', 'salud', 'elos', 'lev', 'aliment', 'cas', 'tom', 'seried', 'respons', 'med', 'sanitari', 'indic', 'secretari', 'salud', 'adrian', 'piz', 'lam'], ['jajajajajajajaj', 'perdon', 'amig', 'drenaj', 'hac', 'grues', 'sub', 'baj', 'dig', 'tal', 'petit', 'apen', 'median', 'salud', 'buen', 'pas', 'vide', 'aplaudirt'], ['mal', 'final', 'ultim', 'tempor', 'qued'], ['excelent', 'interpretacion', 'herman', 'volv', 'ver', 'pront', 'chec', 'dm', 'abraz', 'alan', 'mor', 'cant', 'qued', 'mas', 'aniversari', 'luctuos', 'selen', 'via'], ['hel', 'tijuan', 'baj', 'californi', 'nort'], ['pued', 'regres'], ['senor', 'subi', 'pod', 'echandol', 'siempr', 'culp', 'gobi', 'pas', 'seri', 'mejor', 'pus', 'pantalon', 'empez', 'gobern', 'bast', 'mir', 'atras', 'hac', 'senorcit', 'palaci', 'present', 'mejor', 'futur'], ['unic', 'segur', 'ano', 'podr', 'coronavirus'], ['ahor', 'si', 'leg', 'turn', 'jaj', 'conoc', 'viaj', 'dio', 'cont', 'cos', 'mas', 'loc', 'vid', 'encant', 'conocert', 'herman', 'sup', 'chil', 'dos', 'hazt', 'tik', 'tok', 'pd', 'pere', 'sol'], ['aun', 'asi', 'pid', 'tregu', 'ver', 'hdp', 'oposicion', 'nunc', 'dist', 'tregu', 'ahor', 'chinguec', 'pendej'], ['pregunt', 'pas', 'si', 'estuvies', 'junt', 'aun', 'enamor'], ['lol', 'tambi', 'pens', 'mism', 'descubri', 'gent', 'excit', 'mas', 'morb', 'ver', 'cog', 'algui', 'conoc', 'cren', 'conoc', 'model', 'seman', 'estan', 'deposit', 'cerc', 'usd', 'voy', 'mas'], ['nombr', 'hospital', 'mur', 'si', 'mejor', 'escrib', 'mentir'], ['bec', 'sal', 'diari', 'gan', 'pan'], ['servici', 'emergent', 'finaliz', 'labor', 'cer', 'estrel', 'alcaldi', 'iztapalap', 'incendi', 'pastizal'], ['esper', 'dia', 'larg', 'cans', 'dia', 'manan', 'send', 'buen', 'vibr'], ['horn', 'pas', 'tiemp', 'browni', 'calcul', 'bien'], ['tard', 'contest', 'sigl', 'desesper'], ['sospech', 'sobretod', 'vin', 'prist', 'dud', 'mat', 'familiar', 'justific'], ['busc', 'mar', 'si', 'amig'], ['net', 'twets', 'novi', 'confund', 'buen', 'mal'], ['orden', 'direct', 'lop', 'aqui', 'twit', 'hac', 't'], ['encant', 'pod', 'transmit', 'much', 'alegri', 'gent', 'leg', 'len', 'magi', 'amor'], ['lev', 'medi', 'ano', 'tom', 'termin', 'ex', 'cre', 'suficient', 'deb', 'dej', 'celebr'], ['mied', 'olvidart', 'olvid', 'voz'], ['encant', 'tuit', 'crem', 'jaj'], ['comedi', 'idiot', 'cost', 'ching', 'pon', 'piez', 'wey'], ['ahor', 'sab', 'show', 'fot'], ['dia', 'lam', 'hac', 'mierd', 'juliet', 'clar', 'si'], ['cans', 'busc', 'afuer', 'respuest', 'adentr'], ['mejor', 'asi', 'algui', 'len', 'algui', 'da', 'dist'], ['bro', 'va', 'esper'], ['escucham', 'cant', 'par', 'in', 'version', 'aregl', 'abril'], ['negoci', 'vid', 'fecal', 'epn', 'minim', 'merec', 'horc'], ['consent'], ['ere', 'tip', 'pa'], ['plac', 'lueg', 'platic', 'halazg'], ['mio', 'jajajajaj', 'chupet', 'sant'], ['aerob', 'pues', 'pes', 'asi', 'abdominal', 'pued', 'hac', 'aqui', 'cas', 'sol', 'salg', 'cor', 'verd', 'tambi', 'empez', 'sub', 'pes', 'quier', 'sub'], ['dia', 'toqu', 'primer', 'vez', 'fragment', 'meteorit', 'consegui', 'primer', 'geod'], ['guard', 'cos', 'mam', 'acuerd', 'cad', 'cos', 'haci', 'ela'], ['deberi', 'hac', 'pospon', 'pag', 'impuest', 'pymes', 'ano', 'estan', 'viend', 'van', 'cer', 'apart', 'exig', 'pag', 'impuest', 'mam'], ['nunc', 'habi', 'amad', 'algui', 'amo'], ['negr', 'import', 'dia', 'mes', 'lean'], ['ayer', 'aranc', 'cuarenten', 'tempor'], ['grup', 'amig', 'teni', 'plan', 'ir', 'cen', 'celebr', 'dia', 'tac', 'situacion', 'cambi', 'plan', 'cad', 'cen', 'casit'], ['pued', 'esper', 'gent', 'nac'], ['contest', 'conden'], ['vec', 'sol', 'necesit', 'algui', 'escuch', 'pregunt'], ['acab', 'public', 'fot', 'play', 'carm', 'quintan', 'ro'], ['sig', 'esper', 'cos', 'buen', 'vist', 'ningun', 'esper', 'dig', 'algun', 'dig', 'enseri'], ['confesion', 'cuarenten', 'mas', 'extran'], ['feliz', 'cumpl', 'lej', 'vos', 'lej', 'aguant', 'distrit', 'federal', 'mexic'], ['pus', 'pelicul', 'ris', 'olvid', 'jajaj'], ['geoc', 'vist', 'canter', 'tepic', 'nay'], ['put', 'pinch', 'salg', 'bar', 'fiest', 'pendej', 'estup', 'alv', 'cag'], ['comentari'], ['recib', 'paqutws', 'mensajeri'], ['marz', 'cay', 'plag', 'abril', 'ser', 'zombi'], ['inhuman', 'recib', 'diner'], ['man', 'romper', 'cuent', 'papel'], ['jajajaj', 'we', 'dim', 'favor', 'aun', 'vide', 'jaramil', 'fum', 'cam', 'saban', 'tigr'], ['adapt', 'mejor', 'aun', 'podr', 'sobreviv', 'necesari', 'ser', 'mas', 'fuert', 'anim'], ['buen', 'perit', 'crocs', 'cabez', 'corazon'], ['preguntal', 'bitch', 'conoc', 'vari'], ['cog', 'conmig', 'buen', 'mas', 'import'], ['mayori', 'cos', 'magic', 'vien', 'envoltur'], ['recuerd', 'unist', 'twit', 'si', 'anos', 'vid', 'product'], ['odi', 'marz', 'mil', 'razon', 'excepcion', 'fin', 'acab'], ['dias', 'hoy', 'mas', 'suel', 'extranart'], ['aceptemosl', 'estil', 'vid', 'conoci', 'va', 'volv', 'nunc'], ['qued', 'bien', 'amig', 'hazt', 'quier'], ['pur', 'marlbor', 'roj', 'jot', 'mam', 'sabor', 'pepin'], ['compart', 'dias', 'busqu', 'tant', 'muj', 'tan', 'encontr', 'wow', 'mejor', 'pas', 'servici', 'primer', 'part', 'mejor'], ['desestres', 'termin', 'voy', 'enmarc', 'signif', 'tortug', 'hac', 'tiemp', 'encer', 'conect', 'conmig', 'monton'], ['disculp', 'milon', 'mayori', 'milon', 'pues', 'cres'], ['necesit', 'buen', 'platic', 'madrug'], ['relaj', 'ver', 'jajajaj'], ['sab', 'ningun', 'lug', 'mund', 'gent', 'defiend', 'tom', 'personal', 'cualqui', 'critic', 'fundador', 'hoy', 'algui', 'pued', 'defend', 'hech', 'cabron', 'sobr', 'palabr', 'explor'], ['pues', 'maestr', 'reprob', 'archiv', 'alm'], ['are', 'pon', 'bien', 'buen'], ['graci', 'gran', 'program', 'cir', 'excelent', 'ahi', 'segu', 'contig', 'tambi'], ['cuerp', 'templ', 'convirti', 'prision'], ['abril'], ['comedor', 'sal', 'tal', 'pati'], ['inaudit', 'pued', 'proteg', 'medic', 'estan', 'ariesg', 'vid', 'famili'], ['si', 'referi', 'buen', 'neuron', 'acert', 'entend', 'pen', 'mia', 'contig', 'ratif'], ['buen', 'dias', 'mari', 'bonit', 'asi', 'gust', 'imaginart', 'esper', 'fe', 'motivacion', 'sonris', 'pued', 'deret', 'coronavirus', 'dios', 'cuid', 'protej', 'amig'], ['dias', 'cumplean', 'amad', 'madr', 'nin', 'sup', 'col'], ['algui', 'usted', 'pas', 'etap', 'noch', 'pon', 'ver', 'rop', 'shein', 'articul', 'internet', 'van', 'compr', 'men', 'ahor', 'empez', 'jejej'], ['legu', 'pendej'], ['clar', 'elise', 'clar', 'si'], ['polit', 'cren', 'medic', 'com', 'pag', 'vocacion', 'elos', 'salari', 'elev', 'hac', 'insignif'], ['van', 'lucr', 'ela', 'cabron'], ['ve', 'milagr', 'celd'], ['arantx', 'colcher', 'espos', 'estudi', 'licenciatur', 'economi', 'unam', 'maestri', 'cienci', 'concentracion', 'economi', 'salud', 'inst', 'nal', 'salud', 'public', 'doctor', 'salud', 'int', 'univers', 'johns', 'hopkins'], ['enric', 'cuest', 'admit', 'queri', 'after'], ['tmb', 'madr', 'quier', 'sal', 'pen', 'comenz', 'buen'], ['hac', 'pregunt', 'hombr', 'gust', 'lam', 'bes', 'ano', 'asi', 'hahahah', 'ching', 'pas', 'cabez', 'cre', 'complet', 'maran', 'plan', 'acas', 'ancian'], ['cog', 'conmig', 'mejor', 'pued', 'hac', 'obvi', 'tem', 'ecsit'], ['ingenier', 'salvador', 'present', 'proyect', 'form', 'part'], ['oh', 'man', 'cjit', 'tuiter', 'gust', 'lert'], ['cdmx', 'ahorit'], ['jam', 'pens', 'jug', 'casit', 'tan', 'car'], ['jajajaj', 'da', 'cuent', 'hij', 'delincuent'], ['algui', 'expliqu', 'pas', 'marz', 'graci'], ['nivel'], ['aqui', 'pendej', 'dij', 'caus', 'chiap', 'guerer', 'oaxac', 'pais', 'potenci'], ['penos', 'denigr', 'espos', 'lop', 'dedic', 'desment', 'hech', 'verd', 'ocult', 'saldr', 'luz'], ['dic', 'colg', 'panuel', 'roj', 'si', 'necesit', 'mand', 'panuel', 'blanc', 'si', 'necesit', 'com', 'vecin', 'colg', 'tang', 'ser', 'necesit'], ['mejor', 'lor', 'sabi', 'algun', 'form', 'ibas', 'lor', 'dich', 'gent', 'evad', 'emocion', 'jsjsjsjs'], ['yes', 'madr', 'termin', 'primer', 'season'], ['gran', 'trabaj', 'acent', 'chever'], ['blind', 'segur', 'public', 'delincuent', 'organiz', 'mer', 'blind', 'entrad', 'ranch', 'jajaj'], ['pas', 'cuarenten'], ['olvidenl', 'fuckgirl', 'maxim', 'potenci'], ['quier', 'ir', 'rekorsholis', 'junt', 'chor', 'tickets', 'den', 'jueg', 'bien', 'pedor', 'u'], ['algui', 'san', 'juici', 've', 'mamarach'], ['mart', 'trot', 'liger', 'sac', 'estres', 'cuarenten'], ['mam', 'cans', 'ganz', 'jajaj'], ['cier', 'hotel', 'ser'], ['aquel', 'olvid', 'lenguaj', 'gratitud', 'nunc', 'pued', 'buen', 'termin', 'felic'], ['extran', 'dolorcit', 'piern'], ['jajaj', 'ay', 'voy', 'manans', 'regres'], ['tambi', 'gimnasi', 'estan', 'cer', 'buen', 'cualqui', 'cos', 'cardi', 'cuart'], ['ayer', 'son', 'horibl', 'enci', 'teni', 'aldo', 'mol', 'hinch', 'deci', 'sup', 'infect', 'asi', 'traum', 'boc', 'amig', 'jaj'], ['mal', 'protocol', 'ingres', 'pacient', 'infect', 'hospital', 'ims', 'may', 'ims', 'chiap'], ['chapiadit', 'calor', 'asi', 'namast', 'pedregal', 'san', 'nicol', 'segund', 'secion', 'tlalp'], ['pesim', 'trat', 'capt', 'indirect'], ['dic', 'mont', 'cre'], ['inchim', 'recuerd', 'susan', 'distanci', 'cas', 'moment', 'ser', 'nuev', 'independient'], ['askuismi', 'dij', 'dic'], ['buen', 'noch'], ['quier', 'saqu', 'pituf'], ['cham', 'quier', 'mejor', 'mexic', 'junt', 'negoci', 'domin', 'mexic', 'mas', 'ego', 'complej'], ['parec', 'dej', 'ir', 'borol', 'dejenl', 'muert'], ['pinch', 'ano', 'culer', 'parec', 'cervez', 'clamat'], ['unic', 'necesit', 'sab', 'lach', 'abiert', 'men', 'ped', 'palev', 'piens', 'ir', 'caborc', 'diokis'], ['si', 'verdader', 'irespons', 'dud'], ['ok', 'entonc', 'diagnostic'], ['mejor', 'crei', 'peor', 'habi', 'pas', 'mund', 'final', 'gam', 'of', 'thron'], ['sab', 'aun', 'asi', 'quier', 'recordart', 'lad', 'pantal', 'part', 'mund', 'kar', 'dudar', 'apoyart', 'buen', 'mal', 'hic', 'promes', 'sj'], ['acab', 'public', 'fot', 'copilc', 'baj', 'coyoac'], ['podri', 'dar', 'man', 'atencion', 'quej', 'dias', 'resolv', 'atencion', 'graci'], ['aprend', 'ver', 'lad', 'posit', 'suced'], ['acab', 'public', 'fot', 'explan', 'malecon', 'cd', 'carm'], ['ok', 'hac', 'dias', 'gan', 'bonel', 'bufal', 'munch'], ['oig', 'queridisim', 'culiac', 'dic', 'coronavirus', 'mat', 'asi', 'diosit', 'nuev'], ['nivel', 'cuid', 'salud'], ['public', 'puerc', 'puerc'], ['pues', 'ejercici', 'noch', 'grad', 'parec', 'agrav'], ['dias', 'sab', 'verdader', 'color', 'cabel', 'mujer', 'pinshis', 'nervi'], ['sient', 'fuerz'], ['manan', 'ire', 'trabaj', 'quier', 'remodel', 'cas', 'dia', 'si', 'mam', 'vrd'], ['sol', 'mes', 'cumplean', 'ora', 'sistoy', 'nervios', 'ver', 'si', 'leg'], ['pas'], ['durang', 'lun'], ['quier', 'abraz', 'pachuc', 'fri'], ['cog', 'conmig', 'dificil', 'cre', 'amor', 'jajajaj', 'si', 'cre', 'pet', 'pan'], ['tard', 'bril', 'lun', 'camin'], ['mejor', 'orar', 'ped', 'perdon', 'escuch', 'cos', 'fea', 'denost', 'discrimin', 'van', 'dec', 'aliens'], ['quier', 'ped', 'perdon', 'tod', 'vec', 'esforc', 'algui', 'quis'], ['lor', 'agu', 'puebl', 'hel', 'tuxtepec', 'sol', 'agu', 'hirv'], ['acab', 'public', 'fot', 'copilc', 'baj', 'coyoac'], ['manan', 'ire', 'present', 'exam', 'farmacologi', 'calzon', 'cuart', 'jajajaj'], ['men', 'ayud', 'ingres', 'famili', 'depend', 'vent', 'play', 'si', 'enferm', 'pues', 'mod', 'gust'], ['verd', 'dormir', 'dia', 'pondr', 'ler', 'libr', 'dej', 'medi', 'ener'], ['pront', 'vuelt', 'graci'], ['cre'], ['pinch', 'vuelt', 'cal', 'dan'], ['cas', 'prueb', 'person', 'sintom', 'q', 'historial', 'viaj', 'extranjer', 'hab', 'conviv', 'posit', 'virus', 'final', 'dich', 'expert', 'virus', 'cuent', 'dar'], ['nin', 'ojos', 'mas', 'bonit', 'nunc', 'habi', 'vist'], ['apoy', 'empresari', 'emple', 'deb', 'acompan', 'apoy', 'gobiern', 'condon', 'difer', 'impuest', 'seri', 'apoy', 'estructur', 'sol', 'solicitud', 'favor'], ['hem', 'aqui', 'rumb', 'ims'], ['acab', 'public', 'fot', 'ciud', 'carm'], ['throwback', 'prim', 'viaj', 'junt', 'playit'], ['muer', 'ver', 'car', 'pap', 'manan'], ['nunc', 'gener', 'sol', 'emple', 'vid', 'hoy', 'ahog', 'impuest', 'ching', 'madr', 'cp'], ['excepcion', 'hermos', 'mam'], ['uy', 'dej', 'peg', 'fuert', 'balon'], ['clim', 'delici', 'bien', 'empiern', 'chiquit'], ['chupit', 'pendej'], ['ayer', 'son', 'horibl', 'enci', 'teni', 'mol', 'hinch', 'deci', 'sup', 'infect', 'asi', 'traum', 'boc', 'amig', 'jaj'], ['dia', 'mas', 'yend', 'trabaj', 'segu', 'luch', 'sac', 'adel', 'net', 'dese', 'acab'], ['casi', 'segur', 'mias', 'sal', 've', 'wach', 'dic', 'ped'], ['mam', 'quier', 'nuer', 'jej'], ['harl', 'ped', 'quedit', 'leg', 'sal', 'mal', 'si', 'explic', 'jajajaj'], ['regres', 'cas', 'san', 'salv', 'segu', 'aventur', 'lam', 'vid'], ['hol', 'nombr', 'irving', 'gatel', 'ahi', 'va', 'hil', 'tuits', 'cre', 'president', 'coronavirus', 'dejam', 'contart', 'pas', 'cabez', 'abro', 'hil'], ['ciert', 'lat', 'machiat', 'tra', 'azuc', 'veng', 'difam'], ['ahorit', 'rolon', 'clar', 'si'], ['moment', 'acab', 'mes', 'marz'], ['acab', 'public', 'fot', 'ciud', 'carm'], ['notici', 'cres', 'chin', 'itali', 'tampoc', 'espan', 'usa', 'dec', 'idiotec', 'ver', 'si', 'peg'], ['ciert', 'debi', 'hab', 'cen', 'tac', 'sol', 'abur'], ['cre', 'top', 'mujer', 'mas', 'mim'], ['pues', 'si', 'jesus', 'ramirez', 'president', 'sal', 'asi', 'acab', 'sexeni'], ['habi', 'dich', 'obregon', 'regres', 'mexicali'], ['dese', 'corazon', 'jam', 'sentimient', 'ten', 'person', 'aman', 'men', 'metr', 'sol', 'paus', 'mir', 'si', 'exist', 'mas', 'observ', 'alma', 'tod', 'virtud', 'pos', 'sab', 'nunc', 'podr', 'ver', 'mism', 'maner'], ['entrev', 'dr', 'miroli', 'via'], ['cag', 'com', 'chin', 'boc', 'abiert', 'apart', 'com', 'met', 'boc', 'pinch', 'puerc', 'cag', 'cag'], ['entonc', 'pregunt', 'descalific', 'hag', 'monolog', 'oficin', 'fi', 'vay', 'deb', 'ser', 'materi', 'perpetu', 't'], ['fak', 'news', 'si', 'faleci', 'ruiz', 'esparz'], ['buen', 'dia', 'buen', 'mes', 'salud', 'sonris'], ['migran', 'ful'], ['vay', 'verg', 'atroc', 'artist'], ['jajaj', 'pues', 'ala', 'noch', 'elos', 'bebi', 'cos', 'lev', 'jajajs'], ['clar', 'vi', 'chinguenguenchon'], ['aja', 'lastim', 'cre', 'rey'], ['sonor', 'dificil', 'estudi', 'medicin', 'limit', 'cup', 'public', 'priv', 'cobr', 'car', 'sonorens', 'joven', 'emigr', 'falt', 'inici', 'sonorens', 'buen', 'inversion', 'compromis', 'social', 'burocraci', 'insort'], ['buen', 'punt', 'hac', 'pens', 'pas', 'suen', 'estrategi'], ['leg', 'dia', 'person', 'inclus', 'delit', 'sal', 'vide', 'canal', 'zidek', 'lif'], ['volv', 'proxim', 'fin', 'seman', 'abril', 'segund', 'edicion', 'festival', 'onlin', 'cantautor', 'cuent', 'ig', 'auror', 'graci', 'apoy'], ['hoy', 'comi', 'puerquit', 'fin', 'comunic'], ['establ', 'mental', 'milagr', 'not', 'averguenz', 'dec', 'tampoc', 'enorgulec'], ['hoy', 'cumplean', 'serguei', 'rajmaninov', 'manot'], ['vien', 'mal', 'panoram', 'economi', 'mundial', 'perd', 'calm', 'esper', 'pront', 'escuch', 'notici', 'polit', 'public', 'aplic', 'mexic'], ['denunci', 'condicion', 'trabaj', 'falt', 'insum', 'hoy', 'estadist', 'zacatec'], ['arob', 'tuiter', 'levari', 'viver', 'sobrev'], ['quer', 'aparec', 'conversacion'], ['wey', 'hac', 'reir', 'mor', 'mejor', 'pinch', 'afrodisiac'], ['graci', 'ordenrs', 'nuev', 'colecion'], ['gan', 'puls', 'imbecil'], ['jajajajaj', 'si', 'pas'], ['pues', 'empiezal', 'amig', 'bajal', 'carn', 'asad', 'quesadil'], ['amab', 'vid', 'pasion', 'amab', 'mar', 'amor', 'amab', 'amab', 'ela'], ['inscribi', 'basic', 'excel', 'photoshop', 'siempr', 'jmhe', 'quer', 'certific', 'conoc', 'adob', 'ests', 'gran', 'oportun'], ['dos'], ['fascin', 'cancion', 'fuent', 'ortiz'], ['hoy', 'despert', 'dij', 'va', 'pas', 'va', 'pas', 'pas', 'dia', 'si', 'orit', 'hor', 'termin', 'noch', 'pas'], ['dias', 'dad', 'buen', 'gan', 'ten', 'relacion'], ['automat', 'leg', 'mensaj'], ['oracion', 'uds', 'quer', 'amig'], ['epoc', 'contingent', 'sanitari', 'pon', 'disposicion', 'trav', 'divers', 'programacion', 'cultural', 'disposicion'], ['siqu', 'vist', 'complet', 'not', 'sig', 'critic', 'cad', 'hag', 'cre', 'convenient', 'necesit', 'president', 'actu', 'aten'], ['put', 'primer', 'dig', 'abril', 'sorprendem'], ['ser', 'definicion', 'buen', 'mal', 'divid', 'asi', 'distint', 'form', 'pens', 'corect'], ['dat', 'ser', 'romant', 'cuarenten'], ['owe', 'graci', 'tambi', 'acord'], ['feliz', 'cumplean', 'hermos', 'ano', 'mas', 'viendot', 'crec', 'viendot', 'feliz', 'amo', 'inmens'], ['hoy', 'fin', 'atrevi', 'pregunt', 'si', 'habi', 'com', 'browni', 'magic'], ['amor', 'comienz', 'propi', 'pued', 'quer', 'nadi', 'mas', 'si', 'quier', 'si', 'mism', 'defect', 'tod', 'virtud', 'amo'], ['deb', 'viaj', 'necesit', 'ir', 'famili', 'soport'], ['mal', 'protocol', 'ingres', 'pacient', 'infect', 'hospital', 'ims', 'may', 'ims', 'chiap'], ['dic', 'leg', 'ciel', 'recib', 'violin', 'tus'], ['qued', 'excelent'], ['jajajaj', 'alm', 'ric'], ['si', 'ando', 'chup', 'chel', 'tambi'], ['link', 'hac', 'fot', 'renacent'], ['nunc', 'use', 'plataform', 'anos', 'estudi', 'ahi'], ['pues', 'si', 'seguidor', 'consegu', 'encuer', 'cos', 'cualqu', 'pued', 'hac', 'verd', 'veo', 'tan', 'complic', 'negoci', 'men', 'riesgos', 'prostitucion'], ['luch', 'egos', 'buen', 'avisor', 'ego', 'negoci', 'wanost'], ['algui', 'dij', 'papi', 'primer'], ['sol', 'mam', 'perun', 'entend', 'sentimient'], ['sobrin', 'gobiern', 'borach', 'colg', 'etiquet', 'dan', 'colateral', 'valent', 'nestor', 'cristin', 'ana', 'mer', 'cumplean'], ['vecin', 'si', 'present', 'men', 'dos', 'siguient', 'sintom', 'lam', 'line', 'atencion', 'medic'], ['ando', 'meg', 'sensibl', 'mund', 'anda', 'bien', 'culer'], ['segur', 'mal', 'dia', 'lor'], ['bien', 'toxic', 'trabaj', 'hor'], ['lam', 'fe', 'pas', 'leg'], ['sient', 'amig'], ['queri', 'cont', 'busqu', 'inscribi', 'basic', 'tambi', 'photoshop'], ['amazon', 'prim', 'quit', 'primer', 'tempor', 'the', 'god', 'wif', 'hoy', 'primer', 'abril', 'mientr', 'vei', 'capitul', 'apen', 'iba', 'empez', 'mamon'], ['huerc', 'chifl', 'merec', 'mam', 'andar', 'peder'], ['quit', 'ojo', 'encim', 'kar', 'vam', 'cas'], ['luz', 'segund', 'si', 'da', 'mied'], ['amig', 'buen', 'fin', 'pud', 'hac', 'public', 'deli', 'veran', 'pas', 'pas', 'piscin', 'mejor', 'vibr', 'dos'], ['ching', 'madr', 'president', 'lopez', 'obrador', 'gent', 'pensant', 'si', 'quier', 'mexic', 'dias', 'luch', 'pes', 'salud', 'olvid', 'cos', 'inici', 'guer', 'division', 'descalif', 'jur', 'si', 'vam', 'termin'], ['mor', 'neumoni', 'cov', 'intoxicacion', 'metilfenidat', 'seri', 'medic', 'part'], ['laberint', 'pasion', 'histori', 'retrat', 'desenfren', 'espan', 'democratizacion', 'pais', 'signif', 'epoc', 'precedent', 'ampliacion', 'libertad', 'social', 'polit', 'pelicul', 'mezcol', 'libertinaj', 'madrilen'], ['tremend', 'verd'], ['springfield', 'mty', 'l', 'cuid', 'adult', 'mayor', 'segu', 'elos', 'quedat', 'cas'], ['aiud', 'hoy', 'toc', 'ir', 'dentist', 'ajust', 'duel', 'demasi', 'dient', 'aguant', 'parec', 'dieron', 'golpiz', 'fuert', 'duel', 'chal'], ['nos', 'viv', 'mied', 'soport'], ['hoy', 'falec', 'trist', 'rel'], ['jajajajajajaj', 'bien', 'aclar', 'conmig', 'referi'], ['ay', 'pued', 'pregunt', 'ajajajaj', 'si', 'pregunt'], ['acab', 'public', 'fot', 'ciud', 'carm', 'centr', 'carm'], ['nop', 'dic', 'wen'], ['jajajaj', 'acab', 'enter', 'wey', 'pag', 'pagin', 'ten', 'seguidor', 'ig', 'jajajaj', 'bro'], ['prim', 'lug', 'anos', 'senor', 'milon', 'segund', 'lug', 'aplaud', 'reconozc', 'segu', 'labor', 'toc', 'ver', 'nin', 'parqu', 'jug', 'gent', 'yend', 'vacacion', 'joven', 'fiest', 'refier', 'senor'], ['acab', 'public', 'fot', 'copilc', 'baj', 'coyoac'], ['sol', 'pregunt', 'afect'], ['igual', 'amig'], ['sufr', 'amant', 'hong', 'viv', 'zon', 'semi', 'rid'], ['fin', 'acerc'], ['angel', 'amor'], ['gust', 'ide', 'tambi', 'hag', 'simil', 'igual', 'mejor'], ['cuarenten', 'feos', 'mod'], ['felic', 'nin', 'precios', 'jam', 'quit', 'chispit', 'bonit', 'quier', 'mand', 'abrazot'], ['sig', 'cas', 'tambi'], ['ira', 'hac', 'duel', 'cul', 'ps', 'ber', 'q'], ['hag', 'quier', 'estres'], ['sol', 'falt', 'saqu', 'gent', 'parecit', 'list'], ['dia', 'suen', 'perturb'], ['excelent'], ['humild', 'opinion', 'vas', 'ching', 'put', 'madr', 'ves', 'jot'], ['adem', 'hor', 'president', 'supervis', 'pinch', 'merc', 'careterit'], ['cad', 'vez', 'mas', 'cerc', 'tir', 'ventan'], ['si', 'suen', 'hech', 'dream', 'theat', 'also', 'final', 'x', 's'], ['cad', 'dia', 'duel', 'mas', 'rodil', 'altur', 'tendr', 'usar', 'eleg', 'baston', 'borg', 'dali'], ['tod', 'realez', 'europ', 'familiar'], ['imag', 'mezquind', 'obvi', 'promuev', 'impresent'], ['k', 'marz', 'mem', 'dos', 'pat'], ['buen', 'vivian', 'cuidat'], ['cafeter', 'turc', 'camin'], ['adivin', 'seman', 'depil', 'cej', 'jajajaj'], ['andre', 'envi', 'mensaj', 'viend', 'pelicul', 'celd', 'vier', 'viend', 'conect', 'vid', 'dejam', 'paz'], ['sagr', 'corazon', 'jesus', 'buen', 'camin', 'levan', 'san', 'salv', 'destin'], ['compart', 'acion', 'prevent', 'sism', 'si', 'vas', 'automovil'], ['pensamient', 'posit', 'constru', 'vid', 'posit'], ['suen', 'frustr', 'ser', 'fotogen', 'mejor', 'abro', 'cam', 'frontal'], ['cart', 'mas', 'dur', 'miembr', 'guardi', 'nacional', 'obedec', 'amor', 'bander'], ['sol', 'pued', 'verl', 'rar', 'despu', 'luvi'], ['hum', 'gum', 'gust', 'litl', 'prety', 'otis', 'stacks'], ['culp', 'nadi'], ['sum', 'mas', 'grand', 'band', 'dad', 'argentin', 'latinoamer', 'aunqu', 'vocal', 'veni', 'huyend', 'punk', 'adicion', 'viej', 'continent'], ['reb', 'tod', 'vid', 'lig'], ['sient', 'apedr', 'vi', 'don', 'pulcr', 'jajaj', 'sam', 'as', 'sol', 'sali', 'compr', 'cos', 'limpiez', 'jajaj'], ['aceler', 'mortalik', 'reinici', 'vid'], ['cuarenten', 'dia', 'espos', 'comenz', 'proyect', 'jardineri', 'quer', 'dec', 'va', 'sembr'], ['despu', 'hrs', 'autor', 'ministerial', 'leg', 'estacion', 'migratori', 'levant', 'cuerp', 'guatemaltec', 'perdi', 'vid', 'asfixi', 'acident', 'provoc', 'mism', 'migrant'], ['cre', 'tampoc', 'usan', 'cubreboc', 'gen'], ['unic', 'person', 'preocup', 'cov', 'abuel', 'mas', 'abuel', 'madr', 'dios', 'cuid'], ['twets', 'tips', 'ayud', 'cuid', 'salud', 'mental', 'cuarenten'], ['acab', 'public', 'fot', 'plaz', 'armas', 'vilaherm'], ['cuarenten'], ['vien', 'tiemp', 'dificil', 'amig', 'reinvent', 'busc', 'deci', 'habi', 'sid', 'dificil', 'buen', 'noch'], ['chiv', 'montan', 'cal', 'gal', 'jabali', 'cal', 'mil', 'pec', 'canal', 'veneci', 'saqu', 'conclusion'], ['kajajajajajajakakakajaj', 'quier', 'viv', 'contig', 'vez', 'chdm'], ['much', 'vec', 'empiez', 'part', 'sab', 'perd', 'lad'], ['buen', 'noch', 'ema', 'descans', 'click'], ['empez', 'abril', 'qued', 'dias', 'cumplean', 'si', 'coronavirus', 'dej', 'cumpl', 'anos'], ['total', 'irespons', 'ten', 'privilegi', 'pod', 'qued', 'cas', 'tom', 'decision', 'conscient', 'mas', 'bien', 'inconscient', 'hac', 'mil', 'person', 'estan', 'mur', 'esper', 'verd', 'leg', 'ser', 'algun', 'conoc', 'peor', 'aun', 'algui', 'famili'], ['acab', 'public', 'fot', 'zapop'], ['hum', 'gum', 'gust', 'over', 'cruisr'], ['oral', 'sop', 'van', 'envi', 'ataqu', 'bomb', 'met', 'elos'], ['dos', 'person', 'conect', 'enganch', 'quimic', 'hac', 'magi', 'vuelt', 'atras', 'import', 'pas', 'vid', 'cruz', 'dos', 'opuest', 'atra'], ['jajajajaj', 'favor', 'necesit', 'mas', 'sorpres'], ['dej', 'crocs', 'mochis', 'necesit', 'hac', 'tiktok'], ['cel', 'usas', 'si', 'mejor', 'cambi', 'huawei'], ['buen', 'dia', 'mes', 'veng', 'much', 'esper', 'salud', 'sonris', 'corazon'], ['sincer', 'piens', 'garanti', 'econom', 'social', 'educ', 'mit', 'pais', 'vay', 'sal', 'adel', 'motiv', 'futur', 'prometedor', 'si', 'siqu', 'apreci', 'cuid', 'ser', 'human'], ['epoc', 'podi', 'descubr', 'grand', 'director', 'cin', 'hac', 'pelicul', 'majestu', 'habri', 'much', 'nombr', 'grand', 'clasic', 'obra', 'arte'], ['c'], ['pas', 'bebesit', 'fan', 'copet'], ['dinam', 'impes', 'vid', 'nin'], ['amor', 'etern', 'sol'], ['juev', 'plan', 'ceralv', 'per', 'ped'], ['iba', 'dorm', 'record', 'habi', 'planch', 'camis', 'pantalon', 'asi', 'pantalon', 'rayit', 'ped', 'vec', 'adultez', 'cachete', 'pied'], ['hac', 'anos', 'mientr', 'camin', 'univers', 'jug', 'camin', 'famili', 'teni', 'anos', 'mas', 'men', 'caminab', 'escuch', 'ah', 'horor', 'ay', 'dios', 'mio', 'tres', 'qued', 'pas', 'mam'], ['peor', 'rectif', 'continu', 'gabinet', 'plag', 'incompetent'], ['problem', 'sig', 'usand', 'esquem', 'bancari', 'tradicional', 'pregunt', 'existi', 'credit', 'emprend', 'final', 'termin', 'banc', 'sent', 'interes', 'altis', 'dic', 'deberi', 'menor'], ['mit', 'tar', 'espanol', 'mit', 'ingles', 'amp', 'ando', 'ment', 'bien', 'poch', 'amik'], ['much', 'gan', 'dedicart', 'cancion', 'vd', 'enviartel', 'parenm'], ['sab', 'ahi'], ['numer'], ['inici', 'mes'], ['esper', 'leg', 'deb', 'leg', 'campan', 'merc', 'negr'], ['cuant', 'vec', 'disfraz', 'rutin', 'amor'], ['pued', 'dex', 'concentr', 'lectur', 'teni', 'gan', 'abraz'], ['unas', 'gan', 'enorm', 'dorm', 'bae'], ['prim', 'unas', 'chelit', 'pijam', 'va'], ['buen', 'ela', 'cre', 'merec', 'suel', 'pis', 'dr', 'pues', 'debil', 'caract'], ['sabi', 'form', 'part'], ['anos', 'junt'], ['aqui', 'razon', 'twet', 'amarg', 'sac', 'pa', 'nadi'], ['mamon', 'che', 'mens', 'borol', 'pedor', 'sal', 'bot', 'vas', 'alv', 'chasm'], ['nivel'], ['hic', 'ment', 'albondig', 'relen', 'chipotl', 'qued'], ['felic', 'precios', 'quier', 'pod', 'vern', 'festej', 'mientr', 'mand', 'abracitous', 'quier'], ['si', 'igual', 'busc', 'si', 'algun', 'fuent', 'confiabl', 'parec', 'parec', 'grav', 'falec'], ['voy', 'dorm', 'peopl', 'si', 'teni', 'pendient', 'voy', 'dej', 'vide', 'subi', 'amig'], ['suen', 'frustr', 'ser', 'fotogen', 'mejor', 'abro', 'cam', 'frontal'], ['opin', 'imag', 'ciel', 'viraliz'], ['vas', 'ofrec', 'disculp', 'acus', 'medic', 'ser', 'narcotraf'], ['confirm', 'cas', 'verd', 'exist', 'nogal', 'van', 'dej', 'ir', 'sorian', 'banc'], ['just', 'tal', 'virus', 'dias', 'mas', 'trabaj', 'hsdsptm'], ['ora', 'pued', 'ching', 'form', 'si', 'quier', 'jajajajaj'], ['hac', 'rat', 'sali', 'so', 'platic', 'anecdot', 'wtf'], ['gent', 'sol', 'desayun', 'caf', 'cigar', 'cag', 'not'], ['hiz', 'record', 'vers', 'enriquet', 'ocho', 'si', 'sangr', 'tod', 'astil'], ['prometi', 'viern', 'present', 'oficial'], ['oig', 'pendej'], ['wey', 'mam', 'ray', 'prosaic', 'tantit', 'madr'], ['pus', 'wuau', 'estan', 'san', 'vel', 'gordit', 'jajajaj', 'icnorsnt', 'jajajaj', 'ali', 'pues', 'not', 'cultur', 'cabron'], ['hoy', 'asi', 'trabaj', 'cas', 'bien', 'comod'], ['quer', 'abril', 'vas', 'leg', 'sab', 'bien', 'ped', 'favor', 'entral', 'relaj', 'procur', 'pas', 'rapid', 'pen', 'glori', 'tranqui', 'quer', 'viend'], ['cuarenten', 'perfect', 'volv', 'ver', 'gam', 'of', 'thron'], ['pued', 'escuch', 'minut', 'segu', 'lopez', 'obrador', 'repulsion'], ['seman', 'vi', 'escen', 'hij'], ['trat', 'gan', 'not', 'sin', 'asunt', 'delic', 'ela', 'va', 'explic', 'viern', 'universal'], ['btw', 'bat', 'anduv', 'nunc', 'amig'], ['epidemiolog', 'viral', 'conoc', 'hug', 'lopez', 'gatel'], ['lam', 'fe', 'pas', 'leg'], ['cuern', 'buen', 'person', 'ser', 'cuern'], ['acuerd', 'tip', 'sol', 'piez', 'pendej', 'mentir', 'fin', 'cuent'], ['crem', 'aun', 'pas', 'anos', 'amar'], ['cre', 'encier', 'mund', 'dio', 'cuent', 'necesit', 'ir', 'gym', 'hac', 'ejercici'], ['hahah', 'despu', 'bajart', 'story', 'instagram'], ['chil', 'acab', 'termin', 'limpi', 'cas', 'qued', 'uf'], ['ide', 'ser', 'esten', 'adul', 'dr', 'gatel'], ['mir', 'ojos', 'noch', 'crei'], ['asco', 'gust', 'asi', 'tod', 'chuec', 'dan', 'asco', 'segund', 'jam', 'meteri', 'put', 'mocos', 'asi', 'vd', 'tip', 'tan', 'asquer', 'ayud', 'report'], ['ahorit', 'pues', 'dia', 'si', 'pued', 'sal', 'baz'], ['hoy', 'vi', 'facil', 'histori', 'mor', 'hic', 'flec', 'jajajajajajajajaj', 'buen', 'quit'], ['sptm', 'holocaust', 'acerc', 'si', 'dud', 'ando', 'armand', 'team', 'supervivent', 'jal'], ['pues', 'pel', 'nadi'], ['vid', 'decision', 'tom', 'deb', 'val', 'madr'], ['educacion', 'cal', 'excelent', 'imag'], ['cost', 'ovari', 'medi', 'super', 'super', 'wey'], ['hari', 'favor', 'mandarmel', 'fis'], ['salud', 'tod', 'famili'], ['twit', 'inc', 'solicit', 'twit', 'dar', 'baj', 'cuent', 'ex', 'president', 'felip', 'calderon', 'firm', 'peticion', 'via'], ['muestr', 'talent', 'sensibil', 'pasion', 'gent', 'vez', 'mas', 'sal', 'reluc', 'enorm', 'corazon'], ['necesit', 'ayud', 'realic', 'compr', 'mes', 'interes', 'reflej', 'parcial', 'solicit', 'pag', 'complet', 'proced'], ['capitul', 'gosip', 'girl', 'primer', 'tempor', 'ocasion', 'ver', 'si', 'asi', 'levant', 'anim', 'baj', 'pes', 'volv', 'mamon'], ['teni', 'anos', 'vei', 'pelicul', 'selen', 'pus', 'sup', 'sad'], ['vin', 'mas', 'gust', 'diogen', 'ajen', 'laerci', 'vid', 'filosof', 'ilustr', 'pagin'], ['jajajaj', 'conserv', 'segur'], ['jajaj', 'graci', 'graci', 'jajaj'], ['oportun', 'dej', 'ser', 'mierd', 'veo', 'prefier', 'dej', 'pas', 'cad'], ['sig', 'riend', 'verg', 'khe', 'wey'], ['amad', 'derefach', 'si', 'web', 'gobern', 'jalisc', 'har', 'hiz', 'amlo', 'pendej'], ['agu', 'asi', 'comienz', 'enfrent', 'tempor', 'incendi', 'mexic'], ['ver', 'si', 'pued', 'ser', 'escandal'], ['clar', 'ayud', 'compart'], ['jajajajajaj', 'idiot', 'tqm', 'wen', 'noch'], ['pens', 'doleri', 'mas', 'dij'], ['alert', 'fuert', 'incendi', 'ayutl', 'mix', 'puebl', 'lev', 'mas', 'mil', 'dias', 'agu', 'proces', 'portal', 'notici'], ['coinc', 'terquisim', 'vuelt', 'hac', 'queri', 'sal'], ['acab', 'caer', 'cuent', 'si', 'enferm', 'segur', 'vid', 'respald'], ['ups', 'ta', 'ta', 'dic', 'estan', 'control', 'ningun', 'pais', 'cac', 'siempr', 'dat'], ['deberi', 'amarm', 'consider', 'sab', 'dificil', 'aguant', 'gan', 'contestart', 'histori', 'medi', 'estres', 'u'], ['mensaj', 'sensibl', 'direct', 'tiemp', 'colabor', 'mas', 'unic', 'objet', 'sac', 'adel', 'graci', 'reflexion'], ['hahahahahah', 'simplement', 'senti', 'perturb', 'moment', 'platic', 'perdon', 'bad', 'buny', 'pur', 'mit', 'hahahahahah'], ['esper', 'pap', 'gasolinaz', 'desabast', 'pais', 'cambi', 'part', 'izquierd', 'primer', 'vez', 'tlahuelilp', 'sol', 'falt', 'extraterestr'], ['siend', 'feliz', 'cuarenten', 'zacatec', 'city'], ['dig', 'perd', 'si', 'gan', 'aqui'], ['iba', 'contestart', 'tigr', 'reflexion', 'dialog', 'algui', 'valor', 'siqu', 'dar', 'car', 'perfil', 'escondert', 'baj', 'imag', 'tigr', 'baj', 'fals', 'hac', 'cad'], ['necesit', 'pedit', 'juev', 'beirut', 'termin', 'dep', 'uber', 'jal', 'chup', 'jajaj'], ['pregunt', 'opin', 'denis', 'tuiter', 'incest'], ['sient', 'bien', 'contig', 'mism', 'nadi', 'hag', 'sent', 'mal'], ['lind', 'nen', 'encant', 'tet', 'bn', 'huerit', 'lind'], ['siempr', 'respuest', 'problem'], ['pregunt', 'mism', 'tod', 'vid'], ['jajajaj', 'net', 'ig', 'agar', 'ped', 'vol'], ['dorm', 'pais', 'necesit', 'deb', 'orgul'], ['teni', 'tiemp', 'enfrent', 'dificultad', 'trabaj', 'person', 'compart', 'mism', 'hus', 'horari'], ['prueb', 'fueg', 'ten', 'dar', 'baj', 'facebok', 'sab', 'aguant', 'red', 'social'], ['conejit', 'infiern', 'xd', 'pong', 'gogl', 'nombr', 'apocalyps', 'costum', 'muestr', 'result'], ['jajajaj', 've', 'dic', 'verg', 'xd'], ['si', 'buen', 'noch'], ['da', 'fastidi', 'publiqu', 'mient', 'si', 'vier', 'hombr', 'viv', 'desviv', 'muj', 'avec', 'valor', 'mit', 'amor', 'ela'], ['jajajaj'], ['fotografi', 'aparec', 'tres', 'muert', 'coronavirus', 'neumoni', 'atip', 'much', 'coincident'], ['normal', 'pong', 'nervios', 'emocion', 'grit', 'silenci', 'habl', 'sol'], ['ven', 'vide', 'aplicacion', 'izi', 'dic', 'domicili', 'pag', 'tarjet', 'promocion', 'dic', 'pued', 'ten', 'promocion', 'tendr', 'oficin', 'abren', 'lev', 'prueb'], ['pued', 'quedat', 'cas', 'ayudan', 'fren', 'pandemi'], ['promet', 'cos', 'mas', 'bonit', 'solt', 'sent', 'tan', 'bien'], ['grup', 'ingenier', 'sonor', 'desarol', 'respir', 'artificial', 'prototip', 'open', 'sourc', 'desarol', 'vari', 'part', 'mund', 'imaginens', 'cuant', 'enfermedad', 'podri', 'cur', 'si', 'farmaceut', 'ingenier', 'respect', 'patent'], ['habi', 'vist', 'nunc', 'dos', 'mujer', 'bes', 'hombr', 'si', 'mujer', 'guachatel', 'pap', 'herman', 'contest', 'mied', 'pued', 'pens', 'dec', 'dejal', 'espant', 'tan', 'normal', 'ahor', 'mam', 'pen'], ['vd', 'si', 'bien', 'jotototot', 'perdon', 'nac', 'mam'], ['asi', 'dic', 'jaj', 'quier', 'ver', 'despu', 'ale'], ['amanec', 'chiv', 'ahved'], ['manan', 'dia', 'autism', 'azul', 'color', 'autism'], ['ide', 'flu', 'mas', 'rap', 'motivacion'], ['predec', 'inyecion', 'capital', 'pemex', 'sant', 'luci', 'dos', 'boc', 'duplic', 'salari', 'ninis', 'licit', 'ded', 'compr', 'tapaboc', 'constru', 'puent', 'tunel', 'sinalo', 'pas', 'tex', 'distribucion', 'gratis', 'escapulari', 'fas'], ['jajajajajaj', 'andes', 'exhib', 'maner', 'jod'], ['si', 'quis', 'tiemp', 'diner', 'estar', 'escas', 'jaj', 'busc', 'nuev', 'fech', 'si', 'calm', 'may', 'ps', 'vien', 'cas'], ['minim', 'pued', 'hac', 'despu', 'hab', 'herv', 'bien', 'pinch', 'murcielag'], ['aman', 'marcel', 'gatel', 'odi', 'amlo', 'clasist', 'mas'], ['ser', 'mes', 'direct', 'sub', 'fot', 'bonit', 'instagram', 'sub', 'histori', 'ahi', 'dej', 'tare'], ['ay', 'superpadr', 'metert', 'ler', 'pendej', 'adentr', 'ban'], ['recompens', 'maner', 'econom', 'sueld', 'vari', 'futbol', 'ahorit', 'luc'], ['hor', 'habl', 'sinti', 'sol', 'nunc', 'habi', 'dur', 'tiemp', 'habl', 'algui', 'amo', 'papachit'], ['sig', 'iglesi', 'cristian', 'vision', 'jesus'], ['quedat', 'cas'], ['direct', 'elos'], ['cuant', 'pod', 'vern', 'primer', 'quier', 'hac'], ['jajajajajajajajaj', 'jajajajajajajajaj'], ['ingenier', 'dav', 'present', 'proyect', 'form', 'part'], ['graci', 'favor', 'usen', 'adecu'], ['dan', 'mied', 'person', 'abur', 'qued', 'cas'], ['pinch', 'mugros', 'muert', 'hambr', 'asi', 'rob', 'milon', 'pes', 'ser', 'mism', 've', 'lev', 'mes', 'jabon', 'shamp', 'toqu', 'asquer', 'cuerp'], ['dart', 'gust', 'tont', 'humil'], ['hoby', 'termin', 'novi'], ['hil', 'suen', 'interes', 'aliment', 'fetich'], ['aqui', 'direct'], ['si', 'pag', 'dos', 'bimestr'], ['si', 'esforz', 'demostrart', 'valg', 'pen', 'tal', 'vez', 'val', 'pen'], ['much', 'graci', 'mari', 'lind', 'dia', 'mes', 'inici', 'traig', 'salud', 'esper', 'amor'], ['rest', 'mund', 'si', 'much', 'fe', 'mes', 'abril'], ['verd', 'voy', 'sent', 'buen', 'si', 'invit'], ['ufa', 'amig', 'ahi', 'andar', 'primer', 'dios', 'cov'], ['huevisim', 'sol', 'quier', 'sub', 'tren', 'eufori', 'pelicul'], ['fijacion', 'pap', 'person', 'siempr', 'veo', 'algui', 'primer', 'fij'], ['blanc', 'capital', 'algui', 'encuentr', 'fisur', 'ser', 'capitaliz', 'blanqu', 'si', 'dam', 'cuent', 'aquel', 'exist', 'podri', 'ser', 'quiz', 'mas', 'pur', 'sol', 'mantien', 'purez', 'si', 'qued', 'marg', 'hegemon'], ['meg', 'onvres', 'tambi', 'dij', 'confes', 'odi', 'quen', 'aunqu', 'puest', 'public', 'aqui', 'tambi'], ['tir', 'puntit', 'posts', 'pa', 'sab', 'cancion', 'princes', 'chocolat'], ['mas', 'pas', 'personal', 'hag'], ['aqui', 'direct'], ['cerc', 'bar', 'flor'], ['frecuent', 'lav', 'man', 'honr', 'memori'], ['sol', 'esper', 'visit', 'insomni', 'pas', 'pront'], ['cham', 'tenis', 'ser', 'revent', 'discurs', 'viej', 'mentir', 'insuls', 'distractor', 'tendenci', 'inform', 'ignor', 'desgast', 'credibil', 'imag'], ['abril', 'dia', 'autism', 'azul', 'color'], ['peor', 'reci', 'pon', 'dan', 'gan', 'hac', 'pipi'], ['ojal', 'pobrez', 'obedec', 'regl', 'sab', 'final', 'cad', 'ano', 'much', 'gent', 'muer', 'mund', 'grip', 'sol', 'ahor', 'algun', 'razon', 'preocup', 'salud'], ['bendicem', 'sr', 'yisus', 'dorm'], ['siempr', 'sal', 'tremend'], ['quis', 'mand', 'cordial', 'salud', 'tod', 'person', 'quier', 'ser', 'grand', 'vid', 'men', 'senor', 'juan', 'luis', 'guer', 'sol', 'quis', 'ser', 'pez', 'mio', 'pur', 'suen', 'jajajaj'], ['edad', 'si', 'mat', 'hij', 'acident', 'descubr', 'pued', 'evit', 'acident', 'hij', 'entonc', 'hdtpmd', 'esper', 'respuest'], ['favor', 'aguant', 'secretari', 'confianz'], ['dorm', 'acab', 'leg', 'romi', 'despert', 'ose', 'andan', 'bien', 'borach', 'monton', 'chel', 'jajajaj', 'respet', 'suen'], ['verd', 'gustari', 'hij', 'pegasus', 'kid', 'idol', 'nin', 'juventud', 'chris', 'benoit'], ['si', 'usad', 'zom', 'segur', 'pondri', 'mut', 'si', 'toc', 'habl'], ['jod', 'moment', 'men', 'mal', 'mam', 'ala', 'pil'], ['cov', 'twets', 'autor', 'mexic'], ['pens', 'cos', 'actu', 'dict'], ['elegi', 'conocert', 'cuestion', 'mal', 'suert'], ['alcanz', 'ver', 'notificacion', 'proxim', 'album', 'total', 'nombr', 'cancion'], ['bye', 'compr', 'compuls', 'jueg', 'mes', 'amazon', 'hajaj', 'cas', 'nadi', 'va', 'abur', 'jajaj'], ['noch', 'insomni', 'noch', 'peor'], ['amig', 'team', 'trabaj', 'estan', 'hac', 'caret', 'darl', 'hospital', 'gdl', 'ayer', 'hoy', 'entreg', 'met', 'entreg', 'm'], ['vamon', 'vam', 'xcaret'], ['jiji', 'qued', 'cas', 'lean', 'libr', 'muerd', 'mied', 'pong', 'nombr', 'elmied', 'personal', 'intransfer', 'men', 'deberi'], ['mexic', 'pais', 'atract', 'exact', 'lopez', 'acab'], ['hac', 'falt', 'cigarit', 'buen', 'compani'], ['siempr', 'sup', 'verd', 'v', 'via'], ['nel', 'pan', 'si', 'jueg', 'parej', 'hac', 'pierd'], ['ejercit', 'participacion', 'belic', 'ayud', 'humanitari', 'pais', 'atiend', 'hospital', 'constru', 'aeropuert', 'ayud', 'segur', 'nacional', 'jaj', 'sol', 'idiot', 'cren', 'ejercit', 'descontent'], ['recuerd', 'hacki', 'prim', 'victim', 'keylog', 'fras', 'mensaj', 'dal', 'lik', 'fot', 'concurs'], ['imagin', 'pas', 'mar', 'gent', 'amad', 'music', 'diversion', 'abraz', 'bes', 'mientr', 'aqui', 'juntit', 'sig', 'disfrut', 'despu', 'har', 'lugar'], ['presient', 'hij', 'va', 'quer', 'sal', 'nunc'], ['confirm', 'si', 'tod', 'aranc', 'unit', 'pod', 'sal', 'aregl'], ['logic', 'necesari', 'salud', 'demostracion', 'fuerz', 'polit', 'alianz'], ['das', 'vam', 'tambi', 'medi', 'pendej', 'sab', 'detenert', 'merec', 'des', 'cres', 'dand', 'mas', 'gent', 'va', 'quer', 'acept', 'dandot', 'amor', 'necesit', 'verd'], ['ela', 'contest', 'permit', 'marchit', 'muer', 'amo', 'dam', 'contest', 'muert', 'senectud', 'had', 'pod', 'algun', 'senectud', 'marchit', 'tod', 'cos', 'muer', 'hombr', 'doy', 'paz', 'fuerz', 'pued', 'volv'], ['unic', 'pas', 'azote', 'lam', 'oposicion', 'prejidentil', 'dad', 'cuent', 'gan', 'band', 'pong', 'trabaj', 'si', 'pued', 'renunci'], ['vid', 'hiz', 'amig', 'locur', 'viv', 'hic', 'herman'], ['vid'], ['garapat', 'necesit', 'hambr'], ['verd', 'toc', 'expon', 'incest', 'publicacion', 'red', 'social', 'solt', 'punt', 'dieron', 'tem'], ['moment', 'olvid', 'cuarenten', 'jajajaj'], ['nivel', 'graci', 'suprem', 'divin', 'fortun', 'pod', 'hac', 'trabaj', 'hag', 'despens', 'cad', 'seman', 'line', 'pid', 'compasion', 'facult', 'sal', 'diari'], ['si', 'wey', 'jajajajaj', 'leg', 'emili', 've'], ['mandenm', 'whatsap', 'not', 'random', 'voz'], ['jajaj', 'dil', 'mam', 'hag', 'trabaj', 'cas'], ['ric'], ['dejam', 'chupartel', 'papit', 'mel', 'quier', 'com', 'tod'], ['unic', 'disfrut', 'salud', 'nadi'], ['pas', 'informacion', 'elos'], ['cuarenten', 'va', 'dej', 'mas', 'picnh', 'depres', 'normal'], ['hech', 'tuit', 'dio', 'ris', 'salud'], ['much', 'graci', 'feliz', 'bendec', 'mes'], ['hol', 'clar', 'si', 'lameris'], ['oig', 'aqui', 'viend', 'lad', 'posit', 'dias', 'pas', 'chingon', 'outfits', 'pijam', 'short', 'oficin', 'pijam', 'short', 'dorm', 'sup', 'practic'], ['siempr', 'aunqu', 'hoy', 'dia', 'finaliz', 'mezcl', 'biyrn', 'bel', 'pentatonix'], ['hahah', 'estres', 'desesperacion', 'aunqu', 'acostumbr'], ['part', 'despu', 'ser', 'igual', 'pint', 'ray', 'mejor', 'lejit'], ['tal', 'vez', 'trat', 'tan', 'bien', 'pued', 'tom', 'situacion', 'tan', 'bien', 'pued', 'entend', 'nunc', 'segu', 'excus', 'poc', 'respons', 'emocional', 'person', 'quier'], ['segur', 'trat', 'dej', 'sent', 'men', 'ten', 'insegur', 'dej', 'compar', 'estand', 'person', 'nunc', 'iba', 'pod', 'alcanz', 'nunc', 'iba', 'lam', 'asi', 'atencion', 'resum', 'mal', 'sol', 'quer', 'poquit'], ['quieret', 'poquit', 'tanit', 'estes', 'chil', 'wey', 'nunc', 'iba', 'pod', 'quer'], ['cag', 'dig', 'sol', 'estan', 'hac', 'deberi', 'estudi', 'ojal', 'nunc', 'hac', 'sacrifici', 'tan', 'grand', 'sol', 'ejerc', 'profesion'], ['colm', 'alumn', 'present', 'mejor', 'trabaj'], ['andar', 'conmig', 'acompan', 'pist', 'drog', 'fin', 'ped', 'avis', 'eng'], ['gust', 'pastor', 'chachalac', 'parec', 'mejor', 'rig', 'tarasc'], ['ojal', 'cart', 'tambi', 'lea', 'senor', 'mism', 'impact', 'import', 'cart', 'igual', 'import', 'cualqu'], ['cuant', 'silenci', 'list'], ['novi', 'ayud', 'tar', 'precios'], ['ped', 'sab', 'quer', 'medi'], ['noch', 'desvel', 'mejor'], ['nivel', 'andam', 'asi', 'van', 'cos', 'gent', 'entiend', 'cre', 'leg', 'nivel', 'pront'], ['ladr', 'perit', 'romi', 'ching', 'ladr', 'perit', 'suegr', 'perit', 'sabi'], ['merec', 'algui', 'mir', 'si', 'dese', 'cumpl'], ['hac', 'cuarenten'], ['cre', 'quer', 'ser', 'seren', 'algun', 'part', 'leg', 'ser', 'nely', 'yuki'], ['crem', 'aun', 'pas', 'anos', 'amar'], ['sap', 'pa', 'aldo', 'mand', 'vn', 'unic', 'mand'], ['pues', 'bien', 'abril', 'confirm', 'pasar', 'cumplean', 'mas', 'encer', 'vez', 'decision', 'mas', 'cag'], ['contingent', 'suspend', 'registr', 'nuev', 'part', 'parec', 'excelent'], ['si', 'parej', 'mejor', 'jej'], ['katherin', 'dios'], ['mism', 'situacion', 'mism', 'opinion', 'verguenz'], ['mir', 'asi', 'resucit', 'muert'], ['pas', 'acus', 'robicidi'], ['pip', 'pip'], ['activ', 'cuent', 'arne', 'mund', 'necesit', 'necesit'], ['president', 'dej'], ['perdon', 'sol', 'ped', 'trist', 'pues', 'vlv', 'import'], ['invent', 'emergent', 'sanitari', 'pens', 'torne', 'mexican', 'val', 'madr'], ['dorm', 'segu', 'manan', 'hac', 'mas', 'ver', 'tv', 'com'], ['sih', 'servici', 'industrial', 'hernandez', 'atend', 'fac', 'watsap', 'fac', 'cel', 'fabricacion', 'letrer', 'lumin', 'calc', 'rotulacion', 'car', 'mot', 'yat', 'senalizacion', 'asi', 'lon', 'impres'], ['jajajajaj', 'si', 'col'], ['hoy', 'senti', 'trist', 'decidi', 'prepar', 'com', 'favorit', 'cur', 'demasi'], ['termin', 'dia', 'verdader', 'mision', 'existent', 'ser', 'felic', 'ven', 'ser', 'felic'], ['asi', 'inici', 'mes', 'abril', 'cigar', 'man', 'ruid', 'madrug'], ['notici', 'alegr', 'cuarenten', 'buen', 'si', 'cuarenten', 'pon', 'buen'], ['cog', 'conmig', 'tod', 'experient', 'dig', 'dic', 'tecl'], ['van', 'invit'], ['preguntal', 'podri', 'gan'], ['suen', 'golp', 'miser', 'respet', 'tiemp', 'luch', 'diabol', 'virus', 'mont', 'miseri', 'human', 'destru', 'tambi', 'tiemp', 'canal'], ['pues', 'si', 'habl', 'ela', 'emy', 'g', 'sol', 'hac', 'dos', 'anos', 'episodi', 'nuev', 'estren'], ['leg', 'popuri', 'rock', 'cor', 'verl', 'dal', 'lik', 'compart', 'olvid', 'suscribirt', 'canal', 'youtub']]\n",
      "** Processed 1000 lines. Saved to /home/jovyan/public/B6_ProyectoIntegrador/data/geo-mx-2004_min.npy.\n"
     ]
    },
    {
     "ename": "ValueError",
     "evalue": "Array can't be memory-mapped: Python objects in dtype.",
     "output_type": "error",
     "traceback": [
      "\u001b[0;31m---------------------------------------------------------------------------\u001b[0m",
      "\u001b[0;31mValueError\u001b[0m                                Traceback (most recent call last)",
      "\u001b[0;32m<ipython-input-60-a4068a61fca1>\u001b[0m in \u001b[0;36m<module>\u001b[0;34m\u001b[0m\n\u001b[0;32m----> 1\u001b[0;31m \u001b[0mtokens\u001b[0m\u001b[0;34m=\u001b[0m\u001b[0mTokens\u001b[0m\u001b[0;34m(\u001b[0m\u001b[0;34m)\u001b[0m\u001b[0;34m.\u001b[0m\u001b[0mtokenize\u001b[0m\u001b[0;34m(\u001b[0m\u001b[0;34m\"data/geo-mx-2004_min.json\"\u001b[0m\u001b[0;34m,\u001b[0m\u001b[0mreplace\u001b[0m\u001b[0;34m=\u001b[0m\u001b[0;32mTrue\u001b[0m\u001b[0;34m)\u001b[0m\u001b[0;34m\u001b[0m\u001b[0;34m\u001b[0m\u001b[0m\n\u001b[0m",
      "\u001b[0;32m<ipython-input-59-e0352b040763>\u001b[0m in \u001b[0;36mtokenize\u001b[0;34m(self, json_file, npy_file, replace)\u001b[0m\n\u001b[1;32m     25\u001b[0m             \u001b[0mprint\u001b[0m\u001b[0;34m(\u001b[0m\u001b[0;34mf\"** Processed {self.N} lines. Saved to {os.path.abspath(self.npy_file)}.\"\u001b[0m\u001b[0;34m)\u001b[0m\u001b[0;34m\u001b[0m\u001b[0;34m\u001b[0m\u001b[0m\n\u001b[1;32m     26\u001b[0m \u001b[0;34m\u001b[0m\u001b[0m\n\u001b[0;32m---> 27\u001b[0;31m         \u001b[0mself\u001b[0m\u001b[0;34m.\u001b[0m\u001b[0mtokenized_pointer\u001b[0m\u001b[0;34m=\u001b[0m\u001b[0mnp\u001b[0m\u001b[0;34m.\u001b[0m\u001b[0mload\u001b[0m\u001b[0;34m(\u001b[0m\u001b[0mself\u001b[0m\u001b[0;34m.\u001b[0m\u001b[0mnpy_file\u001b[0m\u001b[0;34m,\u001b[0m \u001b[0mmmap_mode\u001b[0m\u001b[0;34m=\u001b[0m\u001b[0;34m'r'\u001b[0m\u001b[0;34m)\u001b[0m\u001b[0;34m\u001b[0m\u001b[0;34m\u001b[0m\u001b[0m\n\u001b[0m\u001b[1;32m     28\u001b[0m         \u001b[0;32mreturn\u001b[0m \u001b[0mself\u001b[0m\u001b[0;34m\u001b[0m\u001b[0;34m\u001b[0m\u001b[0m\n\u001b[1;32m     29\u001b[0m \u001b[0;34m\u001b[0m\u001b[0m\n",
      "\u001b[0;32m/opt/conda/lib/python3.7/site-packages/numpy/lib/npyio.py\u001b[0m in \u001b[0;36mload\u001b[0;34m(file, mmap_mode, allow_pickle, fix_imports, encoding)\u001b[0m\n\u001b[1;32m    448\u001b[0m             \u001b[0;31m# .npy file\u001b[0m\u001b[0;34m\u001b[0m\u001b[0;34m\u001b[0m\u001b[0;34m\u001b[0m\u001b[0m\n\u001b[1;32m    449\u001b[0m             \u001b[0;32mif\u001b[0m \u001b[0mmmap_mode\u001b[0m\u001b[0;34m:\u001b[0m\u001b[0;34m\u001b[0m\u001b[0;34m\u001b[0m\u001b[0m\n\u001b[0;32m--> 450\u001b[0;31m                 \u001b[0;32mreturn\u001b[0m \u001b[0mformat\u001b[0m\u001b[0;34m.\u001b[0m\u001b[0mopen_memmap\u001b[0m\u001b[0;34m(\u001b[0m\u001b[0mfile\u001b[0m\u001b[0;34m,\u001b[0m \u001b[0mmode\u001b[0m\u001b[0;34m=\u001b[0m\u001b[0mmmap_mode\u001b[0m\u001b[0;34m)\u001b[0m\u001b[0;34m\u001b[0m\u001b[0;34m\u001b[0m\u001b[0m\n\u001b[0m\u001b[1;32m    451\u001b[0m             \u001b[0;32melse\u001b[0m\u001b[0;34m:\u001b[0m\u001b[0;34m\u001b[0m\u001b[0;34m\u001b[0m\u001b[0m\n\u001b[1;32m    452\u001b[0m                 return format.read_array(fid, allow_pickle=allow_pickle,\n",
      "\u001b[0;32m/opt/conda/lib/python3.7/site-packages/numpy/lib/format.py\u001b[0m in \u001b[0;36mopen_memmap\u001b[0;34m(filename, mode, dtype, shape, fortran_order, version)\u001b[0m\n\u001b[1;32m    870\u001b[0m             \u001b[0;32mif\u001b[0m \u001b[0mdtype\u001b[0m\u001b[0;34m.\u001b[0m\u001b[0mhasobject\u001b[0m\u001b[0;34m:\u001b[0m\u001b[0;34m\u001b[0m\u001b[0;34m\u001b[0m\u001b[0m\n\u001b[1;32m    871\u001b[0m                 \u001b[0mmsg\u001b[0m \u001b[0;34m=\u001b[0m \u001b[0;34m\"Array can't be memory-mapped: Python objects in dtype.\"\u001b[0m\u001b[0;34m\u001b[0m\u001b[0;34m\u001b[0m\u001b[0m\n\u001b[0;32m--> 872\u001b[0;31m                 \u001b[0;32mraise\u001b[0m \u001b[0mValueError\u001b[0m\u001b[0;34m(\u001b[0m\u001b[0mmsg\u001b[0m\u001b[0;34m)\u001b[0m\u001b[0;34m\u001b[0m\u001b[0;34m\u001b[0m\u001b[0m\n\u001b[0m\u001b[1;32m    873\u001b[0m             \u001b[0moffset\u001b[0m \u001b[0;34m=\u001b[0m \u001b[0mfp\u001b[0m\u001b[0;34m.\u001b[0m\u001b[0mtell\u001b[0m\u001b[0;34m(\u001b[0m\u001b[0;34m)\u001b[0m\u001b[0;34m\u001b[0m\u001b[0;34m\u001b[0m\u001b[0m\n\u001b[1;32m    874\u001b[0m \u001b[0;34m\u001b[0m\u001b[0m\n",
      "\u001b[0;31mValueError\u001b[0m: Array can't be memory-mapped: Python objects in dtype."
     ]
    }
   ],
   "source": [
    "tokens=Tokens().tokenize(\"data/geo-mx-2004_min.json\",replace=True)"
   ]
  },
  {
   "cell_type": "code",
   "execution_count": null,
   "metadata": {},
   "outputs": [],
   "source": [
    "class Index():\n",
    "#     vocab = None\n",
    "    N = 0\n",
    "    DF = Counter({})\n",
    "    TF = []\n",
    "    \n",
    "#     DF_vec = None\n",
    "#     IDF_vec = None\n",
    "\n",
    "    def computePostingLists(self, filename, showProgressEach=None):\n",
    "        print(\"** Processing \" + filename + \"...\")\n",
    "#         tx = datetime.datetime.now()\n",
    "        for idx, tw in tqdm(enumerate(tweet_iterator(filename))):\n",
    "#             tb.show_progress(showProgressEach,tx,idx)\n",
    "            twTxtLst = tb.process_line(tw['text']) # Limpiando text.\n",
    "            \n",
    "            # Sumando frecuencias individiales.\n",
    "            twCnt = Counter(twTxtLst)\n",
    "            \n",
    "            TF.append(twCnt)\n",
    "            \n",
    "            # Sumando frecuencias por documento (DF).\n",
    "            self.DF.update(list(twCnt.keys()))\n",
    "\n",
    "            # Contabilizando documentos.\n",
    "            self.N += 1\n",
    "            \n",
    "#         words = self.DF.keys()\n",
    "#         self.vocab = dict(zip(words, range(len(words))))\n",
    "#         self.DF_vec = cnt2vec(self.DF, self.vocab)\n",
    "#         self.IDF_vec = np.log2(self.N / (self.DF_vec + 1))\n",
    "        \n",
    "#         # Calculando TF-IDF y asignando a usuarios.\n",
    "#         for userId in self.users:\n",
    "#             TF_cnt = self.users[userId]\n",
    "#             self.users[userId] = cnt2vec(TF_cnt, self.vocab) * self.IDF_vec\n",
    "        postlists=defaultdict(list)\n",
    "\n",
    "    def getX(self):\n",
    "        return np.array([self.users[key] for key in self.users])\n",
    "    \n",
    "    def cluster(self, n_clusters=9):\n",
    "        self.cluster = KMeans(n_clusters=n_clusters, n_jobs=4).fit(self.getX())\n",
    "        return self.cluster"
   ]
  },
  {
   "cell_type": "code",
   "execution_count": 133,
   "metadata": {},
   "outputs": [],
   "source": [
    "# obj=np.arange(100*50000).reshape((50000,100))\n",
    "# obj=[['nochecit','nochecit'], \n",
    "#      ['teo', 'pai'], \n",
    "#      ['jajajaj', 'sab'], \n",
    "#      ['obvi', 'hoy']]\n",
    "obj=[[1], \n",
    "     [3, 4], \n",
    "     [5, 6], \n",
    "     [7, 8]]\n",
    "np.save(\"obj.npy\",obj)"
   ]
  },
  {
   "cell_type": "code",
   "execution_count": null,
   "metadata": {},
   "outputs": [],
   "source": [
    "np.memmap(\"obj.npy\",mode='r', dtype='str')"
   ]
  },
  {
   "cell_type": "code",
   "execution_count": 135,
   "metadata": {},
   "outputs": [
    {
     "ename": "TypeError",
     "evalue": "loadtxt() got an unexpected keyword argument 'mmap_mode'",
     "output_type": "error",
     "traceback": [
      "\u001b[0;31m---------------------------------------------------------------------------\u001b[0m",
      "\u001b[0;31mTypeError\u001b[0m                                 Traceback (most recent call last)",
      "\u001b[0;32m<ipython-input-135-3fc3cd5e365e>\u001b[0m in \u001b[0;36m<module>\u001b[0;34m\u001b[0m\n\u001b[0;32m----> 1\u001b[0;31m \u001b[0mnp\u001b[0m\u001b[0;34m.\u001b[0m\u001b[0mloadtxt\u001b[0m\u001b[0;34m(\u001b[0m\u001b[0;34m\"obj.npy\"\u001b[0m\u001b[0;34m,\u001b[0m \u001b[0mmmap_mode\u001b[0m\u001b[0;34m=\u001b[0m\u001b[0;34m'r'\u001b[0m\u001b[0;34m)\u001b[0m\u001b[0;34m\u001b[0m\u001b[0;34m\u001b[0m\u001b[0m\n\u001b[0m",
      "\u001b[0;31mTypeError\u001b[0m: loadtxt() got an unexpected keyword argument 'mmap_mode'"
     ]
    }
   ],
   "source": [
    "np.loadtxt(\"obj.npy\", mmap_mode='r')"
   ]
  },
  {
   "cell_type": "code",
   "execution_count": 116,
   "metadata": {},
   "outputs": [
    {
     "ename": "TypeError",
     "evalue": "load() got an unexpected keyword argument 'shape'",
     "output_type": "error",
     "traceback": [
      "\u001b[0;31m---------------------------------------------------------------------------\u001b[0m",
      "\u001b[0;31mTypeError\u001b[0m                                 Traceback (most recent call last)",
      "\u001b[0;32m<ipython-input-116-22c40e5f427c>\u001b[0m in \u001b[0;36m<module>\u001b[0;34m\u001b[0m\n\u001b[0;32m----> 1\u001b[0;31m \u001b[0mX\u001b[0m \u001b[0;34m=\u001b[0m \u001b[0mnp\u001b[0m\u001b[0;34m.\u001b[0m\u001b[0mload\u001b[0m\u001b[0;34m(\u001b[0m\u001b[0;34m\"obj.npy\"\u001b[0m\u001b[0;34m,\u001b[0m \u001b[0mmmap_mode\u001b[0m\u001b[0;34m=\u001b[0m\u001b[0;34m'r'\u001b[0m\u001b[0;34m,\u001b[0m\u001b[0mshape\u001b[0m\u001b[0;34m=\u001b[0m\u001b[0;34m(\u001b[0m\u001b[0;36m4\u001b[0m\u001b[0;34m,\u001b[0m\u001b[0;36m2\u001b[0m\u001b[0;34m)\u001b[0m\u001b[0;34m)\u001b[0m\u001b[0;34m\u001b[0m\u001b[0;34m\u001b[0m\u001b[0m\n\u001b[0m\u001b[1;32m      2\u001b[0m \u001b[0mX\u001b[0m\u001b[0;34m.\u001b[0m\u001b[0mshape\u001b[0m\u001b[0;34m\u001b[0m\u001b[0;34m\u001b[0m\u001b[0m\n\u001b[1;32m      3\u001b[0m \u001b[0mX\u001b[0m\u001b[0;34m[\u001b[0m\u001b[0;36m1\u001b[0m\u001b[0;34m,\u001b[0m\u001b[0;34m:\u001b[0m\u001b[0;34m]\u001b[0m\u001b[0;34m\u001b[0m\u001b[0;34m\u001b[0m\u001b[0m\n\u001b[1;32m      4\u001b[0m \u001b[0;31m# X = np.load(\"obj.npy\")\u001b[0m\u001b[0;34m\u001b[0m\u001b[0;34m\u001b[0m\u001b[0;34m\u001b[0m\u001b[0m\n\u001b[1;32m      5\u001b[0m \u001b[0;31m# for i in range(20):\u001b[0m\u001b[0;34m\u001b[0m\u001b[0;34m\u001b[0m\u001b[0;34m\u001b[0m\u001b[0m\n",
      "\u001b[0;31mTypeError\u001b[0m: load() got an unexpected keyword argument 'shape'"
     ]
    }
   ],
   "source": [
    "X = np.load(\"obj.npy\", mmap_mode='r',shape=(4,2))\n",
    "X.shape\n",
    "X[1,:]\n",
    "# X = np.load(\"obj.npy\")\n",
    "# for i in range(20):\n",
    "#     print(X[i, :])"
   ]
  },
  {
   "cell_type": "code",
   "execution_count": 10,
   "metadata": {},
   "outputs": [
    {
     "name": "stdout",
     "output_type": "stream",
     "text": [
      "__name__ 57\n",
      "__doc__ 113\n",
      "__package__ 16\n",
      "__loader__ 16\n",
      "__spec__ 16\n",
      "__builtin__ 88\n",
      "__builtins__ 88\n",
      "_ih 200\n",
      "_oh 248\n",
      "_dh 80\n",
      "In 200\n",
      "Out 248\n",
      "get_ipython 72\n",
      "exit 64\n",
      "quit 64\n",
      "_ 72\n",
      "__ 49\n",
      "___ 49\n",
      "_i 162\n",
      "_ii 154\n",
      "_iii 154\n",
      "_i1 195\n",
      "InteractiveShell 1064\n",
      "_i2 167\n",
      "_i3 225\n",
      "np 88\n",
      "tb 88\n",
      "skmeans 1064\n",
      "transforms 88\n",
      "plt 88\n",
      "cm 88\n",
      "nltk 88\n",
      "itertools 88\n",
      "string 88\n",
      "unicodedata 88\n",
      "re 88\n",
      "word_tokenize 144\n",
      "PCA 1064\n",
      "pd 88\n",
      "faiss 88\n",
      "axes3d 88\n",
      "punctuation_table 1192\n",
      "stop_words 2904\n",
      "euclidiana 144\n",
      "coseno 144\n",
      "plotClusters 144\n",
      "plotPCA 144\n",
      "preprocess 144\n",
      "tokenize_sentences 144\n",
      "cocurrency_matrix 144\n",
      "plotDecisionBoundary 144\n",
      "NearestCentroid 1064\n",
      "kNN 1064\n",
      "Clustering 1064\n",
      "FastText 1064\n",
      "_i4 58\n",
      "_i5 154\n",
      "X 144\n",
      "_i6 117\n",
      "obj 112\n",
      "_i7 154\n",
      "_i8 154\n",
      "_i9 162\n",
      "_9 72\n",
      "_i10 210\n",
      "sys 88\n",
      "Total = 18206\n"
     ]
    }
   ],
   "source": [
    "import sys\n",
    "local_vars = list(locals().items())\n",
    "tot=0\n",
    "for var, obj in local_vars:\n",
    "    mem=sys.getsizeof(obj)\n",
    "    tot+=mem\n",
    "    print(var, mem)\n",
    "print(\"Total =\",tot)"
   ]
  },
  {
   "cell_type": "code",
   "execution_count": null,
   "metadata": {},
   "outputs": [],
   "source": []
  }
 ],
 "metadata": {
  "kernelspec": {
   "display_name": "Python 3",
   "language": "python",
   "name": "python3"
  },
  "language_info": {
   "codemirror_mode": {
    "name": "ipython",
    "version": 3
   },
   "file_extension": ".py",
   "mimetype": "text/x-python",
   "name": "python",
   "nbconvert_exporter": "python",
   "pygments_lexer": "ipython3",
   "version": "3.7.6"
  }
 },
 "nbformat": 4,
 "nbformat_minor": 4
}
