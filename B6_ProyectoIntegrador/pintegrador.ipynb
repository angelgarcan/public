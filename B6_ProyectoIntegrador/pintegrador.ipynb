{
 "cells": [
  {
   "cell_type": "code",
   "execution_count": 1,
   "metadata": {},
   "outputs": [],
   "source": [
    "# Multiple outputs per cell in Jupyter \n",
    "from IPython.core.interactiveshell import InteractiveShell\n",
    "InteractiveShell.ast_node_interactivity = \"all\""
   ]
  },
  {
   "cell_type": "code",
   "execution_count": 2,
   "metadata": {},
   "outputs": [
    {
     "data": {
      "application/javascript": [
       "// Evitar autoscroll.\n",
       "IPython.OutputArea.prototype._should_scroll = function(lines) {\n",
       "    return false;\n",
       "}\n"
      ],
      "text/plain": [
       "<IPython.core.display.Javascript object>"
      ]
     },
     "metadata": {},
     "output_type": "display_data"
    }
   ],
   "source": [
    "%%javascript\n",
    "// Evitar autoscroll.\n",
    "IPython.OutputArea.prototype._should_scroll = function(lines) {\n",
    "    return false;\n",
    "}"
   ]
  },
  {
   "cell_type": "code",
   "execution_count": 25,
   "metadata": {},
   "outputs": [
    {
     "data": {
      "text/plain": [
       "[(1, 4), (3, 5), (2, 6)]"
      ]
     },
     "execution_count": 25,
     "metadata": {},
     "output_type": "execute_result"
    },
    {
     "data": {
      "text/plain": [
       "[(1, 3, 2), (4, 5, 6)]"
      ]
     },
     "execution_count": 25,
     "metadata": {},
     "output_type": "execute_result"
    },
    {
     "data": {
      "text/plain": [
       "[1, 3, 2]"
      ]
     },
     "execution_count": 25,
     "metadata": {},
     "output_type": "execute_result"
    },
    {
     "data": {
      "text/plain": [
       "[4, 5, 6]"
      ]
     },
     "execution_count": 25,
     "metadata": {},
     "output_type": "execute_result"
    }
   ],
   "source": [
    "# a = [1,2,3]\n",
    "# b = [4,5,6]\n",
    "# zipped_list = zip(a,b)\n",
    "zipped_list=[(1, 4), (3, 5), (2, 6)]\n",
    "zipped_list\n",
    "unzipped_list=list(zip(*zipped_list))\n",
    "unzipped_list\n",
    "list(unzipped_list[0])\n",
    "list(unzipped_list[1])"
   ]
  },
  {
   "cell_type": "code",
   "execution_count": 36,
   "metadata": {},
   "outputs": [
    {
     "data": {
      "text/plain": [
       "[(1, 4), (2, 6), (3, 5)]"
      ]
     },
     "execution_count": 36,
     "metadata": {},
     "output_type": "execute_result"
    },
    {
     "data": {
      "text/plain": [
       "[(1, 2, 3), (4, 6, 5)]"
      ]
     },
     "execution_count": 36,
     "metadata": {},
     "output_type": "execute_result"
    },
    {
     "data": {
      "text/plain": [
       "[[1, 2, 3], [4, 6, 5]]"
      ]
     },
     "execution_count": 36,
     "metadata": {},
     "output_type": "execute_result"
    }
   ],
   "source": [
    "p=[(1, 4), (3, 5), (2, 6)]\n",
    "\n",
    "p.sort()\n",
    "p\n",
    "\n",
    "p=list(zip(*p))\n",
    "p\n",
    "\n",
    "p=[list(p[0]),list(p[1])]\n",
    "p"
   ]
  },
  {
   "cell_type": "code",
   "execution_count": 249,
   "metadata": {},
   "outputs": [
    {
     "name": "stdout",
     "output_type": "stream",
     "text": [
      "The autoreload extension is already loaded. To reload it, use:\n",
      "  %reload_ext autoreload\n"
     ]
    }
   ],
   "source": [
    "import numpy as np\n",
    "# from toolbox import *\n",
    "import toolbox as tb\n",
    "from skeleton import *\n",
    "import pandas as pd\n",
    "from gensim.models import FastText\n",
    "%load_ext autoreload\n",
    "%autoreload 2\n",
    "import os\n",
    "import tqdm\n",
    "from microtc.utils import tweet_iterator\n",
    "import datetime\n",
    "from collections import Counter\n",
    "import gc\n",
    "from collections import defaultdict"
   ]
  },
  {
   "cell_type": "code",
   "execution_count": 227,
   "metadata": {},
   "outputs": [],
   "source": [
    "class Tokens():\n",
    "    tokenized_pointer=None\n",
    "    \n",
    "    def tokenize(self,json_file,npy_file=None,replace=False):\n",
    "        self.npy_file=str(os.path.splitext(json_file)[0]+\".npy\") if not npy_file else npy_file\n",
    "\n",
    "        if not replace and os.path.isfile(self.npy_file):\n",
    "            print(f\"** Replace is off. {os.path.abspath(self.npy_file)} already exists, then load.\")\n",
    "        else:\n",
    "            tokenized_docs=[]\n",
    "            self.N=0\n",
    "            print(f\"** Processing {json_file} ...\")\n",
    "            tx = datetime.datetime.now()\n",
    "            for idx, tw in enumerate(tweet_iterator(json_file)):\n",
    "                tb.show_progress(1000, tx, idx)\n",
    "                twTokens = tb.process_line(tw['text']) # Tokenizando tweet.\n",
    "                tokenized_docs.append(twTokens)\n",
    "            self.N=idx+1\n",
    "        \n",
    "            maxLen=len(max(tokenized_docs))\n",
    "            for i, doc in enumerate(tokenized_docs):\n",
    "                tokenized_docs[i]=[doc[x] if x<len(doc) else '' for x in range(maxLen)]\n",
    "            \n",
    "            np.save(self.npy_file,tokenized_docs)\n",
    "            del(tokenized_docs)\n",
    "            gc.collect()\n",
    "            print(f\"** Processed {self.N} lines. Saved to {os.path.abspath(self.npy_file)}.\")\n",
    "        \n",
    "        self.pointer=np.load(self.npy_file, mmap_mode='r')\n",
    "        return self\n",
    "    \n",
    "    def get(self,n):\n",
    "        return [x for x in self.pointer[n,:] if x != '']"
   ]
  },
  {
   "cell_type": "code",
   "execution_count": 229,
   "metadata": {
    "scrolled": true
   },
   "outputs": [
    {
     "name": "stdout",
     "output_type": "stream",
     "text": [
      "** Processing data/geo-mx-2004_min.json ...\n",
      "2020-05-12 03:23:16.540113 :: 0.000166 - Processing item #0 \n",
      "** Processed 10 lines. Saved to /home/jovyan/public/B6_ProyectoIntegrador/data/geo-mx-2004_min.npy.\n"
     ]
    }
   ],
   "source": [
    "tokens=Tokens().tokenize(\"data/geo-mx-2004_min.json\",replace=True)"
   ]
  },
  {
   "cell_type": "code",
   "execution_count": 237,
   "metadata": {
    "scrolled": true
   },
   "outputs": [
    {
     "name": "stdout",
     "output_type": "stream",
     "text": [
      "['nochecit']\n",
      "['teo', 'pai', 'pai', 'canon', 'nunc', 'crei', 'viv', 'moment', 'exist', 'graci']\n",
      "['jajajaj', 'sab', 'sup', 'chid', 'manej', 'mism', 'user', 'igual', 'amig']\n",
      "['obvi', 'hoy', 'cumpl', 'anos', 'apag', 'voz']\n",
      "['jajajajaj', 'campanaz']\n",
      "['hoy', 'cumpl', 'ano', 'plan', 'des', 'secret', 'gent', 'sabi', 'haci', 'sent']\n",
      "['dij', 'amig', 'analiz', 'porn', 'tan', 'satur', 'wey', 'buenis', 'gent', 'normal']\n",
      "['dan', 'ris', 'mem', 'vat', 'tres', 'pel', 'barb', 'si', 'jajajaj', 'sal']\n",
      "['si', 'domicili', 'solicit', 'oblig', 'solidari', 'mism', 'proced', 'mand', 'dos', 'comprob']\n",
      "['amig', 'seguidor', 'tod', 'person', 'respet', 'jueg', 'decision', 'jug', 'pued', 'influ']\n"
     ]
    }
   ],
   "source": [
    "for i in range(tokens.N):\n",
    "    print(tokens.get(i))"
   ]
  },
  {
   "cell_type": "code",
   "execution_count": 256,
   "metadata": {},
   "outputs": [],
   "source": [
    "class Index():\n",
    "#     vocab = None\n",
    "    N = 0\n",
    "    DF = Counter({})\n",
    "    TF = []\n",
    "    \n",
    "#     def __init__(self):\n",
    "#         return self\n",
    "\n",
    "    def computePostingLists(self, tokens, showProgressEach=None):\n",
    "        print(\"** Processing ...\")\n",
    "        tx = datetime.datetime.now()\n",
    "        for idx in range(tokens.N):\n",
    "            tb.show_progress(showProgressEach,tx,idx)\n",
    "            \n",
    "            tok=tokens.get(idx)\n",
    "            # Sumando frecuencias individiales.\n",
    "            twCnt = Counter(tok)\n",
    "            \n",
    "            self.TF.append(twCnt)\n",
    "            \n",
    "            # Sumando frecuencias por documento (DF).\n",
    "            self.DF.update(list(twCnt.keys()))\n",
    "\n",
    "            # Contabilizando documentos.\n",
    "            self.N += 1\n",
    "            \n",
    "#         words = self.DF.keys()\n",
    "#         self.vocab = dict(zip(words, range(len(words))))\n",
    "#         self.DF_vec = cnt2vec(self.DF, self.vocab)\n",
    "#         self.IDF_vec = np.log2(self.N / (self.DF_vec + 1))\n",
    "        \n",
    "#         # Calculando TF-IDF y asignando a usuarios.\n",
    "#         for userId in self.users:\n",
    "#             TF_cnt = self.users[userId]\n",
    "#             self.users[userId] = cnt2vec(TF_cnt, self.vocab) * self.IDF_vec\n",
    "        postlists=defaultdict(list)\n",
    "    \n",
    "        for i,c in enumerate(self.TF):\n",
    "            for w,tf in c.items():\n",
    "                postlists[w].append((tf*np.log2(self.N/(self.DF[w]+1)),i))\n",
    "        \n",
    "        print(postlists)\n",
    "        for p in postlists:\n",
    "            p.sort()\n",
    "            p=list(zip(*p))\n",
    "            p=[list(p[1]),list(p[0])]\n",
    "        return self\n",
    "\n",
    "    def getX(self):\n",
    "        return np.array([self.users[key] for key in self.users])\n",
    "    \n",
    "    def cluster(self, n_clusters=9):\n",
    "        self.cluster = KMeans(n_clusters=n_clusters, n_jobs=4).fit(self.getX())\n",
    "        return self.cluster"
   ]
  },
  {
   "cell_type": "code",
   "execution_count": 257,
   "metadata": {},
   "outputs": [
    {
     "name": "stdout",
     "output_type": "stream",
     "text": [
      "** Processing ...\n",
      "2020-05-12 03:44:07.180412 :: 1.2e-05 - Processing item #0 \n"
     ]
    },
    {
     "ename": "AxisError",
     "evalue": "axis -1 is out of bounds for array of dimension 0",
     "output_type": "error",
     "traceback": [
      "\u001b[0;31m---------------------------------------------------------------------------\u001b[0m",
      "\u001b[0;31mAxisError\u001b[0m                                 Traceback (most recent call last)",
      "\u001b[0;32m<ipython-input-257-a011124c0d41>\u001b[0m in \u001b[0;36m<module>\u001b[0;34m\u001b[0m\n\u001b[0;32m----> 1\u001b[0;31m \u001b[0mindex_\u001b[0m\u001b[0;34m=\u001b[0m\u001b[0mIndex\u001b[0m\u001b[0;34m(\u001b[0m\u001b[0;34m)\u001b[0m\u001b[0;34m.\u001b[0m\u001b[0mcomputePostingLists\u001b[0m\u001b[0;34m(\u001b[0m\u001b[0mtokens\u001b[0m\u001b[0;34m,\u001b[0m\u001b[0mshowProgressEach\u001b[0m\u001b[0;34m=\u001b[0m\u001b[0;36m10\u001b[0m\u001b[0;34m)\u001b[0m\u001b[0;34m\u001b[0m\u001b[0;34m\u001b[0m\u001b[0m\n\u001b[0m\u001b[1;32m      2\u001b[0m \u001b[0mindex_\u001b[0m\u001b[0;34m\u001b[0m\u001b[0;34m\u001b[0m\u001b[0m\n",
      "\u001b[0;32m<ipython-input-256-176110ee2a6b>\u001b[0m in \u001b[0;36mcomputePostingLists\u001b[0;34m(self, tokens, showProgressEach)\u001b[0m\n\u001b[1;32m     41\u001b[0m                 \u001b[0mpostlists\u001b[0m\u001b[0;34m[\u001b[0m\u001b[0mw\u001b[0m\u001b[0;34m]\u001b[0m\u001b[0;34m.\u001b[0m\u001b[0mappend\u001b[0m\u001b[0;34m(\u001b[0m\u001b[0;34m(\u001b[0m\u001b[0mtf\u001b[0m\u001b[0;34m*\u001b[0m\u001b[0mnp\u001b[0m\u001b[0;34m.\u001b[0m\u001b[0mlog2\u001b[0m\u001b[0;34m(\u001b[0m\u001b[0mself\u001b[0m\u001b[0;34m.\u001b[0m\u001b[0mN\u001b[0m\u001b[0;34m/\u001b[0m\u001b[0;34m(\u001b[0m\u001b[0mself\u001b[0m\u001b[0;34m.\u001b[0m\u001b[0mDF\u001b[0m\u001b[0;34m[\u001b[0m\u001b[0mw\u001b[0m\u001b[0;34m]\u001b[0m\u001b[0;34m+\u001b[0m\u001b[0;36m1\u001b[0m\u001b[0;34m)\u001b[0m\u001b[0;34m)\u001b[0m\u001b[0;34m,\u001b[0m\u001b[0mi\u001b[0m\u001b[0;34m)\u001b[0m\u001b[0;34m)\u001b[0m\u001b[0;34m\u001b[0m\u001b[0;34m\u001b[0m\u001b[0m\n\u001b[1;32m     42\u001b[0m         \u001b[0;32mfor\u001b[0m \u001b[0mp\u001b[0m \u001b[0;32min\u001b[0m \u001b[0mpostlists\u001b[0m\u001b[0;34m:\u001b[0m\u001b[0;34m\u001b[0m\u001b[0;34m\u001b[0m\u001b[0m\n\u001b[0;32m---> 43\u001b[0;31m             \u001b[0mp\u001b[0m\u001b[0;34m.\u001b[0m\u001b[0msort\u001b[0m\u001b[0;34m(\u001b[0m\u001b[0;34m)\u001b[0m\u001b[0;34m\u001b[0m\u001b[0;34m\u001b[0m\u001b[0m\n\u001b[0m\u001b[1;32m     44\u001b[0m             \u001b[0mp\u001b[0m\u001b[0;34m=\u001b[0m\u001b[0mlist\u001b[0m\u001b[0;34m(\u001b[0m\u001b[0mzip\u001b[0m\u001b[0;34m(\u001b[0m\u001b[0;34m*\u001b[0m\u001b[0mp\u001b[0m\u001b[0;34m)\u001b[0m\u001b[0;34m)\u001b[0m\u001b[0;34m\u001b[0m\u001b[0;34m\u001b[0m\u001b[0m\n\u001b[1;32m     45\u001b[0m             \u001b[0mp\u001b[0m\u001b[0;34m=\u001b[0m\u001b[0;34m[\u001b[0m\u001b[0mlist\u001b[0m\u001b[0;34m(\u001b[0m\u001b[0mp\u001b[0m\u001b[0;34m[\u001b[0m\u001b[0;36m1\u001b[0m\u001b[0;34m]\u001b[0m\u001b[0;34m)\u001b[0m\u001b[0;34m,\u001b[0m\u001b[0mlist\u001b[0m\u001b[0;34m(\u001b[0m\u001b[0mp\u001b[0m\u001b[0;34m[\u001b[0m\u001b[0;36m0\u001b[0m\u001b[0;34m]\u001b[0m\u001b[0;34m)\u001b[0m\u001b[0;34m]\u001b[0m\u001b[0;34m\u001b[0m\u001b[0;34m\u001b[0m\u001b[0m\n",
      "\u001b[0;31mAxisError\u001b[0m: axis -1 is out of bounds for array of dimension 0"
     ]
    }
   ],
   "source": [
    "index_=Index().computePostingLists(tokens,showProgressEach=10)\n",
    "index_\n"
   ]
  },
  {
   "cell_type": "code",
   "execution_count": 238,
   "metadata": {},
   "outputs": [
    {
     "data": {
      "text/plain": [
       "Counter({'a': 2, 'b': 1, 'c': 3})"
      ]
     },
     "execution_count": 238,
     "metadata": {},
     "output_type": "execute_result"
    }
   ],
   "source": [
    "cnt=Counter(['a','b','a','c','c','c'])\n",
    "cnt"
   ]
  },
  {
   "cell_type": "code",
   "execution_count": 255,
   "metadata": {},
   "outputs": [
    {
     "data": {
      "text/plain": [
       "2"
      ]
     },
     "execution_count": 255,
     "metadata": {},
     "output_type": "execute_result"
    }
   ],
   "source": [
    "cnt['a']"
   ]
  },
  {
   "cell_type": "code",
   "execution_count": 234,
   "metadata": {},
   "outputs": [
    {
     "name": "stdout",
     "output_type": "stream",
     "text": [
      "Total = 132888\n",
      "[(3512, 'local_vars'), (3312, 'vars_'), (2904, 'stop_words'), (2288, '_oh'), (2288, 'Out'), (2224, '_ih'), (2224, 'In'), (1867, '_i227'), (1862, '_i224'), (1856, '_i210'), (1848, '_i208'), (1846, '_i212'), (1757, '_i206'), (1656, '_i204'), (1628, '_i202'), (1623, '_i200'), (1573, '_i198'), (1516, '_i53'), (1438, '_i51'), (1436, '_i195'), (1433, '_i49'), (1431, '_i192'), (1431, '_i190'), (1429, '_i188'), (1429, '_i187'), (1423, '_i47'), (1403, '_i181'), (1402, '_i184'), (1402, '_i183'), (1382, '_i179'), (1345, '_i176'), (1345, '_i173'), (1335, '_i45'), (1332, '_i43'), (1284, '_i41'), (1281, '_i59'), (1247, '_i57'), (1245, '_i56'), (1236, '_i39'), (1229, '_i37'), (1229, '_i36'), (1192, 'punctuation_table'), (1183, '_i34'), (1166, '_i26'), (1159, '_i31'), (1159, '_i27'), (1076, '_i24'), (1076, '_i22'), (1076, '_i19'), (1076, '_i16'), (1076, '_i13'), (1064, 'skmeans'), (1064, 'kNN'), (1064, 'Tokens'), (1064, 'PCA'), (1064, 'NearestCentroid'), (1064, 'InteractiveShell'), (1064, 'FastText'), (1064, 'Counter'), (1064, 'Clustering'), (1045, '_i11'), (1044, '_i12'), (462, '_i164'), (462, '_i163'), (462, '_i157'), (461, '_i167'), (461, '_i160'), (460, '_i168'), (458, '_i155'), (458, '_i151'), (447, '_i149'), (447, '_i147'), (363, '_i107'), (346, '_i178'), (336, '_i148'), (313, '_i145'), (304, '_i30'), (304, '_i29'), (288, '_i21'), (287, '_i143'), (282, '_i131'), (280, '_i136'), (280, '_i133'), (272, '_i138'), (269, '_i140'), (265, '_i234'), (264, '_169'), (264, '_165'), (264, '_161'), (264, '_158'), (264, '_154'), (264, '_153'), (253, 'obj'), (253, '_i233'), (253, '_i'), (247, '_ii'), (247, '_i232'), (247, '_i18'), (235, '_i15'), (225, '_i3'), (219, '_i114'), (218, '_i127'), (218, '_i123'), (218, '_i119'), (218, '_i109'), (210, '_iii'), (210, '_i231'), (210, '_i172'), (210, '_i10'), (207, '_i122'), (207, '_i115'), (207, '_i112'), (195, '_i1'), (181, '_i116'), (169, '_i113'), (169, '_i111'), (167, '_i2'), (162, '_i9'), (162, '_i110'), (162, '_i108'), (162, '_i106'), (154, '_i8'), (154, '_i7'), (154, '_i5'), (144, 'word_tokenize'), (144, 'tweet_iterator'), (144, 'tokenize_sentences'), (144, 'preprocess'), (144, 'plotPCA'), (144, 'plotDecisionBoundary'), (144, 'plotClusters'), (144, 'euclidiana'), (144, 'coseno'), (144, 'cocurrency_matrix'), (144, '_214'), (144, '_170'), (144, '_162'), (144, '_139'), (144, '_137'), (144, '_132'), (144, '_125'), (144, '_124'), (144, '_120'), (144, 'X'), (136, '_61'), (128, 'a'), (128, '___'), (128, '_222'), (128, '_218'), (128, '_217'), (128, '_216'), (128, '_215'), (128, '_171'), (128, '_128'), (128, '_126'), (128, '_121'), (128, '_117'), (128, '_111'), (117, '_i6'), (117, '_i105'), (115, '_i60'), (115, '_i58'), (115, '_i55'), (115, '_i229'), (115, '_i228'), (115, '_i225'), (115, '_i213'), (115, '_i211'), (115, '_i209'), (115, '_i207'), (115, '_i205'), (115, '_i203'), (115, '_i201'), (115, '_i199'), (115, '_i197'), (115, '_i193'), (115, '_i191'), (115, '_i189'), (115, '_i186'), (115, '_i185'), (115, '_i182'), (115, '_i180'), (115, '_i177'), (115, '_i175'), (115, '_i174'), (113, '__doc__'), (112, '_99'), (112, '_98'), (112, '_97'), (112, '_96'), (112, '_95'), (112, '_94'), (112, '_93'), (112, '_92'), (112, '_91'), (112, '_90'), (112, '_89'), (112, '_88'), (112, '_87'), (112, '_86'), (112, '_85'), (112, '_84'), (112, '_83'), (112, '_82'), (112, '_81'), (112, '_80'), (112, '_79'), (112, '_78'), (112, '_77'), (112, '_76'), (112, '_75'), (112, '_74'), (112, '_73'), (112, '_72'), (112, '_71'), (112, '_70'), (112, '_69'), (112, '_68'), (112, '_67'), (112, '_66'), (112, '_65'), (112, '_64'), (112, '_63'), (112, '_62'), (112, '_104'), (112, '_103'), (112, '_102'), (112, '_101'), (112, '_100'), (104, '__'), (104, '_230'), (104, '_223'), (104, '_'), (102, '_i54'), (102, '_i52'), (102, '_i50'), (102, '_i48'), (102, '_i46'), (102, '_i44'), (102, '_i42'), (102, '_i40'), (102, '_i38'), (102, '_i35'), (102, '_i33'), (100, '_i144'), (100, '_i142'), (98, '_i223'), (97, '_i32'), (97, '_i28'), (97, '_i25'), (97, '_i23'), (97, '_i20'), (97, '_i17'), (97, '_i14'), (94, '_i129'), (94, '_i118'), (92, '_i221'), (91, '_i171'), (91, '_i130'), (91, '_i128'), (91, '_i126'), (88, 'unicodedata'), (88, 'transforms'), (88, 'tqdm'), (88, 'tb'), (88, 'sys'), (88, 'string'), (88, 're'), (88, 'plt'), (88, 'pd'), (88, 'os'), (88, 'np'), (88, 'nltk'), (88, 'itertools'), (88, 'gc'), (88, 'faiss'), (88, 'datetime'), (88, 'cm'), (88, 'axes3d'), (88, '__builtins__'), (88, '__builtin__'), (85, '_i220'), (85, '_i135'), (82, '_i170'), (82, '_i166'), (82, '_i162'), (82, '_i159'), (82, '_i156'), (82, '_i152'), (82, '_i150'), (82, '_i146'), (82, '_i141'), (82, '_i139'), (82, '_i137'), (82, '_i134'), (82, '_i132'), (82, '_i125'), (82, '_i124'), (82, '_i120'), (80, '_dh'), (79, '_i219'), (78, '_i121'), (78, '_i117'), (76, '_i169'), (76, '_i165'), (76, '_i161'), (76, '_i158'), (76, '_i154'), (74, '_i153'), (72, 'get_ipython'), (72, '_9'), (72, '_110'), (72, '_106'), (69, '_i217'), (68, '_i222'), (68, '_i218'), (68, '_i216'), (68, '_i215'), (66, '_i99'), (66, '_i98'), (66, '_i97'), (66, '_i96'), (66, '_i95'), (66, '_i94'), (66, '_i93'), (66, '_i92'), (66, '_i91'), (66, '_i90'), (66, '_i89'), (66, '_i88'), (66, '_i87'), (66, '_i86'), (66, '_i85'), (66, '_i84'), (66, '_i83'), (66, '_i82'), (66, '_i81'), (66, '_i80'), (66, '_i79'), (66, '_i78'), (66, '_i77'), (66, '_i76'), (66, '_i75'), (66, '_i74'), (66, '_i73'), (66, '_i72'), (66, '_i71'), (66, '_i70'), (66, '_i69'), (66, '_i68'), (66, '_i67'), (66, '_i66'), (66, '_i65'), (66, '_i64'), (66, '_i63'), (66, '_i62'), (66, '_i61'), (66, '_i104'), (66, '_i103'), (66, '_i102'), (66, '_i101'), (66, '_i100'), (64, 'tokens'), (64, 'quit'), (64, 'exit'), (63, '_i214'), (63, '_i196'), (63, '_i194'), (62, '_i230'), (62, '_i226'), (58, '_i4'), (57, '__name__'), (54, 'var'), (28, 'tot'), (28, 'mem'), (16, '__spec__'), (16, '__package__'), (16, '__loader__')]\n"
     ]
    }
   ],
   "source": [
    "import sys\n",
    "local_vars = list(locals().items())\n",
    "tot=0\n",
    "vars_=[]\n",
    "for var, obj in local_vars:\n",
    "    mem=sys.getsizeof(obj)\n",
    "    tot+=mem\n",
    "    vars_.append((mem,var))\n",
    "print(\"Total =\",tot)\n",
    "vars_.sort(reverse=True)\n",
    "print(vars_)"
   ]
  }
 ],
 "metadata": {
  "kernelspec": {
   "display_name": "Python 3",
   "language": "python",
   "name": "python3"
  },
  "language_info": {
   "codemirror_mode": {
    "name": "ipython",
    "version": 3
   },
   "file_extension": ".py",
   "mimetype": "text/x-python",
   "name": "python",
   "nbconvert_exporter": "python",
   "pygments_lexer": "ipython3",
   "version": "3.7.6"
  }
 },
 "nbformat": 4,
 "nbformat_minor": 4
}
