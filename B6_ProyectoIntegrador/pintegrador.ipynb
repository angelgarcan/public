{
 "cells": [
  {
   "cell_type": "code",
   "execution_count": 1,
   "metadata": {},
   "outputs": [],
   "source": [
    "# Multiple outputs per cell in Jupyter \n",
    "from IPython.core.interactiveshell import InteractiveShell\n",
    "InteractiveShell.ast_node_interactivity = \"all\""
   ]
  },
  {
   "cell_type": "code",
   "execution_count": 2,
   "metadata": {},
   "outputs": [
    {
     "data": {
      "application/javascript": [
       "// Evitar autoscroll.\n",
       "IPython.OutputArea.prototype._should_scroll = function(lines) {\n",
       "    return false;\n",
       "}\n"
      ],
      "text/plain": [
       "<IPython.core.display.Javascript object>"
      ]
     },
     "metadata": {},
     "output_type": "display_data"
    }
   ],
   "source": [
    "%%javascript\n",
    "// Evitar autoscroll.\n",
    "IPython.OutputArea.prototype._should_scroll = function(lines) {\n",
    "    return false;\n",
    "}"
   ]
  },
  {
   "cell_type": "code",
   "execution_count": 25,
   "metadata": {},
   "outputs": [
    {
     "data": {
      "text/plain": [
       "[(1, 4), (3, 5), (2, 6)]"
      ]
     },
     "execution_count": 25,
     "metadata": {},
     "output_type": "execute_result"
    },
    {
     "data": {
      "text/plain": [
       "[(1, 3, 2), (4, 5, 6)]"
      ]
     },
     "execution_count": 25,
     "metadata": {},
     "output_type": "execute_result"
    },
    {
     "data": {
      "text/plain": [
       "[1, 3, 2]"
      ]
     },
     "execution_count": 25,
     "metadata": {},
     "output_type": "execute_result"
    },
    {
     "data": {
      "text/plain": [
       "[4, 5, 6]"
      ]
     },
     "execution_count": 25,
     "metadata": {},
     "output_type": "execute_result"
    }
   ],
   "source": [
    "# a = [1,2,3]\n",
    "# b = [4,5,6]\n",
    "# zipped_list = zip(a,b)\n",
    "zipped_list=[(1, 4), (3, 5), (2, 6)]\n",
    "zipped_list\n",
    "unzipped_list=list(zip(*zipped_list))\n",
    "unzipped_list\n",
    "list(unzipped_list[0])\n",
    "list(unzipped_list[1])"
   ]
  },
  {
   "cell_type": "code",
   "execution_count": 36,
   "metadata": {},
   "outputs": [
    {
     "data": {
      "text/plain": [
       "[(1, 4), (2, 6), (3, 5)]"
      ]
     },
     "execution_count": 36,
     "metadata": {},
     "output_type": "execute_result"
    },
    {
     "data": {
      "text/plain": [
       "[(1, 2, 3), (4, 6, 5)]"
      ]
     },
     "execution_count": 36,
     "metadata": {},
     "output_type": "execute_result"
    },
    {
     "data": {
      "text/plain": [
       "[[1, 2, 3], [4, 6, 5]]"
      ]
     },
     "execution_count": 36,
     "metadata": {},
     "output_type": "execute_result"
    }
   ],
   "source": [
    "p=[(1, 4), (3, 5), (2, 6)]\n",
    "\n",
    "p.sort()\n",
    "p\n",
    "\n",
    "p=list(zip(*p))\n",
    "p\n",
    "\n",
    "p=[list(p[0]),list(p[1])]\n",
    "p"
   ]
  },
  {
   "cell_type": "code",
   "execution_count": 249,
   "metadata": {},
   "outputs": [
    {
     "name": "stdout",
     "output_type": "stream",
     "text": [
      "The autoreload extension is already loaded. To reload it, use:\n",
      "  %reload_ext autoreload\n"
     ]
    }
   ],
   "source": [
    "import numpy as np\n",
    "# from toolbox import *\n",
    "import toolbox as tb\n",
    "from skeleton import *\n",
    "import pandas as pd\n",
    "from gensim.models import FastText\n",
    "%load_ext autoreload\n",
    "%autoreload 2\n",
    "import os\n",
    "import tqdm\n",
    "from microtc.utils import tweet_iterator\n",
    "import datetime\n",
    "from collections import Counter\n",
    "import gc\n",
    "from collections import defaultdict"
   ]
  },
  {
   "cell_type": "code",
   "execution_count": 264,
   "metadata": {},
   "outputs": [],
   "source": [
    "class Tokens():\n",
    "    tokenized_pointer=None\n",
    "    \n",
    "    def tokenize(self,json_file,npy_file=None,replace=False,showProgressEach=1000):\n",
    "        self.npy_file=str(os.path.splitext(json_file)[0]+\".npy\") if not npy_file else npy_file\n",
    "\n",
    "        if not replace and os.path.isfile(self.npy_file):\n",
    "            print(f\"** Replace is off. {os.path.abspath(self.npy_file)} already exists, then load.\")\n",
    "        else:\n",
    "            tokenized_docs=[]\n",
    "            self.N=0\n",
    "            print(f\"** Processing {json_file} ...\")\n",
    "            tx = datetime.datetime.now()\n",
    "            for idx, tw in enumerate(tweet_iterator(json_file)):\n",
    "                tb.show_progress(showProgressEach, tx, idx)\n",
    "                twTokens = tb.process_line(tw['text']) # Tokenizando tweet.\n",
    "                tokenized_docs.append(twTokens)\n",
    "            self.N=idx+1\n",
    "        \n",
    "            maxLen=len(max(tokenized_docs))\n",
    "            for i, doc in enumerate(tokenized_docs):\n",
    "                tokenized_docs[i]=[doc[x] if x<len(doc) else '' for x in range(maxLen)]\n",
    "            \n",
    "            np.save(self.npy_file,tokenized_docs)\n",
    "            del(tokenized_docs)\n",
    "            gc.collect()\n",
    "            print(f\"** Processed {self.N} lines. Saved to {os.path.abspath(self.npy_file)}.\")\n",
    "        \n",
    "        self.pointer=np.load(self.npy_file, mmap_mode='r')\n",
    "        return self\n",
    "    \n",
    "    def get(self,n):\n",
    "        return [x for x in self.pointer[n,:] if x != '']"
   ]
  },
  {
   "cell_type": "code",
   "execution_count": 272,
   "metadata": {
    "scrolled": true
   },
   "outputs": [
    {
     "name": "stdout",
     "output_type": "stream",
     "text": [
      "** Processing data/geo-mx-2004_min.json ...\n",
      "2020-05-12 03:52:03.145261 :: 0.000253 - Processing item #0 \n",
      "** Processed 10 lines. Saved to /home/jovyan/public/B6_ProyectoIntegrador/data/geo-mx-2004_min.npy.\n"
     ]
    }
   ],
   "source": [
    "tokens=Tokens().tokenize(\"data/geo-mx-2004_min.json\",replace=True,showProgressEach=10)"
   ]
  },
  {
   "cell_type": "code",
   "execution_count": 275,
   "metadata": {},
   "outputs": [],
   "source": [
    "class Index():\n",
    "#     vocab = None\n",
    "    N = 0\n",
    "    DF = Counter({})\n",
    "    TF = []\n",
    "    \n",
    "#     def __init__(self):\n",
    "#         return self\n",
    "\n",
    "    def computePostingLists(self, tokens, showProgressEach=1000):\n",
    "        print(\"** Processing ...\")\n",
    "        tx = datetime.datetime.now()\n",
    "        for idx in range(tokens.N):\n",
    "            tb.show_progress(showProgressEach,tx,idx)\n",
    "            \n",
    "            tok=tokens.get(idx)\n",
    "            # Sumando frecuencias individiales.\n",
    "            twCnt = Counter(tok)\n",
    "            \n",
    "            self.TF.append(twCnt)\n",
    "            \n",
    "            # Sumando frecuencias por documento (DF).\n",
    "            self.DF.update(list(twCnt.keys()))\n",
    "\n",
    "            # Contabilizando documentos.\n",
    "            self.N += 1\n",
    "            \n",
    "#         words = self.DF.keys()\n",
    "#         self.vocab = dict(zip(words, range(len(words))))\n",
    "#         self.DF_vec = cnt2vec(self.DF, self.vocab)\n",
    "#         self.IDF_vec = np.log2(self.N / (self.DF_vec + 1))\n",
    "        \n",
    "#         # Calculando TF-IDF y asignando a usuarios.\n",
    "#         for userId in self.users:\n",
    "#             TF_cnt = self.users[userId]\n",
    "#             self.users[userId] = cnt2vec(TF_cnt, self.vocab) * self.IDF_vec\n",
    "        self.postlists=defaultdict(list)\n",
    "    \n",
    "#         print(self.TF)\n",
    "#         print(self.DF)\n",
    "    \n",
    "        for i,c in enumerate(self.TF):\n",
    "            print(\"i,c ->\",i,c)\n",
    "            for w,tf in c.items():\n",
    "                print(\"w,tf ->\",w,tf)\n",
    "                print(\"w,tf ->\",w,tf)\n",
    "                tup=(tf*np.log2(self.N/(self.DF[w]+1)),i)\n",
    "                print(tup)\n",
    "                self.postlists[w].append(tup)\n",
    "        \n",
    "#         print(postlists)\n",
    "        for w,p in self.postlists.items():\n",
    "#             print(\"Before:\",w,p)\n",
    "            p.sort()\n",
    "            p=list(zip(*p))\n",
    "            self.postlists[w]=[list(p[1]),list(p[0])]\n",
    "#             print(\"After:\",w,p)\n",
    "        return self\n",
    "\n",
    "    def getX(self):\n",
    "        return np.array([self.users[key] for key in self.users])\n",
    "    \n",
    "    def cluster(self, n_clusters=9):\n",
    "        self.cluster = KMeans(n_clusters=n_clusters, n_jobs=4).fit(self.getX())\n",
    "        return self.cluster"
   ]
  },
  {
   "cell_type": "code",
   "execution_count": 276,
   "metadata": {
    "scrolled": true
   },
   "outputs": [
    {
     "name": "stdout",
     "output_type": "stream",
     "text": [
      "** Processing ...\n",
      "2020-05-12 03:55:05.990852 :: 1.2e-05 - Processing item #0 \n",
      "i,c -> 0 Counter({'nochecit': 1})\n",
      "w,tf -> nochecit 1\n",
      "(2.321928094887362, 0)\n",
      "i,c -> 1 Counter({'pai': 2, 'teo': 1, 'canon': 1, 'nunc': 1, 'crei': 1, 'viv': 1, 'moment': 1, 'exist': 1, 'graci': 1})\n",
      "w,tf -> teo 1\n",
      "(2.321928094887362, 1)\n",
      "w,tf -> pai 2\n",
      "(4.643856189774724, 1)\n",
      "w,tf -> canon 1\n",
      "(2.321928094887362, 1)\n",
      "w,tf -> nunc 1\n",
      "(2.321928094887362, 1)\n",
      "w,tf -> crei 1\n",
      "(2.321928094887362, 1)\n",
      "w,tf -> viv 1\n",
      "(2.321928094887362, 1)\n",
      "w,tf -> moment 1\n",
      "(2.321928094887362, 1)\n",
      "w,tf -> exist 1\n",
      "(2.321928094887362, 1)\n",
      "w,tf -> graci 1\n",
      "(2.321928094887362, 1)\n",
      "i,c -> 2 Counter({'jajajaj': 1, 'sab': 1, 'sup': 1, 'chid': 1, 'manej': 1, 'mism': 1, 'user': 1, 'igual': 1, 'amig': 1})\n",
      "w,tf -> jajajaj 1\n",
      "(1.736965594166206, 2)\n",
      "w,tf -> sab 1\n",
      "(2.321928094887362, 2)\n",
      "w,tf -> sup 1\n",
      "(2.321928094887362, 2)\n",
      "w,tf -> chid 1\n",
      "(2.321928094887362, 2)\n",
      "w,tf -> manej 1\n",
      "(2.321928094887362, 2)\n",
      "w,tf -> mism 1\n",
      "(1.736965594166206, 2)\n",
      "w,tf -> user 1\n",
      "(2.321928094887362, 2)\n",
      "w,tf -> igual 1\n",
      "(2.321928094887362, 2)\n",
      "w,tf -> amig 1\n",
      "(1.3219280948873624, 2)\n",
      "i,c -> 3 Counter({'obvi': 1, 'hoy': 1, 'cumpl': 1, 'anos': 1, 'apag': 1, 'voz': 1})\n",
      "w,tf -> obvi 1\n",
      "(2.321928094887362, 3)\n",
      "w,tf -> hoy 1\n",
      "(1.736965594166206, 3)\n",
      "w,tf -> cumpl 1\n",
      "(1.736965594166206, 3)\n",
      "w,tf -> anos 1\n",
      "(2.321928094887362, 3)\n",
      "w,tf -> apag 1\n",
      "(2.321928094887362, 3)\n",
      "w,tf -> voz 1\n",
      "(2.321928094887362, 3)\n",
      "i,c -> 4 Counter({'jajajajaj': 1, 'campanaz': 1})\n",
      "w,tf -> jajajajaj 1\n",
      "(2.321928094887362, 4)\n",
      "w,tf -> campanaz 1\n",
      "(2.321928094887362, 4)\n",
      "i,c -> 5 Counter({'hoy': 1, 'cumpl': 1, 'ano': 1, 'plan': 1, 'des': 1, 'secret': 1, 'gent': 1, 'sabi': 1, 'haci': 1, 'sent': 1})\n",
      "w,tf -> hoy 1\n",
      "(1.736965594166206, 5)\n",
      "w,tf -> cumpl 1\n",
      "(1.736965594166206, 5)\n",
      "w,tf -> ano 1\n",
      "(2.321928094887362, 5)\n",
      "w,tf -> plan 1\n",
      "(2.321928094887362, 5)\n",
      "w,tf -> des 1\n",
      "(2.321928094887362, 5)\n",
      "w,tf -> secret 1\n",
      "(2.321928094887362, 5)\n",
      "w,tf -> gent 1\n",
      "(1.736965594166206, 5)\n",
      "w,tf -> sabi 1\n",
      "(2.321928094887362, 5)\n",
      "w,tf -> haci 1\n",
      "(2.321928094887362, 5)\n",
      "w,tf -> sent 1\n",
      "(2.321928094887362, 5)\n",
      "i,c -> 6 Counter({'dij': 1, 'amig': 1, 'analiz': 1, 'porn': 1, 'tan': 1, 'satur': 1, 'wey': 1, 'buenis': 1, 'gent': 1, 'normal': 1})\n",
      "w,tf -> dij 1\n",
      "(2.321928094887362, 6)\n",
      "w,tf -> amig 1\n",
      "(1.3219280948873624, 6)\n",
      "w,tf -> analiz 1\n",
      "(2.321928094887362, 6)\n",
      "w,tf -> porn 1\n",
      "(2.321928094887362, 6)\n",
      "w,tf -> tan 1\n",
      "(2.321928094887362, 6)\n",
      "w,tf -> satur 1\n",
      "(2.321928094887362, 6)\n",
      "w,tf -> wey 1\n",
      "(2.321928094887362, 6)\n",
      "w,tf -> buenis 1\n",
      "(2.321928094887362, 6)\n",
      "w,tf -> gent 1\n",
      "(1.736965594166206, 6)\n",
      "w,tf -> normal 1\n",
      "(2.321928094887362, 6)\n",
      "i,c -> 7 Counter({'dan': 1, 'ris': 1, 'mem': 1, 'vat': 1, 'tres': 1, 'pel': 1, 'barb': 1, 'si': 1, 'jajajaj': 1, 'sal': 1})\n",
      "w,tf -> dan 1\n",
      "(2.321928094887362, 7)\n",
      "w,tf -> ris 1\n",
      "(2.321928094887362, 7)\n",
      "w,tf -> mem 1\n",
      "(2.321928094887362, 7)\n",
      "w,tf -> vat 1\n",
      "(2.321928094887362, 7)\n",
      "w,tf -> tres 1\n",
      "(2.321928094887362, 7)\n",
      "w,tf -> pel 1\n",
      "(2.321928094887362, 7)\n",
      "w,tf -> barb 1\n",
      "(2.321928094887362, 7)\n",
      "w,tf -> si 1\n",
      "(1.736965594166206, 7)\n",
      "w,tf -> jajajaj 1\n",
      "(1.736965594166206, 7)\n",
      "w,tf -> sal 1\n",
      "(2.321928094887362, 7)\n",
      "i,c -> 8 Counter({'si': 1, 'domicili': 1, 'solicit': 1, 'oblig': 1, 'solidari': 1, 'mism': 1, 'proced': 1, 'mand': 1, 'dos': 1, 'comprob': 1})\n",
      "w,tf -> si 1\n",
      "(1.736965594166206, 8)\n",
      "w,tf -> domicili 1\n",
      "(2.321928094887362, 8)\n",
      "w,tf -> solicit 1\n",
      "(2.321928094887362, 8)\n",
      "w,tf -> oblig 1\n",
      "(2.321928094887362, 8)\n",
      "w,tf -> solidari 1\n",
      "(2.321928094887362, 8)\n",
      "w,tf -> mism 1\n",
      "(1.736965594166206, 8)\n",
      "w,tf -> proced 1\n",
      "(2.321928094887362, 8)\n",
      "w,tf -> mand 1\n",
      "(2.321928094887362, 8)\n",
      "w,tf -> dos 1\n",
      "(2.321928094887362, 8)\n",
      "w,tf -> comprob 1\n",
      "(2.321928094887362, 8)\n",
      "i,c -> 9 Counter({'amig': 1, 'seguidor': 1, 'tod': 1, 'person': 1, 'respet': 1, 'jueg': 1, 'decision': 1, 'jug': 1, 'pued': 1, 'influ': 1})\n",
      "w,tf -> amig 1\n",
      "(1.3219280948873624, 9)\n",
      "w,tf -> seguidor 1\n",
      "(2.321928094887362, 9)\n",
      "w,tf -> tod 1\n",
      "(2.321928094887362, 9)\n",
      "w,tf -> person 1\n",
      "(2.321928094887362, 9)\n",
      "w,tf -> respet 1\n",
      "(2.321928094887362, 9)\n",
      "w,tf -> jueg 1\n",
      "(2.321928094887362, 9)\n",
      "w,tf -> decision 1\n",
      "(2.321928094887362, 9)\n",
      "w,tf -> jug 1\n",
      "(2.321928094887362, 9)\n",
      "w,tf -> pued 1\n",
      "(2.321928094887362, 9)\n",
      "w,tf -> influ 1\n",
      "(2.321928094887362, 9)\n"
     ]
    },
    {
     "data": {
      "text/plain": [
       "defaultdict(list,\n",
       "            {'nochecit': [[0], [2.321928094887362]],\n",
       "             'teo': [[1], [2.321928094887362]],\n",
       "             'pai': [[1], [4.643856189774724]],\n",
       "             'canon': [[1], [2.321928094887362]],\n",
       "             'nunc': [[1], [2.321928094887362]],\n",
       "             'crei': [[1], [2.321928094887362]],\n",
       "             'viv': [[1], [2.321928094887362]],\n",
       "             'moment': [[1], [2.321928094887362]],\n",
       "             'exist': [[1], [2.321928094887362]],\n",
       "             'graci': [[1], [2.321928094887362]],\n",
       "             'jajajaj': [[2, 7], [1.736965594166206, 1.736965594166206]],\n",
       "             'sab': [[2], [2.321928094887362]],\n",
       "             'sup': [[2], [2.321928094887362]],\n",
       "             'chid': [[2], [2.321928094887362]],\n",
       "             'manej': [[2], [2.321928094887362]],\n",
       "             'mism': [[2, 8], [1.736965594166206, 1.736965594166206]],\n",
       "             'user': [[2], [2.321928094887362]],\n",
       "             'igual': [[2], [2.321928094887362]],\n",
       "             'amig': [[2, 6, 9],\n",
       "              [1.3219280948873624, 1.3219280948873624, 1.3219280948873624]],\n",
       "             'obvi': [[3], [2.321928094887362]],\n",
       "             'hoy': [[3, 5], [1.736965594166206, 1.736965594166206]],\n",
       "             'cumpl': [[3, 5], [1.736965594166206, 1.736965594166206]],\n",
       "             'anos': [[3], [2.321928094887362]],\n",
       "             'apag': [[3], [2.321928094887362]],\n",
       "             'voz': [[3], [2.321928094887362]],\n",
       "             'jajajajaj': [[4], [2.321928094887362]],\n",
       "             'campanaz': [[4], [2.321928094887362]],\n",
       "             'ano': [[5], [2.321928094887362]],\n",
       "             'plan': [[5], [2.321928094887362]],\n",
       "             'des': [[5], [2.321928094887362]],\n",
       "             'secret': [[5], [2.321928094887362]],\n",
       "             'gent': [[5, 6], [1.736965594166206, 1.736965594166206]],\n",
       "             'sabi': [[5], [2.321928094887362]],\n",
       "             'haci': [[5], [2.321928094887362]],\n",
       "             'sent': [[5], [2.321928094887362]],\n",
       "             'dij': [[6], [2.321928094887362]],\n",
       "             'analiz': [[6], [2.321928094887362]],\n",
       "             'porn': [[6], [2.321928094887362]],\n",
       "             'tan': [[6], [2.321928094887362]],\n",
       "             'satur': [[6], [2.321928094887362]],\n",
       "             'wey': [[6], [2.321928094887362]],\n",
       "             'buenis': [[6], [2.321928094887362]],\n",
       "             'normal': [[6], [2.321928094887362]],\n",
       "             'dan': [[7], [2.321928094887362]],\n",
       "             'ris': [[7], [2.321928094887362]],\n",
       "             'mem': [[7], [2.321928094887362]],\n",
       "             'vat': [[7], [2.321928094887362]],\n",
       "             'tres': [[7], [2.321928094887362]],\n",
       "             'pel': [[7], [2.321928094887362]],\n",
       "             'barb': [[7], [2.321928094887362]],\n",
       "             'si': [[7, 8], [1.736965594166206, 1.736965594166206]],\n",
       "             'sal': [[7], [2.321928094887362]],\n",
       "             'domicili': [[8], [2.321928094887362]],\n",
       "             'solicit': [[8], [2.321928094887362]],\n",
       "             'oblig': [[8], [2.321928094887362]],\n",
       "             'solidari': [[8], [2.321928094887362]],\n",
       "             'proced': [[8], [2.321928094887362]],\n",
       "             'mand': [[8], [2.321928094887362]],\n",
       "             'dos': [[8], [2.321928094887362]],\n",
       "             'comprob': [[8], [2.321928094887362]],\n",
       "             'seguidor': [[9], [2.321928094887362]],\n",
       "             'tod': [[9], [2.321928094887362]],\n",
       "             'person': [[9], [2.321928094887362]],\n",
       "             'respet': [[9], [2.321928094887362]],\n",
       "             'jueg': [[9], [2.321928094887362]],\n",
       "             'decision': [[9], [2.321928094887362]],\n",
       "             'jug': [[9], [2.321928094887362]],\n",
       "             'pued': [[9], [2.321928094887362]],\n",
       "             'influ': [[9], [2.321928094887362]]})"
      ]
     },
     "execution_count": 276,
     "metadata": {},
     "output_type": "execute_result"
    }
   ],
   "source": [
    "index_=Index().computePostingLists(tokens,showProgressEach=10)\n",
    "index_.postlists"
   ]
  },
  {
   "cell_type": "code",
   "execution_count": null,
   "metadata": {},
   "outputs": [],
   "source": [
    "index_.post"
   ]
  },
  {
   "cell_type": "code",
   "execution_count": 238,
   "metadata": {},
   "outputs": [
    {
     "data": {
      "text/plain": [
       "Counter({'a': 2, 'b': 1, 'c': 3})"
      ]
     },
     "execution_count": 238,
     "metadata": {},
     "output_type": "execute_result"
    }
   ],
   "source": [
    "cnt=Counter(['a','b','a','c','c','c'])\n",
    "cnt"
   ]
  },
  {
   "cell_type": "code",
   "execution_count": 255,
   "metadata": {},
   "outputs": [
    {
     "data": {
      "text/plain": [
       "2"
      ]
     },
     "execution_count": 255,
     "metadata": {},
     "output_type": "execute_result"
    }
   ],
   "source": [
    "cnt['a']"
   ]
  },
  {
   "cell_type": "code",
   "execution_count": 234,
   "metadata": {},
   "outputs": [
    {
     "name": "stdout",
     "output_type": "stream",
     "text": [
      "Total = 132888\n",
      "[(3512, 'local_vars'), (3312, 'vars_'), (2904, 'stop_words'), (2288, '_oh'), (2288, 'Out'), (2224, '_ih'), (2224, 'In'), (1867, '_i227'), (1862, '_i224'), (1856, '_i210'), (1848, '_i208'), (1846, '_i212'), (1757, '_i206'), (1656, '_i204'), (1628, '_i202'), (1623, '_i200'), (1573, '_i198'), (1516, '_i53'), (1438, '_i51'), (1436, '_i195'), (1433, '_i49'), (1431, '_i192'), (1431, '_i190'), (1429, '_i188'), (1429, '_i187'), (1423, '_i47'), (1403, '_i181'), (1402, '_i184'), (1402, '_i183'), (1382, '_i179'), (1345, '_i176'), (1345, '_i173'), (1335, '_i45'), (1332, '_i43'), (1284, '_i41'), (1281, '_i59'), (1247, '_i57'), (1245, '_i56'), (1236, '_i39'), (1229, '_i37'), (1229, '_i36'), (1192, 'punctuation_table'), (1183, '_i34'), (1166, '_i26'), (1159, '_i31'), (1159, '_i27'), (1076, '_i24'), (1076, '_i22'), (1076, '_i19'), (1076, '_i16'), (1076, '_i13'), (1064, 'skmeans'), (1064, 'kNN'), (1064, 'Tokens'), (1064, 'PCA'), (1064, 'NearestCentroid'), (1064, 'InteractiveShell'), (1064, 'FastText'), (1064, 'Counter'), (1064, 'Clustering'), (1045, '_i11'), (1044, '_i12'), (462, '_i164'), (462, '_i163'), (462, '_i157'), (461, '_i167'), (461, '_i160'), (460, '_i168'), (458, '_i155'), (458, '_i151'), (447, '_i149'), (447, '_i147'), (363, '_i107'), (346, '_i178'), (336, '_i148'), (313, '_i145'), (304, '_i30'), (304, '_i29'), (288, '_i21'), (287, '_i143'), (282, '_i131'), (280, '_i136'), (280, '_i133'), (272, '_i138'), (269, '_i140'), (265, '_i234'), (264, '_169'), (264, '_165'), (264, '_161'), (264, '_158'), (264, '_154'), (264, '_153'), (253, 'obj'), (253, '_i233'), (253, '_i'), (247, '_ii'), (247, '_i232'), (247, '_i18'), (235, '_i15'), (225, '_i3'), (219, '_i114'), (218, '_i127'), (218, '_i123'), (218, '_i119'), (218, '_i109'), (210, '_iii'), (210, '_i231'), (210, '_i172'), (210, '_i10'), (207, '_i122'), (207, '_i115'), (207, '_i112'), (195, '_i1'), (181, '_i116'), (169, '_i113'), (169, '_i111'), (167, '_i2'), (162, '_i9'), (162, '_i110'), (162, '_i108'), (162, '_i106'), (154, '_i8'), (154, '_i7'), (154, '_i5'), (144, 'word_tokenize'), (144, 'tweet_iterator'), (144, 'tokenize_sentences'), (144, 'preprocess'), (144, 'plotPCA'), (144, 'plotDecisionBoundary'), (144, 'plotClusters'), (144, 'euclidiana'), (144, 'coseno'), (144, 'cocurrency_matrix'), (144, '_214'), (144, '_170'), (144, '_162'), (144, '_139'), (144, '_137'), (144, '_132'), (144, '_125'), (144, '_124'), (144, '_120'), (144, 'X'), (136, '_61'), (128, 'a'), (128, '___'), (128, '_222'), (128, '_218'), (128, '_217'), (128, '_216'), (128, '_215'), (128, '_171'), (128, '_128'), (128, '_126'), (128, '_121'), (128, '_117'), (128, '_111'), (117, '_i6'), (117, '_i105'), (115, '_i60'), (115, '_i58'), (115, '_i55'), (115, '_i229'), (115, '_i228'), (115, '_i225'), (115, '_i213'), (115, '_i211'), (115, '_i209'), (115, '_i207'), (115, '_i205'), (115, '_i203'), (115, '_i201'), (115, '_i199'), (115, '_i197'), (115, '_i193'), (115, '_i191'), (115, '_i189'), (115, '_i186'), (115, '_i185'), (115, '_i182'), (115, '_i180'), (115, '_i177'), (115, '_i175'), (115, '_i174'), (113, '__doc__'), (112, '_99'), (112, '_98'), (112, '_97'), (112, '_96'), (112, '_95'), (112, '_94'), (112, '_93'), (112, '_92'), (112, '_91'), (112, '_90'), (112, '_89'), (112, '_88'), (112, '_87'), (112, '_86'), (112, '_85'), (112, '_84'), (112, '_83'), (112, '_82'), (112, '_81'), (112, '_80'), (112, '_79'), (112, '_78'), (112, '_77'), (112, '_76'), (112, '_75'), (112, '_74'), (112, '_73'), (112, '_72'), (112, '_71'), (112, '_70'), (112, '_69'), (112, '_68'), (112, '_67'), (112, '_66'), (112, '_65'), (112, '_64'), (112, '_63'), (112, '_62'), (112, '_104'), (112, '_103'), (112, '_102'), (112, '_101'), (112, '_100'), (104, '__'), (104, '_230'), (104, '_223'), (104, '_'), (102, '_i54'), (102, '_i52'), (102, '_i50'), (102, '_i48'), (102, '_i46'), (102, '_i44'), (102, '_i42'), (102, '_i40'), (102, '_i38'), (102, '_i35'), (102, '_i33'), (100, '_i144'), (100, '_i142'), (98, '_i223'), (97, '_i32'), (97, '_i28'), (97, '_i25'), (97, '_i23'), (97, '_i20'), (97, '_i17'), (97, '_i14'), (94, '_i129'), (94, '_i118'), (92, '_i221'), (91, '_i171'), (91, '_i130'), (91, '_i128'), (91, '_i126'), (88, 'unicodedata'), (88, 'transforms'), (88, 'tqdm'), (88, 'tb'), (88, 'sys'), (88, 'string'), (88, 're'), (88, 'plt'), (88, 'pd'), (88, 'os'), (88, 'np'), (88, 'nltk'), (88, 'itertools'), (88, 'gc'), (88, 'faiss'), (88, 'datetime'), (88, 'cm'), (88, 'axes3d'), (88, '__builtins__'), (88, '__builtin__'), (85, '_i220'), (85, '_i135'), (82, '_i170'), (82, '_i166'), (82, '_i162'), (82, '_i159'), (82, '_i156'), (82, '_i152'), (82, '_i150'), (82, '_i146'), (82, '_i141'), (82, '_i139'), (82, '_i137'), (82, '_i134'), (82, '_i132'), (82, '_i125'), (82, '_i124'), (82, '_i120'), (80, '_dh'), (79, '_i219'), (78, '_i121'), (78, '_i117'), (76, '_i169'), (76, '_i165'), (76, '_i161'), (76, '_i158'), (76, '_i154'), (74, '_i153'), (72, 'get_ipython'), (72, '_9'), (72, '_110'), (72, '_106'), (69, '_i217'), (68, '_i222'), (68, '_i218'), (68, '_i216'), (68, '_i215'), (66, '_i99'), (66, '_i98'), (66, '_i97'), (66, '_i96'), (66, '_i95'), (66, '_i94'), (66, '_i93'), (66, '_i92'), (66, '_i91'), (66, '_i90'), (66, '_i89'), (66, '_i88'), (66, '_i87'), (66, '_i86'), (66, '_i85'), (66, '_i84'), (66, '_i83'), (66, '_i82'), (66, '_i81'), (66, '_i80'), (66, '_i79'), (66, '_i78'), (66, '_i77'), (66, '_i76'), (66, '_i75'), (66, '_i74'), (66, '_i73'), (66, '_i72'), (66, '_i71'), (66, '_i70'), (66, '_i69'), (66, '_i68'), (66, '_i67'), (66, '_i66'), (66, '_i65'), (66, '_i64'), (66, '_i63'), (66, '_i62'), (66, '_i61'), (66, '_i104'), (66, '_i103'), (66, '_i102'), (66, '_i101'), (66, '_i100'), (64, 'tokens'), (64, 'quit'), (64, 'exit'), (63, '_i214'), (63, '_i196'), (63, '_i194'), (62, '_i230'), (62, '_i226'), (58, '_i4'), (57, '__name__'), (54, 'var'), (28, 'tot'), (28, 'mem'), (16, '__spec__'), (16, '__package__'), (16, '__loader__')]\n"
     ]
    }
   ],
   "source": [
    "import sys\n",
    "local_vars = list(locals().items())\n",
    "tot=0\n",
    "vars_=[]\n",
    "for var, obj in local_vars:\n",
    "    mem=sys.getsizeof(obj)\n",
    "    tot+=mem\n",
    "    vars_.append((mem,var))\n",
    "print(\"Total =\",tot)\n",
    "vars_.sort(reverse=True)\n",
    "print(vars_)"
   ]
  }
 ],
 "metadata": {
  "kernelspec": {
   "display_name": "Python 3",
   "language": "python",
   "name": "python3"
  },
  "language_info": {
   "codemirror_mode": {
    "name": "ipython",
    "version": 3
   },
   "file_extension": ".py",
   "mimetype": "text/x-python",
   "name": "python",
   "nbconvert_exporter": "python",
   "pygments_lexer": "ipython3",
   "version": "3.7.6"
  }
 },
 "nbformat": 4,
 "nbformat_minor": 4
}
